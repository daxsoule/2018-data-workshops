{
 "cells": [
  {
   "cell_type": "markdown",
   "metadata": {},
   "source": [
    "# Python Basics for Matlab Wizards\n",
    "Welcome to Python.  \n",
    "\n",
    "In this example, we will highlight some of the basics of programming in Python, along with some tips and tricks for those more familiar with Matlab"
   ]
  },
  {
   "cell_type": "markdown",
   "metadata": {},
   "source": [
    "## Some Basics"
   ]
  },
  {
   "cell_type": "code",
   "execution_count": null,
   "metadata": {},
   "outputs": [],
   "source": [
    "2+2"
   ]
  },
  {
   "cell_type": "code",
   "execution_count": null,
   "metadata": {},
   "outputs": [],
   "source": [
    "# Variable assignment\n",
    "x = 4\n",
    "\n",
    "# Object type\n",
    "type(x)"
   ]
  },
  {
   "cell_type": "code",
   "execution_count": null,
   "metadata": {},
   "outputs": [],
   "source": [
    "y = 3.15\n",
    "type(y)"
   ]
  },
  {
   "cell_type": "code",
   "execution_count": null,
   "metadata": {},
   "outputs": [],
   "source": [
    "z = 'Python is great'\n",
    "type(z)"
   ]
  },
  {
   "cell_type": "code",
   "execution_count": null,
   "metadata": {},
   "outputs": [],
   "source": [
    "# We can do some basic math\n",
    "print( x + y )\n",
    "print( x/y )"
   ]
  },
  {
   "cell_type": "markdown",
   "metadata": {},
   "source": [
    "## Beware of type conflicts"
   ]
  },
  {
   "cell_type": "code",
   "execution_count": null,
   "metadata": {},
   "outputs": [],
   "source": [
    "# Dividing two ints results in an int\n",
    "print( 21/3 ) # Two ints\n",
    "print( 23/3 ) # Two ints does not work in Python 2\n",
    "print( 23.0/3.0 ) # Two floats"
   ]
  },
  {
   "cell_type": "code",
   "execution_count": null,
   "metadata": {},
   "outputs": [],
   "source": [
    "# You can't concatenate strings and ints\n",
    "print( z + x )"
   ]
  },
  {
   "cell_type": "code",
   "execution_count": null,
   "metadata": {},
   "outputs": [],
   "source": [
    "# But you can multiply them\n",
    "print( z * x )"
   ]
  },
  {
   "cell_type": "code",
   "execution_count": null,
   "metadata": {},
   "outputs": [],
   "source": [
    "# Convert an int into a string\n",
    "print( z + ' ' + str(x) + ' you' )"
   ]
  },
  {
   "cell_type": "code",
   "execution_count": null,
   "metadata": {},
   "outputs": [],
   "source": [
    "# A better way\n",
    "print( 'Python is great %s you' % x )"
   ]
  },
  {
   "cell_type": "markdown",
   "metadata": {},
   "source": [
    "## Fun with Lists"
   ]
  },
  {
   "cell_type": "code",
   "execution_count": null,
   "metadata": {},
   "outputs": [],
   "source": [
    "my_list = [3, 4, 5, 9, 12]"
   ]
  },
  {
   "cell_type": "code",
   "execution_count": null,
   "metadata": {},
   "outputs": [],
   "source": [
    "# The fist item\n",
    "my_list[2]"
   ]
  },
  {
   "cell_type": "code",
   "execution_count": null,
   "metadata": {},
   "outputs": [],
   "source": [
    "# The last item\n",
    "my_list[-1]"
   ]
  },
  {
   "cell_type": "code",
   "execution_count": null,
   "metadata": {},
   "outputs": [],
   "source": [
    "# Extract a subset\n",
    "my_list[2:4]"
   ]
  },
  {
   "cell_type": "code",
   "execution_count": null,
   "metadata": {},
   "outputs": [],
   "source": [
    "# Update a value\n",
    "my_list[3] = 99\n",
    "my_list"
   ]
  },
  {
   "cell_type": "code",
   "execution_count": null,
   "metadata": {},
   "outputs": [],
   "source": [
    "# Warning, python variables are object references and not copies by default\n",
    "my_second_list = my_list\n",
    "print( my_second_list )\n",
    "\n",
    "my_second_list[0] = 66\n",
    "print( my_second_list )\n",
    "print( my_list )"
   ]
  },
  {
   "cell_type": "code",
   "execution_count": null,
   "metadata": {},
   "outputs": [],
   "source": [
    "# The correct way to copy a list, keeping the original intact\n",
    "my_list = [3, 4, 5, 9, 12]\n",
    "my_second_list = list(my_list) # You can also use copy.copy() or my_list[:]\n",
    "\n",
    "my_second_list[0] = 66\n",
    "print( my_second_list )\n",
    "print( my_list )"
   ]
  },
  {
   "cell_type": "markdown",
   "metadata": {},
   "source": [
    "## Dictionaries"
   ]
  },
  {
   "cell_type": "code",
   "execution_count": null,
   "metadata": {},
   "outputs": [],
   "source": [
    "my_dict = {'temperature': 21, 'salinity':35, 'sensor':'CTD 23'}\n",
    "my_dict"
   ]
  },
  {
   "cell_type": "code",
   "execution_count": null,
   "metadata": {},
   "outputs": [],
   "source": [
    "# Accessing a key/value pair\n",
    "my_dict['sensor']"
   ]
  },
  {
   "cell_type": "code",
   "execution_count": null,
   "metadata": {},
   "outputs": [],
   "source": [
    "# List of dictionary keys\n",
    "my_dict.keys()"
   ]
  },
  {
   "cell_type": "markdown",
   "metadata": {},
   "source": [
    "## Functions, Conditions and Loops"
   ]
  },
  {
   "cell_type": "code",
   "execution_count": null,
   "metadata": {},
   "outputs": [],
   "source": [
    "def my_func(number):\n",
    "  if type(number)==int:\n",
    "    for i in range(number):\n",
    "      print(i)\n",
    "  else:\n",
    "    print(\"Not a number\")\n",
    "\n",
    "my_func(4)\n",
    "my_func('hi')"
   ]
  },
  {
   "cell_type": "markdown",
   "metadata": {},
   "source": [
    "## NumPy\n",
    "NumPy is an essential library for working with scientific data.  It provides an array object that is very similar to Matlab's array functionality, allowing you to perform linear algebra."
   ]
  },
  {
   "cell_type": "code",
   "execution_count": null,
   "metadata": {},
   "outputs": [],
   "source": [
    "import numpy as np"
   ]
  },
  {
   "cell_type": "code",
   "execution_count": null,
   "metadata": {},
   "outputs": [],
   "source": [
    "# Data Types\n",
    "xi = np.array([1, 2, 3], dtype=np.int) # integer\n",
    "print(xi)\n",
    "xi.dtype"
   ]
  },
  {
   "cell_type": "code",
   "execution_count": null,
   "metadata": {},
   "outputs": [],
   "source": [
    "xf = np.array([1, 2, 3], dtype=np.float) # float\n",
    "print(xf)\n",
    "xf.dtype"
   ]
  },
  {
   "cell_type": "code",
   "execution_count": null,
   "metadata": {},
   "outputs": [],
   "source": [
    "xi+xi"
   ]
  },
  {
   "cell_type": "code",
   "execution_count": null,
   "metadata": {},
   "outputs": [],
   "source": [
    "xi*xi"
   ]
  },
  {
   "cell_type": "code",
   "execution_count": null,
   "metadata": {},
   "outputs": [],
   "source": [
    "x = np.zeros(shape=(4,5))\n",
    "x"
   ]
  },
  {
   "cell_type": "code",
   "execution_count": null,
   "metadata": {},
   "outputs": [],
   "source": [
    "y = x+4\n",
    "y"
   ]
  },
  {
   "cell_type": "code",
   "execution_count": null,
   "metadata": {},
   "outputs": [],
   "source": [
    "print( xi.shape )\n",
    "print( xi.size )\n",
    "print( y.shape )\n",
    "print( y.size )"
   ]
  },
  {
   "cell_type": "code",
   "execution_count": null,
   "metadata": {},
   "outputs": [],
   "source": [
    "# Random numbers\n",
    "z = np.random.random(x.shape)\n",
    "z"
   ]
  },
  {
   "cell_type": "code",
   "execution_count": null,
   "metadata": {},
   "outputs": [],
   "source": [
    "# Slicing\n",
    "z[2:4, ::2] # Extract 2-4 on the first axis, stride of 2 on the second"
   ]
  },
  {
   "cell_type": "code",
   "execution_count": null,
   "metadata": {},
   "outputs": [],
   "source": [
    "# Aggregations\n",
    "z_sum = z.sum(axis=1)\n",
    "z_sum"
   ]
  },
  {
   "cell_type": "code",
   "execution_count": null,
   "metadata": {},
   "outputs": [],
   "source": [
    "# Broadcasting\n",
    "y.transpose() * z_sum"
   ]
  },
  {
   "cell_type": "code",
   "execution_count": null,
   "metadata": {},
   "outputs": [],
   "source": [
    "# Several universal functions are included (e.g. sin, cos, exp)\n",
    "np.sin(z_sum)"
   ]
  },
  {
   "cell_type": "markdown",
   "metadata": {},
   "source": [
    "## SciPy\n",
    "The SciPy library includes a huge collection of mathematical algorithms, functions and constants to enable scientific computing.  It is build upon NumPy, so data is typically expected to be in a NumPy array format.  Some useful features include:\n",
    "* **constants** - Physical and mathematical constants\n",
    "* **fftpack** - Fast Fourier Transorms\n",
    "* **integrate** - Integration and ODE solvers\n",
    "* **interpolate** - Interpolation and smoothing\n",
    "* **io** - File Input and Output\n",
    "* **linalg** - Linear algebra\n",
    "* **signal** - Signal processing\n",
    "* **stats** - Statistics\n",
    "\n",
    "For more information, check out the [SciPy Tutorial](https://docs.scipy.org/doc/scipy/reference/tutorial/index.html)\n"
   ]
  },
  {
   "cell_type": "markdown",
   "metadata": {},
   "source": [
    "## Pandas\n",
    "Pandas is great for working with spreadsheet like tables, like Excel or CSV files.  \n",
    "\n",
    "It is not great for multidimensional arrays, for that use Xarray.\n",
    "\n",
    "For this example, we'll grab a text data file from [NDBC 44025](http://www.ndbc.noaa.gov/station_history.php?station=44025)."
   ]
  },
  {
   "cell_type": "code",
   "execution_count": null,
   "metadata": {},
   "outputs": [],
   "source": [
    "import pandas as pd"
   ]
  },
  {
   "cell_type": "code",
   "execution_count": null,
   "metadata": {},
   "outputs": [],
   "source": [
    "url = 'http://www.ndbc.noaa.gov/view_text_file.php?filename=44025h2017.txt.gz&dir=data/historical/stdmet/'\n",
    "ndbc = pd.read_csv(url,sep='\\s+',skiprows=[1])"
   ]
  },
  {
   "cell_type": "code",
   "execution_count": null,
   "metadata": {},
   "outputs": [],
   "source": [
    "ndbc.head()"
   ]
  },
  {
   "cell_type": "code",
   "execution_count": null,
   "metadata": {},
   "outputs": [],
   "source": [
    "ndbc['WDIR'].head(3)"
   ]
  },
  {
   "cell_type": "code",
   "execution_count": null,
   "metadata": {},
   "outputs": [],
   "source": [
    "# Mean of each column\n",
    "ndbc.mean(axis=0)"
   ]
  },
  {
   "cell_type": "code",
   "execution_count": null,
   "metadata": {},
   "outputs": [],
   "source": [
    "# Monthly means\n",
    "ndbc['WSPD'].groupby(ndbc['MM']).mean()"
   ]
  },
  {
   "cell_type": "code",
   "execution_count": null,
   "metadata": {},
   "outputs": [],
   "source": [
    "# Plotting is bulit into Pandas\n",
    "ndbc['WSPD'].groupby(ndbc['MM']).mean().plot();"
   ]
  },
  {
   "cell_type": "code",
   "execution_count": null,
   "metadata": {},
   "outputs": [],
   "source": [
    "from datetime import datetime\n",
    "\n",
    "# Create a datetime vector\n",
    "df = pd.DataFrame({'year': ndbc['#YY'], 'month': ndbc['MM'], 'day': ndbc['DD'], 'hour': ndbc['hh'], 'minute': ndbc['mm']})\n",
    "ndbc['datetime'] = pd.to_datetime(df)\n",
    "\n",
    "# Change the index values to the datetime vector\n",
    "ndbc = ndbc.set_index('datetime')\n",
    "\n",
    "# Plot!\n",
    "ndbc['ATMP'].plot();"
   ]
  },
  {
   "cell_type": "code",
   "execution_count": null,
   "metadata": {},
   "outputs": [],
   "source": [
    "ndbc.describe()"
   ]
  },
  {
   "cell_type": "markdown",
   "metadata": {},
   "source": [
    "## Matplotlib"
   ]
  },
  {
   "cell_type": "code",
   "execution_count": null,
   "metadata": {},
   "outputs": [],
   "source": [
    "import matplotlib.pyplot as plt"
   ]
  },
  {
   "cell_type": "code",
   "execution_count": null,
   "metadata": {},
   "outputs": [],
   "source": [
    "t = np.linspace(0,10,100)\n",
    "\n",
    "plt.plot(t, np.cos(t)*np.sin(t), '-rs'); #Add a ; to the last line to supress output"
   ]
  },
  {
   "cell_type": "code",
   "execution_count": null,
   "metadata": {},
   "outputs": [],
   "source": [
    "mu, sigma = 100, 15\n",
    "x = mu + sigma * np.random.randn(100)\n",
    "\n",
    "plt.plot(x,'rs')\n",
    "plt.xlabel('Smarts')\n",
    "plt.ylabel('Probability')\n",
    "plt.title('Histogram of IQ')\n",
    "plt.text(10, 135, r'$\\mu=100, \\ \\sigma=15$'); #LaTex"
   ]
  },
  {
   "cell_type": "markdown",
   "metadata": {},
   "source": [
    "## Resources\n",
    "\n",
    "* [NumPy for Matlab users](https://docs.scipy.org/doc/numpy/user/numpy-for-matlab-users.html) - Quick introduction from SciPy\n",
    "* [NumPy for Matlab users Cheatsheet](http://mathesaurus.sourceforge.net/matlab-numpy.html)\n",
    "* [MATLAB vs. Python: Top Reasons to Choose MATLAB](https://www.mathworks.com/products/matlab/matlab-vs-python.html)\n",
    "* [Python for Matlab Users](http://researchcomputing.github.io/meetup_fall_2014/pdfs/fall2014_meetup13_python_matlab.pdf) - Meetup presentation from CSU.  A great overview.  Many of the above examples come from this.\n",
    "* [Pyzo Python vs. Matlab](http://www.pyzo.org/python_vs_matlab.html)\n",
    "* [Pangeo Python Basics Tutorial](https://github.com/pangeo-data/pangeo-tutorial-sea-2018/blob/master/notebooks/1.0.scientific_python_ecosystem.ipynb)  - Many of the above examples come from this.\n",
    "* [Webinar: Python for MATLAB Users, What You Need to Know](https://www.youtube.com/watch?v=YkCegjtoHFQ)\n",
    "* [Python Graph Gallery](https://python-graph-gallery.com)"
   ]
  }
 ],
 "metadata": {
  "celltoolbar": "Slideshow",
  "colab": {
   "default_view": {},
   "name": "Example 1 - Python Basics for Matlab Wizards",
   "provenance": [],
   "toc_visible": true,
   "version": "0.3.2",
   "views": {}
  },
  "kernelspec": {
   "display_name": "OOI",
   "language": "python",
   "name": "ooi"
  },
  "language_info": {
   "codemirror_mode": {
    "name": "ipython",
    "version": 3
   },
   "file_extension": ".py",
   "mimetype": "text/x-python",
   "name": "python",
   "nbconvert_exporter": "python",
   "pygments_lexer": "ipython3",
   "version": "3.6.5"
  }
 },
 "nbformat": 4,
 "nbformat_minor": 1
}
