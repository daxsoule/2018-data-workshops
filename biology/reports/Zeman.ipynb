{
 "nbformat": 4,
 "nbformat_minor": 0,
 "metadata": {
  "colab": {
   "name": "Zeman_DataQualityReport.ipynb",
   "version": "0.3.2",
   "views": {},
   "default_view": {},
   "provenance": [],
   "collapsed_sections": [],
   "toc_visible": true
  },
  "kernelspec": {
   "name": "python2",
   "display_name": "Python 2"
  }
 },
 "cells": [
  {
   "metadata": {},
   "cell_type": "markdown",
   "source": [
    "#June 2018 OOI Biology Workshop Data Validation Report\n",
    "\n",
    "\n",
    "This notebook will examine shelf and off-shelf profilers located on the Endurace Array off Newport, Oregon, USA. The goal is to compare independent measurements collected by the Peterson group based out of HMSC in Newport, Oregon. I will compare temperature, salinity, and dissolved oxygen measurements. The Peterson group conducts bi-weekly cruises at 7 stations along the Newport Line from 1-25 miles off shore.  The shelf stations for the Newport Line sampling (NH-5) (44.6517, -124.1770) and OOI moorings (44.641, -124.3022) are seperated by 5 nm. The off-shelf station operated by OOI has a shallow profiler mooring that we can compare individual CTD casts. Again, the Peterson group station (NH-25) is inshore of the OOI sampling station.  ![alt text](http://oceanobservatories.org/wp-content/uploads/2018/03/EA_WAOR_2018_labels.png)"
   ]
  },
  {
   "metadata": {},
   "cell_type": "markdown",
   "source": [
    "## Using asynchronous data request Oregon Shelf Surface Profilier Mooring and NH-05 CTD Cast"
   ]
  },
  {
   "metadata": {},
   "cell_type": "markdown",
   "source": [
    "Now that we have our profiler of interest, let's take a look at the instruments at the OOI Data Team Portal to get an idea of what we are working with. We want to get data from reference designator CE02SHSP-SP001-01-DOSTAJ000. Important lesson: Auxilliary sensors, such as DO and fluorometers will have CTD interpolated pressure, temperature, and salinity. In order to compare these physical parameters to independent CTD casts, I only need to request data from the dissolved oxygen sensor. Looking at the data portal, the data availability is sparse. Decided to focus on September 2016, specifially Sept 6th. Now it's time to request available data. "
   ]
  },
  {
   "metadata": {},
   "cell_type": "code",
   "source": [
    "# Setup Instrument Variables\n",
    "site = 'CE02SHSP'\n",
    "node = 'SP001'\n",
    "instrument = '01-DOSTAJ000'\n",
    "method = 'recovered_cspp'\n",
    "stream = 'dosta_abcdjm_cspp_instrument_recovered'"
   ],
   "execution_count": null,
   "outputs": []
  },
  {
   "metadata": {},
   "cell_type": "code",
   "source": [
    "# Setup the Python processing environment \n",
    "import requests\n",
    "import datetime\n",
    "import pandas as pd"
   ],
   "execution_count": null,
   "outputs": []
  },
  {
   "metadata": {},
   "cell_type": "code",
   "source": [
    "# API Information\n",
    "USERNAME ='OOIAPI-Y4VVWHNQL1983S'\n",
    "TOKEN= 'Q9LA7YR8PRQSGK'\n",
    "DATA_API = 'https://ooinet.oceanobservatories.org/api/m2m/12576/sensor/inv'\n",
    "VOCAB_API = 'https://ooinet.oceanobservatories.org/api/m2m/12586/vocab/inv'\n",
    "ASSET_API = 'https://ooinet.oceanobservatories.org/api/m2m/12587'"
   ],
   "execution_count": null,
   "outputs": []
  },
  {
   "metadata": {},
   "cell_type": "code",
   "source": [
    "whos"
   ],
   "execution_count": null,
   "outputs": []
  },
  {
   "metadata": {},
   "cell_type": "code",
   "source": [
    "# Specify some functions to convert timestamps\n",
    "ntp_epoch = datetime.datetime(1900, 1, 1)\n",
    "unix_epoch = datetime.datetime(1970, 1, 1)\n",
    "ntp_delta = (unix_epoch - ntp_epoch).total_seconds()\n",
    "\n",
    "def ntp_seconds_to_datetime(ntp_seconds):\n",
    "    return datetime.datetime.utcfromtimestamp(ntp_seconds - ntp_delta).replace(microsecond=0)\n",
    "  \n",
    "def convert_time(ms):\n",
    "  if ms != None:\n",
    "    return datetime.datetime.utcfromtimestamp(ms/1000)\n",
    "  else:\n",
    "    return None"
   ],
   "execution_count": null,
   "outputs": []
  },
  {
   "metadata": {},
   "cell_type": "code",
   "source": [
    "# Setup the API request url\n",
    "data_request_url ='/'.join((VOCAB_API,site,node,instrument))\n",
    "print data_request_url\n",
    "\n",
    "# Grab the information from the server\n",
    "r = requests.get(data_request_url, auth=(USERNAME, TOKEN))\n",
    "data = r.json()\n",
    "data"
   ],
   "execution_count": null,
   "outputs": []
  },
  {
   "metadata": {},
   "cell_type": "markdown",
   "source": [
    "Looks like we have the right information!"
   ]
  },
  {
   "metadata": {},
   "cell_type": "code",
   "source": [
    "# Setup the API request url\n",
    "data_request_url = ASSET_API + '/events/deployment/query'\n",
    "params = {\n",
    "  'beginDT':'2016-01-01T00:00:00.000Z',\n",
    "  'endDT':'2016-12-25T00:00:00.000Z',\n",
    "  'refdes':site+'-'+node+'-'+instrument,   \n",
    "}\n",
    "\n",
    "# Grab the information from the server\n",
    "r = requests.get(data_request_url, params=params, auth=(USERNAME, TOKEN))\n",
    "data = r.json()\n",
    "\n",
    "df = pd.DataFrame() # Setup empty array\n",
    "for d in data:\n",
    "  df = df.append({\n",
    "      'deployment': d['deploymentNumber'],\n",
    "      'start': convert_time(d['eventStartTime']),\n",
    "      'stop': convert_time(d['eventStopTime']),\n",
    "      'latitude': d['location']['latitude'],\n",
    "      'longitude': d['location']['longitude'],\n",
    "      'sensor': d['sensor']['uid'],\n",
    "      'asset_id': d['sensor']['assetId'],\n",
    "    }, ignore_index=True)\n",
    "df"
   ],
   "execution_count": null,
   "outputs": []
  },
  {
   "metadata": {},
   "cell_type": "markdown",
   "source": [
    "Looking at deployments between Jan. 2016- Dec. 2016. \n",
    "\n",
    "Let's take a look at annotations, but for a longer time period."
   ]
  },
  {
   "metadata": {},
   "cell_type": "code",
   "source": [
    "ANNO_API = 'https://ooinet.oceanobservatories.org/api/m2m/12580/anno/find'\n",
    "params = {\n",
    "  'beginDT':int(datetime.date(2016,1,1).strftime('%s'))*1000,\n",
    "  'endDT':int(datetime.date(2017,12,25).strftime('%s'))*1000,\n",
    "  'refdes':site+'-'+node+'-'+instrument,\n",
    "}\n",
    "\n",
    "r = requests.get(ANNO_API, params=params, auth=(USERNAME, TOKEN))\n",
    "data = r.json()\n",
    "\n",
    "df = pd.DataFrame() # Setup empty array\n",
    "for d in data:\n",
    "  df = df.append({\n",
    "    'annotation': d['annotation'],\n",
    "    'start': convert_time(d['beginDT']),\n",
    "    'stop': convert_time(d['endDT']),\n",
    "    'site': d['subsite'],\n",
    "    'node': d['node'],\n",
    "    'sensor': d['sensor'],\n",
    "    'id': d['id']\n",
    "  }, ignore_index=True)\n",
    "pd.set_option('display.max_colwidth', -1) # Show the full annotation text\n",
    "df"
   ],
   "execution_count": null,
   "outputs": []
  },
  {
   "metadata": {},
   "cell_type": "markdown",
   "source": [
    "Time to import more packages to plot and format data."
   ]
  },
  {
   "metadata": {},
   "cell_type": "code",
   "source": [
    "import matplotlib.pyplot as plt\n",
    "\n",
    "!pip install netCDF4\n",
    "import netCDF4 as nc\n",
    "\n",
    "!pip install xarray\n",
    "import xarray as xr\n",
    "\n",
    "!pip install cmocean\n",
    "import cmocean"
   ],
   "execution_count": null,
   "outputs": []
  },
  {
   "metadata": {},
   "cell_type": "markdown",
   "source": [
    "In an effort to try different ways or requesting data, I used the Data Portal to request data for the DO sensor from August 26, 2016- October 2, 2016. I copied the url from my email. "
   ]
  },
  {
   "metadata": {},
   "cell_type": "code",
   "source": [
    "data_url = 'https://opendap.oceanobservatories.org/thredds/dodsC/ooi/zemans-oregonstate-edu/20180621T190500-CE02SHSP-SP001-01-DOSTAJ000-recovered_cspp-dosta_abcdjm_cspp_instrument_recovered/deployment0003_CE02SHSP-SP001-01-DOSTAJ000-recovered_cspp-dosta_abcdjm_cspp_instrument_recovered_20160823T182628.916000-20161002T143541.103000.nc'\n",
    "ds = xr.open_dataset(data_url)\n",
    "\n",
    "# Swap the dimensions\n",
    "ds = ds.swap_dims({'obs': 'time'})\n",
    "ds"
   ],
   "execution_count": null,
   "outputs": []
  },
  {
   "metadata": {},
   "cell_type": "markdown",
   "source": [
    "We loaded in the data!"
   ]
  },
  {
   "metadata": {},
   "cell_type": "code",
   "source": [
    "#Simple plot of pressure over Sept 2016\n",
    "ds['int_ctd_pressure'].plot()"
   ],
   "execution_count": null,
   "outputs": []
  },
  {
   "metadata": {},
   "cell_type": "markdown",
   "source": [
    "Making a quick plot of pressure. Those are some large dbar readings considering this profiler is in 80 meters of water! Call pressure variable to make sure in dbar."
   ]
  },
  {
   "metadata": {},
   "cell_type": "code",
   "source": [
    "ds['int_ctd_pressure']\n"
   ],
   "execution_count": null,
   "outputs": []
  },
  {
   "metadata": {},
   "cell_type": "markdown",
   "source": [
    "Units are in dbar. Large spikes are outliers? "
   ]
  },
  {
   "metadata": {},
   "cell_type": "code",
   "source": [
    "# Extract the values\n",
    "dtime = ds['time'].values\n",
    "pressure = ds['int_ctd_pressure'].values\n",
    "temperature = ds['temperature'].values\n",
    "salinity = ds['salinity'].values\n",
    "oxygen=ds['dissolved_oxygen'].values\n"
   ],
   "execution_count": null,
   "outputs": []
  },
  {
   "metadata": {},
   "cell_type": "code",
   "source": [
    "# Scatterplot of Temperature\n",
    "fig,ax1 = plt.subplots(1,1,figsize=(16,4))\n",
    "sc1 = ax1.scatter(dtime, pressure,c=temperature, cmap='RdYlBu_r') # Add s=2 to set the markersize\n",
    "ax1.invert_yaxis() # Invert y axis\n",
    "ax1.set_xlim(dtime[0],dtime[-1]) # Set the time limits to match the dataset\n",
    "cbar = fig.colorbar(sc1, ax=ax1, orientation='vertical')\n",
    "cbar.ax.set_ylabel('Temperature ($^\\circ$C)')\n",
    "ax1.set_ylabel('Pressure (dbar)')\n",
    "ax1.set_title('Endurance Shelf Profiler');\n",
    "ax1.set_ylim([0, 80])\n",
    "ax1.invert_yaxis() # Invert y axis\n"
   ],
   "execution_count": null,
   "outputs": []
  },
  {
   "metadata": {},
   "cell_type": "markdown",
   "source": [
    "Trying out a scatterplot of temperature from end of Aug-Sept 2016. Interesting 'hot spots' at the surface with temperatures ~15 degrees. This was during the Warm Blob so temperatures make sense. Also compared briefly to the NDBC Buoy 46050 located off Newport, OR."
   ]
  },
  {
   "metadata": {},
   "cell_type": "code",
   "source": [
    "plt.hist(salinity)"
   ],
   "execution_count": null,
   "outputs": []
  },
  {
   "metadata": {},
   "cell_type": "markdown",
   "source": [
    "Seeing large outliers in salinity."
   ]
  },
  {
   "metadata": {},
   "cell_type": "code",
   "source": [
    "plt.hist(oxygen)"
   ],
   "execution_count": null,
   "outputs": []
  },
  {
   "metadata": {},
   "cell_type": "markdown",
   "source": [
    "Also see some negative dissolved oxygen measurements. "
   ]
  },
  {
   "metadata": {},
   "cell_type": "code",
   "source": [
    "print \"Max value element salinity : \", max(salinity)\n",
    "print \"Max value element oxygen : \",max(oxygen)\n",
    "print \"Min value element oxygen : \",min(oxygen)\n",
    "print \"Min value element salinity\", min(salinity)"
   ],
   "execution_count": null,
   "outputs": []
  },
  {
   "metadata": {},
   "cell_type": "code",
   "source": [
    "!pip install cmocean\n",
    "import cmocean"
   ],
   "execution_count": null,
   "outputs": []
  },
  {
   "metadata": {},
   "cell_type": "markdown",
   "source": [
    "Profiles of Temperature, salinity, and oxygen from Sept. 2016."
   ]
  },
  {
   "metadata": {},
   "cell_type": "code",
   "source": [
    "#Temperature, Salinity & Oxygen\n",
    "fig, (ax1,ax2,ax3) = plt.subplots(3,1, sharex=True, sharey=True, figsize=(16,12))\n",
    "sc1 = ax1.scatter(dtime, pressure, c=temperature, cmap=cmocean.cm.thermal) \n",
    "sc2 = ax2.scatter(dtime, pressure, c=salinity,cmap=cmocean.cm.haline,vmin=30,vmax=35) \n",
    "sc3 = ax3.scatter(dtime, pressure, c=oxygen, cmap='Blues',vmin=0,vmax=300)\n",
    "\n",
    "# Because the X and Y axes are shared, we only have to set limits once\n",
    "ax1.set_ylim([0, 80])\n",
    "ax1.invert_yaxis() # Invert y axis\n",
    "ax1.set_xlim(dtime[0],dtime[-1]) # Set the time limits to match the dataset\n",
    "\n",
    "# Add the colorbars\n",
    "cbar = fig.colorbar(sc1, ax=ax1, orientation='vertical')\n",
    "cbar.ax.set_ylabel('Temperature ($^\\circ$C)')\n",
    "cbar = fig.colorbar(sc2, ax=ax2,orientation='vertical')\n",
    "cbar.ax.set_ylabel('Salinity')\n",
    "cbar = fig.colorbar(sc3, ax=ax3, orientation='vertical')\n",
    "cbar.ax.set_ylabel('Oxygen (%s)' % ds['corrected_dissolved_oxygen'].units)\n",
    "cbar.update_ticks()\n",
    "cbar.formatter.set_useOffset(False)\n",
    "\n",
    "# Add labels & titles\n",
    "ax1.set_ylabel('Pressure (dbar)')\n",
    "ax2.set_ylabel('Pressure (dbar)')\n",
    "ax3.set_ylabel('Pressure (dbar)')\n",
    "\n",
    "fig.suptitle('Shelf Profiler Endurance Array')\n",
    "fig.subplots_adjust(top=0.95);\n"
   ],
   "execution_count": null,
   "outputs": []
  },
  {
   "metadata": {},
   "cell_type": "code",
   "source": [
    "import matplotlib.pyplot as plt\n",
    "import numpy as np"
   ],
   "execution_count": null,
   "outputs": []
  },
  {
   "metadata": {},
   "cell_type": "markdown",
   "source": [
    "Alright, let's take a look at a specific day."
   ]
  },
  {
   "metadata": {},
   "cell_type": "code",
   "source": [
    "a = ds.sel(time=slice('2016-09-06', '2016-09-07'))\n",
    "a"
   ],
   "execution_count": null,
   "outputs": []
  },
  {
   "metadata": {},
   "cell_type": "code",
   "source": [
    "print(ds.time.size)\n",
    "print(a.time.size)"
   ],
   "execution_count": null,
   "outputs": []
  },
  {
   "metadata": {},
   "cell_type": "code",
   "source": [
    "# A quickplot\n",
    "a['int_ctd_pressure'].plot();"
   ],
   "execution_count": null,
   "outputs": []
  },
  {
   "metadata": {},
   "cell_type": "code",
   "source": [
    "# Extract a full up or down cast\n",
    "ds2 = ds.sel(time=slice('2016-09-06 10:35:00', '2016-09-06 23:45:00'))\n",
    "ds2['int_ctd_pressure'].plot();\n"
   ],
   "execution_count": null,
   "outputs": []
  },
  {
   "metadata": {},
   "cell_type": "code",
   "source": [
    "# Now let's create some vertical profile plots\n",
    "fig, (ax1,ax2,ax3) = plt.subplots(1, 3, sharey=True)\n",
    "\n",
    "ax1.plot(ds2.temperature, ds2.int_ctd_pressure, 'b.', markersize=3)\n",
    "ax2.plot(ds2.salinity, ds2.int_ctd_pressure, 'b.', markersize=3)\n",
    "ax3.plot(ds2.dissolved_oxygen,ds2.int_ctd_pressure,'.b',markersize=3)\n",
    "\n",
    "\n",
    "ax1.set_xlabel('Temperature ($^\\circ$C)')\n",
    "ax2.set_xlabel('Salinity')\n",
    "ax3.set_xlabel('Oxygen (%s)' % ds['dissolved_oxygen'].units)\n",
    "\n",
    "ax1.set_ylabel('Pressure (dbar)')\n",
    "\n",
    "ax1.invert_yaxis()\n",
    "fig.suptitle('Endurance Shelf Profiler Sept 6 2016')\n",
    "# ax1.set_ylim(475,0)\n",
    "\n"
   ],
   "execution_count": null,
   "outputs": []
  },
  {
   "metadata": {},
   "cell_type": "markdown",
   "source": [
    "Profiles look okay. Again, seeing the high temperatures at the surface with some stratification in the upper water column. There is some wonky salinity data with peaks and dips. \n",
    "\n",
    "\n",
    "**Now, let's take a look at some Peterson Lab data. Queried our database to find a NH05 trip that happened on Sept 6, 2016. Now, how do we upload our .csv file into google colab? There looks to be a function that can take a .csv file from your google drive, but it was not working. Instead, used Sage's univerisity website to upload into the notebook to begin playing around with CTD data.** "
   ]
  },
  {
   "metadata": {},
   "cell_type": "code",
   "source": [
    "import pandas as pd\n",
    "\n",
    "p = pd.read_csv('https://marine.rutgers.edu/~sage/OOI_Data_Workshops/NHLineData.csv')"
   ],
   "execution_count": null,
   "outputs": []
  },
  {
   "metadata": {},
   "cell_type": "code",
   "source": [
    "p.head()"
   ],
   "execution_count": null,
   "outputs": []
  },
  {
   "metadata": {},
   "cell_type": "markdown",
   "source": [
    "The Peterson group uses ml/L when they process oxygen data. OOI dissolved oxygen units are umol kg-1. We need to convert units in order to compare the casts. \n",
    "\n",
    "O2 [micromole/kg] = O2 [micromole/L] / ρ\n",
    "\n",
    "O2 [micromole/L] = 44.6596 × O2 [ml/L]\n",
    "\n",
    "Here, ρ is the potential density of water [kg/L] at zero pressure and at the potential\n",
    "temperature (e.g., 1.0269 kg/L; e.g., UNESCO, 1983). The value of 44.6596 is derived from\n",
    "the molar volume of the oxygen gas, 22.3916 L/mole, at standard temperature and pressure\n",
    "(0°C, 1 atmosphere; e.g., García and Gordon, 1992)."
   ]
  },
  {
   "metadata": {},
   "cell_type": "markdown",
   "source": [
    ""
   ]
  },
  {
   "metadata": {},
   "cell_type": "code",
   "source": [
    "\n",
    "p['OIIOxygen'] = p['Oxygen'].astype(float)*44.66/1.02\n",
    "p.head()"
   ],
   "execution_count": null,
   "outputs": []
  },
  {
   "metadata": {},
   "cell_type": "markdown",
   "source": [
    "Taking out all measurements from NH-05"
   ]
  },
  {
   "metadata": {},
   "cell_type": "code",
   "source": [
    "NH5=p[p.Station == 'NH05']\n",
    "NH5"
   ],
   "execution_count": null,
   "outputs": []
  },
  {
   "metadata": {},
   "cell_type": "code",
   "source": [
    "# Now let's create some profile plots from the Newport Line CTD at NH-05\n",
    "\n",
    "\n",
    "peterpressure = NH5['Pressure'].values\n",
    "petertemperature = NH5['Temperature'].values\n",
    "petersalinity = NH5['Salinity'].values\n",
    "peteroxygen=NH5['OIIOxygen'].values\n",
    "\n",
    "fig, (ax1,ax2,ax3) = plt.subplots(1, 3, sharey=True)\n",
    "\n",
    "ax1.plot(petertemperature, peterpressure, 'b.', markersize=10)\n",
    "ax2.plot(petersalinity, peterpressure, 'b.', markersize=10)\n",
    "ax3.plot(peteroxygen,peterpressure,'b.',markersize=10)\n",
    "\n",
    "\n",
    "ax1.set_xlabel('Temperature ($^\\circ$C)')\n",
    "ax2.set_xlabel('Salinity')\n",
    "ax3.set_xlabel('Oxygen')\n",
    "\n",
    "ax1.set_ylabel('Pressure (dbar)')\n",
    "\n",
    "fig.suptitle('NH-05 CTD Cast Sept 6, 2016')\n",
    "\n",
    "ax1.invert_yaxis()"
   ],
   "execution_count": null,
   "outputs": []
  },
  {
   "metadata": {},
   "cell_type": "markdown",
   "source": [
    "And now, let's put the OOI profiler cast with the NH-05 CTD cast"
   ]
  },
  {
   "metadata": {},
   "cell_type": "code",
   "source": [
    "fig, (ax1, ax2,ax3) = plt.subplots(1, 3, sharey=True)\n",
    "\n",
    "ax1.plot(petertemperature,peterpressure,'b')\n",
    "ax1.plot(ds2.temperature,ds2.int_ctd_pressure,'r.')\n",
    "ax1.set_xlabel('Temperature (C)')\n",
    "ax1.set_ylabel('Pressure (dm)')\n",
    "\n",
    "\n",
    "\n",
    "ax2.plot(petersalinity,peterpressure,'b',label='Cruise CTD')\n",
    "ax2.plot(ds2.salinity,ds2.int_ctd_pressure,'r.',label='Endurance Profiler')\n",
    "ax2.set_xlabel('Salinity (psu)')\n",
    "\n",
    "ax3.plot(peteroxygen,peterpressure,'.b')\n",
    "ax3.plot(ds2.dissolved_oxygen,ds2.int_ctd_pressure,'r.')\n",
    "ax3.set_xlabel('Oxygen (%s)' % ds['dissolved_oxygen'].units)\n",
    "\n",
    "\n",
    "ax1.invert_yaxis()\n",
    "\n",
    "fig.suptitle('Endurance Shelf Compared with Newport Line CTD')\n",
    "fig.subplots_adjust(top=0.9)\n",
    "\n",
    "legend = ax2.legend(loc='lower right', shadow=True, fontsize='small')\n",
    "\n",
    "\n"
   ],
   "execution_count": null,
   "outputs": []
  },
  {
   "metadata": {},
   "cell_type": "markdown",
   "source": [
    "Conclusion? \n",
    "\n",
    "It looks like the cruise data (blue line) and the OOI profiler (red line) track pretty well. There is some discrepancy at the surface. The dissolved oxygen profiles have an obvious offset from, with the maximum offset being ~100 umol kg-1. One important question, do we trust the oxygen censor on the Peterson group CTD? "
   ]
  },
  {
   "metadata": {},
   "cell_type": "markdown",
   "source": [
    " ## Using Synchronous data request API Oregon Shelf Surface Profiler Mooring and NH-05 CTD Cast"
   ]
  },
  {
   "metadata": {},
   "cell_type": "markdown",
   "source": [
    "Just to play around with different ways to call and request data, this code will be looking at the same shelf profiler dissolved oxygen (CE02SHSP-SP001-01-DOSTAJ000), but using json response which is handy in order to get a quick and dirty look at instruments. "
   ]
  },
  {
   "metadata": {},
   "cell_type": "code",
   "source": [
    "# Setup the Python processing environment \n",
    "import requests\n",
    "import datetime\n",
    "import pandas as pd"
   ],
   "execution_count": null,
   "outputs": []
  },
  {
   "metadata": {},
   "cell_type": "code",
   "source": [
    "# API Information\n",
    "USERNAME ='OOIAPI-Y4VVWHNQL1983S'\n",
    "TOKEN= 'Q9LA7YR8PRQSGK'\n",
    "DATA_API = 'https://ooinet.oceanobservatories.org/api/m2m/12576/sensor/inv'\n",
    "VOCAB_API = 'https://ooinet.oceanobservatories.org/api/m2m/12586/vocab/inv'\n",
    "ASSET_API = 'https://ooinet.oceanobservatories.org/api/m2m/12587'"
   ],
   "execution_count": null,
   "outputs": []
  },
  {
   "metadata": {},
   "cell_type": "markdown",
   "source": [
    "Instrument data for Endurance Shelf Profiler CTD. Calling some jsons to look at what each of the parameters are called."
   ]
  },
  {
   "metadata": {},
   "cell_type": "code",
   "source": [
    "# Instrument Information\n",
    "site = 'CE02SHSP'\n",
    "node = 'SP001'\n",
    "instrument = '01-DOSTAJ000'\n",
    "method = 'recovered_cspp'\n",
    "stream = 'dosta_abcdjm_cspp_instrument_recovered'\n",
    "\n",
    "data_request_url ='/'.join((DATA_API,site,node,instrument,method,stream))\n",
    "\n",
    "params = {\n",
    "  'beginDT':'2016-09-06T00:00:00.000Z',\n",
    "  'endDT':'2016-09-07T00:00:00.000Z',\n",
    "  'limit':50000 \n",
    "}"
   ],
   "execution_count": null,
   "outputs": []
  },
  {
   "metadata": {},
   "cell_type": "code",
   "source": [
    "# Grab the data\n",
    "r = requests.get(data_request_url, params=params, auth=(USERNAME, TOKEN))\n",
    "data = r.json()"
   ],
   "execution_count": null,
   "outputs": []
  },
  {
   "metadata": {},
   "cell_type": "code",
   "source": [
    "len(data)"
   ],
   "execution_count": null,
   "outputs": []
  },
  {
   "metadata": {},
   "cell_type": "code",
   "source": [
    "# Instrument Information\n",
    "site = 'CE02SHSP'\n",
    "node = 'SP001'\n",
    "instrument = '01-DOSTAJ000'\n",
    "method = 'recovered_cspp'\n",
    "stream = 'dosta_abcdjm_cspp_instrument_recovered'\n",
    "\n",
    "data_request_url ='/'.join((DATA_API,site,node,instrument,method,stream))\n",
    "\n",
    "params = {\n",
    "  'beginDT':'2016-09-06T00:00:00.000Z',\n",
    "  'endDT':'2016-09-07T00:00:00.000Z',\n",
    "  'limit':20000 \n",
    "}"
   ],
   "execution_count": null,
   "outputs": []
  },
  {
   "metadata": {},
   "cell_type": "code",
   "source": [
    "# Grab the data\n",
    "r = requests.get(data_request_url, params=params, auth=(USERNAME, TOKEN))\n",
    "data = r.json()"
   ],
   "execution_count": null,
   "outputs": []
  },
  {
   "metadata": {},
   "cell_type": "code",
   "source": [
    "len(data)"
   ],
   "execution_count": null,
   "outputs": []
  },
  {
   "metadata": {},
   "cell_type": "markdown",
   "source": [
    "Notice that I called the instrument information twice, with different limit params. The first request was 50,000 and the second was 20,000. When I request more data points, my dataset was smaller, based on len(data). Seems to be an issue centered around how often and when the instrument samples. It's good protocol to look up sampling frequency for instruments. "
   ]
  },
  {
   "metadata": {},
   "cell_type": "code",
   "source": [
    "data[0]"
   ],
   "execution_count": null,
   "outputs": []
  },
  {
   "metadata": {},
   "cell_type": "markdown",
   "source": [
    "Let's call the selected parameters: pressure, salinity, temperature, and dissolved oxygen."
   ]
  },
  {
   "metadata": {},
   "cell_type": "code",
   "source": [
    "# Selected Instruments to Plot\n",
    "instruments = [\n",
    "  ['CE02SHSP','SP001','01-DOSTAJ000','recovered_cspp','dosta_abcdjm_cspp_instrument_recovered','int_ctd_pressure'],\n",
    "  ['CE02SHSP','SP001','01-DOSTAJ000','recovered_cspp','dosta_abcdjm_cspp_instrument_recovered','ctdpf_j_cspp_instrument_recovered-salinity'],\n",
    "  ['CE02SHSP','SP001','01-DOSTAJ000','recovered_cspp','dosta_abcdjm_cspp_instrument_recovered','ctdpf_j_cspp_instrument_recovered-temperature'],\n",
    "    ['CE02SHSP','SP001','01-DOSTAJ000','recovered_cspp','dosta_abcdjm_cspp_instrument_recovered','dissolved_oxygen'],\n",
    "]"
   ],
   "execution_count": null,
   "outputs": []
  },
  {
   "metadata": {},
   "cell_type": "markdown",
   "source": [
    "Grabbing the data for all of Sept. 2016. "
   ]
  },
  {
   "metadata": {},
   "cell_type": "code",
   "source": [
    "# Specify additional parameters for the API request \n",
    "params = {\n",
    "  'beginDT':'2016-09-01T00:00:00.000Z',\n",
    "  'endDT':'2016-09-30T00:00:00.000Z',\n",
    "  'limit':10000,   \n",
    "}"
   ],
   "execution_count": null,
   "outputs": []
  },
  {
   "metadata": {},
   "cell_type": "code",
   "source": [
    "# Grab the data for each instrument\n",
    "out = []\n",
    "for jj in range(len(instruments)):\n",
    "  data_request_url ='/'.join((DATA_API,instruments[jj][0],instruments[jj][1],instruments[jj][2],instruments[jj][3],instruments[jj][4]))\n",
    "  r = requests.get(data_request_url, params=params, auth=(USERNAME, TOKEN))\n",
    "  data = r.json()\n",
    "  print(instruments[jj]) \n",
    "  print(len(data))\n",
    "  time = []\n",
    "  values = []\n",
    "  for i in range(len(data)):\n",
    "    time.append(ntp_seconds_to_datetime(data[i]['time']))\n",
    "    values.append(data[i][instruments[jj][5]])\n",
    "  out.append({'time':time,'value':values});"
   ],
   "execution_count": null,
   "outputs": []
  },
  {
   "metadata": {},
   "cell_type": "code",
   "source": [
    "# Time Processing Routines \n",
    "ntp_epoch = datetime.datetime(1900, 1, 1)\n",
    "unix_epoch = datetime.datetime(1970, 1, 1)\n",
    "ntp_delta = (unix_epoch - ntp_epoch).total_seconds()\n",
    "\n",
    "def ntp_seconds_to_datetime(ntp_seconds):\n",
    "    return datetime.datetime.utcfromtimestamp(ntp_seconds - ntp_delta).replace(microsecond=0)\n"
   ],
   "execution_count": null,
   "outputs": []
  },
  {
   "metadata": {},
   "cell_type": "code",
   "source": [
    "import matplotlib.pyplot as plt\n",
    "\n",
    "!pip install netCDF4\n",
    "import netCDF4 as nc\n",
    "\n",
    "!pip install xarray\n",
    "import xarray as xr\n",
    "\n",
    "!pip install cmocean\n",
    "import cmocean"
   ],
   "execution_count": null,
   "outputs": []
  },
  {
   "metadata": {},
   "cell_type": "code",
   "source": [
    "# Plot the data\n",
    "fig,axs = plt.subplots(len(out), sharex=True, sharey=False, figsize=(8,10))\n",
    "\n",
    "for jj in range(len(out)):\n",
    "  axs[jj].scatter(out[jj]['time'], out[jj]['value'], marker='.')\n",
    "  #axs[jj].set(ylabel=instruments[jj][5])\n",
    "  #axs[jj].set_title('-'.join(instruments[jj][0:3]))\n",
    "  axs[jj].text(.92, .9, ('%sm' % instruments[jj][-1]), horizontalalignment='left', verticalalignment='top', transform=axs[jj].transAxes)\n",
    "  \n",
    "plt.xlim(datetime.date(2016,9,1),datetime.date(2016,9,25))\n",
    "plt.xticks(rotation=30)\n",
    "\n",
    "axs[0].set_ylim(0,100)\n",
    "axs[1].set_ylim(0,40)\n",
    "axs[2].set_ylim(0,30)\n",
    "axs[3].set_ylim(0,500)\n",
    "\n",
    "axs[0].set_ylabel('Pressure')\n",
    "axs[1].set_ylabel('Salinity')\n",
    "axs[2].set_ylabel('Temperature')\n",
    "axs[3].set_ylabel('DO')\n",
    "\n",
    "axs[0].set_title('Endurance Shelf Profiler')\n",
    "\n",
    "\n"
   ],
   "execution_count": null,
   "outputs": []
  },
  {
   "metadata": {},
   "cell_type": "markdown",
   "source": [
    "The data points for an entire month look sparse. Notice also that the len(data) is low compared to the next set of plots which are looking at a single day in Sept. 2016. \n",
    "\n"
   ]
  },
  {
   "metadata": {},
   "cell_type": "code",
   "source": [
    "import matplotlib.pyplot as plt\n",
    "import numpy as np"
   ],
   "execution_count": null,
   "outputs": []
  },
  {
   "metadata": {},
   "cell_type": "markdown",
   "source": [
    "Renaming our parameters"
   ]
  },
  {
   "metadata": {},
   "cell_type": "code",
   "source": [
    "time=out[0]['time']\n",
    "pressure=out[0]['value']\n",
    "temperature=out[2]['value']\n",
    "salinity=out[1]['value']\n",
    "oxygen=out[3]['value']\n",
    "\n"
   ],
   "execution_count": null,
   "outputs": []
  },
  {
   "metadata": {},
   "cell_type": "code",
   "source": [
    "# Scatterplot of Temperature\n",
    "fig,ax1 = plt.subplots(1,1,figsize=(16,4))\n",
    "sc1 = ax1.scatter(time, pressure, c=temperature, cmap='RdYlBu_r') # Add s=2 to set the markersize\n",
    "ax1.invert_yaxis() # Invert y axis\n",
    "#ax1.set_xlim(time[0],time[-1]) # Set the time limits to match the dataset\n",
    "cbar = fig.colorbar(sc1, ax=ax1, orientation='vertical')\n",
    "cbar.ax.set_ylabel('Temperature ($^\\circ$C)')\n",
    "ax1.set_ylabel('Pressure (dbar)')\n",
    "ax1.set_title('Shelf Profiler');\n",
    "\n",
    "\n",
    "\n"
   ],
   "execution_count": null,
   "outputs": []
  },
  {
   "metadata": {},
   "cell_type": "code",
   "source": [
    "#Temperature, Salinity, Oxygen \n",
    "fig, (ax1,ax2,ax3) = plt.subplots(3,1, sharex=True, sharey=True,figsize=(16,12)) #sharey=True\n",
    "sc1 = ax1.scatter(time, pressure, c=temperature, cmap=cmocean.cm.thermal) \n",
    "sc2 = ax2.scatter(time, pressure, c=salinity, cmap=cmocean.cm.haline) \n",
    "sc3 = ax3.scatter(time, pressure, c=oxygen, cmap=cmocean.cm.oxy)\n",
    "# Because the X and Y axes are shared, we only have to set limits once\n",
    "ax1.invert_yaxis() # Invert y axis\n",
    "#ax1.set_xlim(time[0],time[-1]) # Set the time limits to match the dataset\n",
    "\n",
    "# Add the colorbars\n",
    "cbar = fig.colorbar(sc1, ax=ax1, orientation='vertical')\n",
    "cbar.ax.set_ylabel('Temperature ($^\\circ$C)')\n",
    "cbar = fig.colorbar(sc2, ax=ax2, orientation='vertical')\n",
    "cbar.ax.set_ylabel('Salinity')\n",
    "cbar = fig.colorbar(sc3, ax=ax3, orientation='vertical')\n",
    "cbar.ax.set_ylabel('Oxygen (%s)')\n",
    "cbar.update_ticks()\n",
    "cbar.formatter.set_useOffset(False)\n",
    "\n",
    "\n",
    "# Add labels & titles\n",
    "ax1.set_ylabel('Pressure (dbar)')\n",
    "ax2.set_ylabel('Pressure (dbar)')\n",
    "\n",
    "\n",
    "fig.suptitle('Endurance Shelf Profiler')\n",
    "fig.subplots_adjust(top=0.95);\n",
    "\n"
   ],
   "execution_count": null,
   "outputs": []
  },
  {
   "metadata": {},
   "cell_type": "markdown",
   "source": [
    "Let's create vertical profile for all of September 2016. "
   ]
  },
  {
   "metadata": {},
   "cell_type": "code",
   "source": [
    "fig,(ax1,ax2,ax3)=plt.subplots(1,3,sharey=True)\n",
    "\n",
    "ax1.plot(temperature,pressure,'r.')\n",
    "ax1.invert_yaxis()\n",
    "ax2.plot(salinity,pressure,'r.')\n",
    "ax3.plot(oxygen,pressure,'r.')\n",
    "\n",
    "ax1.set_xlabel('Temperature ($^\\circ$C)')\n",
    "ax2.set_xlabel('Salinity')\n",
    "ax3.set_xlabel('Oxygen (%s)' % ds['dissolved_oxygen'].units)\n"
   ],
   "execution_count": null,
   "outputs": []
  },
  {
   "metadata": {},
   "cell_type": "markdown",
   "source": [
    "Using DataTeam help, slicing our datetime to find a single vertical profile. Using jsons not the best way to find a single up or down cast. "
   ]
  },
  {
   "metadata": {},
   "cell_type": "code",
   "source": [
    "\n",
    "starttime=datetime.datetime(2016, 9, 6, 0, 15, 41)\n",
    "endtime=datetime.datetime(2016, 9, 6, 12, 15, 41)\n",
    "\n",
    "x=[out[0]['time'][ii] for ii in range (len(out[0]['time'])) if out[0]['time'][ii]<endtime]\n",
    "print(x[0],x[-1])"
   ],
   "execution_count": null,
   "outputs": []
  },
  {
   "metadata": {},
   "cell_type": "markdown",
   "source": [
    "Instead, let's just take a day from September, the same day that corresponds to the Newport Line sampling at NH-05, Sept.6th."
   ]
  },
  {
   "metadata": {},
   "cell_type": "code",
   "source": [
    "# Specify additional parameters for the API request \n",
    "params = {\n",
    "  'beginDT':'2016-09-06T00:10:00.000Z',\n",
    "  'endDT':'2016-09-07T00:00:00.000Z',\n",
    "  'limit':10000,   \n",
    "}"
   ],
   "execution_count": null,
   "outputs": []
  },
  {
   "metadata": {},
   "cell_type": "code",
   "source": [
    "# Grab the data for each instrument\n",
    "out = []\n",
    "for jj in range(len(instruments)):\n",
    "  data_request_url ='/'.join((DATA_API,instruments[jj][0],instruments[jj][1],instruments[jj][2],instruments[jj][3],instruments[jj][4]))\n",
    "  r = requests.get(data_request_url, params=params, auth=(USERNAME, TOKEN))\n",
    "  data = r.json()\n",
    "  print(instruments[jj]) \n",
    "  print(len(data))\n",
    "  time = []\n",
    "  values = []\n",
    "  for i in range(len(data)):\n",
    "    time.append(ntp_seconds_to_datetime(data[i]['time']))\n",
    "    values.append(data[i][instruments[jj][5]])\n",
    "  out.append({'time':time,'value':values});"
   ],
   "execution_count": null,
   "outputs": []
  },
  {
   "metadata": {},
   "cell_type": "code",
   "source": [
    "# Time Processing Routines \n",
    "ntp_epoch = datetime.datetime(1900, 1, 1)\n",
    "unix_epoch = datetime.datetime(1970, 1, 1)\n",
    "ntp_delta = (unix_epoch - ntp_epoch).total_seconds()\n",
    "\n",
    "def ntp_seconds_to_datetime(ntp_seconds):\n",
    "    return datetime.datetime.utcfromtimestamp(ntp_seconds - ntp_delta).replace(microsecond=0)\n"
   ],
   "execution_count": null,
   "outputs": []
  },
  {
   "metadata": {},
   "cell_type": "code",
   "source": [
    "time=out[0]['time']\n",
    "pressure=out[0]['value']\n",
    "temperature=out[2]['value']\n",
    "salinity=out[1]['value']\n",
    "oxygen=out[3]['value']"
   ],
   "execution_count": null,
   "outputs": []
  },
  {
   "metadata": {},
   "cell_type": "code",
   "source": [
    "#Temperature, Salinity, Oxygen \n",
    "fig, (ax1,ax2,ax3) = plt.subplots(3,1, sharex=True, sharey=True,figsize=(16,12)) #sharey=True\n",
    "sc1 = ax1.scatter(time, pressure, c=temperature, cmap=cmocean.cm.thermal) \n",
    "sc2 = ax2.scatter(time, pressure, c=salinity, cmap=cmocean.cm.haline) \n",
    "sc3 = ax3.scatter(time, pressure, c=oxygen, cmap=cmocean.cm.oxy)\n",
    "# Because the X and Y axes are shared, we only have to set limits once\n",
    "ax1.invert_yaxis() # Invert y axis\n",
    "#ax1.set_xlim(time[0],time[-1]) # Set the time limits to match the dataset\n",
    "\n",
    "# Add the colorbars\n",
    "cbar = fig.colorbar(sc1, ax=ax1, orientation='vertical')\n",
    "cbar.ax.set_ylabel('Temperature ($^\\circ$C)')\n",
    "cbar = fig.colorbar(sc2, ax=ax2, orientation='vertical')\n",
    "cbar.ax.set_ylabel('Salinity')\n",
    "cbar = fig.colorbar(sc3, ax=ax3, orientation='vertical')\n",
    "cbar.ax.set_ylabel('Oxygen')\n",
    "cbar.update_ticks()\n",
    "cbar.formatter.set_useOffset(False)\n",
    "\n",
    "\n",
    "# Add labels & titles\n",
    "ax1.set_ylabel('Pressure (dbar)')\n",
    "ax2.set_ylabel('Pressure (dbar)')\n",
    "\n",
    "\n",
    "fig.suptitle('Endurance Shelf Profiler')\n",
    "fig.subplots_adjust(top=0.95);\n"
   ],
   "execution_count": null,
   "outputs": []
  },
  {
   "metadata": {},
   "cell_type": "code",
   "source": [
    "fig,(ax1,ax2,ax3)=plt.subplots(1,3,sharey=True)\n",
    "\n",
    "ax1.plot(temperature,pressure,'r.')\n",
    "ax1.invert_yaxis()\n",
    "ax2.plot(salinity,pressure,'r.')\n",
    "ax3.plot(oxygen,pressure,'r.')\n",
    "\n",
    "ax1.set_xlabel('Temperature ($^\\circ$C)')\n",
    "ax2.set_xlabel('Salinity')\n",
    "ax3.set_xlabel('Oxygen (%s)' % ds['dissolved_oxygen'].units)"
   ],
   "execution_count": null,
   "outputs": []
  },
  {
   "metadata": {},
   "cell_type": "markdown",
   "source": [
    "Something weird with salinity at depth."
   ]
  },
  {
   "metadata": {},
   "cell_type": "markdown",
   "source": [
    "Let's bring in the NH-05 data"
   ]
  },
  {
   "metadata": {},
   "cell_type": "code",
   "source": [
    "import pandas as pd\n",
    "\n",
    "p = pd.read_csv('https://marine.rutgers.edu/~sage/OOI_Data_Workshops/NHLineData.csv')"
   ],
   "execution_count": null,
   "outputs": []
  },
  {
   "metadata": {},
   "cell_type": "code",
   "source": [
    "\n",
    "p['OIIOxygen'] = p['Oxygen'].astype(float)*44.66/1.02\n",
    "p.head()"
   ],
   "execution_count": null,
   "outputs": []
  },
  {
   "metadata": {},
   "cell_type": "code",
   "source": [
    "NH5=p[p.Station == 'NH05']\n",
    "NH5"
   ],
   "execution_count": null,
   "outputs": []
  },
  {
   "metadata": {},
   "cell_type": "code",
   "source": [
    "# Now let's create some profile plots from the Newport Line CTD at NH-05\n",
    "\n",
    "peterpressure = NH5['Pressure'].values\n",
    "petertemperature = NH5['Temperature'].values\n",
    "petersalinity = NH5['Salinity'].values\n",
    "peteroxygen=NH5['OIIOxygen'].values\n",
    "\n",
    "fig, (ax1,ax2,ax3) = plt.subplots(1, 3, sharey=True)\n",
    "\n",
    "ax1.plot(petertemperature, peterpressure, 'b.', markersize=10)\n",
    "ax2.plot(petersalinity, peterpressure, 'b.', markersize=10)\n",
    "ax3.plot(peteroxygen,peterpressure,'b.',markersize=10)\n",
    "\n",
    "\n",
    "ax1.set_xlabel('Temperature ($^\\circ$C)')\n",
    "ax2.set_xlabel('Salinity')\n",
    "ax2.set_xlabel('Oxygen')\n",
    "\n",
    "ax1.set_ylabel('Pressure (dbar)')\n",
    "\n",
    "ax1.invert_yaxis()"
   ],
   "execution_count": null,
   "outputs": []
  },
  {
   "metadata": {},
   "cell_type": "code",
   "source": [
    "fig, (ax1, ax2,ax3) = plt.subplots(1, 3, sharey=True)\n",
    "\n",
    "ax1.plot(petertemperature,peterpressure,'b')\n",
    "ax1.plot(temperature,pressure,'r.')\n",
    "ax1.set_xlabel('Temperature (C)')\n",
    "ax1.set_ylabel('Pressure (dm)')\n",
    "\n",
    "\n",
    "\n",
    "ax2.plot(petersalinity,peterpressure,'b',label='Cruise CTD')\n",
    "ax2.plot(salinity,pressure,'r.',label='Endurance Profiler')\n",
    "ax2.set_xlabel('Salinity (psu)')\n",
    "\n",
    "ax3.plot(peteroxygen,peterpressure,'.b')\n",
    "ax3.plot(oxygen,pressure,'.r')\n",
    "ax3.set_xlabel('Oxygen')\n",
    "\n",
    "ax1.invert_yaxis()\n",
    "\n",
    "fig.suptitle('Endurance Shelf Compared with Newport Line CTD')\n",
    "fig.subplots_adjust(top=0.9)\n",
    "\n",
    "legend = ax2.legend(loc='lower right', shadow=True, fontsize='small')\n"
   ],
   "execution_count": null,
   "outputs": []
  },
  {
   "metadata": {},
   "cell_type": "markdown",
   "source": [
    "Again, we see the high overlap between the temperature and salinity, but the offset in dissolved oxygen."
   ]
  },
  {
   "metadata": {},
   "cell_type": "markdown",
   "source": [
    "## Looking at Oregon Offshelf Shallow Profiler Mooring and NH-25 CTD Cast"
   ]
  },
  {
   "metadata": {},
   "cell_type": "markdown",
   "source": [
    "Will use the OOI Synchronous Data Request API to pull out temperature, salinity, and dissolved oxygen data from Shallow Profiler (CE04OSPS-SF01B-2A-CTDPFA107). We will focus on the data collected on Sept. 20, 2016. The time frame was picked because we only had certain instances of NH-25 sampling in 2016. "
   ]
  },
  {
   "metadata": {},
   "cell_type": "code",
   "source": [
    "# Setup the Python processing environment \n",
    "import requests\n",
    "import datetime\n",
    "import pandas as pd"
   ],
   "execution_count": null,
   "outputs": []
  },
  {
   "metadata": {},
   "cell_type": "code",
   "source": [
    "import matplotlib.pyplot as plt\n",
    "import numpy as np"
   ],
   "execution_count": null,
   "outputs": []
  },
  {
   "metadata": {},
   "cell_type": "code",
   "source": [
    "# API Information\n",
    "USERNAME ='OOIAPI-Y4VVWHNQL1983S'\n",
    "TOKEN= 'Q9LA7YR8PRQSGK'\n",
    "DATA_API = 'https://ooinet.oceanobservatories.org/api/m2m/12576/sensor/inv'\n",
    "VOCAB_API = 'https://ooinet.oceanobservatories.org/api/m2m/12586/vocab/inv'\n",
    "ASSET_API = 'https://ooinet.oceanobservatories.org/api/m2m/12587'"
   ],
   "execution_count": null,
   "outputs": []
  },
  {
   "metadata": {},
   "cell_type": "code",
   "source": [
    "# Time Processing Routines \n",
    "ntp_epoch = datetime.datetime(1900, 1, 1)\n",
    "unix_epoch = datetime.datetime(1970, 1, 1)\n",
    "ntp_delta = (unix_epoch - ntp_epoch).total_seconds()\n",
    "\n",
    "def ntp_seconds_to_datetime(ntp_seconds):\n",
    "    return datetime.datetime.utcfromtimestamp(ntp_seconds - ntp_delta).replace(microsecond=0)"
   ],
   "execution_count": null,
   "outputs": []
  },
  {
   "metadata": {},
   "cell_type": "code",
   "source": [
    "# Instrument Information\n",
    "site = 'CE04OSPS'\n",
    "node = 'SF01B'\n",
    "instrument = '2A-CTDPFA107'\n",
    "method = 'streamed'\n",
    "stream = 'ctdpf_sbe43_sample'\n",
    "\n",
    "data_request_url ='/'.join((DATA_API,site,node,instrument,method,stream))"
   ],
   "execution_count": null,
   "outputs": []
  },
  {
   "metadata": {},
   "cell_type": "code",
   "source": [
    "# Specify additional parameters for the API request \n",
    "params = {\n",
    "  'beginDT':'2016-09-06T00:10:00.000Z',\n",
    "  'endDT':'2016-09-07T00:00:00.000Z',\n",
    "  'limit':10000,   \n",
    "}"
   ],
   "execution_count": null,
   "outputs": []
  },
  {
   "metadata": {},
   "cell_type": "code",
   "source": [
    "# Grab the data\n",
    "r = requests.get(data_request_url, params=params, auth=(USERNAME, TOKEN))\n",
    "data = r.json()\n",
    "data"
   ],
   "execution_count": null,
   "outputs": []
  },
  {
   "metadata": {},
   "cell_type": "code",
   "source": [
    "instruments=[\n",
    "    ['CE04OSPS','SF01B','2A-CTDPFA107','streamed','ctdpf_sbe43_sample','seawater_pressure'],\n",
    "    ['CE04OSPS','SF01B','2A-CTDPFA107','streamed','ctdpf_sbe43_sample','seawater_temperature'],\n",
    "    ['CE04OSPS','SF01B','2A-CTDPFA107','streamed','ctdpf_sbe43_sample','practical_salinity'],\n",
    "    ['CE04OSPS','SF01B','2A-CTDPFA107','streamed','ctdpf_sbe43_sample','corrected_dissolved_oxygen'],\n",
    "]"
   ],
   "execution_count": null,
   "outputs": []
  },
  {
   "metadata": {},
   "cell_type": "code",
   "source": [
    "# Specify additional parameters for the API request \n",
    "params = {\n",
    "  'beginDT':'2016-09-20T00:00:00.000Z',\n",
    "  'endDT':'2016-09-21T00:00:00.000Z',\n",
    "  'limit':10000,   \n",
    "}"
   ],
   "execution_count": null,
   "outputs": []
  },
  {
   "metadata": {},
   "cell_type": "code",
   "source": [
    "# Grab the data for each instrument\n",
    "out = []\n",
    "for jj in range(len(instruments)):\n",
    "  data_request_url ='/'.join((DATA_API,instruments[jj][0],instruments[jj][1],instruments[jj][2],instruments[jj][3],instruments[jj][4]))\n",
    "  r = requests.get(data_request_url, params=params, auth=(USERNAME, TOKEN))\n",
    "  data = r.json()\n",
    "  print(instruments[jj]) \n",
    "  print(len(data))\n",
    "  time = []\n",
    "  values = []\n",
    "  for i in range(len(data)):\n",
    "    time.append(ntp_seconds_to_datetime(data[i]['time']))\n",
    "    values.append(data[i][instruments[jj][5]])\n",
    "  out.append({'time':time,'value':values});"
   ],
   "execution_count": null,
   "outputs": []
  },
  {
   "metadata": {},
   "cell_type": "code",
   "source": [
    "time=out[0]['time']\n",
    "pressure=out[0]['value']\n",
    "temperature=out[1]['value']\n",
    "salinity=out[2]['value']\n",
    "oxygen=out[3]['value']\n"
   ],
   "execution_count": null,
   "outputs": []
  },
  {
   "metadata": {},
   "cell_type": "code",
   "source": [
    "whos"
   ],
   "execution_count": null,
   "outputs": []
  },
  {
   "metadata": {},
   "cell_type": "code",
   "source": [
    "!pip install cmocean\n",
    "import cmocean"
   ],
   "execution_count": null,
   "outputs": []
  },
  {
   "metadata": {},
   "cell_type": "markdown",
   "source": [
    "Looking at profile of temperature, salinity, and oxygen for Sept. 20, 2016."
   ]
  },
  {
   "metadata": {},
   "cell_type": "code",
   "source": [
    "#Temperature, Salinity, Oxygen\n",
    "fig, (ax1,ax2,ax3) = plt.subplots(3,1, sharex=True, sharey=True,figsize=(16,12)) #sharey=True\n",
    "sc1 = ax1.scatter(time, pressure, c=temperature, cmap=cmocean.cm.thermal) \n",
    "sc2 = ax2.scatter(time, pressure, c=salinity, cmap=cmocean.cm.haline) \n",
    "sc3 = ax3.scatter(time, pressure, c=oxygen, cmap=cmocean.cm.oxy)\n",
    "# Because the X and Y axes are shared, we only have to set limits once\n",
    "ax1.invert_yaxis() # Invert y axis\n",
    "ax1.set_xlim(time[0],time[-1]) # Set the time limits to match the dataset\n",
    "\n",
    "# Add the colorbars\n",
    "cbar = fig.colorbar(sc1, ax=ax1, orientation='vertical')\n",
    "cbar.ax.set_ylabel('Temperature ($^\\circ$C)')\n",
    "cbar = fig.colorbar(sc2, ax=ax2, orientation='vertical')\n",
    "cbar.ax.set_ylabel('Salinity')\n",
    "cbar = fig.colorbar(sc3, ax=ax3, orientation='vertical')\n",
    "cbar.ax.set_ylabel('Oxygen')\n",
    "cbar.update_ticks()\n",
    "cbar.formatter.set_useOffset(False)\n",
    "\n",
    "\n",
    "# Add labels & titles\n",
    "ax1.set_ylabel('Pressure (dbar)')\n",
    "ax2.set_ylabel('Pressure (dbar)')\n",
    "\n",
    "\n",
    "fig.suptitle('Endurance Off-Shelf Profiler')\n",
    "fig.subplots_adjust(top=0.95);"
   ],
   "execution_count": null,
   "outputs": []
  },
  {
   "metadata": {},
   "cell_type": "markdown",
   "source": [
    "Dissolved oxygen looks at little high (400 umol kg-1) for an off-shelf station in September. Let's plot some vertical plots of the same parameters. "
   ]
  },
  {
   "metadata": {},
   "cell_type": "code",
   "source": [
    "fig,(ax1,ax2,ax3)=plt.subplots(1,3,sharey=True)\n",
    "\n",
    "ax1.plot(temperature,pressure,'r.')\n",
    "ax1.invert_yaxis()\n",
    "ax1.set_xlabel('Temperature (C)')\n",
    "ax1.set_ylabel('Pressure (dm)')\n",
    "ax2.plot(salinity,pressure,'r.')\n",
    "ax2.set_xlabel('Salinity')\n",
    "ax3.plot(oxygen,pressure,'r.')\n",
    "ax3.set_xlabel('Dissolved Oxygen')"
   ],
   "execution_count": null,
   "outputs": []
  },
  {
   "metadata": {},
   "cell_type": "markdown",
   "source": [
    "Now, lets bring in the data from NH-25 on Sept. 20, 2016. "
   ]
  },
  {
   "metadata": {},
   "cell_type": "markdown",
   "source": [
    "NH-25 Newport Line CTD Data."
   ]
  },
  {
   "metadata": {},
   "cell_type": "code",
   "source": [
    "import pandas as pd\n",
    "\n",
    "p = pd.read_csv('https://marine.rutgers.edu/~sage/OOI_Data_Workshops/NHLineData.csv')"
   ],
   "execution_count": null,
   "outputs": []
  },
  {
   "metadata": {},
   "cell_type": "code",
   "source": [
    "p['OIIOxygen'] = p['Oxygen'].astype(float)*44.66\n",
    "p.head()"
   ],
   "execution_count": null,
   "outputs": []
  },
  {
   "metadata": {},
   "cell_type": "code",
   "source": [
    "NH25=p[p.Station == 'NH25']\n",
    "NH25\n"
   ],
   "execution_count": null,
   "outputs": []
  },
  {
   "metadata": {},
   "cell_type": "code",
   "source": [
    "# Now let's create some profile plots from the Newport Line CTD at NH-05\n",
    "\n",
    "peterpressure = NH25['Pressure'].values\n",
    "petertemperature = NH25['Temperature'].values\n",
    "petersalinity = NH25['Salinity'].values\n",
    "peteroxygen=NH25['OIIOxygen'].values\n",
    "\n",
    "fig, (ax1,ax2,ax3) = plt.subplots(1, 3, sharey=True)\n",
    "\n",
    "ax1.plot(petertemperature, peterpressure, 'b.', markersize=10)\n",
    "ax2.plot(petersalinity, peterpressure, 'b.', markersize=10)\n",
    "ax3.plot(peteroxygen,peterpressure,'b.',markersize=10)\n",
    "\n",
    "\n",
    "ax1.set_xlabel('Temperature ($^\\circ$C)')\n",
    "ax2.set_xlabel('Salinity')\n",
    "ax3.set_xlabel('Oxygen')\n",
    "\n",
    "ax1.set_ylabel('Pressure (dbar)')\n",
    "\n",
    "ax1.invert_yaxis()\n",
    "\n",
    "fig.suptitle('NH-25')"
   ],
   "execution_count": null,
   "outputs": []
  },
  {
   "metadata": {},
   "cell_type": "code",
   "source": [
    "fig, (ax1, ax2,ax3) = plt.subplots(1, 3, sharey=True)\n",
    "\n",
    "ax1.plot(petertemperature,peterpressure,'b')\n",
    "ax1.plot(temperature,pressure,'r.')\n",
    "ax1.set_xlabel('Temperature (C)')\n",
    "ax1.set_ylabel('Pressure (dm)')\n",
    "\n",
    "\n",
    "\n",
    "ax2.plot(petersalinity,peterpressure,'b',label='Cruise CTD')\n",
    "ax2.plot(salinity,pressure,'r.',label='Endurance Profiler')\n",
    "ax2.set_xlabel('Salinity (psu)')\n",
    "\n",
    "ax3.plot(peteroxygen,peterpressure,'.b')\n",
    "ax3.plot(oxygen,pressure,'.r')\n",
    "ax3.set_xlabel('Oxygen')\n",
    "\n",
    "ax1.invert_yaxis()\n",
    "\n",
    "fig.suptitle('Endurance Off-Shelf Shallow Profiler Compared with NH-25 CTD')\n",
    "fig.subplots_adjust(top=0.9)\n",
    "\n",
    "legend = ax2.legend(loc='lower right', shadow=True, fontsize='small')"
   ],
   "execution_count": null,
   "outputs": []
  },
  {
   "metadata": {},
   "cell_type": "markdown",
   "source": [
    "Again, we see some good overlap in temperature and salinity. Noticably, the profiler stops at 200 m. The oxygen is more troubling. The profiler is consistently higher than the NH-25 CTD. \n",
    "\n",
    "Luckily, we have a surface mooring near the off-shelf profiler. Let's take a look at the dissolved oxygen at the surfacing mooring for September 2016. "
   ]
  },
  {
   "metadata": {},
   "cell_type": "markdown",
   "source": [
    "## Offshelf Surface Mooring and Dissolved Oxygen"
   ]
  },
  {
   "metadata": {},
   "cell_type": "markdown",
   "source": [
    "Let's make a quick Synchromous request (quick and dirty!) and look at the dissolved oxygen values at the surface mooring (deployed at 7 m) near the off-shore profiler on the Endurance Array. Are the values similar? "
   ]
  },
  {
   "metadata": {},
   "cell_type": "code",
   "source": [
    "# Setup the Python processing environment \n",
    "import requests\n",
    "import datetime\n",
    "import pandas as pd\n",
    "import matplotlib.pyplot as plt"
   ],
   "execution_count": null,
   "outputs": []
  },
  {
   "metadata": {},
   "cell_type": "code",
   "source": [
    "# API Information\n",
    "USERNAME ='OOIAPI-Y4VVWHNQL1983S'\n",
    "TOKEN= 'Q9LA7YR8PRQSGK'\n",
    "DATA_API = 'https://ooinet.oceanobservatories.org/api/m2m/12576/sensor/inv'\n",
    "VOCAB_API = 'https://ooinet.oceanobservatories.org/api/m2m/12586/vocab/inv'\n",
    "ASSET_API = 'https://ooinet.oceanobservatories.org/api/m2m/12587'"
   ],
   "execution_count": null,
   "outputs": []
  },
  {
   "metadata": {},
   "cell_type": "code",
   "source": [
    "# First, we need to add some more Python libraries\n",
    "import requests\n",
    "import datetime\n",
    "import time"
   ],
   "execution_count": null,
   "outputs": []
  },
  {
   "metadata": {},
   "cell_type": "code",
   "source": [
    "# Instrument Information\n",
    "site = 'CE04OSSM'\n",
    "node = 'RID27'\n",
    "instrument = '04-DOSTAD000'\n",
    "method = 'recovered_host'\n",
    "stream = 'dosta_abcdjm_dcl_instrument_recovered'\n",
    "\n",
    "data_request_url ='/'.join((DATA_API,site,node,instrument,method,stream))\n",
    "\n",
    "\n",
    "\n",
    "params = {\n",
    "  'beginDT':'2016-09-01T00:00:00.000Z',\n",
    "  'endDT':'2016-09-30T00:00:00.000Z',\n",
    "  'limit':1000,   \n",
    "}"
   ],
   "execution_count": null,
   "outputs": []
  },
  {
   "metadata": {},
   "cell_type": "code",
   "source": [
    "# Grab the data\n",
    "r = requests.get(data_request_url, params=params, auth=(USERNAME, TOKEN))\n",
    "data = r.json()"
   ],
   "execution_count": null,
   "outputs": []
  },
  {
   "metadata": {},
   "cell_type": "code",
   "source": [
    "data[0]"
   ],
   "execution_count": null,
   "outputs": []
  },
  {
   "metadata": {},
   "cell_type": "code",
   "source": [
    "# Time Processing Routine\n",
    "ntp_epoch = datetime.datetime(1900, 1, 1)\n",
    "unix_epoch = datetime.datetime(1970, 1, 1)\n",
    "ntp_delta = (unix_epoch - ntp_epoch).total_seconds()\n",
    "\n",
    "def ntp_seconds_to_datetime(ntp_seconds):\n",
    "    return datetime.datetime.utcfromtimestamp(ntp_seconds - ntp_delta).replace(microsecond=0)"
   ],
   "execution_count": null,
   "outputs": []
  },
  {
   "metadata": {},
   "cell_type": "code",
   "source": [
    "# Process the data\n",
    "time = []\n",
    "oxygen= []\n",
    "pressure=[]\n",
    "for i in range(len(data)):\n",
    "  time.append(ntp_seconds_to_datetime(data[i]['time']))\n",
    "  oxygen.append(data[i]['dissolved_oxygen'])\n",
    "  \n"
   ],
   "execution_count": null,
   "outputs": []
  },
  {
   "metadata": {},
   "cell_type": "code",
   "source": [
    "import numpy as np "
   ],
   "execution_count": null,
   "outputs": []
  },
  {
   "metadata": {},
   "cell_type": "code",
   "source": [
    "plt.plot_date(time, oxygen, 'r.', label='Oxygen')\n",
    "plt.xlabel('Date')\n",
    "plt.ylabel('Oxygen')\n"
   ],
   "execution_count": null,
   "outputs": []
  },
  {
   "metadata": {},
   "cell_type": "code",
   "source": [
    "np.mean(oxygen)"
   ],
   "execution_count": null,
   "outputs": []
  },
  {
   "metadata": {},
   "cell_type": "markdown",
   "source": [
    ""
   ]
  },
  {
   "metadata": {},
   "cell_type": "markdown",
   "source": [
    "Looking at a quick plot of surface mooring time series, we see a peak in dissolved oxygen on Sept 16, 2016, but with a mean of 239 umol kg-1. These numbers are much lower than the surface measurements from off-shore shallow profiler. Something amiss with the profiler oxygen readings?"
   ]
  },
  {
   "metadata": {},
   "cell_type": "markdown",
   "source": [
    "## Conclusions"
   ]
  },
  {
   "metadata": {},
   "cell_type": "markdown",
   "source": [
    "Some general conclusions and future data quality:\n",
    "\n",
    "1. Certain biological parameters should be examined in detail and values should be quality controlled based on region and season. \n",
    "2. Co-located data needs to have it's own quality control. In our case, Winkler titrations could be used for DO values to compare with our own CTD.\n",
    "3. When requesting data, make sure to examine annotations and any data gaps. Think about which way you want to access the data. \n",
    "4. Examine other biological parameters at these instruments and compare to cruise data.\n",
    "5. The Endurance Array will complement work done by the Peterson group, especially considering we can only collect physical data when the weather permits. The instruments are out there when we can't be!"
   ]
  },
  {
   "metadata": {},
   "cell_type": "code",
   "source": [
    "print ('k bye')"
   ],
   "execution_count": null,
   "outputs": []
  }
 ]
}
