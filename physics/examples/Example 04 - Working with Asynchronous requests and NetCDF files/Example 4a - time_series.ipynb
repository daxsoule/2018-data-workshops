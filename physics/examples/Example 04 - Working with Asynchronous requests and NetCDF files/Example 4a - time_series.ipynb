{
 "cells": [
  {
   "cell_type": "markdown",
   "metadata": {},
   "source": [
    "## Plotting Time Series Data from NetCDF\n",
    "\n",
    "In this example we show how to programatically download and work with OOI NetCDF time series data. We will use data from the Global Argentine Basin Flanking Subsurface Mooring A Mooring Riser CTD at 30 m. You will learn:\n",
    "\n",
    "* how to find the data you are looking for\n",
    "* how to use the machine to machine API to request data\n",
    "* how to load the NetCDF data into your notebook, once the data request has completed\n",
    "* how to plot data\n",
    "\n",
    "For the instrument in this example, you will need the Reference Designator, Stream and Data Delivery Method to make the request to the M2M API. More information about the instrument can be found here:\n",
    "http://ooi.visualocean.net/instruments/view/GA03FLMA-RIM01-02-CTDMOG040\n",
    "\n",
    "![GA03FLMA-RIM01-02-CTDMOG040](https://github.com/ooi-data-review/ooi_datateam_notebooks/raw/master/images/GA03FLMA-RIM01-02-CTDMOG040.png)"
   ]
  },
  {
   "cell_type": "code",
   "execution_count": null,
   "metadata": {},
   "outputs": [],
   "source": [
    "import requests\n",
    "import time"
   ]
  },
  {
   "cell_type": "markdown",
   "metadata": {},
   "source": [
    "Login in at https://ooinet.oceanobservatories.org/ and obtain your <b>API username and API token</b> under your profile (top right corner), or use the credentials provided below."
   ]
  },
  {
   "cell_type": "code",
   "execution_count": null,
   "metadata": {},
   "outputs": [],
   "source": [
    "username = 'OOIAPI-D8S960UXPK4K03'\n",
    "token = 'IXL48EQ2XY'"
   ]
  },
  {
   "cell_type": "markdown",
   "metadata": {},
   "source": [
    "Specify your inputs."
   ]
  },
  {
   "cell_type": "code",
   "execution_count": null,
   "metadata": {},
   "outputs": [],
   "source": [
    "subsite = 'GA03FLMA'\n",
    "node = 'RIM01'\n",
    "sensor = '02-CTDMOG040'\n",
    "method = 'recovered_inst'\n",
    "stream = 'ctdmo_ghqr_instrument_recovered'\n",
    "beginDT = '2015-03-17T01:01:01.500Z' # this time range encompasses all three deployments of this instrument.\n",
    "endDT = '2018-09-01T01:01:01.500Z'"
   ]
  },
  {
   "cell_type": "markdown",
   "metadata": {},
   "source": [
    "Build the GET request URL and send the request to the M2M API endpoint."
   ]
  },
  {
   "cell_type": "code",
   "execution_count": null,
   "metadata": {},
   "outputs": [],
   "source": [
    "base_url = 'https://ooinet.oceanobservatories.org/api/m2m/12576/sensor/inv/'\n",
    "\n",
    "data_request_url ='/'.join((base_url,subsite,node,sensor,method,stream))\n",
    "params = {\n",
    "    'beginDT':beginDT,\n",
    "    'endDT':endDT,   \n",
    "}\n",
    "r = requests.get(data_request_url, params=params, auth=(username, token))\n",
    "data = r.json()"
   ]
  },
  {
   "cell_type": "code",
   "execution_count": null,
   "metadata": {},
   "outputs": [],
   "source": [
    "data['allURLs'][0]"
   ]
  },
  {
   "cell_type": "markdown",
   "metadata": {},
   "source": [
    "Check if the request has completed."
   ]
  },
  {
   "cell_type": "code",
   "execution_count": null,
   "metadata": {},
   "outputs": [],
   "source": [
    "%%time\n",
    "check_complete = data['allURLs'][1] + '/status.txt'\n",
    "for i in range(1800): \n",
    "    r = requests.get(check_complete)\n",
    "    if r.status_code == requests.codes.ok:\n",
    "        print('request completed')\n",
    "        break\n",
    "    else:\n",
    "        time.sleep(1)"
   ]
  },
  {
   "cell_type": "code",
   "execution_count": null,
   "metadata": {},
   "outputs": [],
   "source": [
    "import re\n",
    "import xarray as xr\n",
    "import pandas as pd\n",
    "import os"
   ]
  },
  {
   "cell_type": "markdown",
   "metadata": {},
   "source": [
    "Parse the thredds server to get a list of all NetCDF files. Each deployment is seperated into a seperate netcdf file."
   ]
  },
  {
   "cell_type": "code",
   "execution_count": null,
   "metadata": {},
   "outputs": [],
   "source": [
    "url = data['allURLs'][0]\n",
    "tds_url = 'https://opendap.oceanobservatories.org/thredds/dodsC'\n",
    "datasets = requests.get(url).text\n",
    "urls = re.findall(r'href=[\\'\"]?([^\\'\" >]+)', datasets)\n",
    "x = re.findall(r'(ooi/.*?.nc)', datasets)\n",
    "for i in x:\n",
    "    if i.endswith('.nc') == False:\n",
    "        x.remove(i)\n",
    "for i in x:\n",
    "    try:\n",
    "        float(i[-4])\n",
    "    except:\n",
    "        x.remove(i)\n",
    "datasets = [os.path.join(tds_url, i) for i in x]\n",
    "datasets"
   ]
  },
  {
   "cell_type": "markdown",
   "metadata": {},
   "source": [
    "Load all files into a single xarray dataset."
   ]
  },
  {
   "cell_type": "code",
   "execution_count": null,
   "metadata": {},
   "outputs": [],
   "source": [
    "ds = xr.open_mfdataset(datasets)\n",
    "ds = ds.swap_dims({'obs': 'time'})\n",
    "ds = ds.chunk({'time': 100})\n",
    "ds = ds.sortby('time') # data from different deployments can overlap so we want to sort all data by time stamp.\n",
    "ds"
   ]
  },
  {
   "cell_type": "markdown",
   "metadata": {},
   "source": [
    "Check sampling frequency."
   ]
  },
  {
   "cell_type": "code",
   "execution_count": null,
   "metadata": {},
   "outputs": [],
   "source": [
    "df = ds.to_dataframe()\n",
    "res = (pd.Series(df.index[1:]) - pd.Series(df.index[:-1])).value_counts()\n",
    "res"
   ]
  },
  {
   "cell_type": "markdown",
   "metadata": {},
   "source": [
    "Plot the dataset using matplotlib, working under the hood of xarray."
   ]
  },
  {
   "cell_type": "code",
   "execution_count": null,
   "metadata": {},
   "outputs": [],
   "source": [
    "import matplotlib.pyplot as plt"
   ]
  },
  {
   "cell_type": "code",
   "execution_count": null,
   "metadata": {},
   "outputs": [],
   "source": [
    "fig, ax = plt.subplots(1)\n",
    "fig.set_size_inches(16, 6)\n",
    "\n",
    "ds['ctdmo_seawater_pressure'].plot(linestyle = 'None', \n",
    "                                   marker='.', \n",
    "                                   markersize=1,\n",
    "                                   ax=ax)\n",
    "\n",
    "ax.invert_yaxis()\n",
    "ax.grid()\n",
    "\n",
    "plt.title('Global Argentine Basin Flanking Subsurface Mooring A Mooring Riser CTD (30 m)')\n",
    "plt.ylabel('Pressure (dbar)')\n",
    "plt.xlabel('Time \\n Deployments 1 - 3')\n",
    "plt.show()"
   ]
  },
  {
   "cell_type": "markdown",
   "metadata": {},
   "source": [
    "This CTD is supposed to be stationary at around 30 m depth in the water column, but violent storms in the southern himisphere can draw the CTD mooring chain down by hundreds of meters. More information about the Flanking Subsurface Mooring A can be found [here](http://oceanobservatories.org/site/ga03flma/)."
   ]
  },
  {
   "cell_type": "code",
   "execution_count": null,
   "metadata": {},
   "outputs": [],
   "source": [
    "# Import Bokeh functions\n",
    "import os\n",
    "from bokeh.plotting import figure, output_file, reset_output, show, ColumnDataSource, save\n",
    "from bokeh.layouts import column\n",
    "from bokeh.models import BoxAnnotation\n",
    "from bokeh.io import output_notebook"
   ]
  },
  {
   "cell_type": "code",
   "execution_count": null,
   "metadata": {},
   "outputs": [],
   "source": [
    "source = ColumnDataSource(\n",
    "    data=dict(\n",
    "        x=list(ds.time.values),\n",
    "        y=list((ds.ctdmo_seawater_pressure.values*-1))\n",
    "    )\n",
    ")\n",
    "\n",
    "s = figure(width=950,\n",
    "           height=500,\n",
    "           title='Global Argentine Basin Flanking Subsurface Mooring A Mooring Riser CTD (30 m)',\n",
    "           x_axis_label='Time (GMT)',\n",
    "           y_axis_label='Pressure (dbar)',\n",
    "           x_axis_type='datetime')\n",
    "\n",
    "s.line('x', 'y', line_width=3, source=source)\n",
    "s.circle('x', 'y', fill_color='white', size=4, source=source)\n",
    "\n",
    "output_notebook()\n",
    "show(column(s))\n",
    "\n",
    "# output_file(os.getcwd())\n",
    "# save(s, filename='pressure.html')"
   ]
  }
 ],
 "metadata": {
  "kernelspec": {
   "display_name": "ooi",
   "language": "python",
   "name": "ooi"
  },
  "language_info": {
   "codemirror_mode": {
    "name": "ipython",
    "version": 3
   },
   "file_extension": ".py",
   "mimetype": "text/x-python",
   "name": "python",
   "nbconvert_exporter": "python",
   "pygments_lexer": "ipython3",
   "version": "3.6.5"
  }
 },
 "nbformat": 4,
 "nbformat_minor": 2
}
