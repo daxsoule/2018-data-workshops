{
 "nbformat": 4,
 "nbformat_minor": 0,
 "metadata": {
  "colab": {
   "name": "Rudzin__OOIDataQualityReport.ipynb",
   "version": "0.3.2",
   "views": {},
   "default_view": {},
   "provenance": [],
   "collapsed_sections": []
  },
  "kernelspec": {
   "name": "python2",
   "display_name": "Python 2"
  }
 },
 "cells": [
  {
   "metadata": {},
   "cell_type": "markdown",
   "source": [
    "# Pioneer Inshore and Central Surface Mooring Data Quality Report\n",
    "\n",
    "**Evaluation Date: **May 2018\n",
    "\n",
    "**Evaluator:** Johna Rudzin, University of Miami/RSMAS (jrudzin@rsmas.miami.edu)\n",
    "\n",
    "## Review Summary\n",
    "\n",
    "This report explores data from three different instruments that are stationed on the Inshore Surface Mooring and Central Surface Mooring of the Pioneer Array. Two of the instruments, the CTD and Bulk Meteorology Instrument, are on the Inshore Mooring and the ADCP is on the Central Mooring. The ADCP on the Inshore Mooring was not available or else would have been used instead. The CTD measures a timeseries of ocean temperature and salinity, the Bulk Meteorology Package is used for this instance to obtain sea surface temperature, sea surface salinity, wind speed, surface current speed, and precipitation. The ADCP measures ocean current components (u,v,w) of the water column as it sits moored to the bottom.\n",
    "\n",
    "## 1. Selected instruments included in this report\n",
    "\n",
    "\n",
    "\n",
    "Instrument | Reference Designator | Method | Stream \n",
    " -- | -- | -- | --\n",
    "Velocity Profiler (150kHz) | CP01CNSM-MFD35-01-ADCPTF000| telemetered | adcpt_acfgm_pd8_dcl_instrument\n",
    "CTD| CP03ISSM-RID27-03-CTDBPC000 | recovered_host| ctdbp_cdef_dcl_instrument_recovered\n",
    "Bulk Meteorology Instrument Package| CP03ISSM-SBD11-06-METBKA000 | recovered_host | metbk_a_dcl_instrument_recovered"
   ]
  },
  {
   "metadata": {},
   "cell_type": "markdown",
   "source": [
    "## 2. Time periods of interest\n",
    "\n",
    "\n",
    "*   Entire Data Record (May 2015 - May 2018)\n",
    "*   Extratropical Storm Hermine (Sep 3  2016 - Sep 10 2016, passage over mooring on Sep 6 2016). This storm passed over the Pioneer Mooring Array the first week of September 2016"
   ]
  },
  {
   "metadata": {},
   "cell_type": "markdown",
   "source": [
    "![Track for Hermine](http://i63.tinypic.com/2lo0guh.png)"
   ]
  },
  {
   "metadata": {},
   "cell_type": "markdown",
   "source": [
    "## 3. Related Metadata\n",
    "Review metadata available in the system to make sure it is present and correct.\n",
    "\n",
    "We also need to set up our Python environment with some libraries, variables and functions we will need later in this report.\n",
    "\n"
   ]
  },
  {
   "metadata": {},
   "cell_type": "code",
   "source": [
    "# Setup the Python processing environment \n",
    "import requests\n",
    "import datetime\n",
    "import pandas as pd"
   ],
   "execution_count": null,
   "outputs": []
  },
  {
   "metadata": {},
   "cell_type": "code",
   "source": [
    "# API Information\n",
    "USERNAME ='OOIAPI-G2GBHHAQHYQTLM'\n",
    "TOKEN= 'BSDYYV4S1W5JD4'\n",
    "DATA_API = 'https://ooinet.oceanobservatories.org/api/m2m/12576/sensor/inv'\n",
    "VOCAB_API = 'https://ooinet.oceanobservatories.org/api/m2m/12586/vocab/inv'\n",
    "ASSET_API = 'https://ooinet.oceanobservatories.org/api/m2m/12587'"
   ],
   "execution_count": null,
   "outputs": []
  },
  {
   "metadata": {},
   "cell_type": "code",
   "source": [
    "# Specify some functions to convert timestamps\n",
    "ntp_epoch = datetime.datetime(1900, 1, 1)\n",
    "unix_epoch = datetime.datetime(1970, 1, 1)\n",
    "ntp_delta = (unix_epoch - ntp_epoch).total_seconds()\n",
    "\n",
    "def ntp_seconds_to_datetime(ntp_seconds):\n",
    "    return datetime.datetime.utcfromtimestamp(ntp_seconds - ntp_delta).replace(microsecond=0)\n",
    "  \n",
    "def convert_time(ms):\n",
    "  if ms != None:\n",
    "    return datetime.datetime.utcfromtimestamp(ms/1000)\n",
    "  else:\n",
    "    return None\n"
   ],
   "execution_count": null,
   "outputs": []
  },
  {
   "metadata": {},
   "cell_type": "markdown",
   "source": [
    "### 3.1 Vocabulary Metadata\n",
    "Grabbing the basic vocabulary information (metadata) from the system to make sure we have the right instrument."
   ]
  },
  {
   "metadata": {},
   "cell_type": "markdown",
   "source": [
    "First, the Inshore Surface Mooring CTD"
   ]
  },
  {
   "metadata": {},
   "cell_type": "code",
   "source": [
    "# Setup Instrument Variables for Inshore Surface Mooring CTD for entire time record\n",
    "\n",
    "subsite = 'CP03ISSM'\n",
    "node = 'RID27'\n",
    "sensor = '03-CTDBPC000'\n",
    "method = 'recovered_inst'\n",
    "stream = 'ctdbp_cdef_instrument_recovered'\n",
    "beginDT = '2015-05-10T01:01:01.500Z' # this time range encompasses all three deployments of this instrument.\n",
    "endDT = '2018-05-22T01:01:01.500Z'"
   ],
   "execution_count": null,
   "outputs": []
  },
  {
   "metadata": {},
   "cell_type": "code",
   "source": [
    "# Setup the API request url\n",
    "data_request_url ='/'.join((VOCAB_API,subsite,node,sensor))\n",
    "print data_request_url\n",
    "\n",
    "# Grab the information from the server\n",
    "r = requests.get(data_request_url, auth=(USERNAME, TOKEN))\n",
    "data = r.json()\n",
    "data"
   ],
   "execution_count": null,
   "outputs": []
  },
  {
   "metadata": {},
   "cell_type": "markdown",
   "source": [
    "Next, the Inshore Surface Mooring Bulk Meteorology Package"
   ]
  },
  {
   "metadata": {},
   "cell_type": "code",
   "source": [
    "# Setup Instrument Variables for Inshore Surface Mooring BulkMet for entire time record\n",
    "#CP03ISSM-SBD11-06-METBKA000\n",
    "\n",
    "\n",
    "subsite = 'CP03ISSM'\n",
    "node = 'SBD11'\n",
    "sensor = '06-METBKA000'\n",
    "method = 'recovered_host'\n",
    "stream = 'metbk_a_dcl_instrument_recovered'\n",
    "beginDT = '2014-12-15T01:01:01.500Z' # this time range encompasses all three deployments of this instrument.\n",
    "endDT = '2018-05-22T01:01:01.500Z'"
   ],
   "execution_count": null,
   "outputs": []
  },
  {
   "metadata": {},
   "cell_type": "code",
   "source": [
    "# Setup the API request url\n",
    "data_request_url ='/'.join((VOCAB_API,subsite,node,sensor))\n",
    "print data_request_url\n",
    "\n",
    "# Grab the information from the server\n",
    "r = requests.get(data_request_url, auth=(USERNAME, TOKEN))\n",
    "data = r.json()\n",
    "data"
   ],
   "execution_count": null,
   "outputs": []
  },
  {
   "metadata": {},
   "cell_type": "code",
   "source": [
    ""
   ],
   "execution_count": null,
   "outputs": []
  },
  {
   "metadata": {},
   "cell_type": "markdown",
   "source": [
    "Finally, grabbing info for the ADCP on the Central Surface Mooring, since there is no ADCP on the Inshore Surface Mooring"
   ]
  },
  {
   "metadata": {},
   "cell_type": "code",
   "source": [
    "# Setup Instrument Variables\n",
    "#CP01CNSM-MFD35-01-ADCPTF000\n",
    "\n",
    "\n",
    "subsite = 'CP01CNSM'\n",
    "node = 'MFD35'\n",
    "sensor = '01-ADCPTF000'\n",
    "method = 'telemetered'\n",
    "stream = 'adcpt_acfgm_pd8_dcl_instrument' \n",
    "beginDT = '2013-11-21T18:15:00.000Z' # this time range encompasses all three deployments of this instrument.\n",
    "endDT = '2018-03-28T12:02:39.100Z'"
   ],
   "execution_count": null,
   "outputs": []
  },
  {
   "metadata": {},
   "cell_type": "code",
   "source": [
    "# Setup the API request url\n",
    "data_request_url ='/'.join((VOCAB_API,subsite,node,sensor))\n",
    "print data_request_url\n",
    "\n",
    "# Grab the information from the server\n",
    "r = requests.get(data_request_url, auth=(USERNAME, TOKEN))\n",
    "data = r.json()\n",
    "data"
   ],
   "execution_count": null,
   "outputs": []
  },
  {
   "metadata": {},
   "cell_type": "markdown",
   "source": [
    "See that this instrument states it is on the \"Central Surface Mooring\" whereas the others are on the \"Inshore Surface Mooring\""
   ]
  },
  {
   "metadata": {},
   "cell_type": "markdown",
   "source": [
    "### 3.2 Deployment Information\n",
    "Grabbing some information about the deployments for these instruments. We will grab all of the deployments available in the system for 2017 and then output the date ranges, latitude/longitude, asset ID, and sensor ID for each. Note that the reference designator specified above represents the geographical location of an instrument across all deployments (e.g. the CTD on the Pioneer Upstream Offshore Profiler), the Sensor ID (and its Asset ID equivalent) represent the specific instrument used for a given deployment (i.e. a unique make, model, and serial numbered instrument)."
   ]
  },
  {
   "metadata": {},
   "cell_type": "markdown",
   "source": [
    "First, the CTD"
   ]
  },
  {
   "metadata": {},
   "cell_type": "code",
   "source": [
    "# Setup Instrument Variables for Inshore Surface Mooring CTD for entire time record\n",
    "\n",
    "subsite = 'CP03ISSM'\n",
    "node = 'RID27'\n",
    "sensor = '03-CTDBPC000'\n",
    "method = 'recovered_inst'\n",
    "stream = 'ctdbp_cdef_instrument_recovered'\n",
    "beginDT = '2015-05-10T01:01:01.500Z' # this time range encompasses all three deployments of this instrument.\n",
    "endDT = '2018-05-22T01:01:01.500Z'"
   ],
   "execution_count": null,
   "outputs": []
  },
  {
   "metadata": {},
   "cell_type": "code",
   "source": [
    "# Setup the API request url\n",
    "data_request_url = ASSET_API + '/events/deployment/query'\n",
    "params = {\n",
    "  'beginDT':'2017-01-01T00:00:00.000Z',\n",
    "  'endDT':'2018-01-01T00:00:00.000Z',\n",
    "  'refdes':subsite+'-'+node+'-'+sensor,   \n",
    "}\n",
    "\n",
    "# Grab the information from the server\n",
    "r = requests.get(data_request_url, params=params, auth=(USERNAME, TOKEN))\n",
    "data = r.json()\n",
    "\n",
    "df = pd.DataFrame() # Setup empty array\n",
    "for d in data:\n",
    "  df = df.append({\n",
    "      'deployment': d['deploymentNumber'],\n",
    "      'start': convert_time(d['eventStartTime']),\n",
    "      'stop': convert_time(d['eventStopTime']),\n",
    "      'latitude': d['location']['latitude'],\n",
    "      'longitude': d['location']['longitude'],\n",
    "      'sensor': d['sensor']['uid'],\n",
    "      'asset_id': d['sensor']['assetId'],\n",
    "    }, ignore_index=True)\n",
    "df"
   ],
   "execution_count": null,
   "outputs": []
  },
  {
   "metadata": {},
   "cell_type": "code",
   "source": [
    ""
   ],
   "execution_count": null,
   "outputs": []
  },
  {
   "metadata": {},
   "cell_type": "markdown",
   "source": [
    "Next, the Bulk Meteorology Instrument Package"
   ]
  },
  {
   "metadata": {},
   "cell_type": "code",
   "source": [
    "# Setup Instrument Variables for Inshore Surface Mooring BulkMet for entire time record\n",
    "#CP03ISSM-SBD11-06-METBKA000\n",
    "\n",
    "\n",
    "subsite = 'CP03ISSM'\n",
    "node = 'SBD11'\n",
    "sensor = '06-METBKA000'\n",
    "method = 'recovered_host'\n",
    "stream = 'metbk_a_dcl_instrument_recovered'\n",
    "beginDT = '2014-12-15T01:01:01.500Z' # this time range encompasses all three deployments of this instrument.\n",
    "endDT = '2018-05-22T01:01:01.500Z'"
   ],
   "execution_count": null,
   "outputs": []
  },
  {
   "metadata": {},
   "cell_type": "code",
   "source": [
    "# Setup the API request url\n",
    "data_request_url = ASSET_API + '/events/deployment/query'\n",
    "params = {\n",
    "  'beginDT':'2017-01-01T00:00:00.000Z',\n",
    "  'endDT':'2018-01-01T00:00:00.000Z',\n",
    "  'refdes':subsite+'-'+node+'-'+sensor,   \n",
    "}\n",
    "\n",
    "# Grab the information from the server\n",
    "r = requests.get(data_request_url, params=params, auth=(USERNAME, TOKEN))\n",
    "data = r.json()\n",
    "\n",
    "df = pd.DataFrame() # Setup empty array\n",
    "for d in data:\n",
    "  df = df.append({\n",
    "      'deployment': d['deploymentNumber'],\n",
    "      'start': convert_time(d['eventStartTime']),\n",
    "      'stop': convert_time(d['eventStopTime']),\n",
    "      'latitude': d['location']['latitude'],\n",
    "      'longitude': d['location']['longitude'],\n",
    "      'sensor': d['sensor']['uid'],\n",
    "      'asset_id': d['sensor']['assetId'],\n",
    "    }, ignore_index=True)\n",
    "df"
   ],
   "execution_count": null,
   "outputs": []
  },
  {
   "metadata": {},
   "cell_type": "code",
   "source": [
    ""
   ],
   "execution_count": null,
   "outputs": []
  },
  {
   "metadata": {},
   "cell_type": "markdown",
   "source": [
    "Lastly, the ADCP from the Central Surface Mooring"
   ]
  },
  {
   "metadata": {},
   "cell_type": "code",
   "source": [
    "# Setup Instrument Variables\n",
    "#CP01CNSM-MFD35-01-ADCPTF000\n",
    "\n",
    "\n",
    "subsite = 'CP01CNSM'\n",
    "node = 'MFD35'\n",
    "sensor = '01-ADCPTF000'\n",
    "method = 'telemetered'\n",
    "stream = 'adcpt_acfgm_pd8_dcl_instrument' \n",
    "beginDT = '2013-11-21T18:15:00.000Z' # this time range encompasses all three deployments of this instrument.\n",
    "endDT = '2018-03-28T12:02:39.100Z'"
   ],
   "execution_count": null,
   "outputs": []
  },
  {
   "metadata": {},
   "cell_type": "code",
   "source": [
    "# Setup the API request url\n",
    "data_request_url = ASSET_API + '/events/deployment/query'\n",
    "params = {\n",
    "  'beginDT':'2017-01-01T00:00:00.000Z',\n",
    "  'endDT':'2018-01-01T00:00:00.000Z',\n",
    "  'refdes':subsite+'-'+node+'-'+sensor,   \n",
    "}\n",
    "\n",
    "# Grab the information from the server\n",
    "r = requests.get(data_request_url, params=params, auth=(USERNAME, TOKEN))\n",
    "data = r.json()\n",
    "\n",
    "df = pd.DataFrame() # Setup empty array\n",
    "for d in data:\n",
    "  df = df.append({\n",
    "      'deployment': d['deploymentNumber'],\n",
    "      'start': convert_time(d['eventStartTime']),\n",
    "      'stop': convert_time(d['eventStopTime']),\n",
    "      'latitude': d['location']['latitude'],\n",
    "      'longitude': d['location']['longitude'],\n",
    "      'sensor': d['sensor']['uid'],\n",
    "      'asset_id': d['sensor']['assetId'],\n",
    "    }, ignore_index=True)\n",
    "df"
   ],
   "execution_count": null,
   "outputs": []
  },
  {
   "metadata": {},
   "cell_type": "code",
   "source": [
    ""
   ],
   "execution_count": null,
   "outputs": []
  },
  {
   "metadata": {},
   "cell_type": "markdown",
   "source": [
    "### 3.3 Calibration Information\n",
    "When the system delivers data, it often uses a number of calibration coefficients to generated derived data products.\n",
    "\n",
    "Because the asset API can return confusing results, we will limit the search to just one day within the deployment time range."
   ]
  },
  {
   "metadata": {},
   "cell_type": "markdown",
   "source": [
    "First, the CTD"
   ]
  },
  {
   "metadata": {},
   "cell_type": "code",
   "source": [
    "# Setup Instrument Variables for Inshore Surface Mooring CTD for entire time record\n",
    "\n",
    "subsite = 'CP03ISSM'\n",
    "node = 'RID27'\n",
    "sensor = '03-CTDBPC000'\n",
    "method = 'recovered_inst'\n",
    "stream = 'ctdbp_cdef_instrument_recovered'\n",
    "beginDT = '2015-05-10T01:01:01.500Z' # this time range encompasses all three deployments of this instrument.\n",
    "endDT = '2018-05-22T01:01:01.500Z'"
   ],
   "execution_count": null,
   "outputs": []
  },
  {
   "metadata": {},
   "cell_type": "code",
   "source": [
    "# Setup the API request url\n",
    "data_request_url = ASSET_API + '/asset/cal'\n",
    "params = {\n",
    "  'beginDT':'2017-07-01T00:00:00.000Z',\n",
    "  'endDT':'2017-07-02T00:00:00.000Z',\n",
    "  'refdes':subsite+'-'+node+'-'+sensor,\n",
    "}\n",
    "\n",
    "# Grab the information from the server\n",
    "r = requests.get(data_request_url, params=params, auth=(USERNAME, TOKEN))\n",
    "data = r.json()\n",
    "\n",
    "# Reformat the data into a pretty table\n",
    "df = pd.DataFrame() # Setup empty array\n",
    "for d in data:\n",
    "  for dd in d['sensor']['calibration']:\n",
    "    for ddd in dd['calData']:\n",
    "      df = df.append({\n",
    "        'value': ddd['value'],\n",
    "        'start': convert_time(ddd['eventStartTime']),\n",
    "        'stop': convert_time(ddd['eventStopTime']),\n",
    "        'name': ddd['eventName'],\n",
    "        'assetUid': ddd['assetUid'],\n",
    "        }, ignore_index=True)\n",
    "    \n",
    "df = df.sort_values(by=['start','name'])\n",
    "df\n"
   ],
   "execution_count": null,
   "outputs": []
  },
  {
   "metadata": {},
   "cell_type": "code",
   "source": [
    ""
   ],
   "execution_count": null,
   "outputs": []
  },
  {
   "metadata": {},
   "cell_type": "markdown",
   "source": [
    "Next, the Bulk Meteorology Instrument Package"
   ]
  },
  {
   "metadata": {},
   "cell_type": "code",
   "source": [
    "# Setup Instrument Variables for Inshore Surface Mooring BulkMet for entire time record\n",
    "#CP03ISSM-SBD11-06-METBKA000\n",
    "\n",
    "\n",
    "subsite = 'CP03ISSM'\n",
    "node = 'SBD11'\n",
    "sensor = '06-METBKA000'\n",
    "method = 'recovered_host'\n",
    "stream = 'metbk_a_dcl_instrument_recovered'\n",
    "beginDT = '2014-12-15T01:01:01.500Z' # this time range encompasses all three deployments of this instrument.\n",
    "endDT = '2018-05-22T01:01:01.500Z'"
   ],
   "execution_count": null,
   "outputs": []
  },
  {
   "metadata": {},
   "cell_type": "code",
   "source": [
    "# Setup the API request url\n",
    "data_request_url = ASSET_API + '/asset/cal'\n",
    "params = {\n",
    "  'beginDT':'2017-07-01T00:00:00.000Z',\n",
    "  'endDT':'2017-07-02T00:00:00.000Z',\n",
    "  'refdes':subsite+'-'+node+'-'+sensor,\n",
    "}\n",
    "\n",
    "# Grab the information from the server\n",
    "r = requests.get(data_request_url, params=params, auth=(USERNAME, TOKEN))\n",
    "data = r.json()\n",
    "\n",
    "# Reformat the data into a pretty table\n",
    "df = pd.DataFrame() # Setup empty array\n",
    "for d in data:\n",
    "  for dd in d['sensor']['calibration']:\n",
    "    for ddd in dd['calData']:\n",
    "      df = df.append({\n",
    "        'value': ddd['value'],\n",
    "        'start': convert_time(ddd['eventStartTime']),\n",
    "        'stop': convert_time(ddd['eventStopTime']),\n",
    "        'name': ddd['eventName'],\n",
    "        'assetUid': ddd['assetUid'],\n",
    "        }, ignore_index=True)\n",
    "    \n",
    "df = df.sort_values(by=['start','name'])\n",
    "df\n"
   ],
   "execution_count": null,
   "outputs": []
  },
  {
   "metadata": {},
   "cell_type": "code",
   "source": [
    ""
   ],
   "execution_count": null,
   "outputs": []
  },
  {
   "metadata": {},
   "cell_type": "markdown",
   "source": [
    "Lastly, the ADCP from the Central Surface Mooring"
   ]
  },
  {
   "metadata": {},
   "cell_type": "code",
   "source": [
    "# Setup Instrument Variables\n",
    "#CP01CNSM-MFD35-01-ADCPTF000\n",
    "\n",
    "\n",
    "subsite = 'CP01CNSM'\n",
    "node = 'MFD35'\n",
    "sensor = '01-ADCPTF000'\n",
    "method = 'telemetered'\n",
    "stream = 'adcpt_acfgm_pd8_dcl_instrument' \n",
    "beginDT = '2013-11-21T18:15:00.000Z' # this time range encompasses all three deployments of this instrument.\n",
    "endDT = '2018-03-28T12:02:39.100Z'"
   ],
   "execution_count": null,
   "outputs": []
  },
  {
   "metadata": {},
   "cell_type": "code",
   "source": [
    "# Setup the API request url\n",
    "data_request_url = ASSET_API + '/asset/cal'\n",
    "params = {\n",
    "  'beginDT':'2017-07-01T00:00:00.000Z',\n",
    "  'endDT':'2017-07-02T00:00:00.000Z',\n",
    "  'refdes':subsite+'-'+node+'-'+sensor,\n",
    "}\n",
    "\n",
    "# Grab the information from the server\n",
    "r = requests.get(data_request_url, params=params, auth=(USERNAME, TOKEN))\n",
    "data = r.json()\n",
    "\n",
    "# Reformat the data into a pretty table\n",
    "df = pd.DataFrame() # Setup empty array\n",
    "for d in data:\n",
    "  for dd in d['sensor']['calibration']:\n",
    "    for ddd in dd['calData']:\n",
    "      df = df.append({\n",
    "        'value': ddd['value'],\n",
    "        'start': convert_time(ddd['eventStartTime']),\n",
    "        'stop': convert_time(ddd['eventStopTime']),\n",
    "        'name': ddd['eventName'],\n",
    "        'assetUid': ddd['assetUid'],\n",
    "        }, ignore_index=True)\n",
    "    \n",
    "df = df.sort_values(by=['start','name'])\n",
    "df\n"
   ],
   "execution_count": null,
   "outputs": []
  },
  {
   "metadata": {},
   "cell_type": "markdown",
   "source": [
    "### 3.4 Annotations\n",
    "Finally, let's pull any relevant annotations for these instruments"
   ]
  },
  {
   "metadata": {},
   "cell_type": "markdown",
   "source": [
    "For the CTD,"
   ]
  },
  {
   "metadata": {},
   "cell_type": "code",
   "source": [
    "# Setup Instrument Variables for Inshore Surface Mooring CTD for entire time record\n",
    "\n",
    "subsite = 'CP03ISSM'\n",
    "node = 'RID27'\n",
    "sensor = '03-CTDBPC000'\n",
    "method = 'recovered_inst'\n",
    "stream = 'ctdbp_cdef_instrument_recovered'\n",
    "beginDT = '2015-05-10T01:01:01.500Z' # this time range encompasses all three deployments of this instrument.\n",
    "endDT = '2018-05-22T01:01:01.500Z'"
   ],
   "execution_count": null,
   "outputs": []
  },
  {
   "metadata": {},
   "cell_type": "code",
   "source": [
    "ANNO_API = 'https://ooinet.oceanobservatories.org/api/m2m/12580/anno/find'\n",
    "params = {\n",
    "  'beginDT':int(datetime.date(2017,1,1).strftime('%s'))*1000,\n",
    "  'endDT':int(datetime.date(2018,1,1).strftime('%s'))*1000,\n",
    "  'refdes':subsite+'-'+node+'-'+sensor,\n",
    "}\n",
    "\n",
    "r = requests.get(ANNO_API, params=params, auth=(USERNAME, TOKEN))\n",
    "data = r.json()\n",
    "\n",
    "df = pd.DataFrame() # Setup empty array\n",
    "for d in data:\n",
    "  df = df.append({\n",
    "    'annotation': d['annotation'],\n",
    "    'start': convert_time(d['beginDT']),\n",
    "    'stop': convert_time(d['endDT']),\n",
    "    'site': d['subsite'],\n",
    "    'node': d['node'],\n",
    "    'sensor': d['sensor'],\n",
    "    'id': d['id']\n",
    "  }, ignore_index=True)\n",
    "pd.set_option('display.max_colwidth', -1) # Show the full annotation text\n",
    "df"
   ],
   "execution_count": null,
   "outputs": []
  },
  {
   "metadata": {},
   "cell_type": "markdown",
   "source": [
    "Note that for this CTD, data is not expected for Deployment 5 and there are a few data gaps under investigation"
   ]
  },
  {
   "metadata": {},
   "cell_type": "markdown",
   "source": [
    "For the Bulk Meteorology Instrument Package,"
   ]
  },
  {
   "metadata": {},
   "cell_type": "code",
   "source": [
    "# Setup Instrument Variables for Inshore Surface Mooring BulkMet for entire time record\n",
    "#CP03ISSM-SBD11-06-METBKA000\n",
    "\n",
    "\n",
    "subsite = 'CP03ISSM'\n",
    "node = 'SBD11'\n",
    "sensor = '06-METBKA000'\n",
    "method = 'recovered_host'\n",
    "stream = 'metbk_a_dcl_instrument_recovered'\n",
    "beginDT = '2014-12-15T01:01:01.500Z' # this time range encompasses all three deployments of this instrument.\n",
    "endDT = '2018-05-22T01:01:01.500Z'"
   ],
   "execution_count": null,
   "outputs": []
  },
  {
   "metadata": {},
   "cell_type": "code",
   "source": [
    "ANNO_API = 'https://ooinet.oceanobservatories.org/api/m2m/12580/anno/find'\n",
    "params = {\n",
    "  'beginDT':int(datetime.date(2017,1,1).strftime('%s'))*1000,\n",
    "  'endDT':int(datetime.date(2018,1,1).strftime('%s'))*1000,\n",
    "  'refdes':subsite+'-'+node+'-'+sensor,\n",
    "}\n",
    "\n",
    "r = requests.get(ANNO_API, params=params, auth=(USERNAME, TOKEN))\n",
    "data = r.json()\n",
    "\n",
    "df = pd.DataFrame() # Setup empty array\n",
    "for d in data:\n",
    "  df = df.append({\n",
    "    'annotation': d['annotation'],\n",
    "    'start': convert_time(d['beginDT']),\n",
    "    'stop': convert_time(d['endDT']),\n",
    "    'site': d['subsite'],\n",
    "    'node': d['node'],\n",
    "    'sensor': d['sensor'],\n",
    "    'id': d['id']\n",
    "  }, ignore_index=True)\n",
    "pd.set_option('display.max_colwidth', -1) # Show the full annotation text\n",
    "df"
   ],
   "execution_count": null,
   "outputs": []
  },
  {
   "metadata": {},
   "cell_type": "markdown",
   "source": [
    "Note, there are no annotations for this instrument"
   ]
  },
  {
   "metadata": {},
   "cell_type": "markdown",
   "source": [
    "Lastly, the ADCP on the Central Surface Mooring"
   ]
  },
  {
   "metadata": {},
   "cell_type": "code",
   "source": [
    "# Setup Instrument Variables\n",
    "#CP01CNSM-MFD35-01-ADCPTF000\n",
    "\n",
    "\n",
    "subsite = 'CP01CNSM'\n",
    "node = 'MFD35'\n",
    "sensor = '01-ADCPTF000'\n",
    "method = 'telemetered'\n",
    "stream = 'adcpt_acfgm_pd8_dcl_instrument' \n",
    "beginDT = '2013-11-21T18:15:00.000Z' # this time range encompasses all three deployments of this instrument.\n",
    "endDT = '2018-03-28T12:02:39.100Z'"
   ],
   "execution_count": null,
   "outputs": []
  },
  {
   "metadata": {},
   "cell_type": "code",
   "source": [
    "ANNO_API = 'https://ooinet.oceanobservatories.org/api/m2m/12580/anno/find'\n",
    "params = {\n",
    "  'beginDT':int(datetime.date(2017,1,1).strftime('%s'))*1000,\n",
    "  'endDT':int(datetime.date(2018,1,1).strftime('%s'))*1000,\n",
    "  'refdes':subsite+'-'+node+'-'+sensor,\n",
    "}\n",
    "\n",
    "r = requests.get(ANNO_API, params=params, auth=(USERNAME, TOKEN))\n",
    "data = r.json()\n",
    "\n",
    "df = pd.DataFrame() # Setup empty array\n",
    "for d in data:\n",
    "  df = df.append({\n",
    "    'annotation': d['annotation'],\n",
    "    'start': convert_time(d['beginDT']),\n",
    "    'stop': convert_time(d['endDT']),\n",
    "    'site': d['subsite'],\n",
    "    'node': d['node'],\n",
    "    'sensor': d['sensor'],\n",
    "    'id': d['id']\n",
    "  }, ignore_index=True)\n",
    "pd.set_option('display.max_colwidth', -1) # Show the full annotation text\n",
    "df"
   ],
   "execution_count": null,
   "outputs": []
  },
  {
   "metadata": {},
   "cell_type": "markdown",
   "source": [
    "Note that there are two losses of power on the Node that this instrument was attached to. This results in gaps in the data at the noted times shown above."
   ]
  },
  {
   "metadata": {},
   "cell_type": "markdown",
   "source": [
    "## 4. The full dataset\n",
    "Now let's take a look at a large range of data for each instrument.   First we need to add some additional libraries to our Python environment."
   ]
  },
  {
   "metadata": {},
   "cell_type": "code",
   "source": [
    "import matplotlib.pyplot as plt\n",
    "\n",
    "!pip install netCDF4\n",
    "import netCDF4 as nc\n",
    "\n",
    "!pip install xarray\n",
    "import xarray as xr\n",
    "\n",
    "!pip install cmocean\n",
    "import cmocean\n",
    "\n",
    "!pip install dask\n",
    "import dask"
   ],
   "execution_count": null,
   "outputs": []
  },
  {
   "metadata": {},
   "cell_type": "code",
   "source": [
    "import re\n",
    "import os"
   ],
   "execution_count": null,
   "outputs": []
  },
  {
   "metadata": {},
   "cell_type": "markdown",
   "source": [
    "For simplicity, the OOI API was previously used to download all available data for each instrument to a THREDDS server.  Using these data file URLs, a few different plots are created to better understand the available data."
   ]
  },
  {
   "metadata": {},
   "cell_type": "markdown",
   "source": [
    "First, data from the Inshore Surface Mooring CTD will be looked at"
   ]
  },
  {
   "metadata": {},
   "cell_type": "code",
   "source": [
    "#THREDDS server URL insert under \"url\"\n",
    "url='https://opendap.oceanobservatories.org/thredds/catalog/ooi/jRudzin@rsmas.miami.edu/20180523T144821-CP03ISSM-RID27-03-CTDBPC000-recovered_inst-ctdbp_cdef_instrument_recovered/catalog.html'\n",
    "tds_url = 'https://opendap.oceanobservatories.org/thredds/dodsC'\n",
    "datasets = requests.get(url).text\n",
    "urls = re.findall(r'href=[\\'\"]?([^\\'\" >]+)', datasets)\n",
    "x = re.findall(r'(ooi/.*?.nc)', datasets)\n",
    "for i in x:\n",
    "    if i.endswith('.nc') == False:\n",
    "        x.remove(i)\n",
    "for i in x:\n",
    "    try:\n",
    "        float(i[-4])\n",
    "    except:\n",
    "        x.remove(i)\n",
    "datasets = [os.path.join(tds_url, i) for i in x]\n",
    "datasets"
   ],
   "execution_count": null,
   "outputs": []
  },
  {
   "metadata": {},
   "cell_type": "markdown",
   "source": [
    "These are all links to the deployment data for this instrument"
   ]
  },
  {
   "metadata": {},
   "cell_type": "markdown",
   "source": [
    "Load the list of NetCDF files into xarray. Note that this datasets has two dimensions, time and bin. Some variables are dimensioned along just time, others along both time and bin number"
   ]
  },
  {
   "metadata": {},
   "cell_type": "code",
   "source": [
    "ds = xr.open_mfdataset(datasets)\n",
    "ds = ds.swap_dims({'obs': 'time'})\n",
    "#ds = ds.chunk({'time': 100})\n",
    "ds = ds.sortby('time') # data from different deployments can overlap so we want to sort all data by time stamp.\n",
    "ds"
   ],
   "execution_count": null,
   "outputs": []
  },
  {
   "metadata": {},
   "cell_type": "markdown",
   "source": [
    "Let's create a quick timeseries plot of temperature for the entire data record"
   ]
  },
  {
   "metadata": {},
   "cell_type": "code",
   "source": [
    "fig, ax = plt.subplots(1)\n",
    "fig.set_size_inches(16, 6)\n",
    "ds['ctdbp_seawater_temperature'].plot(linestyle = 'None', \n",
    "                                   marker='.', \n",
    "                                   markersize=1,\n",
    "                                   ax=ax)\n",
    "ax.grid()\n",
    "\n",
    "plt.title('Pioneer Inshore Surface Mooring CTD (7 m)')\n",
    "plt.ylabel('Temperature (C)')\n",
    "plt.xlabel('Time \\n Deployments 2 - 8')\n",
    "plt.show()"
   ],
   "execution_count": null,
   "outputs": []
  },
  {
   "metadata": {},
   "cell_type": "markdown",
   "source": [
    "One can see the gaps in data of temperature between deployments. Since this CTD sits at 7m, we will use Sea Surface Temperature (SST) from the Bulk Meteorology instrument to cross-validate this time series (see further below)."
   ]
  },
  {
   "metadata": {},
   "cell_type": "markdown",
   "source": [
    "Next, let's plot a timeseries of salinity for the entire record"
   ]
  },
  {
   "metadata": {},
   "cell_type": "code",
   "source": [
    "fig, ax = plt.subplots(1)\n",
    "fig.set_size_inches(16, 6)\n",
    "ds['practical_salinity'].plot(linestyle = 'None', \n",
    "                                   marker='.', \n",
    "                                   markersize=1,\n",
    "                                   ax=ax)\n",
    "ax.grid()\n",
    "\n",
    "plt.title('Pioneer Inshore Surface Mooring CTD (7 m)')\n",
    "plt.ylabel('Salinity (psu)')\n",
    "plt.xlabel('Time \\n Deployments 2 - 8')\n",
    "plt.show()"
   ],
   "execution_count": null,
   "outputs": []
  },
  {
   "metadata": {},
   "cell_type": "markdown",
   "source": [
    "Again, one can see the gaps in salinity between deployments.Again, we will use Sea Surface Salinity (SSS) from the Bulk Meteorology instrument to cross-validate this time series (see further below)."
   ]
  },
  {
   "metadata": {},
   "cell_type": "markdown",
   "source": [
    "Next, we will move on to the Bulk Meteorology Instrument Package from the Inshore Surface Mooring. From this instrument, we will grab and plot timeseries of SST, SSS, wind speed/direction, and surface current speed/direction."
   ]
  },
  {
   "metadata": {},
   "cell_type": "code",
   "source": [
    "#THREDDS server URL insert under \"url\"\n",
    "url='https://opendap.oceanobservatories.org/thredds/catalog/ooi/jRudzin@rsmas.miami.edu/20180524T154603-CP03ISSM-SBD11-06-METBKA000-recovered_host-metbk_a_dcl_instrument_recovered/catalog.html'\n",
    "tds_url = 'https://opendap.oceanobservatories.org/thredds/dodsC'\n",
    "datasets = requests.get(url).text\n",
    "urls = re.findall(r'href=[\\'\"]?([^\\'\" >]+)', datasets)\n",
    "x = re.findall(r'(ooi/.*?.nc)', datasets)\n",
    "for i in x:\n",
    "    if i.endswith('.nc') == False:\n",
    "        x.remove(i)\n",
    "for i in x:\n",
    "    try:\n",
    "        float(i[-4])\n",
    "    except:\n",
    "        x.remove(i)\n",
    "datasets = [os.path.join(tds_url, i) for i in x]\n",
    "datasets"
   ],
   "execution_count": null,
   "outputs": []
  },
  {
   "metadata": {},
   "cell_type": "markdown",
   "source": [
    "Load the list of NetCDF files into xarray. Note that this datasets has two dimensions, time and bin. Some variables are dimensioned along just time, others along both time and bin number. The data from the meterology instrument (metbk) are located at every other file in the list above. The other files are from the single point velocity instrument. Thus, the code below concatenates data from every other file to create a full data record from metbk."
   ]
  },
  {
   "metadata": {},
   "cell_type": "code",
   "source": [
    "ds = xr.open_mfdataset(datasets[::2])\n",
    "ds = ds.swap_dims({'obs': 'time'})\n",
    "#ds = ds.chunk({'time': 100})\n",
    "ds = ds.sortby('time') # data from different deployments can overlap so we want to sort all data by time stamp.\n",
    "ds"
   ],
   "execution_count": null,
   "outputs": []
  },
  {
   "metadata": {},
   "cell_type": "markdown",
   "source": [
    "Now, let's plot some time series from this instrument. First, let's plot SST and SSS to validate the 7m CTD temperature and salinity.."
   ]
  },
  {
   "metadata": {},
   "cell_type": "code",
   "source": [
    "plt.close()\n",
    "fig, axes = plt.subplots(2, sharex=True)\n",
    "fig.set_size_inches(16, 6)\n",
    "\n",
    "axes[0].plot(ds['time'].data,ds['sea_surface_temperature'])\n",
    "axes[0].set_ylabel('Sea Surface Temperature (C)')\n",
    "\n",
    "axes[1].plot(ds['time'].data,ds['met_salsurf'])\n",
    "axes[1].set_ylabel('Sea Surface Salinity (psu)')\n",
    "\n",
    "\n",
    "plt.xlabel('Time \\n')\n",
    "plt.show()"
   ],
   "execution_count": null,
   "outputs": []
  },
  {
   "metadata": {},
   "cell_type": "markdown",
   "source": [
    "The overall trend in SST is captured in the 7m CTD with the peak temperatures occuring in both September 2015 and 2016 and minimum temperatures in March 2016 and 2017.\n",
    "\n",
    "The overall trend in SSS is captured in the 7m CTD, especially the very salty peak in fall 2016. The very fresh dip in SSS observed on 01-2017 is not captured within the 7m CTD on the same mooring. Hence, it might be that this is a fresh water surface lense possibly induced by rainfall or river discharge."
   ]
  },
  {
   "metadata": {},
   "cell_type": "code",
   "source": [
    "import numpy as np"
   ],
   "execution_count": null,
   "outputs": []
  },
  {
   "metadata": {},
   "cell_type": "markdown",
   "source": [
    "Let's also do a quick timeseries of the full record of wind speed, wind direction, current speed, and current direction from the meteorology instrument package."
   ]
  },
  {
   "metadata": {},
   "cell_type": "code",
   "source": [
    "X=ds['time'].data\n",
    "Y=np.ones(X.shape)\n",
    "uwind=ds['eastward_wind_velocity'].data\n",
    "vwind=ds['northward_wind_velocity'].data\n",
    "\n",
    "ucurr=ds['eastward_velocity'].data\n",
    "vcurr=ds['northward_velocity'].data"
   ],
   "execution_count": null,
   "outputs": []
  },
  {
   "metadata": {},
   "cell_type": "code",
   "source": [
    "plt.close()\n",
    "fig, axes = plt.subplots(2, sharex=True)\n",
    "fig.set_size_inches(20, 12)\n",
    "\n",
    "axes[0].plot(ds['time'].data,ds['met_relwind_speed'])\n",
    "axes[0].set_ylabel('Wind Speed (m/s)')\n",
    "\n",
    "#Q=plt.quiver(X,Y,uwind,vwind,units='width')\n",
    "\n",
    "#axes[1].plot(ds['time'].data,ds['met_relwind_direction'])\n",
    "#axes[1].set_ylabel('3m Wind Direction (deg)')\n",
    "\n",
    "#axes[1].plot.quiver(X, Y, uwind, vwind, units='width')\n",
    "#axes[1].set_ylabel('Wind Direction (deg)')\n",
    "\n",
    "axes[1].plot(ds['time'].data,ds['met_current_speed'])\n",
    "axes[1].set_ylabel('Surface Current Speed (m/s)')\n",
    "\n",
    "#Q=plt.quiver(X,Y,ucurr,vcurr,units='width')\n",
    "\n",
    "#axes[3].plot(ds['time'].data,ds['met_current_direction'])\n",
    "#axes[3].set_ylabel('Surface Current Direction (deg)')\n",
    "#axes[3].plot.quiver(X, Y, ucurr, vcurr, units='width')\n",
    "#axes[3].set_ylabel('Surface Current Direction (deg)')\n",
    "\n",
    "\n",
    "plt.xlabel('Time \\n')\n",
    "plt.show()"
   ],
   "execution_count": null,
   "outputs": []
  },
  {
   "metadata": {},
   "cell_type": "markdown",
   "source": [
    "Lastly, let's plot the full data record from an ADCP that is on the Central Surface Mooring. This one was chosen given the Inshore Surface Moorings' ADCP does not cover the case study at the end of this report."
   ]
  },
  {
   "metadata": {},
   "cell_type": "code",
   "source": [
    "#THREDDS server URL insert under \"url\"\n",
    "url='https://opendap.oceanobservatories.org/thredds/catalog/ooi/jRudzin@rsmas.miami.edu/20180524T135503-CP01CNSM-MFD35-01-ADCPTF000-telemetered-adcpt_acfgm_pd8_dcl_instrument/catalog.html'\n",
    "tds_url = 'https://opendap.oceanobservatories.org/thredds/dodsC'\n",
    "datasets = requests.get(url).text\n",
    "urls = re.findall(r'href=[\\'\"]?([^\\'\" >]+)', datasets)\n",
    "x = re.findall(r'(ooi/.*?.nc)', datasets)\n",
    "for i in x:\n",
    "    if i.endswith('.nc') == False:\n",
    "        x.remove(i)\n",
    "for i in x:\n",
    "    try:\n",
    "        float(i[-4])\n",
    "    except:\n",
    "        x.remove(i)\n",
    "datasets = [os.path.join(tds_url, i) for i in x]\n",
    "datasets"
   ],
   "execution_count": null,
   "outputs": []
  },
  {
   "metadata": {},
   "cell_type": "markdown",
   "source": [
    "There was an issue concatenating Deployment 1 data with the rest of the deployment data so it was left out. Presented will be data from Deployments 2-7 as the \"full\" data record."
   ]
  },
  {
   "metadata": {},
   "cell_type": "code",
   "source": [
    "ds = xr.open_mfdataset(datasets[0:6])\n",
    "ds = ds.swap_dims({'obs': 'time'})\n",
    "ds = ds.sortby('time')\n",
    "ds"
   ],
   "execution_count": null,
   "outputs": []
  },
  {
   "metadata": {},
   "cell_type": "markdown",
   "source": [
    "Note that the ADCP variable \"bin-depth\" does not exist. Also, there is no pressure data. Thus, to continue with the dataset a bin depths were estimated from the deployment depth and number of bins. In correspondence with Craig Risien (OSU), he stated that this issue was fixed for newer deployments."
   ]
  },
  {
   "metadata": {},
   "cell_type": "code",
   "source": [
    "time = ds['time'].data\n",
    "#bin_depths = ds['bin_depths'].data.T\n",
    "east = ds['adcps_pd12_eastward_seawater_velocity'].data.T\n",
    "north = ds['adcps_pd12_northward_seawater_velocity'].data.T\n",
    "up = ds['upward_earth_seawater_velocity'].data.T"
   ],
   "execution_count": null,
   "outputs": []
  },
  {
   "metadata": {},
   "cell_type": "markdown",
   "source": [
    "To screen out surface noise velocities we will set the colorbar limit to the 90th percentile of the data."
   ]
  },
  {
   "metadata": {},
   "cell_type": "code",
   "source": [
    "lim_east = float(\"%2.2f\" % np.nanpercentile(east, 90))\n",
    "lim_north = float(\"%2.2f\" % np.nanpercentile(north, 90))\n",
    "lim_up = float(\"%2.2f\" % np.nanpercentile(up, 90))\n",
    "u_v_w = max([lim_east, lim_north, lim_up])"
   ],
   "execution_count": null,
   "outputs": []
  },
  {
   "metadata": {},
   "cell_type": "markdown",
   "source": [
    "Plotting the velocity data and creating a depth range within this code. Note, the deployment depth of 133m is shown in the ymax and ylim parts of this code and is used to create an array for depth named \"bin_depths\"."
   ]
  },
  {
   "metadata": {},
   "cell_type": "code",
   "source": [
    "plt.close()\n",
    "fig, axes = plt.subplots(3, sharex=True)\n",
    "fig.set_size_inches(20, 9)\n",
    "\n",
    "ny, nx = 36,len(time)\n",
    "xmin, xmax = 0, len(time)\n",
    "ymin, ymax = -133, 0\n",
    "xi = np.linspace(xmin, xmax, nx)\n",
    "yi = np.linspace(ymin, ymax, ny)\n",
    "x_i, y_i = np.meshgrid(time, yi)\n",
    "bin_depths = np.asarray(y_i)\n",
    "print bin_depths.shape\n",
    "\n",
    "p0 = axes[0].pcolormesh(time, bin_depths, east, cmap='RdBu',vmin=-u_v_w,vmax=u_v_w)\n",
    "axes[0].set_ylim(-133,0)\n",
    "axes[0].set_title('Eastward Velocity (u)')\n",
    "#axes[0].invert_yaxis()\n",
    "\n",
    "p1 = axes[1].pcolormesh(time, bin_depths, north, cmap='RdBu',vmin=-u_v_w,vmax=u_v_w)\n",
    "axes[1].set_title('Northward Velocity (v)')\n",
    "axes[1].set_ylim(-133,0)\n",
    "#axes[1].invert_yaxis()\n",
    "axes[1].set_ylabel('Depth')\n",
    "\n",
    "p2 = axes[2].pcolormesh(time, bin_depths, up, cmap='RdBu',vmin=-u_v_w,vmax=u_v_w)\n",
    "axes[2].set_title('Upward Velocity (w)')\n",
    "axes[2].set_ylim(-133,0)\n",
    "#axes[2].invert_yaxis()\n",
    "axes[2].set_xlabel('Time')\n",
    "\n",
    "fig.colorbar(p0,ax=axes.ravel().tolist(), label='m/s')\n",
    "\n",
    "plt.show()"
   ],
   "execution_count": null,
   "outputs": []
  },
  {
   "metadata": {},
   "cell_type": "markdown",
   "source": [
    "Notice the large gaps between the \"noisy\" data. These are actually interpolated from the plotting code. The noisy data is \"good\" data for differing deployments. Let's zoom in on these to get a better look since this plot doesn't show velocities clearly. Plotting the time variable helps to figure out the index to plot at these times."
   ]
  },
  {
   "metadata": {},
   "cell_type": "code",
   "source": [
    "plt.plot(time)"
   ],
   "execution_count": null,
   "outputs": []
  },
  {
   "metadata": {},
   "cell_type": "markdown",
   "source": [
    "Let's take a look at time 3000-4000"
   ]
  },
  {
   "metadata": {},
   "cell_type": "code",
   "source": [
    "plt.close()\n",
    "fig, axes = plt.subplots(3, sharex=True)\n",
    "fig.set_size_inches(20, 9)\n",
    "\n",
    "ny, nx = 36,len(time)\n",
    "xmin, xmax = 0, len(time)\n",
    "ymin, ymax = -133, 0\n",
    "xi = np.linspace(xmin, xmax, nx)\n",
    "yi = np.linspace(ymin, ymax, ny)\n",
    "x_i, y_i = np.meshgrid(time, yi)\n",
    "bin_depths = np.asarray(y_i)\n",
    "print bin_depths.shape\n",
    "\n",
    "p0 = axes[0].pcolormesh(time[3000:4000], bin_depths[:,3000:4000], east[:,3000:4000], cmap='RdBu',vmin=-u_v_w,vmax=u_v_w)\n",
    "axes[0].set_ylim(-133,0)\n",
    "axes[0].set_title('Eastward Velocity (u)')\n",
    "#axes[0].invert_yaxis()\n",
    "\n",
    "p1 = axes[1].pcolormesh(time[3000:4000], bin_depths[:,3000:4000], north[:,3000:4000], cmap='RdBu',vmin=-u_v_w,vmax=u_v_w)\n",
    "axes[1].set_title('Northward Velocity (v)')\n",
    "axes[1].set_ylim(-133,0)\n",
    "#axes[1].invert_yaxis()\n",
    "axes[1].set_ylabel('Depth')\n",
    "\n",
    "p2 = axes[2].pcolormesh(time[3000:4000], bin_depths[:,3000:4000], up[:,3000:4000], cmap='RdBu',vmin=-u_v_w,vmax=u_v_w)\n",
    "axes[2].set_title('Upward Velocity (w)')\n",
    "axes[2].set_ylim(-133,0)\n",
    "#axes[2].invert_yaxis()\n",
    "axes[2].set_xlabel('Time')\n",
    "\n",
    "fig.colorbar(p0,ax=axes.ravel().tolist(), label='m/s')\n",
    "\n",
    "plt.show()"
   ],
   "execution_count": null,
   "outputs": []
  },
  {
   "metadata": {},
   "cell_type": "markdown",
   "source": [
    "Note that ,near the surface, data becomes quite noisy, which is expected. This ADCP data was first looked at on the OOI Data Portal and these data seem to be similar but one issue that was found that the \"bin_depth\" variable is not plotted accurately in the Data Portal. [This figure](https://ibb.co/dROpvo) is an example of a figure from the Data Portal of eastward velocity from this ADCP for the time of the case study that will be explored. The \"0\" bin_depth should technically be closest to the instrument. SInce this instrument is at the bottom looking up, the 0 bin_depth should be at the bottom of the y axis yet its at the top. Just something to keep in mind when getting a \"first view\" of data using the Data Portal."
   ]
  },
  {
   "metadata": {},
   "cell_type": "markdown",
   "source": [
    "Now lets move on to the specific case study of Extratropical Storm Hermine (2016)"
   ]
  },
  {
   "metadata": {},
   "cell_type": "markdown",
   "source": [
    "## 5. Case Study of Extratropical Storm Hermine (2016)\n",
    "\n",
    "All of the data chosen and showed thus far are to further look into the upper ocean and atmospheric response that occured during the passage of Extratropical Storm Hermine (2016) that passed very close over the Pioneer Mooring Array during the first week of September 2016."
   ]
  },
  {
   "metadata": {},
   "cell_type": "markdown",
   "source": [
    "First, lets look at the temperature and salinity response from the 7m CTD"
   ]
  },
  {
   "metadata": {},
   "cell_type": "code",
   "source": [
    "#THREDDS server URL insert under \"url\"\n",
    "url='https://opendap.oceanobservatories.org/thredds/catalog/ooi/jRudzin-rsmas-miami/20180524T192031-CP03ISSM-RID27-03-CTDBPC000-recovered_inst-ctdbp_cdef_instrument_recovered/catalog.html'\n",
    "tds_url = 'https://opendap.oceanobservatories.org/thredds/dodsC'\n",
    "datasets = requests.get(url).text\n",
    "urls = re.findall(r'href=[\\'\"]?([^\\'\" >]+)', datasets)\n",
    "x = re.findall(r'(ooi/.*?.nc)', datasets)\n",
    "for i in x:\n",
    "    if i.endswith('.nc') == False:\n",
    "        x.remove(i)\n",
    "for i in x:\n",
    "    try:\n",
    "        float(i[-4])\n",
    "    except:\n",
    "        x.remove(i)\n",
    "datasets = [os.path.join(tds_url, i) for i in x]\n",
    "datasets"
   ],
   "execution_count": null,
   "outputs": []
  },
  {
   "metadata": {},
   "cell_type": "code",
   "source": [
    "ds = xr.open_mfdataset(datasets)\n",
    "ds = ds.swap_dims({'obs': 'time'})\n",
    "ds = ds.sortby('time')\n",
    "ds"
   ],
   "execution_count": null,
   "outputs": []
  },
  {
   "metadata": {},
   "cell_type": "code",
   "source": [
    "plt.close()\n",
    "fig, axes = plt.subplots(2, sharex=True)\n",
    "fig.set_size_inches(20, 12)\n",
    "\n",
    "axes[0].plot(ds['time'].data,ds['ctdbp_seawater_temperature'])\n",
    "axes[0].set_ylabel('Temperature (C)')\n",
    "\n",
    "axes[1].plot(ds['time'].data,ds['practical_salinity'])\n",
    "axes[1].set_ylabel('Salinity (C)')\n",
    "\n",
    "plt.title('Pioneer Inshore Surface Mooring CTD (7 m)')\n",
    "plt.xlabel('Time \\n Deployments 2 - 8')\n",
    "plt.show()"
   ],
   "execution_count": null,
   "outputs": []
  },
  {
   "metadata": {},
   "cell_type": "markdown",
   "source": [
    "Through these plots, we can clearly see that the storm initiated upper ocean cooling around the 3rd of September and reached a maximum of 3.5C cooling by September 6. This was accompanied by a \"saltening\" at 7m where deeper, saltier waters were entrained from below. An approximate 1psu change in salinity is observed from Sep 4 - Sep 6. A slight freshening of ~0.2psu is observed from Sep 6-7 which may be due to the storms' precipitation mixing down to the CTD."
   ]
  },
  {
   "metadata": {},
   "cell_type": "code",
   "source": [
    ""
   ],
   "execution_count": null,
   "outputs": []
  },
  {
   "metadata": {},
   "cell_type": "markdown",
   "source": [
    "Let's take a look at the wind speed/dir, current speed/dir, and precipitation to match up to these time series."
   ]
  },
  {
   "metadata": {},
   "cell_type": "code",
   "source": [
    "#THREDDS server URL insert under \"url\"\n",
    "url='https://opendap.oceanobservatories.org/thredds/catalog/ooi/jRudzin-rsmas-miami/20180524T194844-CP03ISSM-SBD11-06-METBKA000-telemetered-metbk_a_dcl_instrument/catalog.html'\n",
    "tds_url = 'https://opendap.oceanobservatories.org/thredds/dodsC'\n",
    "datasets = requests.get(url).text\n",
    "urls = re.findall(r'href=[\\'\"]?([^\\'\" >]+)', datasets)\n",
    "x = re.findall(r'(ooi/.*?.nc)', datasets)\n",
    "for i in x:\n",
    "    if i.endswith('.nc') == False:\n",
    "        x.remove(i)\n",
    "for i in x:\n",
    "    try:\n",
    "        float(i[-4])\n",
    "    except:\n",
    "        x.remove(i)\n",
    "datasets = [os.path.join(tds_url, i) for i in x]\n",
    "datasets"
   ],
   "execution_count": null,
   "outputs": []
  },
  {
   "metadata": {},
   "cell_type": "code",
   "source": [
    "datasets[0]"
   ],
   "execution_count": null,
   "outputs": []
  },
  {
   "metadata": {},
   "cell_type": "code",
   "source": [
    "ds = xr.open_dataset(datasets[0])\n",
    "ds = ds.swap_dims({'obs': 'time'})\n",
    "ds = ds.sortby('time')\n",
    "ds\n"
   ],
   "execution_count": null,
   "outputs": []
  },
  {
   "metadata": {},
   "cell_type": "code",
   "source": [
    "plt.close()\n",
    "fig, axes = plt.subplots(5, sharex=True)\n",
    "fig.set_size_inches(20, 12)\n",
    "\n",
    "axes[0].plot(ds['time'].data,ds['met_relwind_speed'])\n",
    "axes[0].set_ylabel('Wind Speed (m/s)')\n",
    "\n",
    "#Q=plt.quiver(X,Y,uwind,vwind,units='width')\n",
    "\n",
    "#axes[1].plot(ds['time'].data,ds['met_relwind_direction'])\n",
    "#axes[1].set_ylabel('Wind Direction (deg)')\n",
    "\n",
    "#axes[1].plot.quiver(X, Y, uwind, vwind, units='width')\n",
    "#axes[1].set_ylabel('Wind Direction (deg)')\n",
    "\n",
    "axes[1].plot(ds['time'].data,ds['met_current_speed'])\n",
    "axes[1].set_ylabel('Surface Current Speed (m/s)')\n",
    "\n",
    "#axes[3].plot(ds['time'].data,ds['met_current_direction'])\n",
    "#axes[3].set_ylabel('Surface Current Direction (deg)')\n",
    "\n",
    "axes[2].plot(ds['time'].data,ds['precipitation'])\n",
    "axes[2].set_ylabel('Precipitation (mm)')\n",
    "\n",
    "#axes[3].plot(ds['time'].data,ds[''])\n",
    "#axes[3].set_ylabel('Net Heat Flux (W/m^2)')\n",
    "\n",
    "axes[3].plot(ds['time'].data,ds['sea_surface_temperature'])\n",
    "axes[3].set_ylabel('Sea Surface Temperature (C)')\n",
    "\n",
    "axes[4].plot(ds['time'].data,ds['met_salsurf'])\n",
    "axes[4].set_ylabel('Sea Surface Salinity (psu)')\n",
    "\n",
    "plt.xlabel('Time')\n",
    "plt.show()"
   ],
   "execution_count": null,
   "outputs": []
  },
  {
   "metadata": {},
   "cell_type": "markdown",
   "source": [
    "The passage of the storm is clearly seen in wind speed, surface current speed, and in precipitation. Maximum wind speed and current speed show up right before September 6 whereas precipitation hits a maximum in the early morning of September 6. SST cooling is the same magnitude as the 7m CTD however the freshening of SSS is quite larger than 7m salinity (33.2 psu vs 32.5 psu)."
   ]
  },
  {
   "metadata": {},
   "cell_type": "markdown",
   "source": [
    "Another interesting phenomenon that occurs during an intense wind forcing event is the prevalence of upper ocean currents called near-inertial oscillations (NIOs) (Price, 1981). These are osciallations that occur just off the frequency of the local inertial period. Here, at ~40N, the inertial period (IP) is roughly 18.5 hours (T=2pi/f, where f is the Coriolis parameter). Let's look at the data from the ADCP to see if these are prevalent. \n",
    "\n",
    "\n",
    "Price, J. F., 1981: Upper ocean response to a hurricane. J. Phys. Oceanogr., 11, 153–175."
   ]
  },
  {
   "metadata": {},
   "cell_type": "code",
   "source": [
    "#THREDDS server URL insert under \"url\"\n",
    "url='https://opendap.oceanobservatories.org/thredds/catalog/ooi/jRudzin-rsmas-miami/20180524T202300-CP01CNSM-MFD35-01-ADCPTF000-telemetered-adcpt_acfgm_pd8_dcl_instrument/catalog.html'\n",
    "datasets = requests.get(url).text\n",
    "urls = re.findall(r'href=[\\'\"]?([^\\'\" >]+)', datasets)\n",
    "x = re.findall(r'(ooi/.*?.nc)', datasets)\n",
    "for i in x:\n",
    "    if i.endswith('.nc') == False:\n",
    "        x.remove(i)\n",
    "for i in x:\n",
    "    try:\n",
    "        float(i[-4])\n",
    "    except:\n",
    "        x.remove(i)\n",
    "datasets = [os.path.join(tds_url, i) for i in x]\n",
    "datasets"
   ],
   "execution_count": null,
   "outputs": []
  },
  {
   "metadata": {},
   "cell_type": "code",
   "source": [
    "ds = xr.open_mfdataset(datasets)\n",
    "ds = ds.swap_dims({'obs': 'time'})\n",
    "ds = ds.sortby('time')\n",
    "ds"
   ],
   "execution_count": null,
   "outputs": []
  },
  {
   "metadata": {},
   "cell_type": "code",
   "source": [
    "time = ds['time'].data\n",
    "#bin_depths = ds['bin_depths'].data.T\n",
    "east = ds['adcps_pd12_eastward_seawater_velocity'].data.T\n",
    "north = ds['adcps_pd12_northward_seawater_velocity'].data.T\n",
    "up = ds['upward_earth_seawater_velocity'].data.T"
   ],
   "execution_count": null,
   "outputs": []
  },
  {
   "metadata": {},
   "cell_type": "code",
   "source": [
    "lim_east = float(\"%2.2f\" % np.nanpercentile(east, 90))\n",
    "lim_north = float(\"%2.2f\" % np.nanpercentile(north, 90))\n",
    "lim_up = float(\"%2.2f\" % np.nanpercentile(up, 90))\n",
    "u_v_w = max([lim_east, lim_north, lim_up])"
   ],
   "execution_count": null,
   "outputs": []
  },
  {
   "metadata": {},
   "cell_type": "code",
   "source": [
    "plt.close()\n",
    "fig, axes = plt.subplots(2, sharex=True)\n",
    "fig.set_size_inches(18, 10)\n",
    "\n",
    "ny, nx = 36,len(time)\n",
    "xmin, xmax = 0, len(time)\n",
    "ymin, ymax = -133, 0\n",
    "xi = np.linspace(xmin, xmax, nx)\n",
    "yi = np.linspace(ymin, ymax, ny)\n",
    "x_i, y_i = np.meshgrid(time, yi)\n",
    "bin_depths = np.asarray(y_i)\n",
    "print bin_depths.shape\n",
    "\n",
    "p0 = axes[0].pcolormesh(time, bin_depths, east, cmap='RdBu',vmin=-u_v_w,vmax=u_v_w)\n",
    "axes[0].set_ylim(-133,0)\n",
    "axes[0].set_title('Eastward Velocity (u)')\n",
    "#axes[0].invert_yaxis()\n",
    "\n",
    "p1 = axes[1].pcolormesh(time, bin_depths, north, cmap='RdBu',vmin=-u_v_w,vmax=u_v_w)\n",
    "axes[1].set_title('Northward Velocity (v)')\n",
    "axes[1].set_ylim(-133,0)\n",
    "#axes[1].invert_yaxis()\n",
    "axes[1].set_ylabel('Depth')\n",
    "\n",
    "#p2 = axes[2].pcolormesh(time, bin_depths, up, cmap='RdBu',vmin=-u_v_w,vmax=u_v_w)\n",
    "#axes[2].set_title('Upward Velocity (w)')\n",
    "#axes[2].set_ylim(-133,0)\n",
    "##axes[2].invert_yaxis()\n",
    "#axes[2].set_xlabel('Time')\n",
    "\n",
    "\n",
    "fig.colorbar(p0,ax=axes.ravel().tolist(), label='m/s')\n",
    "\n",
    "plt.show()"
   ],
   "execution_count": null,
   "outputs": []
  },
  {
   "metadata": {},
   "cell_type": "code",
   "source": [
    "plt.close()\n",
    "fig, axes = plt.subplots()\n",
    "fig.set_size_inches(18, 5)\n",
    "\n",
    "\n",
    "p = axes.pcolormesh(time, bin_depths, up, cmap='RdBu',vmin=-0.05,vmax=0.05)\n",
    "axes.set_title('Upward Velocity (w)')\n",
    "axes.set_ylim(-133,0)\n",
    "##axes[0].invert_yaxis()\n",
    "axes.set_xlabel('Time')\n",
    "\n",
    "#bounds=[-0.05,-0.045,-0.04,-0.035,-0.03,-0.025,-0.02,-0.015,-0.01,-0.005,0,0.05,0.01,0.015,0.02,0.025,0.03,0.035,0.04,0.045,0.05,]\n",
    "#bounds=[-0.015,-0.01,-0.005,0,0.05,0.01,0.015]\n",
    "\n",
    "#bounds=np.linspace(-0.0001,0.0001, 20)\n",
    "\n",
    "fig.colorbar(p,label='m/s')\n",
    "#pyplot.clim(-0.015,0.015)\n",
    "plt.show()"
   ],
   "execution_count": null,
   "outputs": []
  },
  {
   "metadata": {},
   "cell_type": "markdown",
   "source": [
    "The storms' influence in the upper ocean is observed by current oscillations in the northward and eastward velocity components starting on Sep 6. Before this time, the dominant direction of the current is westward. Also after the storm passage on Sep 6, there is a strong signature of upwelling, followed by pulses of downwelling and upwelling. This upwelling after storm passage entrains cooler water from below and cools the upper ocean and SST as seen in the CTD and the CT on the Bulk Meteorology Instrument.\n",
    "\n",
    "\n",
    " "
   ]
  },
  {
   "metadata": {},
   "cell_type": "markdown",
   "source": [
    "## 6. Notable Results and Actions Needed\n",
    "\n",
    "\n",
    "\n",
    "For entire data record:\n",
    "*   7m temperature and salinity from CTD corresponds with SST and SSS from Bulk Met Instrument\n",
    "*   Surface winds and surface currents visually correlate with each other\n",
    "*   No ADCP available on Inshore Surface Mooring so ADCP on Central Surface Mooring was used\n",
    "    * Several gaps in ADCP data, expected data gap near surface\n",
    "    * No vertical coordinate in .nc data files (bin_depths or pressure) in telemetered data\n",
    "    * Initial attempt at getting vertical coordinate to get a first look, more indepth analysis needed to get better idea of depths\n",
    "    * No \"bad beams\" variable in .nc file either to get idea of data accuracy\n",
    "    * First-look plotting on OOI Data Portal plots y-axis (bins) upside down\n",
    "    \n",
    "For case study:\n",
    "\n",
    "*   Peak wind speed of 20 m/s and peak surface current speed ~ 1 m/s\n",
    "*   ~3.5C ocean temperature cooling at both 7m CTD and SST measurement in Bulk Met Instruments\n",
    "*   Freshwater lense present at sea surface as shown by Bulk Met Instrument which is not prevalent at 7m CTD (~ 1 psu difference between instruments)\n",
    "*   Freshwater lense must be result of increased precipitation from storm\n",
    "*   Interesting current osciallations, believed to be NIOs, since frequency is shifted just below inertial period  (~18hr) and starts within 1/2 inertial period after storm passage. Creates upwelling and downwelling at same frequency of current oscillations\n",
    "\n",
    "\n",
    "\n",
    "\n",
    "\n"
   ]
  }
 ]
}
