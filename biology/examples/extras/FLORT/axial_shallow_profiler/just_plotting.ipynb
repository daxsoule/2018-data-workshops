{
 "cells": [
  {
   "cell_type": "code",
   "execution_count": null,
   "metadata": {},
   "outputs": [],
   "source": [
    "import warnings\n",
    "warnings.filterwarnings(\"ignore\")\n",
    "\n",
    "import cmocean\n",
    "import matplotlib.pyplot as plt\n",
    "import pickle as pk\n",
    "import datetime"
   ]
  },
  {
   "cell_type": "code",
   "execution_count": null,
   "metadata": {},
   "outputs": [],
   "source": [
    "with open('chlor_a_and_temp.pd', 'rb') as f:\n",
    "    chlor_a_and_temp_data = pk.load(f)\n",
    "\n",
    "time_stamp = list(chlor_a_and_temp_data.index.values)\n",
    "depth = list(chlor_a_and_temp_data['int_ctd_pressure'].values)\n",
    "flor = list(chlor_a_and_temp_data['fluorometric_chlorophyll_a'].values)\n",
    "temp = list(chlor_a_and_temp_data['seawater_temperature'].values)"
   ]
  },
  {
   "cell_type": "code",
   "execution_count": null,
   "metadata": {},
   "outputs": [],
   "source": [
    "fig, (ax1, ax2) = plt.subplots(2, sharex=True, sharey=True)\n",
    "fig.set_size_inches(20, 8)\n",
    "\n",
    "t = ax1.scatter(time_stamp, depth, c=temp, cmap='RdYlBu_r', vmin=2, vmax=20, marker=\".\")\n",
    "o = ax2.scatter(time_stamp, depth, c=flor, cmap='RdYlBu_r', vmin=0, vmax=2, marker=\".\")\n",
    "\n",
    "cb1 = plt.colorbar(t,ax=ax1)\n",
    "cb2 = plt.colorbar(o,ax=ax2)\n",
    "\n",
    "cb1.set_label('degrees C')\n",
    "cb2.set_label('ug L-1')\n",
    "\n",
    "ax1.set_ylabel('dbar')\n",
    "ax2.set_ylabel('dbar')\n",
    "ax2.set_xlabel('time')\n",
    "\n",
    "ax1.grid()\n",
    "ax2.grid()\n",
    "\n",
    "ax1.set_title(\"Temperature\")\n",
    "ax2.set_title(\"Chlorophyll A\")\n",
    "\n",
    "ax1.invert_yaxis()\n",
    "ax1.set_xlim(min(time_stamp),max(time_stamp))\n",
    "\n",
    "# xlim_min = datetime.datetime(2015, 12, 1, 0, 0)\n",
    "# xlim_max = datetime.datetime(2016, 7, 25, 0, 0)\n",
    "# ax1.set_xlim(xlim_min,xlim_max)\n",
    "# ax2.set_xlim(xlim_min,xlim_max)\n",
    "\n",
    "# plt.savefig(\"figure.png\")"
   ]
  },
  {
   "cell_type": "code",
   "execution_count": null,
   "metadata": {},
   "outputs": [],
   "source": [
    "fig, (ax1, ax2) = plt.subplots(2, sharex=True, sharey=True)\n",
    "fig.set_size_inches(20, 8)\n",
    "\n",
    "t = ax1.scatter(time_stamp, depth, c=temp, cmap='RdYlBu_r', vmin=2, vmax=20, marker=\".\")\n",
    "o = ax2.scatter(time_stamp, depth, c=flor, cmap='RdYlBu_r', vmin=0, vmax=2, marker=\".\")\n",
    "\n",
    "cb1 = plt.colorbar(t,ax=ax1)\n",
    "cb2 = plt.colorbar(o,ax=ax2)\n",
    "\n",
    "cb1.set_label('degrees C')\n",
    "cb2.set_label('ug L-1')\n",
    "\n",
    "ax1.set_ylabel('dbar')\n",
    "ax2.set_ylabel('dbar')\n",
    "ax2.set_xlabel('time')\n",
    "\n",
    "ax1.grid()\n",
    "ax2.grid()\n",
    "\n",
    "ax1.set_title(\"Temperature\")\n",
    "ax2.set_title(\"Chlorophyll A\")\n",
    "\n",
    "ax1.invert_yaxis()\n",
    "ax1.set_xlim(min(time_stamp),max(time_stamp))\n",
    "\n",
    "xlim_min = datetime.datetime(2016, 6, 1, 0, 0)\n",
    "xlim_max = datetime.datetime(2016, 10, 1, 0, 0)\n",
    "ax1.set_xlim(xlim_min,xlim_max)\n",
    "ax2.set_xlim(xlim_min,xlim_max)\n",
    "\n",
    "# plt.savefig(\"figure.png\")"
   ]
  },
  {
   "cell_type": "code",
   "execution_count": null,
   "metadata": {},
   "outputs": [],
   "source": [
    "fig, (ax1, ax2) = plt.subplots(2, sharex=True, sharey=True)\n",
    "fig.set_size_inches(20, 8)\n",
    "\n",
    "t = ax1.scatter(time_stamp, depth, c=temp, cmap='RdYlBu_r', vmin=2, vmax=20, marker=\".\")\n",
    "o = ax2.scatter(time_stamp, depth, c=flor, cmap='RdYlBu_r', vmin=0, vmax=2, marker=\".\")\n",
    "\n",
    "cb1 = plt.colorbar(t,ax=ax1)\n",
    "cb2 = plt.colorbar(o,ax=ax2)\n",
    "\n",
    "cb1.set_label('degrees C')\n",
    "cb2.set_label('ug L-1')\n",
    "\n",
    "ax1.set_ylabel('dbar')\n",
    "ax2.set_ylabel('dbar')\n",
    "ax2.set_xlabel('time')\n",
    "\n",
    "ax1.grid()\n",
    "ax2.grid()\n",
    "\n",
    "ax1.set_title(\"Temperature\")\n",
    "ax2.set_title(\"Chlorophyll A\")\n",
    "\n",
    "ax1.invert_yaxis()\n",
    "ax1.set_xlim(min(time_stamp),max(time_stamp))\n",
    "\n",
    "xlim_min = datetime.datetime(2016, 6, 22, 0, 0)\n",
    "xlim_max = datetime.datetime(2016, 7, 8, 0, 0)\n",
    "ax1.set_xlim(xlim_min,xlim_max)\n",
    "ax2.set_xlim(xlim_min,xlim_max)\n",
    "\n",
    "# plt.savefig(\"figure.png\")"
   ]
  },
  {
   "cell_type": "code",
   "execution_count": null,
   "metadata": {},
   "outputs": [],
   "source": []
  }
 ],
 "metadata": {
  "kernelspec": {
   "display_name": "ooi",
   "language": "python",
   "name": "ooi"
  },
  "language_info": {
   "codemirror_mode": {
    "name": "ipython",
    "version": 3
   },
   "file_extension": ".py",
   "mimetype": "text/x-python",
   "name": "python",
   "nbconvert_exporter": "python",
   "pygments_lexer": "ipython3",
   "version": "3.6.5"
  }
 },
 "nbformat": 4,
 "nbformat_minor": 2
}
