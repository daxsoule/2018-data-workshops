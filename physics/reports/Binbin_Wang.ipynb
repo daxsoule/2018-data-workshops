{
 "cells": [
  {
   "cell_type": "markdown",
   "metadata": {},
   "source": [
    "# Coastal Endurance Oregon Shelf Surface Mooring Data Quality Report\n",
    "## Instrument: Single Point Velocity Meter\n",
    "\n",
    "Evaluation Date: 5/25/2018\n",
    "\n",
    "Evaluator: Binbin Wang\n",
    "\n",
    "Review Summary:\n",
    "\n",
    "This report summarizes a data quality review of the Coastal Endurance Oregon Shelf Surface Mooring Data (CE02SHSM). I foucs on the data of the instrument - Single Point Velocity Meter (04-VELPTA000) on the node at 1 m (SBD11). The data selcted in this report is 8/15/2017-9/15/2018. This report is not necessarily a comprehensive review of the instruments and quality of the data available. Rather, it demonstrates some steps for understanding the data during this period. \n",
    "\n",
    "The velocity data was cross-compared with several other snesors on the same platform, including a second single point velocity meter (04-VELPTA000) on the node at 7 m (RID26), a surface wave spectra sensor (05-WAVSSA000) on the surface buoy (SBD12), and the Bulk Meteorology Instrument Package (METBKA) on the surface buoy (SBD11). \n",
    "\n",
    "The following array shows the reference designators of surface buoy, note, instrument, method, and stream. \n",
    "\n",
    "  ['CE02SHSM','SBD11','04-VELPTA000','recovered_inst','velpt_ab_instrument_recovered']\n",
    "  \n",
    "  ['CE02SHSM','RID26','04-VELPTA000','recovered_inst','velpt_ab_instrument_recovered']\n",
    "  \n",
    "  ['CE02SHSM','SBD12','05-WAVSSA000','recovered_host','wavss_a_dcl_statistics_recovered']\n",
    "  \n",
    "  ['CE02SHSM','SBD11','06-METBKA000','recovered_host','metbk_a_dcl_instrument_recovered']"
   ]
  },
  {
   "cell_type": "markdown",
   "metadata": {},
   "source": [
    "## Install libraries, import packages. "
   ]
  },
  {
   "cell_type": "code",
   "execution_count": null,
   "metadata": {},
   "outputs": [],
   "source": [
    "# !pip install xarray\n",
    "# !pip install netcdf4\n",
    "# !pip install bokeh\n",
    "# !pip install dask\n",
    "import requests\n",
    "import time\n",
    "import numpy as np\n",
    "import re\n",
    "import xarray as xr\n",
    "import pandas as pd\n",
    "import os\n",
    "import datetime"
   ]
  },
  {
   "cell_type": "code",
   "execution_count": null,
   "metadata": {},
   "outputs": [],
   "source": [
    "username = 'OOIAPI-BXYSDAG8AO0MQP'\n",
    "token = 'T6LUGZGOUMZEVT'"
   ]
  },
  {
   "cell_type": "code",
   "execution_count": null,
   "metadata": {},
   "outputs": [],
   "source": [
    "base_url = 'https://ooinet.oceanobservatories.org/api/m2m/12576/sensor/inv/'"
   ]
  },
  {
   "cell_type": "code",
   "execution_count": null,
   "metadata": {},
   "outputs": [],
   "source": [
    "# Time Processing Routines \n",
    "ntp_epoch = datetime.datetime(1900, 1, 1)\n",
    "unix_epoch = datetime.datetime(1970, 1, 1)\n",
    "ntp_delta = (unix_epoch - ntp_epoch).total_seconds()\n",
    "\n",
    "def ntp_seconds_to_datetime(ntp_seconds):\n",
    "    return datetime.datetime.utcfromtimestamp(ntp_seconds - ntp_delta).replace(microsecond=0)"
   ]
  },
  {
   "cell_type": "code",
   "execution_count": null,
   "metadata": {},
   "outputs": [],
   "source": [
    "r = requests.get(base_url, auth=(username, token))\n",
    "print( r.status_code )\n",
    "print( r.headers )\n",
    "print( r.encoding )\n",
    "print( r.text )\n",
    "print( r.json() )"
   ]
  },
  {
   "cell_type": "code",
   "execution_count": null,
   "metadata": {},
   "outputs": [],
   "source": [
    "# A quick function to make an API request and print the results\n",
    "def get_and_print_api(url):\n",
    "  r = requests.get(url, auth=(username, token))\n",
    "  data = r.json()\n",
    "  for d in data:\n",
    "    print( d )"
   ]
  },
  {
   "cell_type": "code",
   "execution_count": null,
   "metadata": {},
   "outputs": [],
   "source": [
    "# List all nodes on the platform\n",
    "get_and_print_api(base_url+'/CE02SHSM')"
   ]
  },
  {
   "cell_type": "code",
   "execution_count": null,
   "metadata": {},
   "outputs": [],
   "source": [
    "# List all instrument on the node\n",
    "get_and_print_api(base_url+'/CE02SHSM/SBD11')"
   ]
  },
  {
   "cell_type": "code",
   "execution_count": null,
   "metadata": {},
   "outputs": [],
   "source": [
    "# List all methods\n",
    "(base_url+'/CE02SHSM/SBD11/04-VELPTA000')"
   ]
  },
  {
   "cell_type": "code",
   "execution_count": null,
   "metadata": {},
   "outputs": [],
   "source": [
    "# List all streams\n",
    "get_and_print_api(base_url+'/CE02SHSM/SBD11/04-VELPTA000/recovered_inst')"
   ]
  },
  {
   "cell_type": "code",
   "execution_count": null,
   "metadata": {},
   "outputs": [],
   "source": [
    "# Look at the velocity sensor \n",
    "subsite = 'CE02SHSM'\n",
    "node = 'SBD11'\n",
    "sensor = '04-VELPTA000'\n",
    "method = 'recovered_inst'\n",
    "stream = 'velpt_ab_instrument_recovered'\n",
    "beginDT = '2017-08-15T01:00:00.000Z' \n",
    "endDT = '2017-09-01T01:00:00.000Z'"
   ]
  },
  {
   "cell_type": "code",
   "execution_count": null,
   "metadata": {},
   "outputs": [],
   "source": [
    "data_request_url ='/'.join((base_url,subsite,node,sensor,method,stream))\n",
    "params = {\n",
    "    'beginDT':beginDT,\n",
    "    'endDT':endDT,   \n",
    "}\n",
    "r = requests.get(data_request_url, params=params, auth=(username, token))\n",
    "data = r.json()"
   ]
  },
  {
   "cell_type": "code",
   "execution_count": null,
   "metadata": {},
   "outputs": [],
   "source": [
    "data['allURLs'][0]"
   ]
  },
  {
   "cell_type": "code",
   "execution_count": null,
   "metadata": {},
   "outputs": [],
   "source": [
    "%%time\n",
    "check_complete = data['allURLs'][1] + '/status.txt'\n",
    "for i in range(1800): \n",
    "    r = requests.get(check_complete)\n",
    "    if r.status_code == requests.codes.ok:\n",
    "        print('request completed')\n",
    "        break\n",
    "    else:\n",
    "        time.sleep(1)"
   ]
  },
  {
   "cell_type": "code",
   "execution_count": null,
   "metadata": {},
   "outputs": [],
   "source": [
    "url = 'https://opendap.oceanobservatories.org/thredds/catalog/ooi/bwang314@tamu.edu/20180522T213146-CE02SHSM-SBD11-04-VELPTA000-recovered_inst-velpt_ab_instrument_recovered/catalog.html'\n",
    "tds_url = 'https://opendap.oceanobservatories.org/thredds/dodsC'\n",
    "datasets = requests.get(url).text\n",
    "urls = re.findall(r'href=[\\'\"]?([^\\'\" >]+)', datasets)\n",
    "x = re.findall(r'(ooi/.*?.nc)', datasets)\n",
    "for i in x:\n",
    "    if i.endswith('.nc') == False:\n",
    "        x.remove(i)\n",
    "for i in x:\n",
    "    try:\n",
    "        float(i[-4])\n",
    "    except:\n",
    "        x.remove(i)\n",
    "datasets = [os.path.join(tds_url, i) for i in x]\n",
    "datasets"
   ]
  },
  {
   "cell_type": "code",
   "execution_count": null,
   "metadata": {},
   "outputs": [],
   "source": [
    "# ds = xr.open_mfdataset(datasets)\n",
    "# ds = ds.swap_dims({'obs': 'time'})\n",
    "# ds = ds.chunk({'time': 100})\n",
    "# ds = ds.sortby('time') # data from different deployments can overlap so we want to sort all data by time stamp.\n",
    "# ds"
   ]
  },
  {
   "cell_type": "code",
   "execution_count": null,
   "metadata": {},
   "outputs": [],
   "source": [
    "# df = ds.to_dataframe()\n",
    "# res = (pd.Series(df.index[1:]) - pd.Series(df.index[:-1])).value_counts()\n",
    "# res"
   ]
  },
  {
   "cell_type": "code",
   "execution_count": null,
   "metadata": {},
   "outputs": [],
   "source": [
    "import matplotlib.pyplot as plt"
   ]
  },
  {
   "cell_type": "code",
   "execution_count": null,
   "metadata": {},
   "outputs": [],
   "source": [
    "# fig, (ax1, ax2, ax3, ax4) = plt.subplots(4, sharex=True, sharey=False)\n",
    "# fig.set_size_inches(16, 6)\n",
    "\n",
    "# ds['eastward_velocity'].plot(linestyle = '-', \n",
    "#                                    marker='.', \n",
    "#                                    markersize=1,\n",
    "#                                    ax=ax1)\n",
    "\n",
    "# ds['northward_velocity'].plot(linestyle = '-', \n",
    "#                                    marker='.', \n",
    "#                                    markersize=1,\n",
    "#                                    ax=ax2)\n",
    "# ds['upward_velocity'].plot(linestyle = '-', \n",
    "#                                    marker='.', \n",
    "#                                    markersize=1,\n",
    "#                                    ax=ax3)\n",
    "# ds['pressure_mbar'].plot(linestyle = '-', \n",
    "#                                    marker='.', \n",
    "#                                    markersize=1,\n",
    "#                                    ax=ax4)\n",
    "# # ax.invert_yaxis()\n",
    "\n",
    "# plt.setp([a.get_xticklabels() for a in fig.axes[:-1]], visible=False)\n",
    "# plt.show()"
   ]
  },
  {
   "cell_type": "markdown",
   "metadata": {},
   "source": [
    "## Download data"
   ]
  },
  {
   "cell_type": "code",
   "execution_count": null,
   "metadata": {},
   "outputs": [],
   "source": [
    "# Looking at multiple instruments on the buoy\n",
    "instruments = [\n",
    "  ['CE02SHSM','SBD11','04-VELPTA000','recovered_inst','velpt_ab_instrument_recovered'],\n",
    "  ['CE02SHSM','RID26','04-VELPTA000','recovered_inst','velpt_ab_instrument_recovered'],\n",
    "  ['CE02SHSM','SBD12','05-WAVSSA000','recovered_host','wavss_a_dcl_statistics_recovered'],\n",
    "  ['CE02SHSM','SBD11','06-METBKA000','recovered_host','metbk_a_dcl_instrument_recovered']\n",
    "]"
   ]
  },
  {
   "cell_type": "code",
   "execution_count": null,
   "metadata": {},
   "outputs": [],
   "source": [
    "# Specify additional parameters for the API request \n",
    "params = {\n",
    "  'beginDT':'2017-08-15T01:00:00.000Z', \n",
    "  'endDT':'2017-09-15T01:00:00.000Z'  \n",
    "}"
   ]
  },
  {
   "cell_type": "code",
   "execution_count": null,
   "metadata": {},
   "outputs": [],
   "source": [
    "# Grab the data for each instrument\n",
    "out = []\n",
    "for jj in range(len(instruments)):\n",
    "  print(jj)\n",
    "  print instruments[jj]  \n",
    "  data_request_url ='/'.join((base_url,instruments[jj][0],instruments[jj][1],instruments[jj][2],instruments[jj][3],instruments[jj][4]))\n",
    "  r = requests.get(data_request_url, params=params, auth=(username, token))\n",
    "  data = r.json()\n",
    "  out.append(data['allURLs'][0])\n"
   ]
  },
  {
   "cell_type": "code",
   "execution_count": null,
   "metadata": {},
   "outputs": [],
   "source": [
    "out"
   ]
  },
  {
   "cell_type": "code",
   "execution_count": null,
   "metadata": {},
   "outputs": [],
   "source": [
    "import xarray as xr"
   ]
  },
  {
   "cell_type": "code",
   "execution_count": null,
   "metadata": {},
   "outputs": [],
   "source": [
    "files = [\n",
    "    'https://opendap.oceanobservatories.org/thredds/dodsC/ooi/bwang314@tamu.edu/20180523T190702-CE02SHSM-SBD11-04-VELPTA000-recovered_inst-velpt_ab_instrument_recovered/deployment0005_CE02SHSM-SBD11-04-VELPTA000-recovered_inst-velpt_ab_instrument_recovered_20170815T010000-20170915T010000.nc',\n",
    "    'https://opendap.oceanobservatories.org/thredds/dodsC/ooi/bwang314@tamu.edu/20180523T190708-CE02SHSM-RID26-04-VELPTA000-recovered_inst-velpt_ab_instrument_recovered/deployment0005_CE02SHSM-RID26-04-VELPTA000-recovered_inst-velpt_ab_instrument_recovered_20170815T010000-20170915T010000.nc',\n",
    "    'https://opendap.oceanobservatories.org/thredds/dodsC/ooi/bwang314@tamu.edu/20180523T190720-CE02SHSM-SBD12-05-WAVSSA000-recovered_host-wavss_a_dcl_statistics_recovered/deployment0005_CE02SHSM-SBD12-05-WAVSSA000-recovered_host-wavss_a_dcl_statistics_recovered_20170815T012301.726000-20170915T002303.057000.nc',\n",
    "    'https://opendap.oceanobservatories.org/thredds/dodsC/ooi/bwang314@tamu.edu/20180524T145145-CE02SHSM-SBD11-06-METBKA000-recovered_host-metbk_a_dcl_instrument_recovered/deployment0005_CE02SHSM-SBD11-06-METBKA000-recovered_host-metbk_a_dcl_instrument_recovered_20170815T010013.881000-20170915T005911.468000.nc'\n",
    "]"
   ]
  },
  {
   "cell_type": "markdown",
   "metadata": {},
   "source": [
    "## Assign data variables"
   ]
  },
  {
   "cell_type": "code",
   "execution_count": null,
   "metadata": {},
   "outputs": [],
   "source": [
    "# single point velocity meter at 1 m\n",
    "d1 = xr.open_dataset(files[0])\n",
    "time_vel_1m = d1['time'].values\n",
    "pressure_1m = d1['pressure_mbar'].values/1000.\n",
    "east_vel_1m = d1['eastward_velocity'].values\n",
    "north_vel_1m = d1['northward_velocity'].values\n",
    "up_vel_1m = d1['upward_velocity'].values\n",
    "heading_1m = d1['heading_decidegree'].values\n",
    "pitch_1m = d1['pitch_decidegree'].values\n",
    "roll_1m = d1['roll_decidegree'].values\n",
    "temp_1m = d1['temperature_centidegree'].values/100.\n",
    "ampB1_1m = d1['amplitude_beam1'].values\n",
    "ampB2_1m = d1['amplitude_beam2'].values\n",
    "ampB3_1m = d1['amplitude_beam3'].values\n",
    "velocity_beam1 = d1['velocity_beam1'].values\n",
    "velocity_beam2 = d1['velocity_beam2'].values\n",
    "velocity_beam3 = d1['velocity_beam3'].values\n"
   ]
  },
  {
   "cell_type": "code",
   "execution_count": null,
   "metadata": {},
   "outputs": [],
   "source": [
    "# single point velocity meter at 7 m\n",
    "d2 = xr.open_dataset(files[1])\n",
    "time_vel_7m = d2['time'].values\n",
    "pressure_7m = d2['pressure_mbar'].values/1000.\n",
    "east_vel_7m = d2['eastward_velocity'].values\n",
    "north_vel_7m = d2['northward_velocity'].values\n",
    "up_vel_7m = d2['upward_velocity'].values\n",
    "heading_7m = d2['heading_decidegree'].values\n",
    "pitch_7m = d2['pitch_decidegree'].values\n",
    "roll_7m = d2['roll_decidegree'].values\n",
    "temp_7m = d2['temperature_centidegree'].values/100.\n",
    "ampB1_7m = d2['amplitude_beam1'].values\n",
    "ampB2_7m = d2['amplitude_beam2'].values\n",
    "ampB3_7m = d2['amplitude_beam3'].values\n",
    "velocity_beam1_7m = d2['velocity_beam1'].values\n",
    "velocity_beam2_7m = d2['velocity_beam2'].values\n",
    "velocity_beam3_7m = d2['velocity_beam3'].values\n"
   ]
  },
  {
   "cell_type": "code",
   "execution_count": null,
   "metadata": {},
   "outputs": [],
   "source": [
    "# wave statistics at recorded on the buoy\n",
    "d3 = xr.open_dataset(files[2])\n",
    "time_wave = d3['time'].values\n",
    "wave_height = d3['significant_wave_height'].values\n"
   ]
  },
  {
   "cell_type": "code",
   "execution_count": null,
   "metadata": {},
   "outputs": [],
   "source": [
    "# Met data on the buoy\n",
    "d4 = xr.open_dataset(files[3])\n",
    "time_met = d4['time'].values\n",
    "air_temp = d4['air_temperature'].values\n",
    "sst = d4['sea_surface_temperature'].values\n",
    "ssc = d4['sea_surface_conductivity'].values\n",
    "precip = d4['precipitation'].values\n",
    "wind_e = d4['eastward_wind_velocity'].values\n",
    "wind_n = d4['eastward_wind_velocity'].values\n",
    "wind = np.sqrt(wind_e * wind_e + wind_n * wind_n)"
   ]
  },
  {
   "cell_type": "markdown",
   "metadata": {},
   "source": [
    "## Examine the data"
   ]
  },
  {
   "cell_type": "markdown",
   "metadata": {},
   "source": [
    "### Plot veloicty data"
   ]
  },
  {
   "cell_type": "code",
   "execution_count": null,
   "metadata": {},
   "outputs": [],
   "source": [
    "fig, (ax1,ax2,ax3) = plt.subplots(3,1, sharex=True,figsize=(16,6))\n",
    "ax1.plot(time_vel_1m,north_vel_1m)\n",
    "ax2.plot(time_vel_1m,east_vel_1m)\n",
    "ax3.plot(time_vel_1m,up_vel_1m)\n",
    "plt.xlabel('Time')\n",
    "ax1.set_ylabel('north vel (m/s)')\n",
    "ax2.set_ylabel('east vel (m/s)')\n",
    "ax3.set_ylabel('up vel (m/s)')"
   ]
  },
  {
   "cell_type": "markdown",
   "metadata": {},
   "source": [
    "Multiple spikes show up in the upward veloicty data after 08/28/2017 and disappear after 09/11/2017. This report will investigate these data. "
   ]
  },
  {
   "cell_type": "markdown",
   "metadata": {},
   "source": [
    "### Examine the Beam amplitude counts"
   ]
  },
  {
   "cell_type": "code",
   "execution_count": null,
   "metadata": {},
   "outputs": [],
   "source": [
    "fig, (ax1,ax2,ax3,ax4,ax5,ax6) = plt.subplots(6,1, sharex=True,figsize=(16,17))\n",
    "ax1.plot(time_vel_1m,ampB1_1m)\n",
    "ax2.plot(time_vel_1m,ampB2_1m)\n",
    "ax3.plot(time_vel_1m,ampB3_1m)\n",
    "ax4.plot(time_vel_1m,velocity_beam1/1000.)\n",
    "ax5.plot(time_vel_1m,velocity_beam2/1000.)\n",
    "ax6.plot(time_vel_1m,velocity_beam3/1000.)\n",
    "plt.xlabel('Time')\n",
    "ax1.set_ylabel('Beam 1 amp (count)')\n",
    "ax2.set_ylabel('Beam 2 amp (count)')\n",
    "ax3.set_ylabel('Beam 3 amp (count)')\n",
    "ax4.set_ylabel('Beam 1 vel (m/s)')\n",
    "ax5.set_ylabel('Beam 2 vel (m/s)')\n",
    "ax6.set_ylabel('Beam 3 vel (m/s)')"
   ]
  },
  {
   "cell_type": "markdown",
   "metadata": {},
   "source": [
    "Note, the beam amplitude for three beams have similar trends. There is significant decreasing of the counts from 130 to 90 for all three beams. The decreasing counts significantly inreases the meausred velocity for beam 3 (upward veloicty). The beam 1 and 2 may also be affected but this change was not obvious for beam 1 and beam 2. "
   ]
  },
  {
   "cell_type": "code",
   "execution_count": null,
   "metadata": {},
   "outputs": [],
   "source": [
    "fig, (ax1,ax2,ax3) = plt.subplots(3,1, sharex=False,figsize=(8,16))\n",
    "ax1.scatter(velocity_beam1/1000.,ampB1_1m)\n",
    "ax1.set_ylabel('Beam 1 amp (counts)')\n",
    "ax1.set_xlabel('Beam 1 Vel (m/s)')\n",
    "\n",
    "ax2.scatter(velocity_beam2/1000.,ampB2_1m)\n",
    "ax2.set_ylabel('Beam 2 amp (counts)')\n",
    "ax2.set_xlabel('Beam 2 Vel (m/s)')\n",
    "\n",
    "ax3.scatter(velocity_beam3/1000.,ampB3_1m)\n",
    "ax3.set_ylabel('Beam 3 amp (counts)')\n",
    "ax3.set_xlabel('Beam 3 Vel (m/s)')"
   ]
  },
  {
   "cell_type": "markdown",
   "metadata": {},
   "source": [
    "### Examine the velocity with wind and wave data"
   ]
  },
  {
   "cell_type": "code",
   "execution_count": null,
   "metadata": {},
   "outputs": [],
   "source": [
    "fig, (ax1,ax2,ax3) = plt.subplots(3,1, sharex=True,figsize=(13,8))\n",
    "ax1.plot(time_vel_1m, up_vel_1m)\n",
    "ax1.set_ylabel('Up Vel (m/s)')\n",
    "\n",
    "ax2.plot(time_vel_1m, pressure_1m)\n",
    "ax2.set_ylabel('Pressure at 1 m (bar)')\n",
    "ax2.set_ylim((1.75,1.55))\n",
    "ax22 = ax2.twinx()\n",
    "ax22.tick_params('y', colors='r')\n",
    "ax22.plot(time_wave, wave_height,'r')\n",
    "ax22.set_ylabel('Sig wave height (m)')\n",
    "\n",
    "\n",
    "ax33 = ax3.twinx()\n",
    "ax33.tick_params('y', colors='r')\n",
    "ax3.plot(time_met, wind)\n",
    "ax33.plot(time_wave, wave_height,'r')\n",
    "ax3.set_ylabel('Wind speed (m/s)')\n",
    "ax33.set_ylabel('Sig wave height (m)')\n"
   ]
  },
  {
   "cell_type": "markdown",
   "metadata": {},
   "source": [
    "The wave height and wind speed data look normal, and there is no significiant environmental event occuring at the time when velocity spikes were found.  "
   ]
  },
  {
   "cell_type": "markdown",
   "metadata": {},
   "source": [
    "### Examine pitch, roll, and heading "
   ]
  },
  {
   "cell_type": "code",
   "execution_count": null,
   "metadata": {},
   "outputs": [],
   "source": [
    "fig, (ax1,ax2,ax3,ax4) = plt.subplots(4,1, sharex = True, figsize = (16,6))\n",
    "ax1.plot(time_vel_1m,up_vel_1m)\n",
    "ax1.set_ylabel('Up vel')\n",
    "ax2.plot(time_vel_1m,pitch_1m)\n",
    "ax2.set_ylabel('Pitch')\n",
    "ax3.plot(time_vel_1m,roll_1m)\n",
    "ax3.set_ylabel('Roll')\n",
    "ax4.plot(time_vel_1m,heading_1m)\n",
    "ax4.set_ylabel('Heading')\n",
    "plt.suptitle('Velocity sensor at 1m')"
   ]
  },
  {
   "cell_type": "markdown",
   "metadata": {},
   "source": [
    "### Examine the velocity data (same instrument) at 7 m"
   ]
  },
  {
   "cell_type": "code",
   "execution_count": null,
   "metadata": {},
   "outputs": [],
   "source": [
    "fig, (ax1,ax2,ax3) = plt.subplots(3,1, sharex = True, figsize = (16,9))\n",
    "ax1.plot(time_vel_7m,east_vel_7m)\n",
    "ax2.plot(time_vel_7m,north_vel_7m)\n",
    "ax3.plot(time_vel_7m,up_vel_7m)\n",
    "ax1.set_ylabel('East vel (m/s)')\n",
    "ax2.set_ylabel('North vel (m/s)')\n",
    "ax3.set_ylabel('Up vel (m/s)')\n",
    "plt.suptitle('Velocity sensor at 7m')"
   ]
  },
  {
   "cell_type": "markdown",
   "metadata": {},
   "source": [
    "The velocity data is reasonable for this sensor at 7 m. The next step is checking the beam amplitude."
   ]
  },
  {
   "cell_type": "code",
   "execution_count": null,
   "metadata": {},
   "outputs": [],
   "source": [
    "fig, (ax1,ax2,ax3,ax4,ax5,ax6) = plt.subplots(6,1, sharex=True,figsize=(16,17))\n",
    "ax1.plot(time_vel_1m,ampB1_1m,label='1m')\n",
    "ax1.plot(time_vel_7m,ampB1_7m,'r')\n",
    "ax2.plot(time_vel_1m,ampB2_1m)\n",
    "ax2.plot(time_vel_7m,ampB1_7m,'r')\n",
    "ax3.plot(time_vel_1m,ampB3_1m)\n",
    "ax3.plot(time_vel_7m,ampB3_7m,'r')\n",
    "ax4.plot(time_vel_1m,velocity_beam1/1000.)\n",
    "ax4.plot(time_vel_7m,velocity_beam1_7m/1000.,'r')\n",
    "ax5.plot(time_vel_1m,velocity_beam2/1000.)\n",
    "ax5.plot(time_vel_7m,velocity_beam2_7m/1000.,'r')\n",
    "ax6.plot(time_vel_1m,velocity_beam3/1000.)\n",
    "ax6.plot(time_vel_7m,velocity_beam3_7m/1000.,'r')\n",
    "plt.xlabel('Time')\n",
    "ax1.set_ylabel('Beam 1 amp (count)')\n",
    "ax2.set_ylabel('Beam 2 amp (count)')\n",
    "ax3.set_ylabel('Beam 3 amp (count)')\n",
    "ax4.set_ylabel('Beam 1 vel (m/s)')\n",
    "ax5.set_ylabel('Beam 2 vel (m/s)')\n",
    "ax6.set_ylabel('Beam 3 vel (m/s)')"
   ]
  },
  {
   "cell_type": "markdown",
   "metadata": {},
   "source": [
    "The beam amplitude of sensor at 7 m is higher than that of sensor at 1 m."
   ]
  },
  {
   "cell_type": "code",
   "execution_count": null,
   "metadata": {},
   "outputs": [],
   "source": [
    "fig,(ax1,ax2,ax3) = plt.subplots(3,1, sharex = True, figsize = (16,6))\n",
    "ax1.plot(time_vel_1m,up_vel_1m)\n",
    "ax2.plot(time_vel_1m,temp_1m)\n",
    "ax3.plot(time_vel_1m,temp_7m)\n",
    "ax1.set_ylabel('Up Vel at 1m')\n",
    "ax2.set_ylabel('Temp at 1 m')\n",
    "ax3.set_ylabel('Temp at 7 m')"
   ]
  },
  {
   "cell_type": "markdown",
   "metadata": {},
   "source": [
    "Temperature data are similar for both sensors. \n",
    "plot the differece of recorded pressure from two velocity sensors, and compare it with the wave height."
   ]
  },
  {
   "cell_type": "code",
   "execution_count": null,
   "metadata": {},
   "outputs": [],
   "source": [
    "press_diff = pressure_7m - pressure_1m\n",
    "fig, (ax1) = plt.subplots(1,1, sharex = True, figsize = (13,6))\n",
    "ax1.plot(time_vel_1m,press_diff)\n",
    "ax1.set_ylabel('Pressure difference (bar)')\n",
    "ax2 = ax1.twinx()\n",
    "ax2.tick_params('y', colors='r')\n",
    "ax2.set_ylabel('Sig wave height (m)')\n",
    "ax2.plot(time_wave,wave_height,'r')\n",
    "ax2.invert_yaxis()"
   ]
  },
  {
   "cell_type": "markdown",
   "metadata": {},
   "source": [
    "Plot the correlation between two sensors."
   ]
  },
  {
   "cell_type": "code",
   "execution_count": null,
   "metadata": {},
   "outputs": [],
   "source": [
    "fig,(ax1,ax2,ax3) = plt.subplots(1,3, figsize=(15,8))\n",
    "ax1.scatter(east_vel_1m, east_vel_7m)\n",
    "ax1.set_xlabel('East vel 1 m')\n",
    "ax1.set_ylabel('East vel 7 m')\n",
    "ax1.plot([-0.4, 0.4],[-0.4,0.4],'r')\n",
    "ax2.scatter(north_vel_1m, north_vel_7m)\n",
    "ax2.plot([-0.6, 0.4],[-0.6,0.4],'r')\n",
    "ax2.set_xlabel('North vel 1 m')\n",
    "ax2.set_ylabel('North vel 7 m')\n",
    "ax3.scatter(up_vel_1m, up_vel_7m)\n",
    "ax3.set_xlim([-0.08, 0.08])\n",
    "ax3.set_xlabel('Up vel 1 m')\n",
    "ax3.set_ylabel('Up vel 7 m')"
   ]
  },
  {
   "cell_type": "code",
   "execution_count": null,
   "metadata": {},
   "outputs": [],
   "source": [
    "fig, (ax1,ax2) = plt.subplots(2,1,sharex=True, figsize=(8,8))\n",
    "ax1.plot(time_met,sst)\n",
    "ax1.set_ylabel('SST')\n",
    "\n",
    "ax2.plot(time_met,ssc)\n",
    "ax2.set_ylabel('SS conductivity')\n",
    "plt.xlabel('Time')"
   ]
  },
  {
   "cell_type": "markdown",
   "metadata": {},
   "source": [
    "### Look at the data for a longer period "
   ]
  },
  {
   "cell_type": "code",
   "execution_count": null,
   "metadata": {},
   "outputs": [],
   "source": [
    "# Looking at multiple instruments on the buoy\n",
    "instruments = [\n",
    "  ['CE02SHSM','SBD11','04-VELPTA000','recovered_inst','velpt_ab_instrument_recovered'],\n",
    "  ['CE02SHSM','RID26','04-VELPTA000','recovered_inst','velpt_ab_instrument_recovered'],\n",
    "  ['CE02SHSM','SBD12','05-WAVSSA000','recovered_host','wavss_a_dcl_statistics_recovered'],\n",
    "  ['CE02SHSM','SBD11','06-METBKA000','recovered_host','metbk_a_dcl_instrument_recovered']\n",
    "]\n",
    "# Specify additional parameters for the API request \n",
    "params = {\n",
    "  'beginDT':'2016-09-15T01:00:00.000Z', \n",
    "  'endDT':'2017-09-15T01:00:00.000Z'  \n",
    "}\n",
    "# Grab the data for each instrument\n",
    "out = []\n",
    "for jj in range(len(instruments)):\n",
    "  print(jj)\n",
    "  print instruments[jj]  \n",
    "  data_request_url ='/'.join((base_url,instruments[jj][0],instruments[jj][1],instruments[jj][2],instruments[jj][3],instruments[jj][4]))\n",
    "  r = requests.get(data_request_url, params=params, auth=(username, token))\n",
    "  data = r.json()\n",
    "  out.append(data['allURLs'][0])"
   ]
  },
  {
   "cell_type": "code",
   "execution_count": null,
   "metadata": {},
   "outputs": [],
   "source": [
    "out"
   ]
  },
  {
   "cell_type": "code",
   "execution_count": null,
   "metadata": {},
   "outputs": [],
   "source": [
    "files = [\n",
    "    'https://opendap.oceanobservatories.org/thredds/dodsC/ooi/bwang314@tamu.edu/20180525T105419-CE02SHSM-SBD11-04-VELPTA000-recovered_inst-velpt_ab_instrument_recovered/deployment0005_CE02SHSM-SBD11-04-VELPTA000-recovered_inst-velpt_ab_instrument_recovered_20170420T173000-20170915T010000.nc',\n",
    "    'https://opendap.oceanobservatories.org/thredds/dodsC/ooi/bwang314@tamu.edu/20180525T105426-CE02SHSM-RID26-04-VELPTA000-recovered_inst-velpt_ab_instrument_recovered/deployment0005_CE02SHSM-RID26-04-VELPTA000-recovered_inst-velpt_ab_instrument_recovered_20170420T173000-20170915T010000.nc',\n",
    "    'https://opendap.oceanobservatories.org/thredds/dodsC/ooi/bwang314@tamu.edu/20180525T105431-CE02SHSM-SBD12-05-WAVSSA000-recovered_host-wavss_a_dcl_statistics_recovered/deployment0005_CE02SHSM-SBD12-05-WAVSSA000-recovered_host-wavss_a_dcl_statistics_recovered_20170420T182302.158000-20170915T002303.057000.nc',\n",
    "    'https://opendap.oceanobservatories.org/thredds/dodsC/ooi/bwang314@tamu.edu/20180525T105440-CE02SHSM-SBD11-06-METBKA000-recovered_host-metbk_a_dcl_instrument_recovered/deployment0005_CE02SHSM-SBD11-06-METBKA000-recovered_host-metbk_a_dcl_instrument_recovered_20170420T173148.775000-20170915T005911.468000.nc'\n",
    "    ]"
   ]
  },
  {
   "cell_type": "code",
   "execution_count": null,
   "metadata": {},
   "outputs": [],
   "source": [
    "# single point velocity meter at 1 m\n",
    "d1 = xr.open_dataset(files[0])\n",
    "time_vel_1m = d1['time'].values\n",
    "pressure_1m = d1['pressure_mbar'].values/1000.\n",
    "east_vel_1m = d1['eastward_velocity'].values\n",
    "north_vel_1m = d1['northward_velocity'].values\n",
    "up_vel_1m = d1['upward_velocity'].values\n",
    "heading_1m = d1['heading_decidegree'].values\n",
    "pitch_1m = d1['pitch_decidegree'].values\n",
    "roll_1m = d1['roll_decidegree'].values\n",
    "temp_1m = d1['temperature_centidegree'].values/100.\n",
    "ampB1_1m = d1['amplitude_beam1'].values\n",
    "ampB2_1m = d1['amplitude_beam2'].values\n",
    "ampB3_1m = d1['amplitude_beam3'].values\n",
    "velocity_beam1 = d1['velocity_beam1'].values\n",
    "velocity_beam2 = d1['velocity_beam2'].values\n",
    "velocity_beam3 = d1['velocity_beam3'].values\n",
    "\n",
    "# single point velocity meter at 7 m\n",
    "d2 = xr.open_dataset(files[1])\n",
    "time_vel_7m = d2['time'].values\n",
    "pressure_7m = d2['pressure_mbar'].values/1000.\n",
    "east_vel_7m = d2['eastward_velocity'].values\n",
    "north_vel_7m = d2['northward_velocity'].values\n",
    "up_vel_7m = d2['upward_velocity'].values\n",
    "heading_7m = d2['heading_decidegree'].values\n",
    "pitch_7m = d2['pitch_decidegree'].values\n",
    "roll_7m = d2['roll_decidegree'].values\n",
    "temp_7m = d2['temperature_centidegree'].values/100.\n",
    "ampB1_7m = d2['amplitude_beam1'].values\n",
    "ampB2_7m = d2['amplitude_beam2'].values\n",
    "ampB3_7m = d2['amplitude_beam3'].values\n",
    "velocity_beam1_7m = d2['velocity_beam1'].values\n",
    "velocity_beam2_7m = d2['velocity_beam2'].values\n",
    "velocity_beam3_7m = d2['velocity_beam3'].values\n",
    "\n",
    "# wave statistics at recorded on the buoy\n",
    "d3 = xr.open_dataset(files[2])\n",
    "time_wave = d3['time'].values\n",
    "wave_height = d3['significant_wave_height'].values\n",
    "\n",
    "# Met data on the buoy\n",
    "d4 = xr.open_dataset(files[3])\n",
    "time_met = d4['time'].values\n",
    "air_temp = d4['air_temperature'].values\n",
    "sst = d4['sea_surface_temperature'].values\n",
    "ssc = d4['sea_surface_conductivity'].values\n",
    "precip = d4['precipitation'].values\n",
    "wind_e = d4['eastward_wind_velocity'].values\n",
    "wind_n = d4['eastward_wind_velocity'].values\n",
    "wind = np.sqrt(wind_e * wind_e + wind_n * wind_n)\n",
    "heatflux = d4['met_heatflx_minute'].values\n",
    "latnflux = d4['met_latnflx_minute'].values\n",
    "sensflux = d4['met_sensflx_minute'].values\n",
    "  "
   ]
  },
  {
   "cell_type": "code",
   "execution_count": null,
   "metadata": {},
   "outputs": [],
   "source": [
    "import scipy\n",
    "\n",
    "from scipy import signal\n",
    "\n",
    "wind_smooth=signal.savgol_filter(wind, 1153, 3)"
   ]
  },
  {
   "cell_type": "code",
   "execution_count": null,
   "metadata": {},
   "outputs": [],
   "source": [
    "fig, (ax1,ax2,ax3,ax4,ax5,ax6,ax7,ax8) = plt.subplots(8,1, sharex=True,figsize=(13,17))\n",
    "ax1.plot(time_vel_7m, up_vel_7m)\n",
    "ax1.set_ylabel('Up Vel (m/s)')\n",
    "\n",
    "ax2.plot(time_vel_7m, east_vel_7m)\n",
    "ax2.set_ylabel('East Vel (m/s)')\n",
    "\n",
    "ax3.plot(time_vel_7m, north_vel_7m)\n",
    "ax3.set_ylabel('North Vel (m/s)')\n",
    "\n",
    "ax4.plot(time_wave, wave_height,'r')\n",
    "ax4.set_ylabel('Sig wave height (m)')\n",
    "\n",
    "ax5.plot(time_met, wind)\n",
    "ax5.set_ylabel('Wind speed (m/s)')\n",
    "ax55 = ax5.twinx()\n",
    "ax55.plot(time_met,wind_smooth,'r')\n",
    "\n",
    "ax6.plot(time_met,precip)\n",
    "ax6.set_ylabel('Precipitation (mm)')\n",
    "\n",
    "ax7.plot(time_vel_7m,temp_7m)\n",
    "ax7.set_ylabel('Temp at 7 m')\n",
    "\n",
    "ax8.plot(time_met, air_temp)\n",
    "ax8.set_ylabel('Air temp')"
   ]
  },
  {
   "cell_type": "markdown",
   "metadata": {},
   "source": [
    "The precipitation data is hard to understand, from early June 2017, precipitation data show around 25 mm all the time. Not sure how precipitation data was recorded and calculated. \n",
    "\n",
    "There are two notable decreasing water temperature events during mid-late June and late July in 2017. In the first event, there was also increasing water velocity in the southwest direction and vetical direction.This might be a upwelling event. In the second event, the water temperature falling seems to be the response to the air temperature decrease. No signifciant upwelling velocity was observed. Futher investigation is needed to examine these two events. "
   ]
  },
  {
   "cell_type": "markdown",
   "metadata": {},
   "source": [
    "## Conclusion\n",
    "Based on this short analysis, several take aways are noted:\n",
    "\n",
    "In general, the velocity sensors have good performance in terms of capturing motion of water. Some issues were found. There issues need to be further investigated:\n",
    "\n",
    "1. It seems that velocity measurements at 1 m show spikes when the beam amplitude drop to a certain value. The Beam 3 is very sensitive to this, showing spikes in signal. \n",
    "\n",
    "2. Velocity meter at 7 m performed well without issues. The horizontal components align well with those in the 1 m velocity measurements. The velocities are also correlated with the sea state.\n",
    "\n",
    "3. The potential error in water velocity affects the calculation of the relative wind speed. \n",
    "\n",
    "4. Precipitation is hard to understand, further examination is needed.\n",
    "\n",
    "5. Some notable temperature drops occur in this measurement period. The decreasing temperature may be associated with different environmental evetns. further investigation is needed. "
   ]
  },
  {
   "cell_type": "code",
   "execution_count": null,
   "metadata": {},
   "outputs": [],
   "source": []
  }
 ],
 "metadata": {
  "colab": {
   "collapsed_sections": [],
   "default_view": {},
   "name": "Practice_report.ipynb",
   "provenance": [],
   "toc_visible": true,
   "version": "0.3.2",
   "views": {}
  },
  "kernelspec": {
   "display_name": "Python 3",
   "language": "python",
   "name": "python3"
  },
  "language_info": {
   "codemirror_mode": {
    "name": "ipython",
    "version": 3
   },
   "file_extension": ".py",
   "mimetype": "text/x-python",
   "name": "python",
   "nbconvert_exporter": "python",
   "pygments_lexer": "ipython3",
   "version": "3.6.4"
  }
 },
 "nbformat": 4,
 "nbformat_minor": 1
}
