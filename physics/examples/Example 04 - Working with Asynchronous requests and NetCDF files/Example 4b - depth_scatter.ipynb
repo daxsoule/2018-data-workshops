{
 "cells": [
  {
   "cell_type": "markdown",
   "metadata": {},
   "source": [
    "## Scatter Plotting from NetCDF\n",
    "\n",
    "In this example we show how to programatically download and plot colored depth profilers using OOI NetCDF data. We will use data from the Cabled Array Oregon Slope Base Shallow Profiler Mooring Shallow Profiler CTD. You will learn:\n",
    "\n",
    "* how to find the data you are looking for\n",
    "* how to use the machine to machine API to request data\n",
    "* how to load the NetCDF data into your notebook, once the data request has completed\n",
    "* how to plot data as a colored scatter plot\n",
    "\n",
    "For the instrument in this example, you will need the Reference Designator, Stream and Data Delivery Method to make the request to the M2M API. More information about the instrument can be found here:\n",
    "http://ooi.visualocean.net/instruments/view/RS01SBPS-SF01A-2A-CTDPFA102\n",
    "\n",
    "![RS01SBPS-SF01A-2A-CTDPFA102](https://github.com/ooi-data-review/ooi_datateam_notebooks/raw/master/images/RS01SBPS-SF01A-2A-CTDPFA102.png)"
   ]
  },
  {
   "cell_type": "code",
   "execution_count": null,
   "metadata": {},
   "outputs": [],
   "source": [
    "import requests\n",
    "import time"
   ]
  },
  {
   "cell_type": "markdown",
   "metadata": {},
   "source": [
    "Login in at https://ooinet.oceanobservatories.org/ and obtain your <b>API username and API token</b> under your profile (top right corner), or use the credentials provided below."
   ]
  },
  {
   "cell_type": "code",
   "execution_count": null,
   "metadata": {},
   "outputs": [],
   "source": [
    "username = 'OOIAPI-D8S960UXPK4K03'\n",
    "token = 'IXL48EQ2XY'"
   ]
  },
  {
   "cell_type": "markdown",
   "metadata": {},
   "source": [
    "Specify your inputs."
   ]
  },
  {
   "cell_type": "code",
   "execution_count": null,
   "metadata": {},
   "outputs": [],
   "source": [
    "subsite = 'RS01SBPS'\n",
    "node = 'SF01A'\n",
    "sensor = '2A-CTDPFA102'\n",
    "method = 'streamed'\n",
    "stream = 'ctdpf_sbe43_sample'\n",
    "beginDT = '2016-10-25T01:01:01.000Z'\n",
    "endDT = '2016-11-01T01:01:01.000Z'"
   ]
  },
  {
   "cell_type": "markdown",
   "metadata": {},
   "source": [
    "Build the GET request URL and send the request to the M2M API endpoint."
   ]
  },
  {
   "cell_type": "code",
   "execution_count": null,
   "metadata": {},
   "outputs": [],
   "source": [
    "base_url = 'https://ooinet.oceanobservatories.org/api/m2m/12576/sensor/inv/'\n",
    "\n",
    "data_request_url ='/'.join((base_url,subsite,node,sensor,method,stream))\n",
    "params = {\n",
    "    'beginDT':beginDT,\n",
    "    'endDT':endDT,   \n",
    "}\n",
    "r = requests.get(data_request_url, params=params, auth=(username, token))\n",
    "data = r.json()"
   ]
  },
  {
   "cell_type": "code",
   "execution_count": null,
   "metadata": {},
   "outputs": [],
   "source": [
    "data['allURLs'][0]"
   ]
  },
  {
   "cell_type": "markdown",
   "metadata": {},
   "source": [
    "Check if the request has completed."
   ]
  },
  {
   "cell_type": "code",
   "execution_count": null,
   "metadata": {},
   "outputs": [],
   "source": [
    "%%time\n",
    "check_complete = data['allURLs'][1] + '/status.txt'\n",
    "for i in range(1800): \n",
    "    r = requests.get(check_complete)\n",
    "    if r.status_code == requests.codes.ok:\n",
    "        print('request completed')\n",
    "        break\n",
    "    else:\n",
    "        time.sleep(1)"
   ]
  },
  {
   "cell_type": "code",
   "execution_count": null,
   "metadata": {},
   "outputs": [],
   "source": [
    "import re\n",
    "import xarray as xr\n",
    "import pandas as pd\n",
    "import os"
   ]
  },
  {
   "cell_type": "markdown",
   "metadata": {},
   "source": [
    "Parse the thredds server to get a list of all NetCDF files. Each deployment is seperated into a seperate netcdf file."
   ]
  },
  {
   "cell_type": "code",
   "execution_count": null,
   "metadata": {},
   "outputs": [],
   "source": [
    "url = data['allURLs'][0]\n",
    "tds_url = 'https://opendap.oceanobservatories.org/thredds/dodsC'\n",
    "datasets = requests.get(url).text\n",
    "urls = re.findall(r'href=[\\'\"]?([^\\'\" >]+)', datasets)\n",
    "x = re.findall(r'(ooi/.*?.nc)', datasets)\n",
    "for i in x:\n",
    "    if i.endswith('.nc') == False:\n",
    "        x.remove(i)\n",
    "for i in x:\n",
    "    try:\n",
    "        float(i[-4])\n",
    "    except:\n",
    "        x.remove(i)\n",
    "datasets = [os.path.join(tds_url, i) for i in x]\n",
    "datasets"
   ]
  },
  {
   "cell_type": "markdown",
   "metadata": {},
   "source": [
    "Load all files into a single xarray dataset."
   ]
  },
  {
   "cell_type": "code",
   "execution_count": null,
   "metadata": {},
   "outputs": [],
   "source": [
    "ds = xr.open_mfdataset(datasets)\n",
    "ds = ds.swap_dims({'obs': 'time'})\n",
    "ds = ds.chunk({'time': 100})\n",
    "ds"
   ]
  },
  {
   "cell_type": "markdown",
   "metadata": {},
   "source": [
    "Plot the dataset using matplotlib, working under the hood of xarray."
   ]
  },
  {
   "cell_type": "code",
   "execution_count": null,
   "metadata": {},
   "outputs": [],
   "source": [
    "import cmocean\n",
    "import matplotlib.pyplot as plt"
   ]
  },
  {
   "cell_type": "code",
   "execution_count": null,
   "metadata": {},
   "outputs": [],
   "source": [
    "time = ds['time'].values\n",
    "depth = ds['seawater_pressure'].values\n",
    "oxygen = ds['corrected_dissolved_oxygen'].values"
   ]
  },
  {
   "cell_type": "code",
   "execution_count": null,
   "metadata": {},
   "outputs": [],
   "source": [
    "fig, ax = plt.subplots()\n",
    "fig.set_size_inches(16, 6)\n",
    "\n",
    "ax.invert_yaxis()\n",
    "ax.grid()\n",
    "ax.set_xlim(time[0],time[-1])\n",
    "\n",
    "scatter_plot = plt.scatter(time, depth, c=oxygen, cmap= cmocean.cm.oxy)\n",
    "\n",
    "cbar = fig.colorbar(scatter_plot, ax=ax)\n",
    "cbar.update_ticks()\n",
    "cbar.formatter.set_useOffset(False)\n",
    "\n",
    "plt.title('Cabled Array Oregon Slope Base Shallow Profiler Mooring Shallow Profiler CTD')\n",
    "plt.ylabel('Pressure (dbar)')\n",
    "plt.xlabel('Time')\n",
    "cbar.ax.set_ylabel('Temperature and Salinity Corrected Dissolved Oxygen\\n(umol kg-1)')\n",
    "\n",
    "plt.show()"
   ]
  },
  {
   "cell_type": "markdown",
   "metadata": {},
   "source": [
    "Hypoxic conditions ovv the oregon coast."
   ]
  }
 ],
 "metadata": {
  "kernelspec": {
   "display_name": "ooi",
   "language": "python",
   "name": "ooi"
  },
  "language_info": {
   "codemirror_mode": {
    "name": "ipython",
    "version": 3
   },
   "file_extension": ".py",
   "mimetype": "text/x-python",
   "name": "python",
   "nbconvert_exporter": "python",
   "pygments_lexer": "ipython3",
   "version": "3.6.5"
  }
 },
 "nbformat": 4,
 "nbformat_minor": 2
}
