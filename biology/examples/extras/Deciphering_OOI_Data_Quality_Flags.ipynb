{
 "cells": [
  {
   "cell_type": "markdown",
   "metadata": {},
   "source": [
    "## Parsing and Plotting QC Algorithm Results and Annotations\n",
    "\n",
    "In this example we will learn how to programatically download OOI JSON data and work with the QC algorithm results as well as annotations. We will use data from the Global Irminger Sea Apex Surface Mooring - Near Surface Instrument Frame - Dissolved Oxygen for this example, but the mechanics apply to all datasets that are processed through the OOI Cyberinfrastructure (CI) system. You wil learn:\n",
    "\n",
    "* how to find the data you are looking for\n",
    "* how to use the machine to machine API to request JSON data\n",
    "* how to explore and interactively plot data using bokeh\n",
    "* how to parse and visualize QC results\n",
    "* how to parse and visualize Annotations\n",
    "\n",
    "For the instrument in this example, you will need the Reference Designator, Stream and Data Delivery Method to make the request to the M2M API. More information about the instrument can be found here:\n",
    "http://ooi.visualocean.net/instruments/view/GI01SUMO-RID16-06-DOSTAD000\n",
    "\n",
    "![GI01SUMO-RID16-06-DOSTAD000](https://github.com/ooi-data-review/ooi_datateam_notebooks/raw/master/images/GI01SUMO-RID16-06-DOSTAD000.png)"
   ]
  },
  {
   "cell_type": "code",
   "execution_count": null,
   "metadata": {},
   "outputs": [],
   "source": [
    "import requests\n",
    "import datetime"
   ]
  },
  {
   "cell_type": "markdown",
   "metadata": {},
   "source": [
    "Before we get started, login in at https://ooinet.oceanobservatories.org/ and obtain your <b>API username and API token</b> under your profile (top right corner), or use the credential provided below."
   ]
  },
  {
   "cell_type": "code",
   "execution_count": null,
   "metadata": {},
   "outputs": [],
   "source": [
    "username = 'OOIAPI-D8S960UXPK4K03'\n",
    "token = 'IXL48EQ2XY'"
   ]
  },
  {
   "cell_type": "markdown",
   "metadata": {},
   "source": [
    "Specify your inputs."
   ]
  },
  {
   "cell_type": "code",
   "execution_count": null,
   "metadata": {},
   "outputs": [],
   "source": [
    "subsite = 'GI01SUMO'\n",
    "node = 'RID16'\n",
    "sensor = '06-DOSTAD000'\n",
    "method = 'recovered_host'\n",
    "stream = 'dosta_abcdjm_dcl_instrument_recovered'\n",
    "beginDT = '2015-09-01T01:01:01.900Z'\n",
    "endDT = '2016-03-01T01:01:01.900Z'"
   ]
  },
  {
   "cell_type": "markdown",
   "metadata": {},
   "source": [
    "Build the GET request URL and send the request to the M2M API endpoint."
   ]
  },
  {
   "cell_type": "code",
   "execution_count": null,
   "metadata": {},
   "outputs": [],
   "source": [
    "base_url = 'https://ooinet.oceanobservatories.org/api/m2m/12576/sensor/inv/'\n",
    "\n",
    "data_request_url ='/'.join((base_url,subsite,node,sensor,method,stream))\n",
    "params = {\n",
    "    'beginDT':beginDT,\n",
    "    'endDT':endDT,\n",
    "    'limit':1000,   \n",
    "}\n",
    "\n",
    "r = requests.get(data_request_url, params=params,auth=(username, token))\n",
    "data = r.json()"
   ]
  },
  {
   "cell_type": "markdown",
   "metadata": {},
   "source": [
    "How many data points were returned?"
   ]
  },
  {
   "cell_type": "code",
   "execution_count": null,
   "metadata": {},
   "outputs": [],
   "source": [
    "len(data)"
   ]
  },
  {
   "cell_type": "markdown",
   "metadata": {},
   "source": [
    "Examine the content of the first data point."
   ]
  },
  {
   "cell_type": "code",
   "execution_count": null,
   "metadata": {},
   "outputs": [],
   "source": [
    "data[0]"
   ]
  },
  {
   "cell_type": "markdown",
   "metadata": {},
   "source": [
    "Convert the json response to a pandas dataframe and convert the time stamps."
   ]
  },
  {
   "cell_type": "code",
   "execution_count": null,
   "metadata": {},
   "outputs": [],
   "source": [
    "import pandas as pd\n",
    "import numpy as np\n",
    "import json"
   ]
  },
  {
   "cell_type": "code",
   "execution_count": null,
   "metadata": {},
   "outputs": [],
   "source": [
    "df = pd.DataFrame.from_records(map(json.loads, map(json.dumps,data)))\n",
    "df['time'] = pd.to_datetime(df['time'], unit='s', origin=pd.Timestamp('1900-01-01'))"
   ]
  },
  {
   "cell_type": "markdown",
   "metadata": {},
   "source": [
    "Extract the dissolved oxygen parameter for plotting."
   ]
  },
  {
   "cell_type": "code",
   "execution_count": null,
   "metadata": {},
   "outputs": [],
   "source": [
    "time = list(df['time'].values)\n",
    "oxygen = list(df['dissolved_oxygen'].values)"
   ]
  },
  {
   "cell_type": "markdown",
   "metadata": {},
   "source": [
    "Plot the data."
   ]
  },
  {
   "cell_type": "code",
   "execution_count": null,
   "metadata": {},
   "outputs": [],
   "source": [
    "import os\n",
    "from bokeh.plotting import figure, output_file, reset_output, show, ColumnDataSource, save\n",
    "from bokeh.models import BoxAnnotation\n",
    "from bokeh.io import output_notebook"
   ]
  },
  {
   "cell_type": "code",
   "execution_count": null,
   "metadata": {},
   "outputs": [],
   "source": [
    "!pip install bokeh"
   ]
  },
  {
   "cell_type": "code",
   "execution_count": null,
   "metadata": {},
   "outputs": [],
   "source": [
    "p = figure(width=800,\n",
    "           height=400,\n",
    "           title='Global Irminger Sea Apex Surface Mooring - Near Surface Instrument Frame - Dissolved Oxygen',\n",
    "           x_axis_label='Time (GMT)',\n",
    "           y_axis_label='Oxygen umol kg-1',\n",
    "           x_axis_type='datetime')\n",
    "\n",
    "p.circle(time, oxygen, fill_color='white', fill_alpha=0.2, size=4)\n",
    "output_notebook()\n",
    "show(p)"
   ]
  },
  {
   "cell_type": "markdown",
   "metadata": {},
   "source": [
    "Extract only the qc results."
   ]
  },
  {
   "cell_type": "code",
   "execution_count": null,
   "metadata": {},
   "outputs": [],
   "source": [
    "df = df[['time', 'dissolved_oxygen','dissolved_oxygen_qc_results','dissolved_oxygen_qc_executed']]\n",
    "df.head()"
   ]
  },
  {
   "cell_type": "markdown",
   "metadata": {},
   "source": [
    "The QC flags for all tests are OR'd together to produce a single value for each data point. So, given a qc_executed value of 29 we can see which tests were run by reversing the process:  \n",
    "\n",
    "QC table\n",
    "```\n",
    "Test name              Bit position\n",
    "                         15 14 13 12 11 10  9  8  7  6  5  4  3  2  1  0\n",
    "global_range_test         0  0  0  0  0  0  0  0  0  0  0  0  0  0  0  1\n",
    "dataqc_localrangetest     0  0  0  0  0  0  0  0  0  0  0  0  0  0  1  0\n",
    "dataqc_spiketest          0  0  0  0  0  0  0  0  0  0  0  0  0  1  0  0\n",
    "dataqc_polytrendtest      0  0  0  0  0  0  0  0  0  0  0  0  1  0  0  0\n",
    "dataqc_stuckvaluetest     0  0  0  0  0  0  0  0  0  0  0  1  0  0  0  0\n",
    "dataqc_gradienttest       0  0  0  0  0  0  0  0  0  0  1  0  0  0  0  0\n",
    "dataqc_propagateflags     0  0  0  0  0  0  0  0  1  0  0  0  0  0  0  0\n",
    "```\n",
    "\n"
   ]
  },
  {
   "cell_type": "code",
   "execution_count": null,
   "metadata": {},
   "outputs": [],
   "source": [
    "np.unpackbits(np.array(29).astype('uint8'))"
   ]
  },
  {
   "cell_type": "markdown",
   "metadata": {},
   "source": [
    "If you compare this result to the table above you can see that the following tests were executed:\n",
    "\n",
    "```\n",
    "global_range_test\n",
    "dataqc_spiketest\n",
    "dataqc_polytrendtest\n",
    "dataqc_stuckvaluetest\n",
    "```\n",
    "\n",
    "We can craft a function to create new booleans variables for each test run containing the pass/fail results from that test:"
   ]
  },
  {
   "cell_type": "code",
   "execution_count": null,
   "metadata": {},
   "outputs": [],
   "source": [
    "def parse_qc(df):\n",
    "    vars = [x.split('_qc_results')[0] for x in df.columns if 'qc_results' in x]\n",
    "    results = [x+'_qc_results' for x in vars]\n",
    "    executed = [x+'_qc_executed' for x in vars]\n",
    "    key_list = vars + results + executed\n",
    "\n",
    "    for var in vars:\n",
    "        qc_result = var + '_qc_results'\n",
    "        qc_executed = var + '_qc_executed'\n",
    "        names = {\n",
    "            0: var + '_global_range_test',\n",
    "            1: var + '_dataqc_localrangetest',\n",
    "            2: var + '_dataqc_spiketest',\n",
    "            3: var + '_dataqc_polytrendtest',\n",
    "            4: var + '_dataqc_stuckvaluetest',\n",
    "            5: var + '_dataqc_gradienttest',\n",
    "            7: var + '_dataqc_propagateflags',\n",
    "        }\n",
    "        # Just in case a different set of tests were run on some datapoint. *This should never happen*\n",
    "        executed = np.bitwise_or.reduce(df[qc_executed].values)\n",
    "        executed_bits = np.unpackbits(executed.astype('uint8'))\n",
    "        for index, value in enumerate(executed_bits[::-1]):\n",
    "            if value:\n",
    "                name = names.get(index)\n",
    "                mask = 2 ** index\n",
    "                values = (df[qc_result].values & mask) > 0\n",
    "                df[name] = values\n",
    "        df.drop([qc_executed, qc_result], axis=1, inplace=True)\n",
    "    return df"
   ]
  },
  {
   "cell_type": "markdown",
   "metadata": {},
   "source": [
    "Run the function. The result gives us the QC algorithm result for every data point. True = test passed."
   ]
  },
  {
   "cell_type": "code",
   "execution_count": null,
   "metadata": {},
   "outputs": [],
   "source": [
    "df_qc = parse_qc(df)\n",
    "df_qc.head()"
   ]
  },
  {
   "cell_type": "markdown",
   "metadata": {},
   "source": [
    "Select data points that failed the global range test, for example."
   ]
  },
  {
   "cell_type": "code",
   "execution_count": null,
   "metadata": {},
   "outputs": [],
   "source": [
    "df_qc[df_qc['dissolved_oxygen_global_range_test'] == False]"
   ]
  },
  {
   "cell_type": "markdown",
   "metadata": {},
   "source": [
    "Plot points that failed the test in red."
   ]
  },
  {
   "cell_type": "code",
   "execution_count": null,
   "metadata": {},
   "outputs": [],
   "source": [
    "colormap = {False: 'red', True: 'green'}\n",
    "colors = [colormap[x] for x in df_qc['dissolved_oxygen_global_range_test']]"
   ]
  },
  {
   "cell_type": "code",
   "execution_count": null,
   "metadata": {},
   "outputs": [],
   "source": [
    "p = figure(width=800,\n",
    "           height=400,\n",
    "           title='Global Irminger Sea Apex Surface Mooring - Near Surface Instrument Frame - Dissolved Oxygen',\n",
    "           x_axis_label='Time (GMT)',\n",
    "           y_axis_label='Oxygen umol kg-1',\n",
    "           x_axis_type='datetime')\n",
    "\n",
    "p.circle(time, oxygen, color=colors, fill_alpha=0.2, size=4)\n",
    "output_notebook()\n",
    "show(p)"
   ]
  },
  {
   "cell_type": "markdown",
   "metadata": {},
   "source": [
    "Import annotations for 'GI01SUMO-RID16-06-DOSTAD000'. See the request_annotations.ipynb notebook for more details."
   ]
  },
  {
   "cell_type": "code",
   "execution_count": null,
   "metadata": {},
   "outputs": [],
   "source": [
    "!pip install netCDF4"
   ]
  },
  {
   "cell_type": "code",
   "execution_count": null,
   "metadata": {},
   "outputs": [],
   "source": [
    "import netCDF4 as nc"
   ]
  },
  {
   "cell_type": "code",
   "execution_count": null,
   "metadata": {},
   "outputs": [],
   "source": [
    "beginDT = int(nc.date2num(datetime.datetime.strptime(\"2012-01-01T01:00:01Z\",'%Y-%m-%dT%H:%M:%SZ'),'seconds since 1970-01-01')*1000)\n",
    "endDT = int(nc.date2num(datetime.datetime.utcnow(),'seconds since 1970-01-01')*1000)\n",
    "\n",
    "anno_base_url = 'https://ooinet.oceanobservatories.org/api/m2m/12580/anno/find?' # base url and port for annotations\n",
    "\n",
    "params = { # define parameters\n",
    "    'beginDT':beginDT,\n",
    "    'endDT':endDT,\n",
    "    'refdes':'GI01SUMO-RID16-06-DOSTAD000'\n",
    "}\n",
    "\n",
    "r = requests.get(anno_base_url, params=params,auth=(username, token)) # send data request\n",
    "\n",
    "anno_data = pd.read_json(json.dumps(r.json())) # convert json response to pandas dataframe"
   ]
  },
  {
   "cell_type": "markdown",
   "metadata": {},
   "source": [
    "Set up a function to convert the annotation milliseconds since 1970, which is a different time schema than is used for data, which is in seconds since 1900."
   ]
  },
  {
   "cell_type": "code",
   "execution_count": null,
   "metadata": {},
   "outputs": [],
   "source": [
    "def convert_time(time_stamp):\n",
    "    try: \n",
    "        time_stamp = (int(time_stamp)) / 1000\n",
    "        time_stamp = nc.num2date(time_stamp,'seconds since 1970-01-01')\n",
    "    except:\n",
    "        pass\n",
    "    return time_stamp\n",
    "\n",
    "# convert time stamps\n",
    "anno_data['beginDT'] = anno_data['beginDT'].apply(convert_time)\n",
    "anno_data['endDT'] = anno_data['endDT'].apply(convert_time)"
   ]
  },
  {
   "cell_type": "markdown",
   "metadata": {},
   "source": [
    "Print the annotations."
   ]
  },
  {
   "cell_type": "code",
   "execution_count": null,
   "metadata": {},
   "outputs": [],
   "source": [
    "for i in range(len((anno_data['annotation'].values))):\n",
    "    print(i)\n",
    "    print(anno_data['annotation'].iloc[i])\n",
    "    print('start time:', anno_data['beginDT'].iloc[i])\n",
    "    print('end time:', anno_data['endDT'].iloc[i],'\\n')"
   ]
  },
  {
   "cell_type": "markdown",
   "metadata": {},
   "source": [
    "Select information from the fourth annotation and create the final plot."
   ]
  },
  {
   "cell_type": "code",
   "execution_count": null,
   "metadata": {},
   "outputs": [],
   "source": [
    "anno_start_time = anno_data['beginDT'].iloc[4]\n",
    "anno = anno_data['annotation'].iloc[4]"
   ]
  },
  {
   "cell_type": "code",
   "execution_count": null,
   "metadata": {},
   "outputs": [],
   "source": [
    "p = figure(width=800,\n",
    "           height=400,\n",
    "           title='Global Irminger Sea Apex Surface Mooring - Near Surface Instrument Frame - Dissolved Oxygen',\n",
    "           x_axis_label='Time (GMT)',\n",
    "           y_axis_label='Oxygen umol kg-1',\n",
    "           x_axis_type='datetime')\n",
    "\n",
    "p.line([anno_start_time,time[-1]], [(min(oxygen)-10),(min(oxygen)-10)], line_width=10, legend='Annotation: '+anno)\n",
    "p.circle(time, oxygen, color=colors, fill_alpha=0.2, size=4)\n",
    "p.legend.location = \"top_left\"\n",
    "\n",
    "output_notebook()\n",
    "show(p)\n"
   ]
  },
  {
   "cell_type": "markdown",
   "metadata": {},
   "source": [
    "Optionally, you can save the plot as an html file for sharing."
   ]
  },
  {
   "cell_type": "code",
   "execution_count": null,
   "metadata": {},
   "outputs": [],
   "source": [
    "output_file(os.getcwd())\n",
    "save(p, filename='plot.html')"
   ]
  },
  {
   "cell_type": "markdown",
   "metadata": {},
   "source": [
    "This example was developed by Friedrich Knuth."
   ]
  }
 ],
 "metadata": {
  "colab": {
   "default_view": {},
   "name": "Example 11 - Deciphering OOI Data Quality Flags",
   "provenance": [],
   "version": "0.3.2",
   "views": {}
  },
  "kernelspec": {
   "display_name": "ooi",
   "language": "python",
   "name": "ooi"
  },
  "language_info": {
   "codemirror_mode": {
    "name": "ipython",
    "version": 3
   },
   "file_extension": ".py",
   "mimetype": "text/x-python",
   "name": "python",
   "nbconvert_exporter": "python",
   "pygments_lexer": "ipython3",
   "version": "3.6.5"
  }
 },
 "nbformat": 4,
 "nbformat_minor": 1
}
