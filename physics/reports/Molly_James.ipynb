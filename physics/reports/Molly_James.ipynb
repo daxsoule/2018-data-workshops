{
 "nbformat": 4,
 "nbformat_minor": 0,
 "metadata": {
  "colab": {
   "name": "Molly_datareport.ipynb",
   "version": "0.3.2",
   "views": {},
   "default_view": {},
   "provenance": [],
   "collapsed_sections": []
  }
 },
 "cells": [
  {
   "metadata": {},
   "cell_type": "markdown",
   "source": [
    "# Connecticut River plume signature in the Coastal Pioneer Array from annual peak discharge, 2017\n",
    "Looking at the Inshore Surface Mooring (**CP03ISSM**), the Central Surface Mooring (**CP01CNSM**), and the Offshore Surface Mooring (**CP04OSSM**). Using the Bulk Meteorology Package (METBK) to try to corroborate each other and track the surface salinity. Cruise data is available as well. \n",
    "\n",
    "Possibly corroborate other Connecticut River Plume data from NASA MODIS satellite data, OOI Cruise data, and/or from Mike Whitney, UConn (?). \n",
    "\n",
    "\n",
    "---\n",
    "\n",
    "\n",
    "Molly James, University of Connecticut (molly.james@uconn.edu)\n",
    "\n",
    "OOI Data Workshop - Physics\n",
    "\n",
    "May 21-25, 2018"
   ]
  },
  {
   "metadata": {},
   "cell_type": "markdown",
   "source": [
    "# Starting to look at the data \n",
    "| Site | Instrument | Deployment | Reference Designator | Method | Stream \n",
    "| -- | -- | -- | -- | -- | --\n",
    "| Inshore  | METBK | 5 | [CP03ISSM-SBD11-06-METBKA000](https://ooinet.oceanobservatories.org/data_access/?search=CP03ISSM-SBD11-06-METBKA000) | recovered_host | metbk_a_dcl_instrument\n",
    "| Central | METBK | 6 & 7  |[CP01CNSM-SBD12-06-METBKA000](https://ooinet.oceanobservatories.org/data_access/?search=CP01CNSM-SBD12-06-METBKA000) | recovered_host | metbk_a_dcl_instrument |\n",
    "| Offshore | METBK | 5 & 6 | [CP04OSSM-SBD11-06-METBKA000](https://ooinet.oceanobservatories.org/data_access/?search=CP04OSSM-SBD11-06-METBKA000) | recovered_host | metbk_a_dcl_instrument"
   ]
  },
  {
   "metadata": {},
   "cell_type": "code",
   "source": [
    "## Using the API to navigate the data available from CP03ISPM\n",
    "\n",
    "# First, let's import the Python libraries we will need\n",
    "import requests\n",
    "import datetime\n",
    "import matplotlib.pyplot as plt\n",
    "import pandas as pd\n",
    "import numpy as np\n",
    "import re\n",
    "import os"
   ],
   "execution_count": null,
   "outputs": []
  },
  {
   "metadata": {},
   "cell_type": "code",
   "source": [
    "# API Information\n",
    "USERNAME ='OOIAPI-B3GJ9N7J18VVKI'\n",
    "TOKEN= '9KXZ1WIFTM'\n",
    "VOCAB_API = 'https://ooinet.oceanobservatories.org/api/m2m/12586/vocab/inv' # used to get metadata\n",
    "ANNO_API = 'https://ooinet.oceanobservatories.org/api/m2m/12580/anno/find'  # annotations API url\n"
   ],
   "execution_count": null,
   "outputs": []
  },
  {
   "metadata": {},
   "cell_type": "code",
   "source": [
    "# Instrument Information\n",
    "site1 = 'CP03ISSM' # inshore surface mooring\n",
    "site2 = 'CP01CNSM' # central surface mooring\n",
    "site3 = 'CP04OSSM' # offshore surface mooring\n",
    "node  = 'SBD11'\n",
    "node2 = 'SBD12'\n",
    "instrument = '06-METBKA000'\n",
    "method = 'recovered_host'              # need to have the underscore not a dash!\n",
    "stream = 'metbk_a_dcl_instrument_recovered'"
   ],
   "execution_count": null,
   "outputs": []
  },
  {
   "metadata": {},
   "cell_type": "markdown",
   "source": [
    "## Time of interest\n",
    "Time period of interest is the peak discharge of the Connecticut River in the spring. This is usually in April when the snow melts in the watershed, therefore, to get a window of data is good, so March to May. \n",
    "\n",
    "Only going to consider the data from Spring 2017.\n",
    "* Inshore Surface\n",
    "* Central Surface\n",
    "  * two options for METBK instruments \n",
    "* Offshore Surface\n",
    "* MODIS Satellite Ocean Color \n",
    "* Cruise Data?\n",
    "  * Need to see timing of cruises for deployments"
   ]
  },
  {
   "metadata": {},
   "cell_type": "code",
   "source": [
    "# importing new libraries\n",
    "!pip install netCDF4\n",
    "import netCDF4 as nc\n",
    "\n",
    "!pip install xarray\n",
    "import xarray as xr\n",
    "\n",
    "!pip install cmocean\n",
    "import cmocean\n"
   ],
   "execution_count": null,
   "outputs": []
  },
  {
   "metadata": {},
   "cell_type": "code",
   "source": [
    "# request to see the timing of the deployments, when time periods we want to look at\n",
    "# Specify some functions to convert timestamps\n",
    "ntp_epoch = datetime.datetime(1900, 1, 1)\n",
    "unix_epoch = datetime.datetime(1970, 1, 1)\n",
    "ntp_delta = (unix_epoch - ntp_epoch).total_seconds()\n",
    "\n",
    "def ntp_seconds_to_datetime(ntp_seconds):\n",
    "    return datetime.datetime.utcfromtimestamp(ntp_seconds - ntp_delta).replace(microsecond=0)\n",
    "  \n",
    "def convert_time(ms):\n",
    "  if ms != None:\n",
    "    return datetime.datetime.utcfromtimestamp(ms/1000)\n",
    "  else:\n",
    "    return None"
   ],
   "execution_count": null,
   "outputs": []
  },
  {
   "metadata": {},
   "cell_type": "code",
   "source": [
    "# Setup the API request url\n",
    "# to check the time period of the deployment\n",
    "\n",
    "ASSET_API = 'https://ooinet.oceanobservatories.org/api/m2m/12587'           # calibration/deployment Info\n",
    "data_request_url = ASSET_API + '/events/deployment/query'\n",
    "params = {                                  # checking if available for spring 2018\n",
    "  'beginDT':'2017-03-01T00:00:00.000Z', \n",
    "  'endDT':'2017-06-01T00:00:00.000Z',\n",
    "  'refdes':site1+'-'+node+'-'+instrument,   # change site between site1, site2, site3\n",
    "}\n",
    "\n",
    "# Grab the information from the server\n",
    "r = requests.get(data_request_url, params=params, auth=(USERNAME, TOKEN))\n",
    "data = r.json()\n",
    "\n",
    "df = pd.DataFrame() # Setup empty array\n",
    "for d in data:\n",
    "  df = df.append({\n",
    "      'deployment': d['deploymentNumber'],\n",
    "      'start': convert_time(d['eventStartTime']),\n",
    "      'stop': convert_time(d['eventStopTime']),\n",
    "      'latitude': d['location']['latitude'],\n",
    "      'longitude': d['location']['longitude'],\n",
    "      'sensor': d['sensor']['uid'],\n",
    "      'asset_id': d['sensor']['assetId'],\n",
    "    }, ignore_index=True)\n",
    "df"
   ],
   "execution_count": null,
   "outputs": []
  },
  {
   "metadata": {},
   "cell_type": "markdown",
   "source": [
    "## Inshore Surface Mooring CP03ISSM\n",
    "\n",
    "Asynchronous requesting the NetCDF files to get the whole data set telemetered because not recovered yet"
   ]
  },
  {
   "metadata": {},
   "cell_type": "code",
   "source": [
    "beginDT = '2017-03-01T00:00:00.000Z'\n",
    "endDT = '2017-06-01T00:00:00.000Z'\n",
    "\n",
    "DATA_API = 'https://ooinet.oceanobservatories.org/api/m2m/12576/sensor/inv' # used to get data\n"
   ],
   "execution_count": null,
   "outputs": []
  },
  {
   "metadata": {},
   "cell_type": "code",
   "source": [
    "# Inshore Surface Mooring \n",
    "# DO NOT RERUN B/C ALREADY REQUESTED\n",
    "#data_request_url ='/'.join((DATA_API,site1,node,instrument,method,stream))\n",
    "#params = {\n",
    "#    'beginDT':beginDT,\n",
    "#    'endDT':endDT,   \n",
    "#}\n",
    "#r = requests.get(data_request_url, params=params, auth=(USERNAME, TOKEN))\n",
    "#data = r.json()\n"
   ],
   "execution_count": null,
   "outputs": []
  },
  {
   "metadata": {},
   "cell_type": "code",
   "source": [
    "#data\n"
   ],
   "execution_count": null,
   "outputs": []
  },
  {
   "metadata": {},
   "cell_type": "code",
   "source": [
    "#whos # lets you see your variable space"
   ],
   "execution_count": null,
   "outputs": []
  },
  {
   "metadata": {},
   "cell_type": "code",
   "source": [
    "#%%time\n",
    "#check_complete = data['allURLs'][1] + '/status.txt'\n",
    "#for i in range(1800): \n",
    "#    r = requests.get(check_complete)\n",
    "#    if r.status_code == requests.codes.ok:\n",
    "#        print('request completed')\n",
    "#        break\n",
    "#    else:\n",
    "#        time.sleep(1)"
   ],
   "execution_count": null,
   "outputs": []
  },
  {
   "metadata": {},
   "cell_type": "code",
   "source": [
    "#data['allURLs'][0]"
   ],
   "execution_count": null,
   "outputs": []
  },
  {
   "metadata": {},
   "cell_type": "code",
   "source": [
    "#Parse the thredds server to get a list of all NetCDF files. Each deployment is seperated into a seperate netcdf file.\n",
    "\n",
    "url = 'https://opendap.oceanobservatories.org/thredds/catalog/ooi/molly.james@uconn.edu/20180524T140008-CP03ISSM-SBD11-06-METBKA000-recovered_host-metbk_a_dcl_instrument_recovered/catalog.html'\n",
    "tds_url = 'https://opendap.oceanobservatories.org/thredds/dodsC'\n",
    "datasets = requests.get(url).text\n",
    "urls = re.findall(r'href=[\\'\"]?([^\\'\" >]+)', datasets)\n",
    "x = re.findall(r'(ooi/.*?.nc)', datasets)\n",
    "for i in x:\n",
    "    if i.endswith('.nc') == False:\n",
    "        x.remove(i)\n",
    "for i in x:\n",
    "    try:\n",
    "        float(i[-4])\n",
    "    except:\n",
    "        x.remove(i)\n",
    "datasets1 = [os.path.join(tds_url, i) for i in x]\n",
    "datasets1"
   ],
   "execution_count": null,
   "outputs": []
  },
  {
   "metadata": {},
   "cell_type": "code",
   "source": [
    "# remove the VELPT (point velocity instrument) data from datasets that was added???\n"
   ],
   "execution_count": null,
   "outputs": []
  },
  {
   "metadata": {},
   "cell_type": "code",
   "source": [
    "!pip install dask"
   ],
   "execution_count": null,
   "outputs": []
  },
  {
   "metadata": {},
   "cell_type": "code",
   "source": [
    "# Load all files into a single xarray dataset.\n",
    "# xarray is for the geosciences community. uses pandas, numpy, and math libraries under the hood. and understands the netCDF file formats.\n",
    "data_url1 = datasets1[0]\n",
    "data_url1"
   ],
   "execution_count": null,
   "outputs": []
  },
  {
   "metadata": {},
   "cell_type": "code",
   "source": [
    "# Open the dataset\n",
    "ds_issm = xr.open_dataset(data_url1)\n",
    "\n",
    "# Swap the dimensions\n",
    "ds_issm = ds_issm.swap_dims({'obs': 'time'})\n",
    "ds_issm"
   ],
   "execution_count": null,
   "outputs": []
  },
  {
   "metadata": {},
   "cell_type": "code",
   "source": [
    "print(ds_issm.geospatial_lat_max)\n",
    "print(ds_issm.geospatial_lon_max)"
   ],
   "execution_count": null,
   "outputs": []
  },
  {
   "metadata": {},
   "cell_type": "code",
   "source": [
    "# plotting?\n",
    "## my attempt at plotting\n",
    "\n",
    "plt.plot(ds_issm['time'],ds_issm['met_salsurf'],'r.')\n",
    "plt.title('CP03ISSM, Sea Surface Salinity')\n",
    "plt.ylabel('Salinity')\n",
    "plt.xlabel('Time')\n",
    "plt.show()"
   ],
   "execution_count": null,
   "outputs": []
  },
  {
   "metadata": {},
   "cell_type": "markdown",
   "source": [
    "![alt text](https://nadww01.er.usgs.gov/nwisweb/data/img/USGS.01184000.66838.00060..20170301.20170601.log.0.p50.pres.gif)\n",
    "\n",
    "This is the peak discharge time period for the Connecticut River. There will be a delay in the response of the ocean. It makes sense that the salinity would decrease after around April 15th (which it does in the above salinity plot)"
   ]
  },
  {
   "metadata": {},
   "cell_type": "code",
   "source": [
    "\n",
    "plt.plot(ds_issm['time'],ds_issm['met_salsurf_qc_executed'],'b.')\n",
    "\n",
    "plt.title('CP03ISSM, OOI QC Executed SSS')\n",
    "plt.ylabel('Salinity')\n",
    "plt.xlabel('Time')\n",
    "\n",
    "plt.show()"
   ],
   "execution_count": null,
   "outputs": []
  },
  {
   "metadata": {},
   "cell_type": "code",
   "source": [
    "plt.plot(ds_issm['time'],ds_issm['met_salsurf_qc_results'],'.')\n",
    "\n",
    "plt.title('CP03ISSM, OOI QC Results SSS')\n",
    "plt.ylabel('Salinity')\n",
    "plt.xlabel('Time')\n",
    "plt.xlim(['2017-03-01T00:00:00.000Z','2017-06-01T00:00:00.000Z'])\n",
    "\n",
    "plt.show()"
   ],
   "execution_count": null,
   "outputs": []
  },
  {
   "metadata": {},
   "cell_type": "markdown",
   "source": [
    "## Central Surface Mooring CP01CNSM\n",
    "going to get a larger time window to show the movement of the plume to the shelf.\n"
   ]
  },
  {
   "metadata": {},
   "cell_type": "code",
   "source": [
    "beginDT = '2017-02-01T00:00:00.000Z'\n",
    "endDT = '2017-09-01T00:00:00.000Z'\n",
    "#Larger time period \n"
   ],
   "execution_count": null,
   "outputs": []
  },
  {
   "metadata": {},
   "cell_type": "code",
   "source": [
    "data_request_url = ASSET_API + '/events/deployment/query'\n",
    "params = {                                   # checking if available for spring 2018\n",
    "  'beginDT':beginDT, \n",
    "  'endDT':endDT,\n",
    "  'refdes':site2+'-'+node2+'-'+instrument,   # change site between site1, site2, site3\n",
    "}\n",
    "\n",
    "# Grab the information from the server\n",
    "r = requests.get(data_request_url, params=params, auth=(USERNAME, TOKEN))\n",
    "data = r.json()\n",
    "\n",
    "df = pd.DataFrame() # Setup empty array\n",
    "for d in data:\n",
    "  df = df.append({\n",
    "      'deployment': d['deploymentNumber'],\n",
    "      'start': convert_time(d['eventStartTime']),\n",
    "      'stop': convert_time(d['eventStopTime']),\n",
    "      'latitude': d['location']['latitude'],\n",
    "      'longitude': d['location']['longitude'],\n",
    "      'sensor': d['sensor']['uid'],\n",
    "      'asset_id': d['sensor']['assetId'],\n",
    "    }, ignore_index=True)\n",
    "df"
   ],
   "execution_count": null,
   "outputs": []
  },
  {
   "metadata": {},
   "cell_type": "code",
   "source": [
    "# Central Surface Mooring, site2 and node2 (more data at node2)\n",
    "# DO NOT RERUN B/C ALREADY REQUESTED\n",
    "\n",
    "#data_request_url ='/'.join((DATA_API,site2,node2,instrument,method,stream))\n",
    "#params = {\n",
    "#    'beginDT':beginDT,\n",
    "#    'endDT':endDT,   \n",
    "#}\n",
    "#r = requests.get(data_request_url, params=params, auth=(USERNAME, TOKEN))\n",
    "#data = r.json()\n"
   ],
   "execution_count": null,
   "outputs": []
  },
  {
   "metadata": {},
   "cell_type": "code",
   "source": [
    "#data"
   ],
   "execution_count": null,
   "outputs": []
  },
  {
   "metadata": {},
   "cell_type": "code",
   "source": [
    "#data['allURLs'][0]"
   ],
   "execution_count": null,
   "outputs": []
  },
  {
   "metadata": {},
   "cell_type": "code",
   "source": [
    "#Parse the thredds server to get a list of all NetCDF files. Each deployment is seperated into a seperate netcdf file.\n",
    "\n",
    "url = 'https://opendap.oceanobservatories.org/thredds/catalog/ooi/molly.james@uconn.edu/20180524T150109-CP01CNSM-SBD12-06-METBKA000-recovered_host-metbk_a_dcl_instrument_recovered/catalog.html'\n",
    "tds_url = 'https://opendap.oceanobservatories.org/thredds/dodsC'\n",
    "datasets = requests.get(url).text\n",
    "urls = re.findall(r'href=[\\'\"]?([^\\'\" >]+)', datasets)\n",
    "x = re.findall(r'(ooi/.*?.nc)', datasets)\n",
    "for i in x:\n",
    "    if i.endswith('.nc') == False:\n",
    "        x.remove(i)\n",
    "for i in x:\n",
    "    try:\n",
    "        float(i[-4])\n",
    "    except:\n",
    "        x.remove(i)\n",
    "datasets2 = [os.path.join(tds_url, i) for i in x]\n",
    "datasets2"
   ],
   "execution_count": null,
   "outputs": []
  },
  {
   "metadata": {},
   "cell_type": "code",
   "source": [
    "# only looking at the METBK package not the VELPT\n",
    "data_url2 = datasets2[0],datasets2[2]\n",
    "data_url2"
   ],
   "execution_count": null,
   "outputs": []
  },
  {
   "metadata": {},
   "cell_type": "code",
   "source": [
    "#Load all files into a single xarray dataset.\n",
    "\n",
    "ds_cnsm = xr.open_mfdataset(data_url2)\n",
    "ds_cnsm = ds_cnsm.swap_dims({'obs': 'time'})\n",
    "ds_cnsm = ds_cnsm.chunk({'time': 100})\n",
    "ds_cnsm = ds_cnsm.sortby('time') # data from different deployments can overlap so we want to sort all data by time stamp.\n",
    "ds_cnsm"
   ],
   "execution_count": null,
   "outputs": []
  },
  {
   "metadata": {},
   "cell_type": "code",
   "source": [
    "\n",
    "plt.plot(ds_cnsm['time'],ds_cnsm['met_salsurf'],'r.')\n",
    "plt.title('CP01CNSM, Sea Surface Salinity')\n",
    "plt.ylabel('Salinity')\n",
    "plt.xlabel('Time')\n",
    "#plt.xlim(['2017-05-14T00:00:00.000Z','2017-06-15T00:00:00.000Z'])\n",
    "plt.show()\n"
   ],
   "execution_count": null,
   "outputs": []
  },
  {
   "metadata": {},
   "cell_type": "code",
   "source": [
    "\n",
    "plt.plot(ds_cnsm['time'],ds_cnsm['met_salsurf_qc_executed'],'b.')\n",
    "\n",
    "plt.title('CP01CNSM, OOI QC Executed SSS')\n",
    "plt.ylabel('Salinity')\n",
    "plt.xlabel('Time')\n",
    "plt.show()"
   ],
   "execution_count": null,
   "outputs": []
  },
  {
   "metadata": {},
   "cell_type": "code",
   "source": [
    "plt.plot(ds_cnsm['time'],ds_cnsm['met_salsurf_qc_results'],'.')\n",
    "\n",
    "plt.title('CP01CNSM, OOI QC Results SSS')\n",
    "plt.ylabel('Salinity')\n",
    "plt.xlabel('Time')\n",
    "plt.show()\n",
    "#this doesn't look right either..."
   ],
   "execution_count": null,
   "outputs": []
  },
  {
   "metadata": {},
   "cell_type": "markdown",
   "source": [
    "Some strangeness with the QC results, scattered low salinity things that aren't in a pattern"
   ]
  },
  {
   "metadata": {},
   "cell_type": "markdown",
   "source": [
    "## Offshore Surface Mooring CP04OSSM\n",
    "Now to check if the salinity is affected by the plume this far out onto the shelf."
   ]
  },
  {
   "metadata": {},
   "cell_type": "code",
   "source": [
    "beginDT = '2017-02-01T00:00:00.000Z'\n",
    "endDT = '2017-09-01T00:00:00.000Z'\n",
    "#Larger time period \n"
   ],
   "execution_count": null,
   "outputs": []
  },
  {
   "metadata": {},
   "cell_type": "code",
   "source": [
    "data_request_url = ASSET_API + '/events/deployment/query'\n",
    "params = {                                   # checking if available for spring 2018\n",
    "  'beginDT':beginDT, \n",
    "  'endDT':endDT,\n",
    "  'refdes':site3+'-'+node+'-'+instrument,   # change site between site1, site2, site3\n",
    "}\n",
    "\n",
    "# Grab the information from the server\n",
    "r = requests.get(data_request_url, params=params, auth=(USERNAME, TOKEN))\n",
    "data = r.json()\n",
    "\n",
    "df = pd.DataFrame() # Setup empty array\n",
    "for d in data:\n",
    "  df = df.append({\n",
    "      'deployment': d['deploymentNumber'],\n",
    "      'start': convert_time(d['eventStartTime']),\n",
    "      'stop': convert_time(d['eventStopTime']),\n",
    "      'latitude': d['location']['latitude'],\n",
    "      'longitude': d['location']['longitude'],\n",
    "      'sensor': d['sensor']['uid'],\n",
    "      'asset_id': d['sensor']['assetId'],\n",
    "    }, ignore_index=True)\n",
    "df"
   ],
   "execution_count": null,
   "outputs": []
  },
  {
   "metadata": {},
   "cell_type": "code",
   "source": [
    "# Offshore Surface Mooring, site3 and node\n",
    "# DO NOT RERUN B/C ALREADY REQUESTED\n",
    "#data_request_url ='/'.join((DATA_API,site3,node,instrument,method,stream))\n",
    "#params = {\n",
    "#    'beginDT':beginDT,\n",
    "#    'endDT':endDT,   \n",
    "#}\n",
    "#r = requests.get(data_request_url, params=params, auth=(USERNAME, TOKEN))\n",
    "#data = r.json()"
   ],
   "execution_count": null,
   "outputs": []
  },
  {
   "metadata": {},
   "cell_type": "code",
   "source": [
    "#data"
   ],
   "execution_count": null,
   "outputs": []
  },
  {
   "metadata": {},
   "cell_type": "code",
   "source": [
    "#data['allURLs'][0]"
   ],
   "execution_count": null,
   "outputs": []
  },
  {
   "metadata": {},
   "cell_type": "code",
   "source": [
    "#Parse the thredds server to get a list of all NetCDF files. Each deployment is seperated into a seperate netcdf file.\n",
    "\n",
    "url = 'https://opendap.oceanobservatories.org/thredds/catalog/ooi/molly.james@uconn.edu/20180524T154404-CP04OSSM-SBD11-06-METBKA000-recovered_host-metbk_a_dcl_instrument_recovered/catalog.html'\n",
    "tds_url = 'https://opendap.oceanobservatories.org/thredds/dodsC'\n",
    "datasets = requests.get(url).text\n",
    "urls = re.findall(r'href=[\\'\"]?([^\\'\" >]+)', datasets)\n",
    "x = re.findall(r'(ooi/.*?.nc)', datasets)\n",
    "for i in x:\n",
    "    if i.endswith('.nc') == False:\n",
    "        x.remove(i)\n",
    "for i in x:\n",
    "    try:\n",
    "        float(i[-4])\n",
    "    except:\n",
    "        x.remove(i)\n",
    "datasets3 = [os.path.join(tds_url, i) for i in x]\n",
    "datasets3"
   ],
   "execution_count": null,
   "outputs": []
  },
  {
   "metadata": {},
   "cell_type": "code",
   "source": [
    "# only looking at the METBK package not the VELPT\n",
    "data_url3 = datasets3[0],datasets3[2]\n",
    "data_url3"
   ],
   "execution_count": null,
   "outputs": []
  },
  {
   "metadata": {},
   "cell_type": "code",
   "source": [
    "#Load all files into a single xarray dataset.\n",
    "\n",
    "ds_ossm = xr.open_mfdataset(data_url2)\n",
    "ds_ossm = ds_ossm.swap_dims({'obs': 'time'})\n",
    "ds_ossm = ds_ossm.chunk({'time': 100})\n",
    "ds_ossm = ds_ossm.sortby('time') # data from different deployments can overlap so we want to sort all data by time stamp.\n",
    "ds_ossm"
   ],
   "execution_count": null,
   "outputs": []
  },
  {
   "metadata": {},
   "cell_type": "code",
   "source": [
    "plt.plot(ds_ossm['time'],ds_ossm['met_salsurf'],'r.')\n",
    "plt.title('CP04OSSM, Sea Surface Salinity')\n",
    "plt.ylabel('Salinity')\n",
    "plt.xlabel('Time')\n",
    "# plt.xlim(['2017-03-01T00:00:00.000Z','2017-06-01T00:00:00.000Z'])\n",
    "plt.show()"
   ],
   "execution_count": null,
   "outputs": []
  },
  {
   "metadata": {},
   "cell_type": "code",
   "source": [
    "\n",
    "plt.plot(ds_ossm['time'],ds_ossm['met_salsurf_qc_executed'],'b.')\n",
    "\n",
    "plt.title('CP04OSSM, OOI QC Executed SSS')\n",
    "plt.ylabel('Salinity')\n",
    "plt.xlabel('Time')\n",
    "plt.show()"
   ],
   "execution_count": null,
   "outputs": []
  },
  {
   "metadata": {},
   "cell_type": "code",
   "source": [
    "\n",
    "plt.plot(ds_ossm['time'],ds_ossm['met_salsurf_qc_results'],'.')\n",
    "\n",
    "plt.title('CP04OSSM, OOI QC Executed SSS')\n",
    "plt.ylabel('Salinity')\n",
    "plt.xlabel('Time')\n",
    "plt.show()"
   ],
   "execution_count": null,
   "outputs": []
  },
  {
   "metadata": {},
   "cell_type": "markdown",
   "source": [
    "# Satellite data for peak discharge LIS\n",
    "[Connecticut River Plume viewed from Satellite, 555 nm](https://drive.google.com/file/d/1WMORja_-R_cCKqvs_du7gSw5wV0vFq08/view?usp=sharing)\n",
    "\n",
    "[2017/04/16\n",
    "](https://drive.google.com/file/d/1O4Z12mJV4k3gHYuVcEIF0GzBveq-If5l/view?usp=sharing)\n",
    "\n",
    "[2017/04/18\n",
    "](https://drive.google.com/file/d/1lkwUK7yFpEioCnxHTUmkvtNQq7xRPFX_/view?usp=sharing)\n",
    "\n",
    "[2017/05/04\n",
    "](https://drive.google.com/file/d/1GNOPNc1b6YMzScnoM35x1jWTbHna7x-n/view?usp=sharing)\n",
    "\n",
    "[2017/05/18](https://drive.google.com/file/d/1clzfsulHnVLl-dVkdP13IMdWFafjZrOb/view?usp=sharing)\n",
    "\n",
    "\n",
    "Yellow shading within the Long Island Sound is the evidence of the plume in MODIS satellite color data from [NASA](https://oceancolor.gsfc.nasa.gov/cgi/browse.pl?sen=am). Downloaded the NetCDF files for days in April and May which had enough coverage (not blocked by clouds). These days are after the peack discharge: April 16, April 18, May 04, and May 18, 2017. The red box on the plots is the location of the Inshore Surface Mooring. \n",
    "\n",
    "\n"
   ]
  },
  {
   "metadata": {},
   "cell_type": "markdown",
   "source": [
    "# CTD at 7m on ISSM\n",
    "Check data at the ISSM Near Surface Frame CTD which is at (planned) depth of 7m. Maybe this will be able to detect the plume. I think it is unlikely because the plume is probably quite thin on the shelf. "
   ]
  },
  {
   "metadata": {},
   "cell_type": "code",
   "source": [
    "site1 = 'CP03ISSM'                          # inshore surface mooring\n",
    "node = 'RID27'                              # Near Surface Instrument Frame\n",
    "instrument = '03-CTDBPC000'                 # CTD\n",
    "method = 'recovered_inst'                   # recovered instrument\n",
    "# method = 'telemetered'                     # telemtered data missing for time period wanted...\n",
    "\n",
    "stream = 'ctdbp_cdef_instrument_recovered'  \n",
    "\n",
    "beginDT = '2017-02-01T00:00:00.000Z'\n",
    "endDT = '2017-09-01T00:00:00.000Z'\n",
    "#this is all in deployment 5 "
   ],
   "execution_count": null,
   "outputs": []
  },
  {
   "metadata": {},
   "cell_type": "code",
   "source": [
    "# Inshore Surface Mooring \n",
    "# DO NOT RERUN B/C ALREADY REQUESTED\n",
    "#data_request_url ='/'.join((DATA_API,site1,node,instrument,method,stream))\n",
    "#params = {\n",
    "#    'beginDT':beginDT,\n",
    "#    'endDT':endDT,   \n",
    "#}\n",
    "#r = requests.get(data_request_url, params=params, auth=(USERNAME, TOKEN))\n",
    "#data = r.json()"
   ],
   "execution_count": null,
   "outputs": []
  },
  {
   "metadata": {},
   "cell_type": "code",
   "source": [
    "#data"
   ],
   "execution_count": null,
   "outputs": []
  },
  {
   "metadata": {},
   "cell_type": "code",
   "source": [
    "#data['allURLs'][0]"
   ],
   "execution_count": null,
   "outputs": []
  },
  {
   "metadata": {},
   "cell_type": "code",
   "source": [
    "url = 'https://opendap.oceanobservatories.org/thredds/catalog/ooi/molly.james@uconn.edu/20180524T201333-CP03ISSM-RID27-03-CTDBPC000-recovered_inst-ctdbp_cdef_instrument_recovered/catalog.html'\n",
    "tds_url = 'https://opendap.oceanobservatories.org/thredds/dodsC'\n",
    "datasets = requests.get(url).text\n",
    "urls = re.findall(r'href=[\\'\"]?([^\\'\" >]+)', datasets)\n",
    "x = re.findall(r'(ooi/.*?.nc)', datasets)\n",
    "for i in x:\n",
    "    if i.endswith('.nc') == False:\n",
    "        x.remove(i)\n",
    "for i in x:\n",
    "    try:\n",
    "        float(i[-4])\n",
    "    except:\n",
    "        x.remove(i)\n",
    "datasets4 = [os.path.join(tds_url, i) for i in x]\n",
    "\n",
    "ds_issm_ctd = xr.open_mfdataset(datasets4)\n",
    "ds_issm_ctd = ds_issm_ctd.swap_dims({'obs': 'time'})\n",
    "ds_issm_ctd\n"
   ],
   "execution_count": null,
   "outputs": []
  },
  {
   "metadata": {},
   "cell_type": "code",
   "source": [
    "## plotting\n",
    "\n",
    "plt.plot(ds_issm_ctd['time'],ds_issm_ctd['practical_salinity'],'r.',label='practical salinity')\n",
    "plt.plot(ds_issm_ctd['time'],ds_issm_ctd['practical_salinity_qc_executed'],'b.',label='QC executed')\n",
    "plt.plot(ds_issm_ctd['time'],ds_issm_ctd['practical_salinity_qc_results'],'.',label='QC results')\n",
    "\n",
    "plt.title('CP03ISSM, 7m CTD, recovered')\n",
    "plt.ylabel('Salinity')\n",
    "plt.xlabel('Time')\n",
    "plt.legend()\n",
    "\n",
    "plt.xlim(['2017-03-01T00:00:00.000Z','2017-06-01T00:00:00.000Z'])\n",
    "\n",
    "plt.show()\n",
    "#practical_salinity\n",
    "#practical_salinity_qc_executed\n",
    "#practical_salinity_qc_results"
   ],
   "execution_count": null,
   "outputs": []
  },
  {
   "metadata": {},
   "cell_type": "markdown",
   "source": [
    "The data from the CTD on the Near Surface Instrument Frame is missing for the time period of interest, April and May 2017.  Wasn't able to see if there was a freshwater signal below the surface."
   ]
  },
  {
   "metadata": {},
   "cell_type": "code",
   "source": [
    ""
   ],
   "execution_count": null,
   "outputs": []
  },
  {
   "metadata": {},
   "cell_type": "markdown",
   "source": [
    "# Cruise Data from Deployments\n",
    "Perhaps look at the CTD casts during the cruises for deployments 5, 6, and 7 at the times closest to April and May 2017. \n",
    "\n",
    "* [CTD cast from Offshore, Cruise 8 Leg 1, 2017-06-01](https://alfresco.oceanobservatories.org/alfresco/d/d/workspace/SpacesStore/1ed1b498-7f06-4495-86b6-8098ebd8acef/3204-00802_Quick_Look_Cruise_Report_Coastal_Pioneer_8_Leg_1_2017-06-03_Ver_1-00.pdf)\n",
    "* No data available for [Pioneer-07b_SI_2017-04-18](https://alfresco.oceanobservatories.org/alfresco/faces/jsp/browse/browse.jsp)"
   ]
  },
  {
   "metadata": {},
   "cell_type": "code",
   "source": [
    "import pandas as pd\n"
   ],
   "execution_count": null,
   "outputs": []
  },
  {
   "metadata": {},
   "cell_type": "code",
   "source": [
    "# First, specify the data file for the cruise CTD cast\n",
    "# Down and Up Casts\n",
    "cruise_data_file = 'https://alfresco.oceanobservatories.org/alfresco/d/d/workspace/SpacesStore/976c0631-48c8-4add-9d04-c95a066f56c4/ar18a009.asc'\n",
    "\n",
    "# Read in the data file without headers due to a bug in the file (two of the header names run together)\n",
    "cruise_data = pd.read_table(cruise_data_file, delim_whitespace=True, header=None, skiprows=1)\n",
    "\n",
    "# Add back the necessary headers\n",
    "cruise_data = cruise_data.rename(columns={0:'Pressure', 1:'Temperature', 13:'Salinity'})\n",
    "cruist_data.head"
   ],
   "execution_count": null,
   "outputs": []
  },
  {
   "metadata": {},
   "cell_type": "code",
   "source": [
    "plt.gca().invert_yaxis()\n",
    "\n",
    "plt.plot(cruise_data.Salinity,cruise_data.Pressure,'.')\n",
    "\n",
    "plt.title('Ship Board CTD at Offshore Site on 06/01/2017')\n",
    "plt.ylabel('Depth (m)')\n",
    "plt.xlabel('Salinity (psu)')\n",
    "\n",
    "plt.show()\n"
   ],
   "execution_count": null,
   "outputs": []
  },
  {
   "metadata": {},
   "cell_type": "code",
   "source": [
    ""
   ],
   "execution_count": null,
   "outputs": []
  },
  {
   "metadata": {},
   "cell_type": "markdown",
   "source": [
    "# Summary\n",
    "* salinity from 3 surface buoys METBK instruments\n",
    "* data not available at inshore mooring for near surface CTD, 7m\n",
    "* timing of peak discharge from with USGS river portal for CT River\n",
    "* tracked plume with NASA MODIS ocean color\n",
    "* shipboard CTD profile measurements for April/May not available at the moment\n"
   ]
  },
  {
   "metadata": {},
   "cell_type": "markdown",
   "source": [
    "# Conclusions\n",
    "\n",
    "* According to the buoy measurements, the Connecticut River plume for 2017 was detected by at the Inshore site, but not the Central nor Offshore sites. \n",
    "* Not sure what the OOI quality control measures are, some strange scatter in the graphs from the qc_results parameters\n",
    "* Once shipboard data is available for April/May 2017 should look at it\n",
    "* Once near surface CTD is available at inshore site should look at it\n",
    "* Probable biofouling on the instruments, can see deployment switch in data\n",
    "* Should perhaps look at the surface temperature data to see a signal as well\n",
    "* More to look at!"
   ]
  },
  {
   "metadata": {},
   "cell_type": "markdown",
   "source": [
    ""
   ]
  }
 ]
}
