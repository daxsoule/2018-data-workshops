{
 "nbformat": 4,
 "nbformat_minor": 0,
 "metadata": {
  "colab": {
   "name": "Synchronous Requests and Basic Plotting.ipynb",
   "version": "0.3.2",
   "views": {},
   "default_view": {},
   "provenance": [],
   "collapsed_sections": [],
   "toc_visible": true
  },
  "kernelspec": {
   "display_name": "OOI",
   "language": "python",
   "name": "ooi"
  }
 },
 "cells": [
  {
   "metadata": {},
   "cell_type": "markdown",
   "source": [
    "# Synchronous Requests & Basic Plotting\n",
    "*Written by Sage Lichtenwalner, Rutgers University, June 6, 2018*\n",
    "\n",
    "In this example, we will show how to use the OOI API to make synchronous requests to grab JSON data from the system, and then how to turn that data into some usable plots.\n",
    "\n",
    "Synchronous requests provide nearly instantaneous results as a JSON object, however, larger requests are also decimated up to a maximum of 20,000 data points.  Asynchronous requests generally take a bit longer (sometimes even more than an hour), but the resulting NetCDF or CSV files include all of the available data.\n",
    "\n",
    "Before we get started, you will need to look into the OOI Data Portal [https://ooinet.oceanobservatories.org](https://ooinet.oceanobservatories.org) and obtain your **API username and API token**, which you can find in your profile."
   ]
  },
  {
   "metadata": {},
   "cell_type": "markdown",
   "source": [
    "## Simple Timeseries Plots"
   ]
  },
  {
   "metadata": {},
   "cell_type": "code",
   "source": [
    "# First, let's import the Python libraries we will need\n",
    "import requests\n",
    "import datetime\n",
    "import matplotlib.pyplot as plt"
   ],
   "execution_count": null,
   "outputs": []
  },
  {
   "metadata": {},
   "cell_type": "markdown",
   "source": [
    "Next, let's specify some variables we will use to request the data via the API"
   ]
  },
  {
   "metadata": {},
   "cell_type": "code",
   "source": [
    "# API Information\n",
    "USERNAME =''\n",
    "TOKEN= ''\n",
    "API_BASE_URL = 'https://ooinet.oceanobservatories.org/api/m2m/12576/sensor/inv/'"
   ],
   "execution_count": null,
   "outputs": []
  },
  {
   "metadata": {},
   "cell_type": "markdown",
   "source": [
    "For this example, let's grab a year of meteorological data from the [Pioneer Offshore Surface Mooring](http://ooi.visualocean.net/instruments/view/CP04OSSM-SBD11-06-METBKA000) (CP04OSSM)."
   ]
  },
  {
   "metadata": {},
   "cell_type": "code",
   "source": [
    "# Instrument Information\n",
    "site = 'CP04OSSM'\n",
    "node = 'SBD11'\n",
    "instrument = '06-METBKA000'\n",
    "method = 'telemetered'\n",
    "stream = 'metbk_a_dcl_instrument'\n",
    "\n",
    "data_request_url ='/'.join((API_BASE_URL,site,node,instrument,method,stream))\n",
    "\n",
    "params = {\n",
    "  'beginDT':'2017-01-01T00:00:00.000Z',\n",
    "  'endDT':'2018-01-01T00:00:00.000Z',\n",
    "  'limit':1000,   \n",
    "}"
   ],
   "execution_count": null,
   "outputs": []
  },
  {
   "metadata": {},
   "cell_type": "markdown",
   "source": [
    "* beginDT and endDT are used to specify the date range needed.\n",
    "* \"limit\" is used to specify the approximate size of the decimated dataset that is returned.  Max is 20,000.\n",
    "* If we want higher resolution data, we will need to use an asynchronous request"
   ]
  },
  {
   "metadata": {},
   "cell_type": "markdown",
   "source": [
    "Now, let's grab the data, which is returned as a JSON array so we can convert it into a python object using the requests.json() method."
   ]
  },
  {
   "metadata": {},
   "cell_type": "code",
   "source": [
    "# Grab the data\n",
    "r = requests.get(data_request_url, params=params, auth=(USERNAME, TOKEN))\n",
    "data = r.json()"
   ],
   "execution_count": null,
   "outputs": []
  },
  {
   "metadata": {},
   "cell_type": "markdown",
   "source": [
    "How may data points were returned?"
   ]
  },
  {
   "metadata": {},
   "cell_type": "code",
   "source": [
    "print( len(data) )"
   ],
   "execution_count": null,
   "outputs": []
  },
  {
   "metadata": {},
   "cell_type": "markdown",
   "source": [
    "Let's take a look at the first element."
   ]
  },
  {
   "metadata": {},
   "cell_type": "code",
   "source": [
    "data[0]"
   ],
   "execution_count": null,
   "outputs": []
  },
  {
   "metadata": {},
   "cell_type": "markdown",
   "source": [
    "Because we didn't didn't specify any parameters, all parameters for this data stream are included, as well as 2 QC variables for each."
   ]
  },
  {
   "metadata": {},
   "cell_type": "markdown",
   "source": [
    "So as we can see, we have quite few variables here, but we can't easily do anything with this, so let's process the result into something we can use."
   ]
  },
  {
   "metadata": {},
   "cell_type": "markdown",
   "source": [
    "Because times are returned as **seconds since 1/1/1900**, we will need a routine to convert them to a native Python datetime format.  \n",
    "\n",
    "The datetime.utcfromtimestamp() function expects seconds since 1/1/1970, so we also need to adjust for that."
   ]
  },
  {
   "metadata": {},
   "cell_type": "code",
   "source": [
    "# Time Processing Routine\n",
    "ntp_epoch = datetime.datetime(1900, 1, 1)\n",
    "unix_epoch = datetime.datetime(1970, 1, 1)\n",
    "ntp_delta = (unix_epoch - ntp_epoch).total_seconds()\n",
    "\n",
    "def ntp_seconds_to_datetime(ntp_seconds):\n",
    "    return datetime.datetime.utcfromtimestamp(ntp_seconds - ntp_delta).replace(microsecond=0)\n"
   ],
   "execution_count": null,
   "outputs": []
  },
  {
   "metadata": {},
   "cell_type": "markdown",
   "source": [
    "Next we will iterate over the entire data array and save just the parameters we want into new variables."
   ]
  },
  {
   "metadata": {},
   "cell_type": "code",
   "source": [
    "# Process the data\n",
    "time = []\n",
    "air_temp = []\n",
    "water_temp = []\n",
    "for i in range(len(data)):\n",
    "  time.append(ntp_seconds_to_datetime(data[i]['time']))\n",
    "  air_temp.append(data[i]['air_temperature'])\n",
    "  water_temp.append(data[i]['sea_surface_temperature'])\n"
   ],
   "execution_count": null,
   "outputs": []
  },
  {
   "metadata": {},
   "cell_type": "code",
   "source": [
    "# Let's make a timeseries plot\n",
    "plt.plot_date(time, air_temp, 'r.', label='Air')\n",
    "plt.plot_date(time, water_temp, 'b.', label='Water')\n",
    "plt.xlabel('Date')\n",
    "plt.ylabel('Temperature (C)')\n",
    "plt.title('Data from %s' % (site));\n",
    "plt.legend(frameon=1, facecolor='w');"
   ],
   "execution_count": null,
   "outputs": []
  },
  {
   "metadata": {},
   "cell_type": "markdown",
   "source": [
    "## Profiles & Subplots"
   ]
  },
  {
   "metadata": {},
   "cell_type": "markdown",
   "source": [
    "Okay, so we can plot a timeseries of temperature easy enough.\n",
    "\n",
    "Let's try to do some more advanced oceanography by looking at some CTD profiles from the [Pioneer Offshore Profiling Mooring](http://ooi.visualocean.net/sites/view/CP04OSPM)."
   ]
  },
  {
   "metadata": {},
   "cell_type": "code",
   "source": [
    "# Instrument Information\n",
    "site = 'CP04OSPM' #Upstream: CP02PMUO\n",
    "node = 'WFP01'\n",
    "instrument = '03-CTDPFK000'\n",
    "method = 'telemetered'\n",
    "stream = 'ctdpf_ckl_wfp_instrument'\n",
    "\n",
    "data_request_url ='/'.join((API_BASE_URL,site,node,instrument,method,stream))\n",
    "\n",
    "params = {\n",
    "  'beginDT':'2017-10-24T00:00:00.000Z',\n",
    "  'endDT':'2017-10-25T00:00:00.000Z',\n",
    "  'limit':1000,   \n",
    "}"
   ],
   "execution_count": null,
   "outputs": []
  },
  {
   "metadata": {},
   "cell_type": "markdown",
   "source": [
    "To keep things simple, we'll only request one day of data this time."
   ]
  },
  {
   "metadata": {},
   "cell_type": "code",
   "source": [
    "# Grab the data\n",
    "r = requests.get(data_request_url, params=params, auth=(USERNAME, TOKEN))\n",
    "data = r.json()"
   ],
   "execution_count": null,
   "outputs": []
  },
  {
   "metadata": {},
   "cell_type": "markdown",
   "source": [
    "Again, let's take a look at the first item.  The structure is the same, but the variables are different."
   ]
  },
  {
   "metadata": {},
   "cell_type": "code",
   "source": [
    "data[0]"
   ],
   "execution_count": null,
   "outputs": []
  },
  {
   "metadata": {},
   "cell_type": "markdown",
   "source": [
    "This time, rather than the crude \"for\" loop we used before to convert the dataset into something usable, let's directly import the data into a pandas array."
   ]
  },
  {
   "metadata": {},
   "cell_type": "code",
   "source": [
    "import pandas as pd\n",
    "import json"
   ],
   "execution_count": null,
   "outputs": []
  },
  {
   "metadata": {},
   "cell_type": "code",
   "source": [
    "# Convert data to pandas array\n",
    "profiler = pd.read_json(json.dumps(data))\n",
    "\n",
    "# Let's keep just the columns we want\n",
    "profiler = profiler[['time','ctdpf_ckl_seawater_pressure','ctdpf_ckl_seawater_temperature','density','practical_salinity']]\n",
    "\n",
    "# Display the first few rows\n",
    "profiler.head(5)"
   ],
   "execution_count": null,
   "outputs": []
  },
  {
   "metadata": {},
   "cell_type": "markdown",
   "source": [
    "Again, we need to convert time into something usable.  While we're at it, let's also make the new time variable the index for the pandas array, and we'll rename a few columns."
   ]
  },
  {
   "metadata": {},
   "cell_type": "code",
   "source": [
    "profiler['datetime'] = profiler['time'].apply(ntp_seconds_to_datetime)\n",
    "profiler = profiler.set_index('datetime')\n",
    "profiler.rename(columns={'ctdpf_ckl_seawater_pressure': 'pressure',\n",
    "                        'ctdpf_ckl_seawater_temperature': 'temperature'}, inplace=True)\n",
    "profiler.head()"
   ],
   "execution_count": null,
   "outputs": []
  },
  {
   "metadata": {},
   "cell_type": "markdown",
   "source": [
    "Now let's make some plots.  Single variable plots are really easy when you have your data in pandas."
   ]
  },
  {
   "metadata": {},
   "cell_type": "code",
   "source": [
    "profiler['pressure'].plot(kind='line',marker='.').invert_yaxis();\n",
    "# Also try, kind='hist' or 'box'"
   ],
   "execution_count": null,
   "outputs": []
  },
  {
   "metadata": {},
   "cell_type": "code",
   "source": [
    "# Or, the old fashined Matplotlib way, let's make a timeseries of pressure\n",
    "plt.plot_date(profiler.index,profiler.pressure,'r.')\n",
    "plt.gca().invert_yaxis()\n",
    "plt.xlabel('Time')\n",
    "plt.ylabel('Pressure (db)')\n",
    "plt.title('Pressure data from %s' % site);"
   ],
   "execution_count": null,
   "outputs": []
  },
  {
   "metadata": {},
   "cell_type": "markdown",
   "source": [
    "And now, let's make 2 subplots showing profiles of both temperature and salinity."
   ]
  },
  {
   "metadata": {},
   "cell_type": "code",
   "source": [
    "# Next, let's create some profile plots of Temperature and Salinity\n",
    "fig, (ax1, ax2) = plt.subplots(1, 2, sharey=True)\n",
    "\n",
    "ax1.plot(profiler.temperature,profiler.pressure,'r.')\n",
    "ax1.invert_yaxis()\n",
    "ax1.set_xlabel('Temperature (C)')\n",
    "ax1.set_ylabel('Pressure (dm)')\n",
    "\n",
    "ax2.plot(profiler.practical_salinity,profiler.pressure,'r.')\n",
    "ax2.set_xlabel('Salinity (psu)')\n",
    "\n",
    "fig.suptitle('CTD data from %s' % site)\n",
    "fig.subplots_adjust(top=0.9);"
   ],
   "execution_count": null,
   "outputs": []
  },
  {
   "metadata": {},
   "cell_type": "markdown",
   "source": [
    "## TS Diagram"
   ]
  },
  {
   "metadata": {},
   "cell_type": "markdown",
   "source": [
    "You can't call yourself a Physical Oceanographer without making a TS diagram.  \n"
   ]
  },
  {
   "metadata": {},
   "cell_type": "code",
   "source": [
    "plt.plot(profiler.practical_salinity, profiler.temperature, '.')\n",
    "plt.xlabel('Salinity')\n",
    "plt.ylabel('Temperature (C)')\n",
    "plt.title('Data from %s' % site);"
   ],
   "execution_count": null,
   "outputs": []
  },
  {
   "metadata": {},
   "cell_type": "markdown",
   "source": [
    "That's nice, but we can do better.  First, let's color the dots by pressure.  We'll use the \"deep\" colormap from the [cmocean](https://matplotlib.org/cmocean/#deep) library."
   ]
  },
  {
   "metadata": {},
   "cell_type": "code",
   "source": [
    "!pip install cmocean \n",
    "import cmocean"
   ],
   "execution_count": null,
   "outputs": []
  },
  {
   "metadata": {},
   "cell_type": "code",
   "source": [
    "sc = plt.scatter(profiler.practical_salinity, profiler.temperature, \n",
    "            c = profiler.pressure, cmap=cmocean.cm.deep)\n",
    "plt.colorbar(sc)    \n",
    "plt.xlabel('Salinity')\n",
    "plt.ylabel('Temperature (C)')\n",
    "plt.title('Data from %s' % site);"
   ],
   "execution_count": null,
   "outputs": []
  },
  {
   "metadata": {},
   "cell_type": "markdown",
   "source": [
    "And now, let's add the density contours, as demonstrated by the example shown on [Ocean Python T-S Diagram](https://oceanpython.org/2013/02/17/t-s-diagram/), though we will use meshgrid instead.  \n",
    "\n",
    "To calculate density, we will need the wonderful [seawater](https://pythonhosted.org/seawater/index.html) library."
   ]
  },
  {
   "metadata": {},
   "cell_type": "code",
   "source": [
    "!pip install seawater\n",
    "import seawater\n",
    "import numpy as np "
   ],
   "execution_count": null,
   "outputs": []
  },
  {
   "metadata": {},
   "cell_type": "code",
   "source": [
    "# TS Diagram with density contours\n",
    "x = np.arange(34, 36, .1)\n",
    "y = np.arange(5, 25, .1)\n",
    "X, Y = np.meshgrid(x, y)\n",
    "\n",
    "Z = seawater.eos80.dens0(X,Y) - 1000 # Substract 1000 to convert to sigma-t\n",
    "\n",
    "CS = plt.contour(X, Y, Z, colors='grey', linestyles='dashed')\n",
    "plt.clabel(CS, inline=1, fontsize=10, fmt='%1.0f')\n",
    "\n",
    "\n",
    "sc = plt.scatter(profiler.practical_salinity, profiler.temperature, \n",
    "            c = profiler.pressure, cmap=cmocean.cm.deep)\n",
    "\n",
    "cb = plt.colorbar(sc)    \n",
    "cb.set_label('Pressure (dbar)')\n",
    "\n",
    "plt.xlabel('Salinity')\n",
    "plt.ylabel('Temperature (C)')\n",
    "plt.title('Data from %s' % site);"
   ],
   "execution_count": null,
   "outputs": []
  },
  {
   "metadata": {},
   "cell_type": "markdown",
   "source": [
    "## Some More Hot Fun\n",
    "\n",
    "Finally, let's take a look at some data from the [3D Thermistor Array](http://ooi.visualocean.net/instruments/view/RS03ASHS-MJ03B-07-TMPSFA301) (TMPSF) deployed in the ASHES Vent field at Axial Seamount.\n"
   ]
  },
  {
   "metadata": {},
   "cell_type": "markdown",
   "source": [
    "We can find the ingredients to build the `data_request_url` from the above link.\n",
    "\n",
    "![RS03ASHS-MJ03B-07-TMPSFA301](https://github.com/ooi-data-review/ooi_datateam_notebooks/raw/master/images/RS03ASHS-MJ03B-07-TMPSFA301.png)"
   ]
  },
  {
   "metadata": {},
   "cell_type": "code",
   "source": [
    "subsite = 'RS03ASHS'\n",
    "node = 'MJ03B'\n",
    "sensor = '07-TMPSFA301'\n",
    "method = 'streamed'\n",
    "stream = 'tmpsf_sample'\n",
    "beginDT = '2017-09-04T10:01:01.000Z'\n",
    "endDT = '2017-09-05T10:01:01.000Z'"
   ],
   "execution_count": null,
   "outputs": []
  },
  {
   "metadata": {},
   "cell_type": "markdown",
   "source": [
    "Send the data request."
   ]
  },
  {
   "metadata": {},
   "cell_type": "code",
   "source": [
    "base_url = 'https://ooinet.oceanobservatories.org/api/m2m/12576/sensor/inv/'\n",
    "\n",
    "data_request_url ='/'.join((base_url,subsite,node,sensor,method,stream))\n",
    "params = {\n",
    "    'beginDT':beginDT,\n",
    "    'endDT':endDT,\n",
    "    'limit':1000,   \n",
    "}\n",
    "\n",
    "# Grab the data\n",
    "r = requests.get(data_request_url, params=params, auth=(USERNAME, TOKEN))\n",
    "data = r.json()"
   ],
   "execution_count": null,
   "outputs": []
  },
  {
   "metadata": {},
   "cell_type": "markdown",
   "source": [
    "Again, let's take a look at the first data point."
   ]
  },
  {
   "metadata": {},
   "cell_type": "code",
   "source": [
    "data[0]"
   ],
   "execution_count": null,
   "outputs": []
  },
  {
   "metadata": {},
   "cell_type": "markdown",
   "source": [
    "So, we have a bunch of temperature values from the array we can play with.\n",
    "\n",
    "Remember, time stamps are returned as seconds since 1900-01-01.\n",
    "\n",
    "This time, let's use the NetCDF library to quickly convert the datetime values. Specifically...\n",
    "\n",
    "`nc.num2date(timstamp,'seconds since 1900-01-01')`"
   ]
  },
  {
   "metadata": {},
   "cell_type": "code",
   "source": [
    "# import matplotlib.dates as dates\n",
    "!pip install netCDF4\n",
    "import netCDF4 as nc"
   ],
   "execution_count": null,
   "outputs": []
  },
  {
   "metadata": {},
   "cell_type": "code",
   "source": [
    "time = []\n",
    "temperature01 = []\n",
    "\n",
    "for i in range(len(data)):\n",
    "    time.append(nc.num2date(data[i]['time'],'seconds since 1900-01-01').replace(microsecond=0))\n",
    "    temperature01.append(data[i]['temperature01'])"
   ],
   "execution_count": null,
   "outputs": []
  },
  {
   "metadata": {},
   "cell_type": "markdown",
   "source": [
    "A quick plot shows what appears to be a tidally influenced temperature signal."
   ]
  },
  {
   "metadata": {},
   "cell_type": "code",
   "source": [
    "plt.plot(time, temperature01, marker=\".\", markersize=1, linestyle=None)\n",
    "plt.ylabel('Temperature $^\\circ$C')\n",
    "plt.xlabel('Time')\n",
    "plt.xticks(rotation=30)\n",
    "plt.tight_layout()\n",
    "plt.show()"
   ],
   "execution_count": null,
   "outputs": []
  },
  {
   "metadata": {},
   "cell_type": "markdown",
   "source": [
    "Adding in another measurements from another thermistor we can nicely see that the diffuse fluid might be wafting back and for across the 3D array with the tidal current."
   ]
  },
  {
   "metadata": {},
   "cell_type": "code",
   "source": [
    "temperature03 = []\n",
    "for i in range(len(data)):\n",
    "    temperature03.append(data[i]['temperature03'])"
   ],
   "execution_count": null,
   "outputs": []
  },
  {
   "metadata": {},
   "cell_type": "code",
   "source": [
    "fig, (ax1, ax2) = plt.subplots(2, sharex=True, sharey=True)\n",
    "ax1.plot(time, temperature01, marker=\".\", markersize=1, linestyle=None)\n",
    "ax2.plot(time, temperature03, marker=\".\", markersize=1, linestyle=None)\n",
    "ax1.set_ylabel('T01 $^\\circ$C')\n",
    "ax2.set_ylabel('T03 $^\\circ$C')\n",
    "plt.xlabel('Time')\n",
    "plt.xticks(rotation=30)\n",
    "plt.tight_layout()\n",
    "# fig.subplots_adjust(hspace=0)\n",
    "plt.setp([a.get_xticklabels() for a in fig.axes[:-1]], visible=False)\n",
    "plt.show()"
   ],
   "execution_count": null,
   "outputs": []
  },
  {
   "metadata": {},
   "cell_type": "markdown",
   "source": [
    "Finally, we can pull in some pressure data for a closer look at the tidal relationship."
   ]
  },
  {
   "metadata": {},
   "cell_type": "code",
   "source": [
    "subsite = 'RS03ASHS'\n",
    "node = 'MJ03B'\n",
    "sensor = '09-BOTPTA304'\n",
    "method = 'streamed'\n",
    "stream = 'botpt_nano_sample'\n",
    "beginDT = '2017-09-04T10:01:01.000Z'\n",
    "endDT = '2017-09-05T10:01:01.000Z'\n",
    "\n",
    "data_request_url ='/'.join((base_url,subsite,node,sensor,method,stream))\n",
    "params = {\n",
    "    'beginDT':beginDT,\n",
    "    'endDT':endDT,\n",
    "    'limit':1000,   \n",
    "}\n",
    "\n",
    "# Grab the data\n",
    "r = requests.get(data_request_url, params=params, auth=(USERNAME, TOKEN))\n",
    "data = r.json()"
   ],
   "execution_count": null,
   "outputs": []
  },
  {
   "metadata": {},
   "cell_type": "markdown",
   "source": [
    "Extract the pressure variable from the response and convert the time stamps"
   ]
  },
  {
   "metadata": {},
   "cell_type": "code",
   "source": [
    "botpt_time = []\n",
    "bottom_pressure = []\n",
    "for i in range(len(data)):\n",
    "    botpt_time.append(nc.num2date(data[i]['time'],'seconds since 1900-01-01').replace(microsecond=0))\n",
    "    bottom_pressure.append(data[i]['bottom_pressure'])"
   ],
   "execution_count": null,
   "outputs": []
  },
  {
   "metadata": {},
   "cell_type": "markdown",
   "source": [
    "Plot co-located temperature 01, 03 and bottom pressure."
   ]
  },
  {
   "metadata": {},
   "cell_type": "code",
   "source": [
    "fig, (ax1, ax2, ax3) = plt.subplots(3, sharex=True, sharey=False)\n",
    "ax1.plot(time, temperature01, marker=\".\", markersize=1, linestyle=None)\n",
    "ax2.plot(time, temperature03, marker=\".\", markersize=1, linestyle=None)\n",
    "ax3.plot(botpt_time, bottom_pressure, marker=\".\", markersize=1, linestyle=None)\n",
    "ax1.set_ylabel('T01 $^\\circ$C')\n",
    "ax2.set_ylabel('T03 $^\\circ$C')\n",
    "ax3.set_ylabel('psia')\n",
    "plt.xlabel('Time')\n",
    "plt.xticks(rotation=30)\n",
    "# plt.tight_layout()\n",
    "# fig.subplots_adjust(hspace=0)\n",
    "# plt.setp([a.get_xticklabels() for a in fig.axes[:-1]], visible=False)\n",
    "plt.show()"
   ],
   "execution_count": null,
   "outputs": []
  },
  {
   "metadata": {},
   "cell_type": "markdown",
   "source": [
    "## Bokeh Plots\n",
    "\n",
    "Because, why not?"
   ]
  },
  {
   "metadata": {},
   "cell_type": "code",
   "source": [
    "# Import Bokeh functions\n",
    "import os\n",
    "!pip install bokeh\n",
    "from bokeh.plotting import figure, output_file, reset_output, show, ColumnDataSource, save\n",
    "from bokeh.layouts import column\n",
    "from bokeh.models import BoxAnnotation\n",
    "from bokeh.io import output_notebook # required to display Bokeh visualization in notebook"
   ],
   "execution_count": null,
   "outputs": []
  },
  {
   "metadata": {},
   "cell_type": "code",
   "source": [
    "source = ColumnDataSource(\n",
    "    data=dict(\n",
    "        x=time,\n",
    "        y1=temperature01,\n",
    "        y2=temperature03,\n",
    "        y3=bottom_pressure,\n",
    "    )\n",
    ")\n",
    "\n",
    "# Temperature 01 Plot\n",
    "s1 = figure(width=500,\n",
    "           height=300,\n",
    "           title='Temperature01',\n",
    "           x_axis_label='Time (GMT)',\n",
    "           y_axis_label='T01 °C',\n",
    "           x_axis_type='datetime')\n",
    "\n",
    "s1.line('x', 'y1', line_width=3, source=source)\n",
    "s1.circle('x', 'y1', fill_color='white', size=4, source=source)\n",
    "\n",
    "# Temperature 03 Plot\n",
    "s2 = figure(width=500,\n",
    "           height=300,\n",
    "           title='Temperature01',\n",
    "           x_axis_label='Time (GMT)',\n",
    "           y_axis_label='T03 °C',\n",
    "           x_axis_type='datetime')\n",
    "\n",
    "s2.line('x', 'y2', line_width=3, source=source)\n",
    "s2.circle('x', 'y2', fill_color='white', size=4, source=source)\n",
    "\n",
    "# Pressure Plot\n",
    "s3 = figure(width=500,\n",
    "           height=300,\n",
    "           title='Bottom Pressure',\n",
    "           x_axis_label='Time (GMT)',\n",
    "           y_axis_label='psia',\n",
    "           x_axis_type='datetime')\n",
    "\n",
    "s3.line('x', 'y3', line_width=3, source=source)\n",
    "s3.circle('x', 'y3', fill_color='white', size=4, source=source)\n",
    "\n",
    "output_notebook()\n",
    "show(column(s1, s2, s3));\n",
    "\n",
    "# output_file(os.getcwd())\n",
    "# save(s1, filename='temperature01.html')\n",
    "# save(s2, filename='temperature03.html')\n",
    "# save(s3, filename='bottom_pressure.html')"
   ],
   "execution_count": null,
   "outputs": []
  },
  {
   "metadata": {},
   "cell_type": "markdown",
   "source": [
    "For more information on Bokeh, check out http://bokeh.pydata.org/en/latest/docs/user_guide/layout.html#rows"
   ]
  },
  {
   "metadata": {},
   "cell_type": "markdown",
   "source": [
    "# Notes"
   ]
  },
  {
   "metadata": {},
   "cell_type": "markdown",
   "source": [
    "Special thanks to Friedrich Knuth and Mike Smith for help developing the above examples."
   ]
  },
  {
   "metadata": {},
   "cell_type": "markdown",
   "source": [
    "Note, the matplotlib figures you create may look different if you run this notebook in a basic Jupyter environment rather than Google Colab.  This is because Google Colab includes the [seaborn](https://seaborn.pydata.org) library by default, which adds a number of nice plot improvements (like a grey background and gridlines).  You can get the same effect by running the following lines before creating your plots.  Also, if you want to change the default graph appearance settings (whether in Google Colab or Jupyter), check out the seaborn doc."
   ]
  },
  {
   "metadata": {},
   "cell_type": "code",
   "source": [
    "# !pip install seaborn\n",
    "# import seaborn as sns\n",
    "# sns.set()"
   ],
   "execution_count": null,
   "outputs": []
  }
 ]
}
