{
 "nbformat": 4,
 "nbformat_minor": 0,
 "metadata": {
  "colab": {
   "name": "Argentine Basin Waves",
   "version": "0.3.2",
   "views": {},
   "default_view": {},
   "provenance": []
  },
  "kernelspec": {
   "name": "python2",
   "display_name": "Python 2"
  }
 },
 "cells": [
  {
   "metadata": {},
   "cell_type": "code",
   "source": [
    "# Information necessary to grab API (Application Programming Interface)\n",
    "username ='OOIAPI-NAL2K3VMHB06OA'\n",
    "token = 'TEMP-TOKEN-68QRXA825THDH4'\n",
    "API_BASE_URL = 'https://ooinet.oceanobservatories.org/api/m2m/12576/sensor/inv/'"
   ],
   "execution_count": null,
   "outputs": []
  },
  {
   "metadata": {},
   "cell_type": "code",
   "source": [
    "# First, let's import the Python libraries we will need\n",
    "import requests\n",
    "import datetime\n",
    "import matplotlib.pyplot as plt"
   ],
   "execution_count": null,
   "outputs": []
  },
  {
   "metadata": {},
   "cell_type": "code",
   "source": [
    "import requests\n",
    "import time"
   ],
   "execution_count": null,
   "outputs": []
  },
  {
   "metadata": {},
   "cell_type": "code",
   "source": [
    "# Input the Instrument Information for the instrument of interest (can be found on the OOI data website)\n",
    "subsite = 'GA01SUMO'  #the site of the insturment?\n",
    "node = 'SBD12'    \n",
    "sensor = '05-WAVSSA000'\n",
    "method = 'recovered_host'\n",
    "stream = 'wavss_a_dcl_statistics_recovered' \n",
    "beginDT = '2015-03-15T21:25:00.000Z' \n",
    "endDT = '2018-01-14T10:24:00.000Z'\n",
    "\n",
    "\n",
    "\n"
   ],
   "execution_count": null,
   "outputs": []
  },
  {
   "metadata": {},
   "cell_type": "code",
   "source": [
    "base_url = 'https://ooinet.oceanobservatories.org/api/m2m/12576/sensor/inv/'\n",
    "\n",
    "data_request_url ='/'.join((base_url,subsite,node,sensor,method,stream))\n",
    "params = {\n",
    "    'beginDT':beginDT,\n",
    "    'endDT':endDT,   \n",
    "}\n",
    "r = requests.get(data_request_url, params=params, auth=(username, token))\n",
    "data = r.json()"
   ],
   "execution_count": null,
   "outputs": []
  },
  {
   "metadata": {},
   "cell_type": "code",
   "source": [
    "data['allURLs'][0]"
   ],
   "execution_count": null,
   "outputs": []
  },
  {
   "metadata": {},
   "cell_type": "code",
   "source": [
    "!pip install xarray\n",
    "!pip install netCDF4\n",
    "!pip install bokeh\n",
    "!pip install dask"
   ],
   "execution_count": null,
   "outputs": []
  },
  {
   "metadata": {},
   "cell_type": "code",
   "source": [
    "%%time\n",
    "check_complete = data['allURLs'][1] + '/status.txt'\n",
    "for i in range(1800): \n",
    "    r = requests.get(check_complete)\n",
    "    if r.status_code == requests.codes.ok:\n",
    "        print('request completed')\n",
    "        break\n",
    "    else:\n",
    "        time.sleep(1)"
   ],
   "execution_count": null,
   "outputs": []
  },
  {
   "metadata": {},
   "cell_type": "code",
   "source": [
    "import re\n",
    "import xarray as xr\n",
    "import pandas as pd\n",
    "import os"
   ],
   "execution_count": null,
   "outputs": []
  },
  {
   "metadata": {},
   "cell_type": "markdown",
   "source": [
    ""
   ]
  },
  {
   "metadata": {},
   "cell_type": "code",
   "source": [
    "#Parse the thredds server to get a list of all NetCDF files. Each deployment is seperated into a seperate netcdf file.\n",
    "\n",
    "url = data['allURLs'][0]\n",
    "tds_url = 'https://opendap.oceanobservatories.org/thredds/dodsC'\n",
    "datasets = requests.get(url).text\n",
    "urls = re.findall(r'href=[\\'\"]?([^\\'\" >]+)', datasets)\n",
    "x = re.findall(r'(ooi/.*?.nc)', datasets)\n",
    "for i in x:\n",
    "    if i.endswith('.nc') == False:\n",
    "        x.remove(i)\n",
    "for i in x:\n",
    "    try:\n",
    "        float(i[-4])\n",
    "    except:\n",
    "        x.remove(i)\n",
    "datasets = [os.path.join(tds_url, i) for i in x]\n",
    "datasets"
   ],
   "execution_count": null,
   "outputs": []
  },
  {
   "metadata": {},
   "cell_type": "code",
   "source": [
    "# load all the files into a single xarray data set\n",
    "\n",
    "ds = xr.open_mfdataset(datasets)\n",
    "ds = ds.swap_dims({'obs': 'time'})\n",
    "ds = ds.chunk({'time': 100})\n",
    "ds = ds.sortby('time') # data from different deployments can overlap so we want to sort all data by time stamp.\n",
    "ds\n"
   ],
   "execution_count": null,
   "outputs": []
  },
  {
   "metadata": {},
   "cell_type": "code",
   "source": [
    "ds2 = ds.sel(time=slice('2016-03-01', '2016-11-01'))\n",
    "ds2.time"
   ],
   "execution_count": null,
   "outputs": []
  },
  {
   "metadata": {},
   "cell_type": "code",
   "source": [
    "import pandas as pd\n",
    "\n",
    "# find the time between values i.e. recording frequency\n",
    "df = ds.to_dataframe()\n",
    "res = (pd.Series(df.index[1:]) - pd.Series(df.index[:-1])).value_counts()\n",
    "res"
   ],
   "execution_count": null,
   "outputs": []
  },
  {
   "metadata": {},
   "cell_type": "code",
   "source": [
    "import matplotlib.pyplot as plt"
   ],
   "execution_count": null,
   "outputs": []
  },
  {
   "metadata": {},
   "cell_type": "code",
   "source": [
    "# extract just the data into an array that can then be manipulated\n",
    "\n",
    "wv_d = ds['mean_direction'].values\n",
    "Hs = ds['significant_wave_height'].values\n",
    "Hmax = ds['max_wave_height'].values\n",
    "t = ds['time'].values\n",
    "wv_p = ds['mean_wave_period'].values    \n",
    "wv_spd = ds['mean_spread'].values\n"
   ],
   "execution_count": null,
   "outputs": []
  },
  {
   "metadata": {},
   "cell_type": "code",
   "source": [
    "# extract just the data into an array that can then be manipulated\n",
    "\n",
    "wv_d2 = ds2['mean_direction'].values\n",
    "Hs2 = ds2['significant_wave_height'].values\n",
    "Hmax2 = ds2['max_wave_height'].values\n",
    "t2 = ds2['time'].values"
   ],
   "execution_count": null,
   "outputs": []
  },
  {
   "metadata": {},
   "cell_type": "code",
   "source": [
    "#plot histotgram of signficant wave height\n",
    "\n",
    "fig, ax = plt.subplots(1)\n",
    "fig.set_size_inches(16, 6)\n",
    "\n",
    "#ds['significant_wave_height'].plot(linestyle = 'None', \n",
    "#                                   marker='.', \n",
    "#                                   markersize=1,\n",
    "#                                   ax=ax)\n",
    "\n",
    "ds['significant_wave_height'].plot.hist(bins=50)\n",
    "                                 "
   ],
   "execution_count": null,
   "outputs": []
  },
  {
   "metadata": {},
   "cell_type": "code",
   "source": [
    "#plot signficant wavve height\n",
    "\n",
    "fig, ax = plt.subplots(1)\n",
    "fig.set_size_inches(16, 6)\n",
    "\n",
    "ds['max_wave_height'].plot()\n",
    "ds['significant_wave_height'].plot()\n",
    "plt.xlabel('Date')\n",
    "plt.ylabel('Wave Height[m]')\n",
    "\n",
    "\n"
   ],
   "execution_count": null,
   "outputs": []
  },
  {
   "metadata": {},
   "cell_type": "code",
   "source": [
    "#plot signficant wavve height\n",
    "\n",
    "fig, ax = plt.subplots(1)\n",
    "fig.set_size_inches(16, 6)\n",
    "\n",
    "ds['max_wave_height'].plot()\n",
    "plt.xlabel('Date')\n",
    "plt.ylabel('Wave Height[m]')\n"
   ],
   "execution_count": null,
   "outputs": []
  },
  {
   "metadata": {},
   "cell_type": "code",
   "source": [
    "#plot signficant wavve height\n",
    "\n",
    "fig, ax = plt.subplots(1)\n",
    "fig.set_size_inches(16, 6)\n",
    "\n",
    "ds['significant_wave_height'].plot()\n",
    "plt.xlabel('Date')\n",
    "plt.ylabel('Wave Height[m]')\n"
   ],
   "execution_count": null,
   "outputs": []
  },
  {
   "metadata": {},
   "cell_type": "code",
   "source": [
    "#plot signficant wavve height\n",
    "\n",
    "fig, ax = plt.subplots(1)\n",
    "fig.set_size_inches(16, 6)\n",
    "\n",
    "ds['mean_direction'].plot()\n",
    "plt.xlabel('Date')\n",
    "plt.ylabel('Wave Direction')"
   ],
   "execution_count": null,
   "outputs": []
  },
  {
   "metadata": {},
   "cell_type": "code",
   "source": [
    "#plot signficant wavve height\n",
    "\n",
    "fig, ax = plt.subplots(1)\n",
    "fig.set_size_inches(16, 6)\n",
    "\n",
    "ds['mean_spread'].plot()\n",
    "plt.xlabel('Date')\n",
    "plt.ylabel('Wave Spread')"
   ],
   "execution_count": null,
   "outputs": []
  },
  {
   "metadata": {},
   "cell_type": "code",
   "source": [
    "#plot peak wave period\n",
    "\n",
    "fig, ax = plt.subplots(1)\n",
    "fig.set_size_inches(16, 6)\n",
    "\n",
    "ds['peak_wave_period'].plot()\n",
    "plt.xlabel('Date')\n",
    "plt.ylabel('Peak_wave_period')"
   ],
   "execution_count": null,
   "outputs": []
  },
  {
   "metadata": {},
   "cell_type": "code",
   "source": [
    "#plot signficant wavve height\n",
    "\n",
    "fig, ax = plt.subplots(1)\n",
    "fig.set_size_inches(16, 6)\n",
    "\n",
    "ds['number_zero_crossings'].plot()\n",
    "plt.xlabel('Date')\n",
    "plt.ylabel('number of zero crossings')\n",
    "\n"
   ],
   "execution_count": null,
   "outputs": []
  },
  {
   "metadata": {},
   "cell_type": "code",
   "source": [
    "# calculate abnormality index\n",
    "\n",
    "AI = Hmax/Hs\n",
    "AI[0]\n"
   ],
   "execution_count": null,
   "outputs": []
  },
  {
   "metadata": {},
   "cell_type": "code",
   "source": [
    ""
   ],
   "execution_count": null,
   "outputs": []
  },
  {
   "metadata": {},
   "cell_type": "code",
   "source": [
    "plt.scatter(t,AI)\n",
    "plt.title('Global Argentine Basin Signficant Wave Height Abnormality Index')\n",
    "plt.ylabel('Abnormality Index')\n",
    "plt.xlabel('Date')"
   ],
   "execution_count": null,
   "outputs": []
  },
  {
   "metadata": {},
   "cell_type": "code",
   "source": [
    "#plot histotgram of signficant wave height may-nov 2015\n",
    "\n",
    "fig, ax = plt.subplots(1)\n",
    "fig.set_size_inches(16, 6)\n",
    "\n",
    "\n",
    "\n",
    "plt.hist(Hs[0:5870],bins = 50)\n",
    "\n",
    "plt.title('Global Argentine Basin Signficant Wave Height Deployment May-Nov 2015 and 2016')\n",
    "plt.ylabel('Counts')\n",
    "plt.xlabel('Wave Height [m]')\n",
    "# plt.show()\n",
    "\n",
    "#plot histotgram of signficant wave height may-nov 2016\n",
    "\n",
    "\n",
    "plt.hist(Hs2,bins = 50,color=\"red\",alpha = 0.5)\n",
    "\n"
   ],
   "execution_count": null,
   "outputs": []
  },
  {
   "metadata": {},
   "cell_type": "code",
   "source": [
    "#plot histotgram of maximum wave height may-nov 2015\n",
    "\n",
    "fig, ax = plt.subplots(1)\n",
    "fig.set_size_inches(16, 6)\n",
    "\n",
    "\n",
    "\n",
    "plt.hist(Hmax[0:5870],bins = 50)\n",
    "\n",
    "plt.title('Global Argentine Basin Maximum Wave Height Deployment May-Nov 2015 and 2016')\n",
    "plt.ylabel('Counts')\n",
    "plt.xlabel('Wave Height [m]')\n",
    "# plt.show()\n",
    "\n",
    "#plot histotgram of signficant wave height may-nov 2016\n",
    "\n",
    "\n",
    "plt.hist(Hmax2,bins = 50,color=\"red\",alpha = 0.5)\n",
    "\n"
   ],
   "execution_count": null,
   "outputs": []
  },
  {
   "metadata": {},
   "cell_type": "code",
   "source": [
    "ds3 = ds.sel(time=slice('2017-03-21', '2017-4-01'))\n",
    "ds3.time"
   ],
   "execution_count": null,
   "outputs": []
  },
  {
   "metadata": {},
   "cell_type": "code",
   "source": [
    "# extract just the data into an array that can then be manipulated\n",
    "\n",
    "wv_d3 = ds3['mean_direction'].values\n",
    "Hs3 = ds3['significant_wave_height'].values\n",
    "Hmax3 = ds3['max_wave_height'].values\n",
    "t3 = ds3['time'].values\n",
    "AI3 = Hmax3/Hs3\n"
   ],
   "execution_count": null,
   "outputs": []
  },
  {
   "metadata": {},
   "cell_type": "code",
   "source": [
    "plt.scatter(t3,AI3)\n",
    "plt.title('Global Argentine Basin Signficant Wave Height Abnormality Index')\n",
    "plt.ylabel('Abnormality Index')\n",
    "plt.xlabel('Date')"
   ],
   "execution_count": null,
   "outputs": []
  },
  {
   "metadata": {},
   "cell_type": "code",
   "source": [
    "plt.scatter(t3,Hmax3)\n",
    "plt.scatter(t3,AI3)\n",
    "plt.title('Global Argentine Basin Signficant Wave Height Abnormality Index')\n",
    "plt.ylabel('Abnormality Index')\n",
    "plt.xlabel('Date')\n",
    "%plt.scatter(t3,Hs3)"
   ],
   "execution_count": null,
   "outputs": []
  },
  {
   "metadata": {},
   "cell_type": "code",
   "source": [
    "plt.plot(t,wv_d)\n",
    "plt.title('Global Argentine Basin Signficant Wave Height Abnormality Index')\n",
    "plt.ylabel('Abnormality Index')\n",
    "plt.xlabel('Date')"
   ],
   "execution_count": null,
   "outputs": []
  },
  {
   "metadata": {},
   "cell_type": "code",
   "source": [
    "plt.plot(t,wv_spd)\n",
    "plt.title('Global Argentine Basin Signficant Wave Height Abnormality Index')\n",
    "plt.ylabel('Abnormality Index')\n",
    "plt.xlabel('Date')\n",
    "\n"
   ],
   "execution_count": null,
   "outputs": []
  },
  {
   "metadata": {},
   "cell_type": "code",
   "source": [
    "\n",
    "plt.scatter(wv_d,Hs)\n",
    "plt.title('Wave Height As a Function of Direction')\n",
    "plt.ylabel('Signficant Wave Height')\n",
    "plt.xlabel('Wave Direction')\n"
   ],
   "execution_count": null,
   "outputs": []
  },
  {
   "metadata": {},
   "cell_type": "code",
   "source": [
    ""
   ],
   "execution_count": null,
   "outputs": []
  },
  {
   "metadata": {},
   "cell_type": "code",
   "source": [
    ""
   ],
   "execution_count": null,
   "outputs": []
  },
  {
   "metadata": {},
   "cell_type": "code",
   "source": [
    ""
   ],
   "execution_count": null,
   "outputs": []
  },
  {
   "metadata": {},
   "cell_type": "code",
   "source": [
    ""
   ],
   "execution_count": null,
   "outputs": []
  },
  {
   "metadata": {},
   "cell_type": "code",
   "source": [
    ""
   ],
   "execution_count": null,
   "outputs": []
  },
  {
   "metadata": {},
   "cell_type": "code",
   "source": [
    "\n"
   ],
   "execution_count": null,
   "outputs": []
  },
  {
   "metadata": {},
   "cell_type": "code",
   "source": [
    "\n"
   ],
   "execution_count": null,
   "outputs": []
  }
 ]
}
