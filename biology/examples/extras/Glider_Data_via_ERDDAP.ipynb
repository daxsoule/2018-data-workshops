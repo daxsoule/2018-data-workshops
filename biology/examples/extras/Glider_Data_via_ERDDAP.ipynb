{
 "nbformat": 4,
 "nbformat_minor": 0,
 "metadata": {
  "colab": {
   "name": "Glider Data via ERDDAP.ipynb",
   "version": "0.3.2",
   "views": {},
   "default_view": {},
   "provenance": []
  },
  "kernelspec": {
   "display_name": "Python 3",
   "language": "python",
   "name": "python3"
  }
 },
 "cells": [
  {
   "metadata": {},
   "cell_type": "markdown",
   "source": [
    "# Glider Data via ERDDAP\n",
    "*Compiled by Sage Lichtenwalner, Rutgers University, June 6, 2018*\n",
    "\n",
    "*This example is largely based on a notebook by [Filipe Fernandes's](https://github.com/ioos/BioData-Training-Workshop/blob/master/notebooks/intro_errdapy-IOOS.ipynb), presented at the IOOS Biological Data Training Workshop. Thanks Filipe!*"
   ]
  },
  {
   "metadata": {},
   "cell_type": "markdown",
   "source": [
    "ERDDAP data servers provide an easy to use RESTful API that make it easy to search for and request data.  There are many ERDDAP servers now available including [NOAA Coastwatch](erddap coastwatch), the [IOOS Glider DAC](https://data.ioos.us/gliders/erddap/index.html), and the  [OOI](http://oceanobservatories.org/erddap-server/).\n",
    "\n",
    "For this example, we're going to grab OOI glider data that is stored in the IOOS Glider DAC.\n",
    "\n",
    "A typical ERDDAP URL to request data looks like this:\n",
    "\n",
    "[https://data.ioos.us/gliders/erddap/tabledap/whoi_406-20160902T1700.mat?depth,latitude,longitude,salinity,temperature,time&time>=2016-07-10T00:00:00Z&time<=2017-02-10T00:00:00Z\n",
    "&latitude>=38.0&latitude<=41.0&longitude>=-72.0&longitude<=-69.0](https://data.ioos.us/gliders/erddap/tabledap/whoi_406-20160902T1700.mat?depth,latitude,longitude,salinity,temperature,time&time>=2016-07-10T00:00:00Z&time<=2017-02-10T00:00:00Z&latitude>=38.0&latitude<=41.0&longitude>=-72.0&longitude<=-69.0)"
   ]
  },
  {
   "metadata": {},
   "cell_type": "markdown",
   "source": [
    "It's a mouthful, but it can easily be broken down into smaller parts.\n",
    "\n",
    "* **server**: https://data.ioos.us/gliders/erddap/\n",
    "* **protocol**: tabledap\n",
    "* **dataet_id**: blue-20160818T1448.csv\n",
    "* **variables**: depth,latitude,longitude,temperature,time\n",
    "* **constraints**:\n",
    "    - time>=2016-07-10T00:00:00Z\n",
    "    - time<=2017-02-10T00:00:00Z\n",
    "    - latitude>=38.0\n",
    "    - latitude<=41.0\n",
    "    - longitude>=-72.0\n",
    "    - longitude<=-69.0"
   ]
  },
  {
   "metadata": {},
   "cell_type": "markdown",
   "source": [
    "## We can use *erddapy* to help us make these URLs\n",
    "\n",
    "![tar.png](https://imgs.xkcd.com/comics/tar.png)"
   ]
  },
  {
   "metadata": {},
   "cell_type": "code",
   "source": [
    "!pip install xarray\n",
    "\n",
    "!pip install erddapy\n",
    "from erddapy import ERDDAP"
   ],
   "execution_count": null,
   "outputs": []
  },
  {
   "metadata": {},
   "cell_type": "markdown",
   "source": [
    "# Part 1 - Let's Grab Some Data\n",
    "\n",
    "* Were going going to use the [IOOS Glider DAC](https://data.ioos.us/gliders/erddap/index.html)\n",
    "  * It includes gliders from many providers, including OOI\n",
    "  * The data is provided in profile format, which makes it easier to use\n",
    "  \n",
    "* If we know the dataset ID we're interested in, we can request data"
   ]
  },
  {
   "metadata": {},
   "cell_type": "code",
   "source": [
    "server = 'https://data.ioos.us/gliders/erddap'\n",
    "\n",
    "dataset_id = 'whoi_406-20160902T1700'\n",
    "\n",
    "constraints = {\n",
    "    'time>=': '2016-07-10T00:00:00Z',\n",
    "    'time<=': '2017-02-10T00:00:00Z',\n",
    "    'latitude>=': 38.0,\n",
    "    'latitude<=': 41.0,\n",
    "    'longitude>=': -72.0,\n",
    "    'longitude<=': -69.0,\n",
    "}\n",
    "\n",
    "variables = [\n",
    " 'depth',\n",
    " 'latitude',\n",
    " 'longitude',\n",
    " 'salinity',\n",
    " 'temperature',\n",
    " 'time',\n",
    "]"
   ],
   "execution_count": null,
   "outputs": []
  },
  {
   "metadata": {},
   "cell_type": "code",
   "source": [
    "e = ERDDAP(\n",
    "    server=server,\n",
    "    protocol='tabledap',\n",
    "    response='nc'\n",
    ")\n",
    "\n",
    "e.dataset_id=dataset_id\n",
    "e.constraints=constraints\n",
    "e.variables=variables\n",
    "\n",
    "print(e.get_download_url())"
   ],
   "execution_count": null,
   "outputs": []
  },
  {
   "metadata": {},
   "cell_type": "markdown",
   "source": [
    "## Talk is cheap, so me the data!\n",
    "\n",
    "There are a few methods you can use to get the data in a usable format:\n",
    "* *to_pandas()* \n",
    "* *to_xarray()*"
   ]
  },
  {
   "metadata": {},
   "cell_type": "code",
   "source": [
    "df = e.to_pandas(\n",
    "    index_col='time',\n",
    "    parse_dates=True,\n",
    "    skiprows=(1,)  # units information can be dropped.\n",
    ").dropna()\n",
    "\n",
    "df.head()"
   ],
   "execution_count": null,
   "outputs": []
  },
  {
   "metadata": {},
   "cell_type": "code",
   "source": [
    "ds = e.to_xarray(decode_times=False)\n",
    "\n",
    "ds['temperature']"
   ],
   "execution_count": null,
   "outputs": []
  },
  {
   "metadata": {},
   "cell_type": "markdown",
   "source": [
    "## Let's plot the data"
   ]
  },
  {
   "metadata": {},
   "cell_type": "code",
   "source": [
    "%matplotlib inline\n",
    "import matplotlib.pyplot as plt\n",
    "import matplotlib.dates as mdates"
   ],
   "execution_count": null,
   "outputs": []
  },
  {
   "metadata": {},
   "cell_type": "code",
   "source": [
    "fig, ax = plt.subplots(figsize=(17, 5))\n",
    "kw = dict(s=15, c=df['temperature'], marker='o', edgecolor='none')\n",
    "cs = ax.scatter(df.index, df['depth'], **kw, cmap='RdYlBu_r')\n",
    "\n",
    "ax.invert_yaxis()\n",
    "ax.set_xlim(df.index[0], df.index[-1])\n",
    "xfmt = mdates.DateFormatter('%H:%Mh\\n%d-%b')\n",
    "ax.xaxis.set_major_formatter(xfmt)\n",
    "\n",
    "cbar = fig.colorbar(cs, orientation='vertical', extend='both')\n",
    "cbar.ax.set_ylabel('Temperature ($^\\circ$C)')\n",
    "ax.set_ylabel('Depth (m)');"
   ],
   "execution_count": null,
   "outputs": []
  },
  {
   "metadata": {},
   "cell_type": "markdown",
   "source": [
    "# Part 2 - Searching for Datasets\n",
    "\n",
    "* [ERDDAP](https://data.ioos.us/gliders/erddap/search/advanced.html?page=1&itemsPerPage=1000) also provides a way to search for datasets\n",
    "* And we can use *erddapy* to search for datasets interactively"
   ]
  },
  {
   "metadata": {},
   "cell_type": "code",
   "source": [
    "e = ERDDAP(\n",
    "    server='https://data.ioos.us/gliders/erddap'\n",
    ")"
   ],
   "execution_count": null,
   "outputs": []
  },
  {
   "metadata": {},
   "cell_type": "code",
   "source": [
    "import pandas as pd\n",
    "\n",
    "# Grab every dataset available\n",
    "datasets = pd.read_csv(e.get_search_url(response='csv', search_for='all'))"
   ],
   "execution_count": null,
   "outputs": []
  },
  {
   "metadata": {},
   "cell_type": "code",
   "source": [
    "'We have {} tabledap, {} griddap, and {} wms endpoints.'.format(\n",
    "    len(set(datasets['tabledap'].dropna())),\n",
    "    len(set(datasets['griddap'].dropna())),\n",
    "    len(set(datasets['wms'].dropna()))\n",
    ")"
   ],
   "execution_count": null,
   "outputs": []
  },
  {
   "metadata": {},
   "cell_type": "code",
   "source": [
    "datasets.head()"
   ],
   "execution_count": null,
   "outputs": []
  },
  {
   "metadata": {},
   "cell_type": "markdown",
   "source": [
    "## Let's refine our search\n",
    "\n",
    "Let's narrow the search area, time span, and look for *sea_water_temperature* only."
   ]
  },
  {
   "metadata": {},
   "cell_type": "code",
   "source": [
    "kw = {\n",
    "    'standard_name': 'sea_water_temperature',\n",
    "    'min_lon': -72.0,\n",
    "    'max_lon': -69.0,\n",
    "    'min_lat': 38.0,\n",
    "    'max_lat': 41.0,\n",
    "    'min_time': '2018-01-10T00:00:00Z',\n",
    "    'max_time': '2019-01-10T00:00:00Z',\n",
    "    'cdm_data_type': 'trajectoryprofile'\n",
    "}"
   ],
   "execution_count": null,
   "outputs": []
  },
  {
   "metadata": {},
   "cell_type": "code",
   "source": [
    "search_url = e.get_search_url(response='csv', **kw)\n",
    "print(search_url)\n",
    "\n",
    "# Grab the results\n",
    "search = pd.read_csv(search_url)\n",
    "\n",
    "# Extract the IDs\n",
    "gliders = search['Dataset ID'].values\n",
    "\n",
    "msg = 'Found {} Glider Datasets:\\n\\n{}'.format\n",
    "print(msg(len(gliders), '\\n'.join(gliders)))"
   ],
   "execution_count": null,
   "outputs": []
  },
  {
   "metadata": {},
   "cell_type": "markdown",
   "source": [
    "# Part 3 - Dataset Metadata\n",
    "\n",
    "Once we know the *Dataset IDs* we can explore its metadata with `get_info_url()`"
   ]
  },
  {
   "metadata": {},
   "cell_type": "code",
   "source": [
    "info_url = e.get_info_url(dataset_id=gliders[2], response='csv')\n",
    "info = pd.read_csv(info_url)\n",
    "\n",
    "print(gliders[2])\n",
    "info.head(10) # First 10 attributes"
   ],
   "execution_count": null,
   "outputs": []
  },
  {
   "metadata": {},
   "cell_type": "code",
   "source": [
    "# Let's pull out the values for one of the variables\n",
    "cdm_profile_variables = info.loc[\n",
    "    info['Attribute Name'] == 'cdm_profile_variables', 'Value'\n",
    "]\n",
    "\n",
    "print(''.join(cdm_profile_variables))"
   ],
   "execution_count": null,
   "outputs": []
  },
  {
   "metadata": {},
   "cell_type": "markdown",
   "source": [
    "## Finding variable names using attributes"
   ]
  },
  {
   "metadata": {},
   "cell_type": "code",
   "source": [
    "# Find a variable name based on it's CF Compliant standard name\n",
    "e.get_var_by_attr(\n",
    "    dataset_id='cp_335-20170116T1459',\n",
    "    standard_name='sea_water_temperature'\n",
    ")"
   ],
   "execution_count": null,
   "outputs": []
  },
  {
   "metadata": {},
   "cell_type": "code",
   "source": [
    "# Now let's find a few of them at once\n",
    "standard_names=['sea_water_temperature', 'sea_water_practical_salinity']\n",
    "variables = e.get_var_by_attr(\n",
    "    dataset_id=dataset_id, \n",
    "    standard_name=lambda v: v in standard_names\n",
    ")\n",
    "variables"
   ],
   "execution_count": null,
   "outputs": []
  },
  {
   "metadata": {},
   "cell_type": "markdown",
   "source": [
    "## Finding coordinate variables"
   ]
  },
  {
   "metadata": {},
   "cell_type": "code",
   "source": [
    "axis = e.get_var_by_attr(\n",
    "    dataset_id='cp_339-20180126T0000',\n",
    "    axis=lambda v: v in ['X', 'Y', 'Z', 'T']\n",
    ")\n",
    "axis"
   ],
   "execution_count": null,
   "outputs": []
  },
  {
   "metadata": {},
   "cell_type": "markdown",
   "source": [
    "# Putting everything together\n",
    "\n",
    "Let's find all of the gliders that flew within the Pioneer Array during 2018."
   ]
  },
  {
   "metadata": {},
   "cell_type": "code",
   "source": [
    "constraints = {\n",
    "    'time>=': '2018-01-01T00:00:00Z',\n",
    "    'time<=': '2019-01-01T00:00:00Z',\n",
    "    'latitude>=': 38.0,\n",
    "    'latitude<=': 41.0,\n",
    "    'longitude>=': -72.0,\n",
    "    'longitude<=': -69.0,\n",
    "}\n",
    "\n",
    "variables = [\n",
    " 'depth',\n",
    " 'latitude',\n",
    " 'longitude',\n",
    " 'salinity',\n",
    " 'temperature',\n",
    " 'time',\n",
    "]"
   ],
   "execution_count": null,
   "outputs": []
  },
  {
   "metadata": {},
   "cell_type": "code",
   "source": [
    "from requests.exceptions import HTTPError\n",
    "\n",
    "def download_csv(url):\n",
    "    return pd.read_csv(\n",
    "        url, index_col='time', parse_dates=True, skiprows=[1]\n",
    ")\n",
    "\n",
    "dfs = {}\n",
    "for glider in gliders:\n",
    "    print(glider)\n",
    "    try:\n",
    "        download_url = e.get_download_url(\n",
    "            dataset_id=glider,\n",
    "            protocol='tabledap',\n",
    "            variables=variables,\n",
    "            response='csv',\n",
    "            constraints=constraints\n",
    "        )\n",
    "    except HTTPError:\n",
    "        continue\n",
    "    dfs.update({glider: download_csv(download_url)})"
   ],
   "execution_count": null,
   "outputs": []
  },
  {
   "metadata": {},
   "cell_type": "markdown",
   "source": [
    "We can use [Folium](http://python-visualization.github.io/folium/) to create an interactive map of all of the glider tracks using leaflet.js."
   ]
  },
  {
   "metadata": {},
   "cell_type": "code",
   "source": [
    "!pip install folium \n",
    "import folium"
   ],
   "execution_count": null,
   "outputs": []
  },
  {
   "metadata": {},
   "cell_type": "code",
   "source": [
    "def plot_track(df, name, color='orange'):\n",
    "    df = df.reset_index().drop_duplicates(['latitude','longitude'], keep='first').sort_values('time')\n",
    "\n",
    "    locations = list(zip(df['latitude'].values, df['longitude'].values))\n",
    "    folium.PolyLine(\n",
    "        locations=locations,\n",
    "        color=color,\n",
    "        weight=8,\n",
    "        opacity=0.7,\n",
    "        tooltip=name\n",
    "    ).add_to(m)\n",
    "    print(color)\n"
   ],
   "execution_count": null,
   "outputs": []
  },
  {
   "metadata": {},
   "cell_type": "code",
   "source": [
    "import matplotlib.colors as mc\n",
    "colors = plt.rcParams['axes.prop_cycle'].by_key()['color']\n",
    "print(colors)\n",
    "\n",
    "tiles = ('http://services.arcgisonline.com/arcgis/rest/services/'\n",
    "         'World_Topo_Map/MapServer/MapServer/tile/{z}/{y}/{x}')\n",
    "\n",
    "m = folium.Map(location=(40.3052, -70.8833), zoom_start=7,\n",
    "               tiles=tiles, attr='ESRI')\n",
    "\n",
    "k=0\n",
    "for name, df in list(dfs.items()):\n",
    "    plot_track( df, name, color=mc.to_hex(colors[k]) )\n",
    "    k = k+1;\n",
    "\n",
    "m #Display the map"
   ],
   "execution_count": null,
   "outputs": []
  },
  {
   "metadata": {},
   "cell_type": "code",
   "source": [
    "def glider_scatter(df, ax, glider):\n",
    "    ax.scatter(df['temperature'], df['salinity'], s=10, alpha=0.5, label=glider)\n",
    "    \n",
    "fig, ax = plt.subplots(figsize=(7, 7))\n",
    "ax.set_ylabel('Salinity')\n",
    "ax.set_xlabel('Temperature')\n",
    "ax.grid(True)\n",
    "\n",
    "for glider, df in dfs.items():\n",
    "    glider_scatter(df, ax, glider)\n",
    "    \n",
    "leg = ax.legend()\n",
    "ax.set_ylim(20, 41)\n",
    "ax.set_xlim(2.5, 26);"
   ],
   "execution_count": null,
   "outputs": []
  },
  {
   "metadata": {},
   "cell_type": "markdown",
   "source": [
    "# References\n",
    "\n",
    "* Check out the [erddapy documentation](https://pyoceans.github.io/erddapy/) for more information on using the library, especially the [Quick Intro](https://pyoceans.github.io/erddapy/quick_intro.html)."
   ]
  }
 ]
}
