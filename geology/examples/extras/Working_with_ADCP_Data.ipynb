{
 "cells": [
  {
   "cell_type": "markdown",
   "metadata": {},
   "source": [
    "## Working with ADCP Data\n",
    "*Written by Friedrich Knuth, Rutgers University, June 12, 2018*\n",
    "\n",
    "*Revised by Lori Garzio (to work with Pangeo), Rutgers University, July 10, 2018*\n",
    "\n",
    "In this example we show how to programmatically download and work with 2 Dimensional OOI NetCDF data. We will use data from the ADCP Velocity Profiler (600kHz) deployed at the Coastal Endurance Oregon Inshore Surface Mooring. You will learn:\n",
    "\n",
    "* how to find the data you are looking for\n",
    "* how to use the machine to machine API to request data\n",
    "* how to load the NetCDF data into your notebook, once the data request has completed\n",
    "* how to explore and plot data\n",
    "\n",
    "For this example, we are using data from the 600kHaz ADCP Velocity Profiler. You will need the Reference Designator, Stream and Data Delivery Method to make the request to the M2M API. \n",
    "\n",
    "More information about the instrument can be found here:\n",
    "http://ooi.visualocean.net/instruments/view/CE01ISSM-MFD35-04-ADCPTM000\n",
    "\n",
    "![CE01ISSM-MFD35-04-ADCPTM000](https://github.com/ooi-data-review/ooi_datateam_notebooks/raw/master/images/CE01ISSM-MFD35-04-ADCPTM000.png)"
   ]
  },
  {
   "cell_type": "markdown",
   "metadata": {},
   "source": [
    "## Request a Dataset"
   ]
  },
  {
   "cell_type": "code",
   "execution_count": null,
   "metadata": {},
   "outputs": [],
   "source": [
    "import requests\n",
    "import time"
   ]
  },
  {
   "cell_type": "markdown",
   "metadata": {},
   "source": [
    "Login in at https://ooinet.oceanobservatories.org/ and obtain your <b>API username and API token</b> under your profile (top right corner)."
   ]
  },
  {
   "cell_type": "code",
   "execution_count": null,
   "metadata": {},
   "outputs": [],
   "source": [
    "username = ''\n",
    "token = ''"
   ]
  },
  {
   "cell_type": "markdown",
   "metadata": {},
   "source": [
    "Specify your inputs."
   ]
  },
  {
   "cell_type": "code",
   "execution_count": null,
   "metadata": {},
   "outputs": [],
   "source": [
    "subsite = 'CE01ISSM'\n",
    "node = 'MFD35'\n",
    "sensor = '04-ADCPTM000'\n",
    "method = 'telemetered'\n",
    "stream = 'adcp_velocity_earth'\n",
    "beginDT = '2018-03-27T10:32:51.600Z'\n",
    "endDT = '2018-04-26T10:32:51.600Z'"
   ]
  },
  {
   "cell_type": "markdown",
   "metadata": {},
   "source": [
    "Request the data. \n",
    "#### Note: Data request lines are commented out to prevent accidental resubmission when running through the entire notebook quickly."
   ]
  },
  {
   "cell_type": "code",
   "execution_count": null,
   "metadata": {},
   "outputs": [],
   "source": [
    "base_url = 'https://ooinet.oceanobservatories.org/api/m2m/12576/sensor/inv/'\n",
    "\n",
    "data_request_url ='/'.join((base_url,subsite,node,sensor,method,stream))\n",
    "params = {\n",
    "    'beginDT':beginDT,\n",
    "    'endDT':endDT,   \n",
    "}\n",
    "# r = requests.get(data_request_url, params=params, auth=(username, token))\n",
    "# data = r.json()"
   ]
  },
  {
   "cell_type": "code",
   "execution_count": null,
   "metadata": {},
   "outputs": [],
   "source": [
    "data['allURLs'][0]"
   ]
  },
  {
   "cell_type": "markdown",
   "metadata": {},
   "source": [
    "Check if the request has completed."
   ]
  },
  {
   "cell_type": "code",
   "execution_count": null,
   "metadata": {},
   "outputs": [],
   "source": [
    "%%time\n",
    "check_complete = data['allURLs'][1] + '/status.txt'\n",
    "for i in range(1800): \n",
    "    r = requests.get(check_complete)\n",
    "    if r.status_code == requests.codes.ok:\n",
    "        print('request completed')\n",
    "        break\n",
    "    else:\n",
    "        time.sleep(1)"
   ]
  },
  {
   "cell_type": "markdown",
   "metadata": {},
   "source": [
    "## Load and Plot the Data"
   ]
  },
  {
   "cell_type": "code",
   "execution_count": null,
   "metadata": {},
   "outputs": [],
   "source": [
    "import re\n",
    "import os\n",
    "import xarray as xr"
   ]
  },
  {
   "cell_type": "markdown",
   "metadata": {},
   "source": [
    "Parse the thredds server to get a list of all NetCDF files. Here, copy and paste the url from *'data['allURLs'][0]'* to avoid having to request the data every time you want to plot."
   ]
  },
  {
   "cell_type": "code",
   "execution_count": null,
   "metadata": {},
   "outputs": [],
   "source": [
    "# url = data['allURLs'][0]\n",
    "url = 'https://opendap.oceanobservatories.org/thredds/catalog/ooi/ooidatateam@gmail.com/20180710T142350-CE01ISSM-MFD35-04-ADCPTM000-telemetered-adcp_velocity_earth/catalog.html'\n",
    "tds_url = 'https://opendap.oceanobservatories.org/thredds/dodsC'\n",
    "datasets = requests.get(url).text\n",
    "urls = re.findall(r'href=[\\'\"]?([^\\'\" >]+)', datasets)\n",
    "x = re.findall(r'(ooi/.*?.nc)', datasets)\n",
    "for i in x:\n",
    "    if i.endswith('.nc') == False:\n",
    "        x.remove(i)\n",
    "for i in x:\n",
    "    try:\n",
    "        float(i[-4])\n",
    "    except:\n",
    "        x.remove(i)\n",
    "datasets = [os.path.join(tds_url, i) for i in x]\n",
    "datasets"
   ]
  },
  {
   "cell_type": "markdown",
   "metadata": {},
   "source": [
    "Load the list of NetCDF files into xarray. Note that this datasets has two dimensions, time and bin. Some variables are dimensioned along just time, others along both time and bin number."
   ]
  },
  {
   "cell_type": "code",
   "execution_count": null,
   "metadata": {},
   "outputs": [],
   "source": [
    "ds = xr.open_mfdataset(datasets)\n",
    "ds = ds.swap_dims({'obs': 'time'})\n",
    "ds = ds.chunk({'time': 100})\n",
    "ds"
   ]
  },
  {
   "cell_type": "markdown",
   "metadata": {},
   "source": [
    "Extract the bin depths, east, north and west values along the time dimensions. Note the .T for two dimensional variables."
   ]
  },
  {
   "cell_type": "code",
   "execution_count": null,
   "metadata": {},
   "outputs": [],
   "source": [
    "time = ds['time'].data\n",
    "bin_depths = ds['bin_depths'].data.T\n",
    "east = ds['eastward_seawater_velocity'].data.T\n",
    "north = ds['northward_seawater_velocity'].data.T\n",
    "up = ds['upward_seawater_velocity'].data.T"
   ]
  },
  {
   "cell_type": "markdown",
   "metadata": {},
   "source": [
    "Next we will plot the data."
   ]
  },
  {
   "cell_type": "code",
   "execution_count": null,
   "metadata": {},
   "outputs": [],
   "source": [
    "import matplotlib.pyplot as plt\n",
    "import numpy as np"
   ]
  },
  {
   "cell_type": "markdown",
   "metadata": {},
   "source": [
    "To screen out surface noise velocities we will set the colorbar limit to the 90th percentile of the data. *Note: np.nanpercentile() is only valid if the data are normally-distributed.*"
   ]
  },
  {
   "cell_type": "code",
   "execution_count": null,
   "metadata": {},
   "outputs": [],
   "source": [
    "lim_east = float(\"%2.2f\" % np.nanpercentile(east, 90))\n",
    "lim_north = float(\"%2.2f\" % np.nanpercentile(north, 90))\n",
    "lim_up = float(\"%2.2f\" % np.nanpercentile(up, 90))\n",
    "u_v_w = max([lim_east, lim_north, lim_up])"
   ]
  },
  {
   "cell_type": "markdown",
   "metadata": {},
   "source": [
    "And plot."
   ]
  },
  {
   "cell_type": "code",
   "execution_count": null,
   "metadata": {},
   "outputs": [],
   "source": [
    "plt.close()\n",
    "fig, axes = plt.subplots(3, sharex=True)\n",
    "fig.set_size_inches(20, 9)\n",
    "\n",
    "p0 = axes[0].pcolormesh(time, bin_depths, east, cmap='RdBu',vmin=-u_v_w,vmax=u_v_w)\n",
    "axes[0].set_ylim(5,25)\n",
    "axes[0].set_title('Eastward Velocity (u)')\n",
    "axes[0].invert_yaxis()\n",
    "\n",
    "p1 = axes[1].pcolormesh(time, bin_depths, north, cmap='RdBu',vmin=-u_v_w,vmax=u_v_w)\n",
    "axes[1].set_title('Northward Velocity (v)')\n",
    "axes[1].set_ylim(5,25)\n",
    "axes[1].invert_yaxis()\n",
    "axes[1].set_ylabel('Depth')\n",
    "\n",
    "p2 = axes[2].pcolormesh(time, bin_depths, up, cmap='RdBu',vmin=-u_v_w,vmax=u_v_w)\n",
    "axes[2].set_title('Upward Velocity (w)')\n",
    "axes[2].set_ylim(5,25)\n",
    "axes[2].invert_yaxis()\n",
    "axes[2].set_xlabel('Time')\n",
    "\n",
    "fig.colorbar(p0,ax=axes.ravel().tolist(), label='m/s')\n",
    "\n",
    "plt.show()"
   ]
  }
 ],
 "metadata": {
  "colab": {
   "default_view": {},
   "name": "Working with ADCP Data.ipynb",
   "provenance": [],
   "version": "0.3.2",
   "views": {}
  },
  "kernelspec": {
   "display_name": "Python 3",
   "language": "python",
   "name": "python3"
  },
  "language_info": {
   "codemirror_mode": {
    "name": "ipython",
    "version": 3
   },
   "file_extension": ".py",
   "mimetype": "text/x-python",
   "name": "python",
   "nbconvert_exporter": "python",
   "pygments_lexer": "ipython3",
   "version": "3.6.5"
  }
 },
 "nbformat": 4,
 "nbformat_minor": 2
}
