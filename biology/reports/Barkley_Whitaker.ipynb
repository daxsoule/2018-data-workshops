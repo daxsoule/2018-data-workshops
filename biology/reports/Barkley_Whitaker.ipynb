{
 "nbformat": 4,
 "nbformat_minor": 0,
 "metadata": {
  "colab": {
   "name": "Data Validation Report.ipynb",
   "version": "0.3.2",
   "views": {},
   "default_view": {},
   "provenance": []
  },
  "kernelspec": {
   "name": "python2",
   "display_name": "Python 2"
  }
 },
 "cells": [
  {
   "metadata": {},
   "cell_type": "markdown",
   "source": [
    "# Coastal Pioneer CTD Profilers (CTDPFK000) Data Quality Report"
   ]
  },
  {
   "metadata": {},
   "cell_type": "markdown",
   "source": [
    "**Evaluation Date** **:** 6/22/2018\n",
    "\n",
    "**Evaluators: ** Justine Whitaker, Yvonne Barkley\n",
    "\n",
    "## **Review Summary**\n",
    "\n",
    "This report focuses on CTD data from the wire-following profiler collected during the hurricane season. Five moorings had recovered data available from September 1-28, 2016, and by reviewing data from all five moorings, we can look for consistency across the mooring and identify patterns by comparing offshore and inshore moorings. \n",
    "\n",
    "Three wire following profiler CTDs had usable data, and two did not provide data likely due to biofouling that prevented movement along the wire.\n",
    "\n",
    "Hurricane Hermine appears to have only interrupted data collection for a very short period of time. We did not focus on a shorter time period since the month-long evaluation did not reveal any extraordinary findings. \n",
    "\n",
    "Additional data from CP04OSPM-WFP01-03-CTDPFK000 was evaluated, but needs to be investigated further.\n",
    "\n",
    "\n"
   ]
  },
  {
   "metadata": {},
   "cell_type": "markdown",
   "source": [
    "## **1. Selected instruments included in this report**\n",
    "\n",
    "In this report, we plan to evaluate the wire following profiler CTD data (recovered) from 5 moorings on the Coastal Pioneer Array. Mooring key numbers correspond to the labels in the map.\n",
    "\n",
    "\n",
    "Instrument | Mooring Key | Reference Designator | Method | Stream \n",
    " -- | -- | -- | -- | --\n",
    "CTD | 1 | [CP02PMUI-WFP01-03-CTDPFK000](http://ooi.visualocean.net/instruments/view/CP02PMUI-WFP01-03-CTDPFK000) | recovered | ctdpf_ckl_wfp_instrument_recovered\n",
    "CTD | 3 | [CP02PMUO-WFP01-03-CTDPFK000](http://ooi.visualocean.net/instruments/view/CP02PMUO-WFP01-03-CTDPFK000) | recovered | ctdpf_ckl_wfp_instrument_recovered\n",
    "CTD | 5 | [CP02PMCI-WFP01-03-CTDPFK000](http://ooi.visualocean.net/instruments/view/CP02PMCI-WFP01-03-CTDPFK000) | recovered | ctdpf_ckl_wfp_instrument_recovered\n",
    "CTD | 6 | [CP02PMCO-WFP01-03-CTDPFK000](http://ooi.visualocean.net/instruments/view/CP02PMCO-WFP01-03-CTDPFK000) | recovered | ctdpf_ckl_wfp_instrument_recovered\n",
    "CTD | 7 | [CP04OSPM-WFP01-03-CTDPFK000](http://ooi.visualocean.net/instruments/view/CP04OSPM-WFP01-03-CTDPFK000) | recovered | ctdpf_ckl_wfp_instrument_recovered"
   ]
  },
  {
   "metadata": {},
   "cell_type": "markdown",
   "source": [
    "![alt text](http://oceanobservatories.org/wp-content/uploads/2015/09/CEV-OOI-Coastal-Pioneer-Array.jpg =1000x)"
   ]
  },
  {
   "metadata": {},
   "cell_type": "markdown",
   "source": [
    "## 2. Time periods of interest\n",
    "We will focus on the following time periods for evaluation:\n",
    "* September 2016 - all deployments during that timeframe\n"
   ]
  },
  {
   "metadata": {},
   "cell_type": "markdown",
   "source": [
    "## **3. Related Metadata**\n",
    "In this section, we will review some of the metadata available in the system to make sure it is present and correct. Below is information on API requests.\n"
   ]
  },
  {
   "metadata": {},
   "cell_type": "markdown",
   "source": [
    "The code listed below loads the data for the time period from each CTD on the wire-following profiler for five different moorings."
   ]
  },
  {
   "metadata": {},
   "cell_type": "code",
   "source": [
    "# Setup Instrument Variables for each mooring\n",
    "sites = ['CP02PMUI', 'CP02PMUO', 'CP02PMCI', 'CP02PMCO', 'CP04OSPM'] # 5 Coastal Pioneer Moorings\n",
    "node = 'WFP01' #We are using the wire-following profilers \n",
    "sensor = '03-CTDPFK000' # Evaluating the CTD\n",
    "method = 'recovered_wfp' # Recovered data\n",
    "stream = 'ctdpf_ckl_wfp_instrument_recovered' # CTD data \n",
    "# We are interested in September 2016, but one profiler is limited to Sept 28, 2016. This is the limit to our date range.\n",
    "beginDT = '2016-09-01T01:01:01.900Z' \n",
    "endDT = '2016-09-28T01:01:01.900Z'\n"
   ],
   "execution_count": null,
   "outputs": []
  },
  {
   "metadata": {},
   "cell_type": "code",
   "source": [
    "#API\n",
    "USERNAME = 'OOIAPI-5ZCZ3NHYMDJPCF'\n",
    "TOKEN =  'TEMP-TOKEN-NOFNNOE9ID3LQS'\n",
    "DATA_API = 'https://ooinet.oceanobservatories.org/api/m2m/12576/sensor/inv'\n",
    "VOCAB_API = 'https://ooinet.oceanobservatories.org/api/m2m/12586/vocab/inv'\n",
    "ASSET_API = 'https://ooinet.oceanobservatories.org/api/m2m/12587'"
   ],
   "execution_count": null,
   "outputs": []
  },
  {
   "metadata": {},
   "cell_type": "code",
   "source": [
    "# Setup the Python processing environment \n",
    "import requests\n",
    "import datetime\n",
    "import pandas as pd\n",
    "import re\n",
    "import os"
   ],
   "execution_count": null,
   "outputs": []
  },
  {
   "metadata": {},
   "cell_type": "code",
   "source": [
    "# Specify some functions to convert timestamps\n",
    "ntp_epoch = datetime.datetime(1900, 1, 1)\n",
    "unix_epoch = datetime.datetime(1970, 1, 1)\n",
    "ntp_delta = (unix_epoch - ntp_epoch).total_seconds()\n",
    "\n",
    "def ntp_seconds_to_datetime(ntp_seconds):\n",
    "    return datetime.datetime.utcfromtimestamp(ntp_seconds - ntp_delta).replace(microsecond=0)\n",
    "  \n",
    "def convert_time(ms):\n",
    "  if ms != None:\n",
    "    return datetime.datetime.utcfromtimestamp(ms/1000)\n",
    "  else:\n",
    "    return None"
   ],
   "execution_count": null,
   "outputs": []
  },
  {
   "metadata": {},
   "cell_type": "markdown",
   "source": [
    "### 3a. Vocabulary Metadata\n",
    "This section includes the basic vocabulary information (metadata) for each instrument."
   ]
  },
  {
   "metadata": {},
   "cell_type": "code",
   "source": [
    "# Setup the API request url CP02PMUI-WFP01-03-CTDPFK000\n",
    "vocabData = []\n",
    "dfVocab = pd.DataFrame() # Setup empty dataframe\n",
    "#Create our data requests\n",
    "for site in sites:\n",
    "  # Setup the API request url\n",
    "  data_request_url ='/'.join((VOCAB_API,site,node,sensor))\n",
    "  print(data_request_url)\n",
    "\n",
    "  # Grab the information from the server\n",
    "  r = requests.get(data_request_url, auth=(USERNAME, TOKEN))\n",
    "  vocabData = (r.json())\n",
    "  for d in vocabData:\n",
    "    dfVocab = dfVocab.append({\n",
    "      'Site': d['tocL1'],\n",
    "      'Node': d['tocL3'],\n",
    "      'Instrument': d['instrument'],\n",
    "      'Manufacturer': d['manufacturer'],\n",
    "      'Model': d['model'],\n",
    "      'Reference Designator': d['refdes'],\n",
    "      'Depth Range (m)': str(d['mindepth']) + ' - ' +str(d['maxdepth']),\n",
    "      }, ignore_index=True)\n",
    "    \n",
    "\n",
    "dfVocab = pd.DataFrame(dfVocab, columns = ['Instrument', 'Manufacturer','Model','Site', 'Reference Designator', 'Node', 'Depth Range (m)'])\n",
    "dfVocab\n"
   ],
   "execution_count": null,
   "outputs": []
  },
  {
   "metadata": {},
   "cell_type": "markdown",
   "source": [
    "### 3b. Deployment Information\n",
    "This section includes information about the deployments for this instrument. We will grab all of the deployments available in the system for September 2016 and then output the date ranges, latitude/longitude, asset ID, and sensor ID for each. "
   ]
  },
  {
   "metadata": {},
   "cell_type": "code",
   "source": [
    "# Setup the API request url\n",
    "data_request_url = ASSET_API + '/events/deployment/query'\n",
    "dfAsset = pd.DataFrame() # Setup empty array\n",
    "#deployData = []\n",
    "for site in sites:\n",
    "  params = {\n",
    "   'beginDT':beginDT,\n",
    "   'endDT':endDT,\n",
    "   'refdes':site+'-'+node+'-'+sensor,   \n",
    "    }\n",
    "\n",
    "  # Grab the information from the server\n",
    "  r = requests.get(data_request_url, params=params, auth=(USERNAME, TOKEN))\n",
    "  assetData = r.json()\n",
    "\n",
    "  for d in assetData:\n",
    "    dfAsset = dfAsset.append({\n",
    "      'deployment': d['deploymentNumber'],\n",
    "      'start': convert_time(d['eventStartTime']),\n",
    "      'stop': convert_time(d['eventStopTime']),\n",
    "      'latitude': d['location']['latitude'],\n",
    "      'longitude': d['location']['longitude'],\n",
    "      'sensor': d['sensor']['uid'],\n",
    "      'asset_id': d['sensor']['assetId'],\n",
    "      }, ignore_index=True)\n",
    "dfAsset"
   ],
   "execution_count": null,
   "outputs": []
  },
  {
   "metadata": {},
   "cell_type": "code",
   "source": [
    "print data_request_url"
   ],
   "execution_count": null,
   "outputs": []
  },
  {
   "metadata": {},
   "cell_type": "markdown",
   "source": [
    "### 3c. Deployment Annotations\n",
    "This section will include any annotations for the CTD instrument during 2016. "
   ]
  },
  {
   "metadata": {},
   "cell_type": "code",
   "source": [
    "# Setup Instrument Variables\n",
    "site = 'CP02PMUO'        \n",
    "node = 'WFP01'\n",
    "instrument = '03-CTDPFK000'\n",
    "method = 'recovered_wfp'\n",
    "stream = 'ctdpf_ckl_wfp_instrument_recovered'"
   ],
   "execution_count": null,
   "outputs": []
  },
  {
   "metadata": {},
   "cell_type": "code",
   "source": [
    "ANNO_API = 'https://ooinet.oceanobservatories.org/api/m2m/12580/anno/find'\n",
    "params = {\n",
    "  'beginDT':int(datetime.date(2016,9,1).strftime('%s'))*1000,\n",
    "  'endDT':int(datetime.date(2016,9,28).strftime('%s'))*1000,\n",
    "  'refdes':site+'-'+node+'-'+sensor,\n",
    "}\n",
    "\n",
    "r = requests.get(ANNO_API, params=params, auth=(USERNAME, TOKEN))\n",
    "data = r.json()\n",
    "\n",
    "df = pd.DataFrame() # Setup empty array\n",
    "for d in data:\n",
    "  df = df.append({\n",
    "    'annotation': d['annotation'],\n",
    "    'start': convert_time(d['beginDT']),\n",
    "    'stop': convert_time(d['endDT']),\n",
    "    'site': d['subsite'],\n",
    "    'node': d['node'],\n",
    "    'sensor': d['sensor'],\n",
    "    'id': d['id']\n",
    "  }, ignore_index=True)\n",
    "pd.set_option('display.max_colwidth', -1) # Show the full annotation text\n",
    "df"
   ],
   "execution_count": null,
   "outputs": []
  },
  {
   "metadata": {},
   "cell_type": "code",
   "source": [
    "# Setup Instrument Variables\n",
    "site = 'CP02PMCO'        \n",
    "node = 'WFP01'\n",
    "instrument = '03-CTDPFK000'\n",
    "method = 'recovered_wfp'\n",
    "stream = 'ctdpf_ckl_wfp_instrument_recovered'"
   ],
   "execution_count": null,
   "outputs": []
  },
  {
   "metadata": {},
   "cell_type": "code",
   "source": [
    "ANNO_API = 'https://ooinet.oceanobservatories.org/api/m2m/12580/anno/find'\n",
    "params = {\n",
    "  'beginDT':int(datetime.date(2016,9,1).strftime('%s'))*1000,\n",
    "  'endDT':int(datetime.date(2016,9,28).strftime('%s'))*1000,\n",
    "  'refdes':site+'-'+node+'-'+sensor,\n",
    "}\n",
    "\n",
    "r = requests.get(ANNO_API, params=params, auth=(USERNAME, TOKEN))\n",
    "data = r.json()\n",
    "\n",
    "df = pd.DataFrame() # Setup empty array\n",
    "for d in data:\n",
    "  df = df.append({\n",
    "    'annotation': d['annotation'],\n",
    "    'start': convert_time(d['beginDT']),\n",
    "    'stop': convert_time(d['endDT']),\n",
    "    'site': d['subsite'],\n",
    "    'node': d['node'],\n",
    "    'sensor': d['sensor'],\n",
    "    'id': d['id']\n",
    "  }, ignore_index=True)\n",
    "pd.set_option('display.max_colwidth', -1) # Show the full annotation text\n",
    "df"
   ],
   "execution_count": null,
   "outputs": []
  },
  {
   "metadata": {},
   "cell_type": "code",
   "source": [
    "# Setup Instrument Variables #no annotations\n",
    "site = 'CP02PMUI'        \n",
    "node = 'WFP01'\n",
    "instrument = '03-CTDPFK000'\n",
    "method = 'recovered_wfp'\n",
    "stream = 'ctdpf_ckl_wfp_instrument_recovered'"
   ],
   "execution_count": null,
   "outputs": []
  },
  {
   "metadata": {},
   "cell_type": "code",
   "source": [
    "# Setup Instrument Variables #no annotations\n",
    "site = 'CP02PMCI'        \n",
    "node = 'WFP01'\n",
    "instrument = '03-CTDPFK000'\n",
    "method = 'recovered_wfp'\n",
    "stream = 'ctdpf_ckl_wfp_instrument_recovered'"
   ],
   "execution_count": null,
   "outputs": []
  },
  {
   "metadata": {},
   "cell_type": "code",
   "source": [
    "# Setup Instrument Variables #no annotations\n",
    "site = 'CP04OSPM'        \n",
    "node = 'WFP01'\n",
    "instrument = '03-CTDPFK000'\n",
    "method = 'recovered_wfp'\n",
    "stream = 'ctdpf_ckl_wfp_instrument_recovered'"
   ],
   "execution_count": null,
   "outputs": []
  },
  {
   "metadata": {},
   "cell_type": "markdown",
   "source": [
    "## 4. The full dataset\n",
    "This section provides code to retrieve netcdf files for all 5 instruments during September, 2016."
   ]
  },
  {
   "metadata": {},
   "cell_type": "code",
   "source": [
    "# Setup Instrument Variables CP04OSPM-WFP01-03-CTDPFK000\n",
    "params = {\n",
    "  'beginDT': beginDT,\n",
    "  'endDT': endDT,\n",
    "  'format':'application/netcdf',\n",
    "  'include_annotations':'true'\n",
    "}\n",
    "\n",
    "#This loop only needs to run once. Uncomment to run.\n",
    "# dfURL = []\n",
    "\n",
    "# for site in sites:\n",
    "#   data_request_url ='/'.join((DATA_API,site,node,sensor,method,stream))\n",
    "#   r = requests.get(data_request_url, params=params, auth=(USERNAME, TOKEN))\n",
    "#   data = r.json()\n",
    "#   dfURL.append(data['allURLs'][0])\n",
    "  \n",
    "# print dfURL  #This has all the urls\n",
    "  "
   ],
   "execution_count": null,
   "outputs": []
  },
  {
   "metadata": {},
   "cell_type": "code",
   "source": [
    "dfURL = [u'https://opendap.oceanobservatories.org/thredds/catalog/ooi/justine.m.whitaker@gmail.com/20180620T193334-CP02PMUI-WFP01-03-CTDPFK000-recovered_wfp-ctdpf_ckl_wfp_instrument_recovered/catalog.html', u'https://opendap.oceanobservatories.org/thredds/catalog/ooi/justine.m.whitaker@gmail.com/20180620T193343-CP02PMUO-WFP01-03-CTDPFK000-recovered_wfp-ctdpf_ckl_wfp_instrument_recovered/catalog.html', u'https://opendap.oceanobservatories.org/thredds/catalog/ooi/justine.m.whitaker@gmail.com/20180620T193351-CP02PMCI-WFP01-03-CTDPFK000-recovered_wfp-ctdpf_ckl_wfp_instrument_recovered/catalog.html', u'https://opendap.oceanobservatories.org/thredds/catalog/ooi/justine.m.whitaker@gmail.com/20180620T193403-CP02PMCO-WFP01-03-CTDPFK000-recovered_wfp-ctdpf_ckl_wfp_instrument_recovered/catalog.html', u'https://opendap.oceanobservatories.org/thredds/catalog/ooi/justine.m.whitaker@gmail.com/20180620T193413-CP04OSPM-WFP01-03-CTDPFK000-recovered_wfp-ctdpf_ckl_wfp_instrument_recovered/catalog.html']\n",
    "tds_url = 'https://opendap.oceanobservatories.org/thredds/dodsC'\n",
    "\n",
    "for url in dfURL:\n",
    "  dataset = requests.get(url).text\n",
    "  urls = re.findall(r'href=[\\'\"]?([^\\'\" >]+)', dataset)\n",
    "  x = re.findall(r'(ooi/.*?.nc)', dataset) #looking for all files that end in .nc, the netcdfs\n",
    "  for i in x:\n",
    "    if i.endswith('.nc') == False:\n",
    "        x.remove(i)\n",
    "  for i in x:\n",
    "    try:\n",
    "        float(i[-4])\n",
    "    except:\n",
    "        x.remove(i)\n",
    "    datasets = [os.path.join(tds_url, i) for i in x]\n",
    "#     y = os.path.join(tds_url, i)\n",
    "#     datasets.append(y)\n",
    "  print datasets #this should give you all the netcdf files\n",
    " "
   ],
   "execution_count": null,
   "outputs": []
  },
  {
   "metadata": {},
   "cell_type": "markdown",
   "source": [
    "We saved all urls in a list."
   ]
  },
  {
   "metadata": {},
   "cell_type": "code",
   "source": [
    "datasets = [u'https://opendap.oceanobservatories.org/thredds/dodsC/ooi/justine.m.whitaker@gmail.com/20180620T193334-CP02PMUI-WFP01-03-CTDPFK000-recovered_wfp-ctdpf_ckl_wfp_instrument_recovered/deployment0007_CP02PMUI-WFP01-03-CTDPFK000-recovered_wfp-ctdpf_ckl_wfp_instrument_recovered_20160901T013001-20160928T000720.979118.nc',\n",
    "u'https://opendap.oceanobservatories.org/thredds/dodsC/ooi/justine.m.whitaker@gmail.com/20180620T193343-CP02PMUO-WFP01-03-CTDPFK000-recovered_wfp-ctdpf_ckl_wfp_instrument_recovered/deployment0007_CP02PMUO-WFP01-03-CTDPFK000-recovered_wfp-ctdpf_ckl_wfp_instrument_recovered_20160901T030002-20160928T001321.988636.nc',\n",
    "u'https://opendap.oceanobservatories.org/thredds/dodsC/ooi/justine.m.whitaker@gmail.com/20180620T193351-CP02PMCI-WFP01-03-CTDPFK000-recovered_wfp-ctdpf_ckl_wfp_instrument_recovered/deployment0006_CP02PMCI-WFP01-03-CTDPFK000-recovered_wfp-ctdpf_ckl_wfp_instrument_recovered_20160901T013002-20160928T001205.987430.nc',\n",
    "u'https://opendap.oceanobservatories.org/thredds/dodsC/ooi/justine.m.whitaker@gmail.com/20180620T193403-CP02PMCO-WFP01-03-CTDPFK000-recovered_wfp-ctdpf_ckl_wfp_instrument_recovered/deployment0006_CP02PMCO-WFP01-03-CTDPFK000-recovered_wfp-ctdpf_ckl_wfp_instrument_recovered_20160901T013001-20160928T001010.985025.nc',\n",
    "u'https://opendap.oceanobservatories.org/thredds/dodsC/ooi/justine.m.whitaker@gmail.com/20180620T193413-CP04OSPM-WFP01-03-CTDPFK000-recovered_wfp-ctdpf_ckl_wfp_instrument_recovered/deployment0005_CP04OSPM-WFP01-03-CTDPFK000-recovered_wfp-ctdpf_ckl_wfp_instrument_recovered_20160901T030002-20160928T001307.988432.nc']"
   ],
   "execution_count": null,
   "outputs": []
  },
  {
   "metadata": {},
   "cell_type": "code",
   "source": [
    "import matplotlib.pyplot as plt\n",
    "\n",
    "!pip install netCDF4\n",
    "import netCDF4 as nc\n",
    "\n",
    "!pip install xarray\n",
    "import xarray as xr\n",
    "\n",
    "!pip install cmocean\n",
    "import cmocean\n",
    "\n",
    "!pip install numpy\n",
    "import numpy"
   ],
   "execution_count": null,
   "outputs": []
  },
  {
   "metadata": {},
   "cell_type": "code",
   "source": [
    "#Build the dictionary with data from all 5 sites. Data appended to empty dictionary using a loop\n",
    "data_dict = {} #{}means dictionary\n",
    "\n",
    "for d in datasets:\n",
    "  ds = xr.open_dataset(d)\n",
    "  ds = ds.swap_dims({'obs':'time'})\n",
    "  refdes = '-'.join((ds.subsite,ds.node,ds.sensor))\n",
    "  data_dict[refdes] = {}\n",
    "  data_dict[refdes]['time']=ds['time'].values #appends data into dictionary\n",
    "  data_dict[refdes]['pressure']=ds['ctdpf_ckl_seawater_pressure'].values\n",
    "  data_dict[refdes]['temperature']=ds['ctdpf_ckl_seawater_temperature'].values\n",
    "  data_dict[refdes]['salinity']=ds['practical_salinity'].values\n",
    "  \n",
    "  \n",
    "print data_dict "
   ],
   "execution_count": null,
   "outputs": []
  },
  {
   "metadata": {},
   "cell_type": "code",
   "source": [
    "#Take a look at the attributes of the data\n",
    "print ds"
   ],
   "execution_count": null,
   "outputs": []
  },
  {
   "metadata": {},
   "cell_type": "code",
   "source": [
    "#Create list of site names for reference designators.\n",
    "refdes_list=['CP02PMUI-WFP01-03-CTDPFK000', 'CP02PMUO-WFP01-03-CTDPFK000', 'CP02PMCI-WFP01-03-CTDPFK000', 'CP02PMCO-WFP01-03-CTDPFK000', 'CP04OSPM-WFP01-03-CTDPFK000']"
   ],
   "execution_count": null,
   "outputs": []
  },
  {
   "metadata": {},
   "cell_type": "code",
   "source": [
    "# Scatterplot of Salinity from 5 sites using the dictionary\n",
    "fig,axes = plt.subplots(nrows=5, ncols=1, sharex=True, figsize=(8,18))\n",
    "  \n",
    "for i, ax in enumerate(axes.flat): \n",
    "  print i\n",
    "  rd=refdes_list[i]\n",
    "  t=data_dict[rd]['time']\n",
    "  p=data_dict[rd]['pressure']\n",
    "  sal=data_dict[rd]['salinity']\n",
    "  \n",
    "  sc = ax.scatter(t, p, c=sal, cmap='GnBu')\n",
    "  ax.invert_yaxis() # Invert y axis\n",
    "  ax.set_xlim(t[0],t[-1]) # Set the time limits to match the dataset\n",
    "  cbar = fig.colorbar(sc, ax=ax, orientation='vertical')\n",
    "  cbar.ax.set_ylabel('Salinity (ppt)')\n",
    "  ax.set_ylabel('Pressure (dbar)')\n",
    "  ax.set_title(rd)\n",
    "  fig.autofmt_xdate() #rotates dates 45 degrees"
   ],
   "execution_count": null,
   "outputs": []
  },
  {
   "metadata": {},
   "cell_type": "code",
   "source": [
    "# Scatterplot of Temperature from 5 sites using the dictionary\n",
    "fig,axes = plt.subplots(nrows=5, ncols=1, sharex=True, figsize=(8,18))\n",
    "  \n",
    "for i, ax in enumerate(axes.flat): \n",
    "  print i\n",
    "  rd=refdes_list[i]\n",
    "  t=data_dict[rd]['time']\n",
    "  p=data_dict[rd]['pressure']\n",
    "  temp=data_dict[rd]['temperature']\n",
    "  \n",
    "  sc = ax.scatter(t, p, c=temp, cmap='RdYlBu_r')\n",
    "  ax.invert_yaxis() # Invert y axis\n",
    "  ax.set_xlim(t[0],t[-1]) # Set the time limits to match the dataset\n",
    "  cbar = fig.colorbar(sc, ax=ax, orientation='vertical')\n",
    "  cbar.ax.set_ylabel('Temperature ($^\\circ$C)')\n",
    "  ax.set_ylabel('Pressure (dbar)')\n",
    "  ax.set_title(rd)\n",
    "  fig.autofmt_xdate() #rotates dates 45 degrees"
   ],
   "execution_count": null,
   "outputs": []
  },
  {
   "metadata": {},
   "cell_type": "markdown",
   "source": [
    "## 5. Closer look at CP04OSPM-WFP01-03-CTDPFK000\n",
    "\n",
    "To identify when the instrument stopped producing usable data, we grabbed and plotted more of the  data."
   ]
  },
  {
   "metadata": {},
   "cell_type": "code",
   "source": [
    "# Setup Instrument Variables for mooring\n",
    "site = 'CP04OSPM'\n",
    "node = 'WFP01' #We are using the wire-following profilers \n",
    "sensor = '03-CTDPFK000' # Evaluating the CTD\n",
    "method = 'recovered_wfp' # Recovered data\n",
    "stream = 'ctdpf_ckl_wfp_instrument_recovered' # CTD data \n",
    "beginDT = '2010-04-01T01:01:01.900Z' \n",
    "endDT = '2016-10-12T01:01:01.900Z'\n",
    "\n",
    "# Specify some functions to convert timestamps\n",
    "ntp_epoch = datetime.datetime(1900, 1, 1)\n",
    "unix_epoch = datetime.datetime(1970, 1, 1)\n",
    "ntp_delta = (unix_epoch - ntp_epoch).total_seconds()\n",
    "\n",
    "def ntp_seconds_to_datetime(ntp_seconds):\n",
    "    return datetime.datetime.utcfromtimestamp(ntp_seconds - ntp_delta).replace(microsecond=0)\n",
    "  \n",
    "def convert_time(ms):\n",
    "  if ms != None:\n",
    "    return datetime.datetime.utcfromtimestamp(ms/1000)\n",
    "  else:\n",
    "    return None"
   ],
   "execution_count": null,
   "outputs": []
  },
  {
   "metadata": {},
   "cell_type": "code",
   "source": [
    "# Setup Instrument Variables CP04OSPM-WFP01-03-CTDPFK000\n",
    "params = {\n",
    "  'beginDT': '2010-01-01T01:01:01.900Z',\n",
    "  'endDT': '2016-10-12T01:01:01.900Z',\n",
    "  'format':'application/netcdf',\n",
    "  'include_provenance':'true',\n",
    "  'include_annotations':'true'\n",
    "}\n",
    "\n",
    "#This loop only needs to run once. Uncomment to run.\n",
    "# dfURL = []\n",
    "\n",
    "# for site in sites:\n",
    "#   data_request_url ='/'.join((DATA_API,site,node,sensor,method,stream))\n",
    "#   r = requests.get(data_request_url, params=params, auth=(USERNAME, TOKEN))\n",
    "#   data = r.json()\n",
    "#   dfURL.append(data['allURLs'][0])\n",
    "  \n",
    "print dfURL  "
   ],
   "execution_count": null,
   "outputs": []
  },
  {
   "metadata": {},
   "cell_type": "code",
   "source": [
    "print(data['allURLs'][0])"
   ],
   "execution_count": null,
   "outputs": []
  },
  {
   "metadata": {},
   "cell_type": "code",
   "source": [
    "%%time #check on request\n",
    "check_complete = data['allURLs'][1] + '/status.txt'\n",
    "for i in range(1000): \n",
    "    r = requests.get(check_complete)\n",
    "    if r.status_code == requests.codes.ok:\n",
    "        print('request completed')\n",
    "        break\n",
    "    else:\n",
    "        time.sleep(1)"
   ],
   "execution_count": null,
   "outputs": []
  },
  {
   "metadata": {},
   "cell_type": "code",
   "source": [
    "# Load the data files\n",
    "dat = 'https://opendap.oceanobservatories.org/thredds/dodsC/ooi/justine.m.whitaker@gmail.com/20180621T212554-CP04OSPM-WFP01-03-CTDPFK000-recovered_wfp-ctdpf_ckl_wfp_instrument_recovered/deployment0005_CP04OSPM-WFP01-03-CTDPFK000-recovered_wfp-ctdpf_ckl_wfp_instrument_recovered_20160520T000003-20160928T121308.987146.nc'\n",
    "ds1 = xr.open_dataset(dat)"
   ],
   "execution_count": null,
   "outputs": []
  },
  {
   "metadata": {},
   "cell_type": "code",
   "source": [
    "# By default, OOI datasets use the 'obs' variable as the index, but time is more convenient\n",
    "ds1 = ds1.swap_dims({'obs': 'time'})\n",
    "\n",
    "# Sort the data\n",
    "ds1 = ds1.sortby('time'); \n",
    "\n",
    "# # # Optional, this is used to optimize data processing\n",
    "# ds1 = ds1.chunk({'time': 100}) \n",
    "\n",
    "ds1"
   ],
   "execution_count": null,
   "outputs": []
  },
  {
   "metadata": {},
   "cell_type": "code",
   "source": [
    "temp_sub = ds1['ctdpf_ckl_seawater_temperature'].values\n",
    "press_sub = ds1['ctdpf_ckl_seawater_pressure'].values\n",
    "sal_sub = ds1['practical_salinity'].values\n",
    "time_sub = ds1['time'].values\n",
    " "
   ],
   "execution_count": null,
   "outputs": []
  },
  {
   "metadata": {},
   "cell_type": "markdown",
   "source": [
    "Deployment 1"
   ]
  },
  {
   "metadata": {},
   "cell_type": "code",
   "source": [
    "# fig,ax1 = plt.subplots(1,1,figsize=(16,4))\n",
    "# sc1 = ax1.scatter(time_sub, press_sub, c=temp_sub, cmap='RdYlBu_r') # Add s=2 to set the markersize\n",
    "# ax1.invert_yaxis() # Invert y axis\n",
    "# #ax1.set_xlim(time_sub[0],time_sub[-1]) # Set the time limits to match the dataset\n",
    "# cbar = fig.colorbar(sc1, ax=ax1, orientation='vertical')\n",
    "# cbar.ax.set_ylabel('Temperature ($^\\circ$C)')\n",
    "# ax1.set_ylabel('Pressure (dbar)')\n",
    "# ax1.set_title('CP04OSPM-WFP01-03-CTDPFK000');"
   ],
   "execution_count": null,
   "outputs": []
  },
  {
   "metadata": {},
   "cell_type": "markdown",
   "source": [
    "Deployment 4"
   ]
  },
  {
   "metadata": {},
   "cell_type": "code",
   "source": [
    "# fig,ax1 = plt.subplots(1,1,figsize=(16,4))\n",
    "# sc1 = ax1.scatter(time_sub, press_sub, c=temp_sub, cmap='RdYlBu_r') # Add s=2 to set the markersize\n",
    "# ax1.invert_yaxis() # Invert y axis\n",
    "# #ax1.set_xlim(time_sub[0],time_sub[-1]) # Set the time limits to match the dataset\n",
    "# cbar = fig.colorbar(sc1, ax=ax1, orientation='vertical')\n",
    "# cbar.ax.set_ylabel('Temperature ($^\\circ$C)')\n",
    "# ax1.set_ylabel('Pressure (dbar)')\n",
    "# ax1.set_title('CP04OSPM-WFP01-03-CTDPFK000');"
   ],
   "execution_count": null,
   "outputs": []
  },
  {
   "metadata": {},
   "cell_type": "markdown",
   "source": [
    "Deployment 6"
   ]
  },
  {
   "metadata": {},
   "cell_type": "code",
   "source": [
    "# fig,ax1 = plt.subplots(1,1,figsize=(16,4))\n",
    "# sc1 = ax1.scatter(time_sub, press_sub, c=temp_sub, cmap='RdYlBu_r') # Add s=2 to set the markersize\n",
    "# ax1.invert_yaxis() # Invert y axis\n",
    "# #ax1.set_xlim(time_sub[0],time_sub[-1]) # Set the time limits to match the dataset\n",
    "# cbar = fig.colorbar(sc1, ax=ax1, orientation='vertical')\n",
    "# cbar.ax.set_ylabel('Temperature ($^\\circ$C)')\n",
    "# ax1.set_ylabel('Pressure (dbar)')\n",
    "# ax1.set_title('CP04OSPM-WFP01-03-CTDPFK000');"
   ],
   "execution_count": null,
   "outputs": []
  },
  {
   "metadata": {},
   "cell_type": "code",
   "source": [
    "# Scatterplot of Temperature\n",
    "# fig,ax1 = plt.subplots(1,1,figsize=(16,4))\n",
    "# sc1 = ax1.scatter(time_sub, press_sub, c=temp_sub, cmap='RdYlBu_r') # Add s=2 to set the markersize\n",
    "# ax1.invert_yaxis() # Invert y axis\n",
    "# #ax1.set_xlim(time_sub[0],time_sub[-1]) # Set the time limits to match the dataset\n",
    "# cbar = fig.colorbar(sc1, ax=ax1, orientation='vertical')\n",
    "# cbar.ax.set_ylabel('Temperature ($^\\circ$C)')\n",
    "# ax1.set_ylabel('Pressure (dbar)')\n",
    "# ax1.set_title('CP04OSPM-WFP01-03-CTDPFK000');"
   ],
   "execution_count": null,
   "outputs": []
  },
  {
   "metadata": {},
   "cell_type": "markdown",
   "source": [
    "## 5. Notable Results and Actions Needed\n",
    "\n"
   ]
  },
  {
   "metadata": {},
   "cell_type": "markdown",
   "source": [
    "For the month of September 2016, we make the following collusions regarding CTD (temperature, salinity and pressure) data. Overall, the available data seems to align with known physical processes, though additional datasets would need to be consulted to confirm. The persistent warm/salty surfaces that persist in the fall may be related to an offshore Gulf Stream filament. The data from these CTDs could be further evaluated by incorporating additional instruments from the Pioneer array. Data gaps could be filled in and cross-validation could be performed by using other systems, including the glider dataset for the Pioneer array or the Argo buoy dataset. Specifically, CP04OSPM-WFP01-03-CTDPFK000 should be investigated further. \n",
    "\n",
    "\n",
    "**CP02PMUI-WFP01-03-CTDPFK000**\n",
    "The data for this instrument are reasonable. Temperature plot shows a defined thermocline and heterogeneous salinity.\n",
    "\n",
    "**CP02PMUO-WFP01-03-CTDPFK000**\t\n",
    "An annotation was provided for CP02PMUO-WFP01-03-CTDPFK000 which stated that the wire-following profiler was stuck. There is no usable data from this instrument.\n",
    "\n",
    "**CP02PMCI-WFP01-03-CTDPFK000**\t\n",
    "The data for this instrument are reasonable. Temperature plot shows a defined thermocline, but the salinity shows mixing.\n",
    "\n",
    "\n",
    "**CP02PMCO-WFP01-03-CTDPFK000**\n",
    "The data for this instrument are reasonable. Temperature plot shows a defined thermocline, but the salinity shows mixing.\n",
    "\n",
    "\n",
    "**CP04OSPM-WFP01-03-CTDPFK000**\n",
    "There was an annotation provided stating that the profiler was stuck. All data were downloaded and plotted to resolve when this profiler may have become stuck and identify further data gaps. Our plots show that it was stuck between 25-30 m for all deployments. There were no annotations for the multiple time periods when no data were collected at all, but it doesn't really matter since the profiler was stuck.\n"
   ]
  }
 ]
}
