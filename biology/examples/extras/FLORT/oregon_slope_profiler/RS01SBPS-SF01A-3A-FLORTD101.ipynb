{
 "cells": [
  {
   "cell_type": "code",
   "execution_count": null,
   "metadata": {},
   "outputs": [],
   "source": [
    "import requests\n",
    "import time\n",
    "\n",
    "import warnings\n",
    "warnings.filterwarnings(\"ignore\")"
   ]
  },
  {
   "cell_type": "code",
   "execution_count": null,
   "metadata": {},
   "outputs": [],
   "source": [
    "username = 'OOIAPI-D8S960UXPK4K03'\n",
    "token = 'IXL48EQ2XY'"
   ]
  },
  {
   "cell_type": "code",
   "execution_count": null,
   "metadata": {},
   "outputs": [],
   "source": [
    "subsite = 'RS01SBPS'\n",
    "node = 'SF01A'\n",
    "sensor = '3A-FLORTD101'\n",
    "method = 'streamed'\n",
    "stream = 'flort_d_data_record'\n",
    "beginDT = '2014-09-01T01:01:01.000Z'\n",
    "endDT = '2018-06-30T01:01:01.000Z'"
   ]
  },
  {
   "cell_type": "code",
   "execution_count": null,
   "metadata": {},
   "outputs": [],
   "source": [
    "base_url = 'https://ooinet.oceanobservatories.org/api/m2m/12576/sensor/inv/'\n",
    "\n",
    "data_request_url ='/'.join((base_url,subsite,node,sensor,method,stream))\n",
    "params = {\n",
    "    'beginDT':beginDT,\n",
    "    'endDT':endDT,   \n",
    "}\n",
    "r = requests.get(data_request_url, params=params, auth=(username, token))\n",
    "data = r.json()"
   ]
  },
  {
   "cell_type": "code",
   "execution_count": null,
   "metadata": {},
   "outputs": [],
   "source": [
    "data['allURLs'][0]"
   ]
  },
  {
   "cell_type": "code",
   "execution_count": null,
   "metadata": {},
   "outputs": [],
   "source": [
    "%%time\n",
    "check_complete  = data['allURLs'][1] + '/status.txt'\n",
    "for i in range(1800): \n",
    "    r = requests.get(check_complete)\n",
    "    if r.status_code == requests.codes.ok:\n",
    "        print('request completed')\n",
    "        break\n",
    "    else:\n",
    "        time.sleep(1)"
   ]
  },
  {
   "cell_type": "code",
   "execution_count": null,
   "metadata": {},
   "outputs": [],
   "source": [
    "import re\n",
    "import xarray as xr\n",
    "import pandas as pd\n",
    "import os"
   ]
  },
  {
   "cell_type": "code",
   "execution_count": null,
   "metadata": {},
   "outputs": [],
   "source": [
    "url = data['allURLs'][0]\n",
    "tds_url = 'https://opendap.oceanobservatories.org/thredds/dodsC'\n",
    "datasets = requests.get(url).text\n",
    "urls = re.findall(r'href=[\\'\"]?([^\\'\" >]+)', datasets)\n",
    "x = re.findall(r'(ooi/.*?.nc)', datasets)\n",
    "for i in x:\n",
    "    if i.endswith('.nc') == False:\n",
    "        x.remove(i)\n",
    "for i in x:\n",
    "    try:\n",
    "        float(i[-4])\n",
    "    except:\n",
    "        x.remove(i)\n",
    "datasets = [os.path.join(tds_url, i) for i in x]\n",
    "datasets"
   ]
  },
  {
   "cell_type": "code",
   "execution_count": null,
   "metadata": {},
   "outputs": [],
   "source": [
    "datasets_sel = []\n",
    "for i in datasets:\n",
    "    if '2A-CTDPFA102' in i:\n",
    "        pass\n",
    "    else:\n",
    "        datasets_sel.append(i)"
   ]
  },
  {
   "cell_type": "code",
   "execution_count": null,
   "metadata": {},
   "outputs": [],
   "source": [
    "datasets_sel"
   ]
  },
  {
   "cell_type": "code",
   "execution_count": null,
   "metadata": {},
   "outputs": [],
   "source": [
    "# make the output directory\n",
    "new_dir = 'minute_mean_data/'\n",
    "if not os.path.isdir(new_dir):\n",
    "    try:\n",
    "        os.makedirs(new_dir)\n",
    "    except OSError:\n",
    "        if os.path.exists(new_dir):\n",
    "            pass\n",
    "        else:\n",
    "            raise"
   ]
  },
  {
   "cell_type": "code",
   "execution_count": null,
   "metadata": {},
   "outputs": [],
   "source": [
    "import pickle as pk\n",
    "import gc"
   ]
  },
  {
   "cell_type": "code",
   "execution_count": null,
   "metadata": {},
   "outputs": [],
   "source": [
    "num = 0\n",
    "for i in datasets_sel:      \n",
    "    ds = xr.open_dataset(i)\n",
    "    ds = ds.swap_dims({'obs': 'time'})\n",
    "\n",
    "    chlor_a_min = pd.DataFrame()\n",
    "    chlor_a_min['fluorometric_chlorophyll_a'] = ds['fluorometric_chlorophyll_a'].to_pandas().resample('T').mean()\n",
    "    chlor_a_min['int_ctd_pressure'] = ds['int_ctd_pressure'].to_pandas().resample('T').mean()\n",
    "\n",
    "    ds['seawater_temperature'].attrs.pop('units')\n",
    "    chlor_a_min['seawater_temperature'] = ds['seawater_temperature'].to_pandas().resample('T').mean()\n",
    "\n",
    "    chlor_a_min = chlor_a_min.dropna()\n",
    "\n",
    "    out = 'minute_mean_data/' + i.split('/')[-1][:-3] + '_resampled' + '.pd'\n",
    "    num = num +1\n",
    "\n",
    "    with open(out, 'wb') as fh:\n",
    "        pk.dump(chlor_a_min,fh)\n",
    "\n",
    "    gc.collect()"
   ]
  },
  {
   "cell_type": "code",
   "execution_count": null,
   "metadata": {},
   "outputs": [],
   "source": [
    "import os"
   ]
  },
  {
   "cell_type": "code",
   "execution_count": null,
   "metadata": {},
   "outputs": [],
   "source": [
    "# create a single file with all the pickled data.\n",
    "chlor_a_and_temp = pd.DataFrame()\n",
    "for path, subdirs, files in os.walk('minute_mean_data/'):\n",
    "    for name in files:\n",
    "        file_name = os.path.join(path, name) \n",
    "        with open(file_name, 'rb') as f:\n",
    "            pd_df = pk.load(f)\n",
    "            chlor_a_and_temp = chlor_a_and_temp.append(pd_df)\n",
    "\n",
    "with open('chlor_a_and_temp.pd', 'wb') as f:\n",
    "    pk.dump(chlor_a_and_temp,f)"
   ]
  },
  {
   "cell_type": "code",
   "execution_count": null,
   "metadata": {},
   "outputs": [],
   "source": [
    "with open('chlor_a_and_temp.pd', 'rb') as f:\n",
    "    chlor_a_and_temp_data = pk.load(f)\n",
    "\n",
    "time_stamp = list(chlor_a_and_temp_data.index.values)\n",
    "depth = list(chlor_a_and_temp_data['int_ctd_pressure'].values)\n",
    "flor = list(chlor_a_and_temp_data['fluorometric_chlorophyll_a'].values)\n",
    "temp = list(chlor_a_and_temp_data['seawater_temperature'].values)"
   ]
  },
  {
   "cell_type": "code",
   "execution_count": null,
   "metadata": {},
   "outputs": [],
   "source": [
    "import cmocean\n",
    "import matplotlib.pyplot as plt"
   ]
  },
  {
   "cell_type": "code",
   "execution_count": null,
   "metadata": {},
   "outputs": [],
   "source": [
    "fig, (ax1, ax2) = plt.subplots(2, sharex=True, sharey=True)\n",
    "fig.set_size_inches(15, 7)\n",
    "\n",
    "t = ax1.scatter(time_stamp, depth, c=temp, cmap='RdYlBu_r', vmin=2, vmax=20)\n",
    "o = ax2.scatter(time_stamp, depth, c=flor, cmap='RdYlBu_r', vmin=0, vmax=2)\n",
    "\n",
    "cb1 = plt.colorbar(t,ax=ax1)\n",
    "cb2 = plt.colorbar(o,ax=ax2)\n",
    "\n",
    "cb1.set_label('degrees C')\n",
    "cb2.set_label('ug L-1')\n",
    "\n",
    "ax1.set_ylabel('dbar')\n",
    "ax2.set_ylabel('dbar')\n",
    "ax2.set_xlabel('time')\n",
    "\n",
    "ax1.grid()\n",
    "ax2.grid()\n",
    "\n",
    "ax1.set_title(\"Temperature\")\n",
    "ax2.set_title(\"Chlorophyll A\")\n",
    "\n",
    "ax1.invert_yaxis()\n",
    "ax1.set_xlim(min(time_stamp),max(time_stamp))\n",
    "\n",
    "# xlim_min = datetime.datetime(2015, 12, 1, 0, 0)\n",
    "# xlim_max = datetime.datetime(2016, 7, 25, 0, 0)\n",
    "# ax1.set_xlim(xlim_min,xlim_max)\n",
    "# ax2.set_xlim(xlim_min,xlim_max)"
   ]
  },
  {
   "cell_type": "code",
   "execution_count": null,
   "metadata": {},
   "outputs": [],
   "source": [
    "import datetime"
   ]
  },
  {
   "cell_type": "code",
   "execution_count": null,
   "metadata": {},
   "outputs": [],
   "source": [
    "fig, (ax1, ax2) = plt.subplots(2, sharex=True, sharey=True)\n",
    "fig.set_size_inches(15, 7)\n",
    "\n",
    "t = ax1.scatter(time_stamp, depth, c=temp, cmap='RdYlBu_r', vmin=2, vmax=20)\n",
    "o = ax2.scatter(time_stamp, depth, c=flor, cmap='RdYlBu_r', vmin=0, vmax=2)\n",
    "\n",
    "cb1 = plt.colorbar(t,ax=ax1)\n",
    "cb2 = plt.colorbar(o,ax=ax2)\n",
    "\n",
    "cb1.set_label('degrees C')\n",
    "cb2.set_label('ug L-1')\n",
    "\n",
    "ax1.set_ylabel('dbar')\n",
    "ax2.set_ylabel('dbar')\n",
    "ax2.set_xlabel('time')\n",
    "\n",
    "ax1.grid()\n",
    "ax2.grid()\n",
    "\n",
    "ax1.set_title(\"Temperature\")\n",
    "ax2.set_title(\"Chlorophyll A\")\n",
    "\n",
    "ax1.invert_yaxis()\n",
    "ax1.set_xlim(min(time_stamp),max(time_stamp))\n",
    "\n",
    "xlim_min = datetime.datetime(2015, 12, 1, 0, 0)\n",
    "xlim_max = datetime.datetime(2016, 12, 1, 0, 0)\n",
    "ax1.set_xlim(xlim_min,xlim_max)\n",
    "ax2.set_xlim(xlim_min,xlim_max)"
   ]
  },
  {
   "cell_type": "code",
   "execution_count": null,
   "metadata": {},
   "outputs": [],
   "source": []
  }
 ],
 "metadata": {
  "kernelspec": {
   "display_name": "ooi",
   "language": "python",
   "name": "ooi"
  },
  "language_info": {
   "codemirror_mode": {
    "name": "ipython",
    "version": 3
   },
   "file_extension": ".py",
   "mimetype": "text/x-python",
   "name": "python",
   "nbconvert_exporter": "python",
   "pygments_lexer": "ipython3",
   "version": "3.6.5"
  }
 },
 "nbformat": 4,
 "nbformat_minor": 2
}
