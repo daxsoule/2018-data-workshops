{
 "cells": [
  {
   "cell_type": "markdown",
   "metadata": {},
   "source": [
    "# Introduction to the OOI M2M Interface (aka the API)"
   ]
  },
  {
   "cell_type": "markdown",
   "metadata": {},
   "source": [
    "In this example, we will demonstrate how to access and use the OOI M2M interface to retrieve information about the instruments in the OOI database as well as how to retrieve data from those instruments.\n",
    "\n",
    "For most of this example, I'm going to use my favorite instrument, the [30m CTD on Global Papa Flanking Mooring B](http://ooi.visualocean.net/instruments/view/GP03FLMB-RIM01-02-CTDMOG060). "
   ]
  },
  {
   "cell_type": "markdown",
   "metadata": {},
   "source": [
    "# Getting Started with the API\n",
    "\n",
    "In order to use the API, you will need to have an OOI Net account, that is, an account on the [OOI Data Portal](https://ooinet.oceanobservatories.org).  Once you have an account, you will need your API Username and Token.  To get your API information, follow the steps below, or check out this [video](https://www.youtube.com/watch?time_continue=150&v=9YSIrDu4l24).\n",
    "\n",
    "* If needed, create a new account on ooinet.oceanobservatories.org, using either your email address or use the CILogon button with your academic or Google account.\n",
    "* Log in\n",
    "* Click on your email address on the right side of the navigation bar to open up the pull-down menu.\n",
    "* Click on the \"User Profile\" in the drop down.\n",
    "* Copy and save the following data from your user profile: API Username and API Token. The API Username is similar to “OOIAPI-QTULEV4STGAS35”. The API Token is similar to “YYP2X2W3SOW”.\n",
    "\n",
    "For this example, we will include the API login information as variables so we can use them later.\n"
   ]
  },
  {
   "cell_type": "code",
   "execution_count": null,
   "metadata": {},
   "outputs": [],
   "source": [
    "USERNAME = 'YOUR API USERNAME'\n",
    "TOKEN =  'YOUR API TOKEN'"
   ]
  },
  {
   "cell_type": "markdown",
   "metadata": {},
   "source": [
    "We will also add a few Python libraries that we will need in our environment"
   ]
  },
  {
   "cell_type": "code",
   "execution_count": null,
   "metadata": {},
   "outputs": [],
   "source": [
    "# First, we need to add some more Python libraries\n",
    "import requests\n",
    "import datetime"
   ]
  },
  {
   "cell_type": "markdown",
   "metadata": {},
   "source": [
    "To access the OOI API, we will use the [python requests library](http://docs.python-requests.org/en/master/), which is very easy to use.  \n",
    "\n",
    "> `r = requests.get(url, params=parameters, auth=('user', 'pass'))`\n",
    "\n",
    "All we have to do is specify the URL we want to access, along with our login information.  In some cases, we will also include an additional set of optional parameters using the \"params\" option.  These \"GET\" parameters are typically found at the end of a URL following the format:\n",
    "> `http://example.com/page.htm?var1=a&var2=b`\n",
    "\n",
    "Thanks to the requests library, we don't have to worry about getting all the question marks and ampersands in the right places, we can just specify an array of options.\n",
    "\n",
    "\n",
    "To see how this really works in practice, let's dive into some examples.\n"
   ]
  },
  {
   "cell_type": "markdown",
   "metadata": {},
   "source": [
    "# Sensor Information"
   ]
  },
  {
   "cell_type": "markdown",
   "metadata": {},
   "source": [
    "Perhaps the most useful API is the **Sensor Inventory**.  This endpoint essentially works like a tree, allowing you to navigate through the OOI instrument hierarchy.  Here is the starting point."
   ]
  },
  {
   "cell_type": "code",
   "execution_count": null,
   "metadata": {},
   "outputs": [],
   "source": [
    "SENSOR_BASE_URL = 'https://ooinet.oceanobservatories.org/api/m2m/12576/sensor/inv/'"
   ]
  },
  {
   "cell_type": "markdown",
   "metadata": {},
   "source": [
    "Let's go ahead and take a look at what we get back from this URL.  Thanks to the requests library, we have a number of different ways to deal with the output."
   ]
  },
  {
   "cell_type": "code",
   "execution_count": null,
   "metadata": {},
   "outputs": [],
   "source": [
    "r = requests.get(SENSOR_BASE_URL, auth=(USERNAME, TOKEN))\n",
    "print( r.status_code )\n",
    "print( r.headers )\n",
    "print( r.encoding )\n",
    "print( r.text )\n",
    "print( r.json() )"
   ]
  },
  {
   "cell_type": "markdown",
   "metadata": {},
   "source": [
    "As we can see, the returned status code is 200, which means our request was OK and and information was returned.  \n",
    "\n",
    "The headers and encoding tell us a little bit more about the format of the information sent back.  Because this is a simple text response, there's nothing profound here, but you might find these handy in working with other APIs.\n",
    "\n",
    "We can retrieve the actual data from the response using **r.text**. But because this dataset is actually in JSON format, we can use the **r.json()** method to automatically turn the returned data into a structured object we can use in Python.  \n",
    "\n",
    "For example, let's save the output as a variable and then loop through it an print out each entry."
   ]
  },
  {
   "cell_type": "code",
   "execution_count": null,
   "metadata": {},
   "outputs": [],
   "source": [
    "sites = r.json()\n",
    "for site in sites:\n",
    "  print( site )"
   ]
  },
  {
   "cell_type": "markdown",
   "metadata": {},
   "source": [
    "Now this may seem like gibberish, but it turns out that this is a list of all of the **Sites** that are in the OOI system.  A [similar list](http://oceanobservatories.org/site-list/) can be found on the OOI website.\n",
    "\n",
    "From this point on, we can simply add one of the returned items to the previous URL in order to drill down into the sensor inventory.  For this example, let's investigate [**GP03FLMB-RIM01-02-CTDMOG060**](http://ooi.visualocean.net/instruments/view/GP03FLMB-RIM01-02-CTDMOG060).\n",
    "\n",
    "To make this easy, let's setup a quick function to make the request and reformat the results."
   ]
  },
  {
   "cell_type": "code",
   "execution_count": null,
   "metadata": {},
   "outputs": [],
   "source": [
    "# A quick function to make an API request and print the results\n",
    "def get_and_print_api(url):\n",
    "  r = requests.get(url, auth=(USERNAME, TOKEN))\n",
    "  data = r.json()\n",
    "  for d in data:\n",
    "    print( d )"
   ]
  },
  {
   "cell_type": "markdown",
   "metadata": {},
   "source": [
    "### List of Nodes for a Site"
   ]
  },
  {
   "cell_type": "code",
   "execution_count": null,
   "metadata": {},
   "outputs": [],
   "source": [
    "get_and_print_api(SENSOR_BASE_URL+'/GP03FLMB')"
   ]
  },
  {
   "cell_type": "markdown",
   "metadata": {},
   "source": [
    "### List of Sensors (Instruments) for a Node"
   ]
  },
  {
   "cell_type": "code",
   "execution_count": null,
   "metadata": {},
   "outputs": [],
   "source": [
    "get_and_print_api(SENSOR_BASE_URL+'/GP03FLMB/RIM01')"
   ]
  },
  {
   "cell_type": "markdown",
   "metadata": {},
   "source": [
    "### List of Methods for a Sensor"
   ]
  },
  {
   "cell_type": "code",
   "execution_count": null,
   "metadata": {},
   "outputs": [],
   "source": [
    "get_and_print_api(SENSOR_BASE_URL+'/GP03FLMB/RIM01/02-CTDMOG060')"
   ]
  },
  {
   "cell_type": "markdown",
   "metadata": {},
   "source": [
    "### List of Data Streams for a Method"
   ]
  },
  {
   "cell_type": "code",
   "execution_count": null,
   "metadata": {},
   "outputs": [],
   "source": [
    "get_and_print_api(SENSOR_BASE_URL+'/GP03FLMB/RIM01/02-CTDMOG060/telemetered')"
   ]
  },
  {
   "cell_type": "markdown",
   "metadata": {},
   "source": [
    "At this point, we have all the information we need to make a data request.  All we have to do is go down one additional level by adding the stream name to the request we made above.  **However, don't be tempted to do this.**  If you do, you will accidentally make an \"asynchronous\" request (aka a request for downloadable netcdf files) for all of the data in the system for this data stream (unless, of course, this is what you want to do).\n",
    "\n",
    "Instead, of doing that, let's dive into how to make more precise data requests."
   ]
  },
  {
   "cell_type": "markdown",
   "metadata": {},
   "source": [
    "# Synchronous Data Requests \n",
    "* Results returned as JSON"
   ]
  },
  {
   "cell_type": "markdown",
   "metadata": {},
   "source": [
    "To make a synchronous data request, we basically construct a URL using all the pieces we discovered above, like the following:\n",
    "> /sensor/inv/{subsite}/{node}/{sensor}/{method}/{stream}\n",
    "\n",
    "In order to make the code clear, we're going to setup several variables and then use the **join()** function to concatenate all of the variables together with slashes.\n",
    "\n",
    "We are also going to use a **params** array to specify a start and ending date/time for our request, as well as a limit parameter to minimize the amount of data points we get back.\n",
    "\n",
    "Keep in mind that synchronous requests are **limited to 20,000 data points** within the time range you specify.  If the dataset you are requesting has more data points available, the data will be decimated (that is, roughly downsampled in a semi-random way).  To request all of the available data, you should make an asynchronous request (see below).  Alternatively, you could make a sequence of synchronous requests for a shorter time range, and then aggregate the results.  For a real-time plotting script, this actually makes more sense (but that's another example)."
   ]
  },
  {
   "cell_type": "code",
   "execution_count": null,
   "metadata": {},
   "outputs": [],
   "source": [
    "# Instrument Information\n",
    "site = 'GP03FLMB'\n",
    "node = 'RIM01'\n",
    "instrument = '02-CTDMOG060'\n",
    "method = 'telemetered'\n",
    "stream = 'ctdmo_ghqr_sio_mule_instrument'\n",
    "\n",
    "data_request_url ='/'.join((SENSOR_BASE_URL,site,node,instrument,method,stream))\n",
    "\n",
    "params = {\n",
    "  'beginDT':'2016-10-01T00:00:00.000Z',\n",
    "  'endDT':'2016-11-01T00:00:00.000Z',\n",
    "  'limit':1000,   \n",
    "}"
   ]
  },
  {
   "cell_type": "markdown",
   "metadata": {},
   "source": [
    "Now that everything is setup, let's make the request. Here we will return the length of the returned data array."
   ]
  },
  {
   "cell_type": "code",
   "execution_count": null,
   "metadata": {},
   "outputs": [],
   "source": [
    "r = requests.get(data_request_url, params=params, auth=(USERNAME, TOKEN))\n",
    "data = r.json()\n",
    "print( len(data) )\n"
   ]
  },
  {
   "cell_type": "markdown",
   "metadata": {},
   "source": [
    "Let's take a look at the first item in the list.  From this, we can see that each item is a dictionary of every variable this instrument measures."
   ]
  },
  {
   "cell_type": "code",
   "execution_count": null,
   "metadata": {},
   "outputs": [],
   "source": [
    "data[0]"
   ]
  },
  {
   "cell_type": "markdown",
   "metadata": {},
   "source": [
    "### What it looks like when there isn't any data?\n",
    "Now, if we specified an time range that didn't have any data, this is what we would get."
   ]
  },
  {
   "cell_type": "code",
   "execution_count": null,
   "metadata": {},
   "outputs": [],
   "source": [
    "params = {\n",
    "  'beginDT':'2017-10-24T00:00:00.000Z',\n",
    "  'endDT':'2017-10-25T00:00:00.000Z',\n",
    "  'limit':1000,   \n",
    "}\n",
    "\n",
    "r = requests.get(data_request_url, params=params, auth=(USERNAME, TOKEN))\n",
    "data = r.json()\n",
    "print( len(data) )\n",
    "data"
   ]
  },
  {
   "cell_type": "markdown",
   "metadata": {},
   "source": [
    "Note that in this case, the returned data array is only 2 items long, and the returned status_code is **404**, instead of **200**.  If you need to verify whether data was returned, you can use this info to add error checking to your script."
   ]
  },
  {
   "cell_type": "markdown",
   "metadata": {},
   "source": [
    "### How do you limit the number of parameters returned?\n",
    "To limit the amount of data in the returned JSON array, we can specify just the parameters we want.  However, to do this, we need to figure out the parameter IDs (see below)."
   ]
  },
  {
   "cell_type": "code",
   "execution_count": null,
   "metadata": {},
   "outputs": [],
   "source": [
    "params = {\n",
    "  'beginDT':'2016-10-01T00:00:00.000Z',\n",
    "  'endDT':'2016-11-01T00:00:00.000Z',\n",
    "  'limit':1000,\n",
    "  'parameters':'7,13' #time=7, salinity=13, temperature=2927, pressure=2926\n",
    "}\n",
    "\n",
    "r = requests.get(data_request_url, params=params, auth=(USERNAME, TOKEN))\n",
    "data = r.json()\n",
    "print( len(data) )\n",
    "data[1]"
   ]
  },
  {
   "cell_type": "markdown",
   "metadata": {},
   "source": [
    "# Asynchnorous Data Requests \n",
    "* Results returned as downloadable NetCDF files"
   ]
  },
  {
   "cell_type": "markdown",
   "metadata": {},
   "source": [
    "Synchronous requests are great when you just want to grab a little bit of data quickly. Thus, it is very useful for applications like interactive graphs on a web site.\n",
    "\n",
    "However, if you want a larger and more complete dataset, you will need to create an Asynchronous request, which take longer to process, sometimes up to an hour or more depending on how much data you are requesting and what else the system is doing.  The end result will be a web accessible directory of NetCDF data files.\n",
    "\n",
    "This is essentially the same functionality as requesting a download from the OOI Data Portal, but with the API you can easily create one or more requests in an automated way.\n",
    "\n",
    "The request format is essentially the same as above, except we can drop the **limit** option from the params array.  We could also omit the start and end dates, if we want to grab all available data.\n",
    "\n",
    "By default, asynchronous requests will return NetCDF files, but you could also specify csv or json, using the **format** option.  Optionally, you can also specify **include_provenance** and **include_annotations** which will include separate text files in the output directory with that information."
   ]
  },
  {
   "cell_type": "code",
   "execution_count": null,
   "metadata": {},
   "outputs": [],
   "source": [
    "# Instrument Information\n",
    "site = 'GP03FLMB'\n",
    "node = 'RIM01'\n",
    "instrument = '02-CTDMOG060'\n",
    "method = 'telemetered'\n",
    "stream = 'ctdmo_ghqr_sio_mule_instrument'\n",
    "\n",
    "# Create the request URL\n",
    "data_request_url ='/'.join((SENSOR_BASE_URL,site,node,instrument,method,stream))\n",
    "\n",
    "# All of the following are optional\n",
    "params = {\n",
    "  'beginDT':'2016-10-01T00:00:00.000Z',\n",
    "  'endDT':'2016-11-01T00:00:00.000Z',\n",
    "  'format':'application/netcdf',\n",
    "  'include_provenance':'true',\n",
    "  'include_annotations':'true'\n",
    "}\n"
   ]
  },
  {
   "cell_type": "markdown",
   "metadata": {},
   "source": [
    "Now let's send the request."
   ]
  },
  {
   "cell_type": "code",
   "execution_count": null,
   "metadata": {},
   "outputs": [],
   "source": [
    "# r = requests.get(data_request_url, params=params, auth=(USERNAME, TOKEN))\n",
    "# data = r.json()"
   ]
  },
  {
   "cell_type": "markdown",
   "metadata": {},
   "source": [
    "While the Synchronous request returned an array of actual data, this time we will just get some URLs and some other metadata about our request."
   ]
  },
  {
   "cell_type": "code",
   "execution_count": null,
   "metadata": {},
   "outputs": [],
   "source": [
    "data"
   ]
  },
  {
   "cell_type": "markdown",
   "metadata": {},
   "source": [
    "The first URL in the **allURLs** key points to the THREDDS server, which allows for programmatic data access without downloading the entire file."
   ]
  },
  {
   "cell_type": "code",
   "execution_count": null,
   "metadata": {},
   "outputs": [],
   "source": [
    "print(data['allURLs'][0])"
   ]
  },
  {
   "cell_type": "markdown",
   "metadata": {},
   "source": [
    "The second URL in the **allURLs** key provides a direct link to a web server which you can use to quickly download files if you don't want to go through THREDDS."
   ]
  },
  {
   "cell_type": "code",
   "execution_count": null,
   "metadata": {},
   "outputs": [],
   "source": [
    "print(data['allURLs'][1])"
   ]
  },
  {
   "cell_type": "markdown",
   "metadata": {},
   "source": [
    "### How can you check when a request is complete?"
   ]
  },
  {
   "cell_type": "markdown",
   "metadata": {},
   "source": [
    "We can use the second URL to check if a status.txt file has been written to the location. If true, then the request has completed and all data have been delivered to the THREDDS server.\n",
    "\n",
    "The following for loop will poll the location for the status.txt files 1000 times, once every 0.5 seconds. Therefore, it will quit after about 8.3 minutes. If you are requesting a very large and dense dataset (3 years of BOTPT data collected at 20 Hz, for example), it may take a bit longer to complete the request, so you will want to bump up the retry range or lower the sleep interval."
   ]
  },
  {
   "cell_type": "code",
   "execution_count": null,
   "metadata": {},
   "outputs": [],
   "source": [
    "%%time\n",
    "\n",
    "check_complete = data['allURLs'][1] + '/status.txt'\n",
    "for i in range(1000): \n",
    "    r = requests.get(check_complete)\n",
    "    if r.status_code == requests.codes.ok:\n",
    "        print('request completed')\n",
    "        break\n",
    "    else:\n",
    "        time.sleep(.5)"
   ]
  },
  {
   "cell_type": "markdown",
   "metadata": {},
   "source": [
    "# Sensor Metadata\n",
    "\n",
    "Getting data is nice, but one of the other big advantages to using the API is that you can query the system about all kinds of metadata.  To start, let's see what sensor metadata is available.\n",
    "\n",
    "This query looks a lot like the above data requests, except we're explicitly asking for just the metadata."
   ]
  },
  {
   "cell_type": "markdown",
   "metadata": {},
   "source": [
    "The following metadata requests are possible:\n",
    "\n",
    "```\n",
    "/sensor/inv/{subsite}/{node}/{sensor}/metadata\n",
    "/sensor/inv/CE01ISSM/MFC31/00-CPMENG000/metadata/times\n",
    "/sensor/inv/CE01ISSM/MFC31/00-CPMENG000/metadata/parameters\n",
    "\n",
    "```\n",
    "The first request grabs both times and parameters, the others specify just a single request.\n"
   ]
  },
  {
   "cell_type": "code",
   "execution_count": null,
   "metadata": {},
   "outputs": [],
   "source": [
    "# Instrument Information\n",
    "site = 'GP03FLMB'\n",
    "node = 'RIM01'\n",
    "instrument = '02-CTDMOG060'\n",
    "method = 'telemetered'\n",
    "stream = 'ctdmo_ghqr_sio_mule_instrument'\n",
    "\n",
    "# Create the request URL\n",
    "data_request_url ='/'.join((SENSOR_BASE_URL,site,node,instrument,'metadata'))\n"
   ]
  },
  {
   "cell_type": "code",
   "execution_count": null,
   "metadata": {},
   "outputs": [],
   "source": [
    "r = requests.get(data_request_url, params=params, auth=(USERNAME, TOKEN))\n",
    "data = r.json()"
   ]
  },
  {
   "cell_type": "code",
   "execution_count": null,
   "metadata": {},
   "outputs": [],
   "source": [
    "# Print out the response using PrettyPrint\n",
    "# import pprint\n",
    "# pp = pprint.PrettyPrinter(indent=2)\n",
    "# pp.pprint(data)\n",
    "\n",
    "import json\n",
    "\n",
    "# Print out the response using json.dumps()\n",
    "# print json.dumps(data, indent=4);\n",
    "\n",
    "# Print out just one element\n",
    "print( json.dumps(data['parameters'][0], indent=4) );\n",
    "print( json.dumps(data['times'][0], indent=4) );"
   ]
  },
  {
   "cell_type": "markdown",
   "metadata": {},
   "source": [
    "The response includes a list of every parameter for every data stream produced by the instrument.  There may be several entries with the same parameter, if multiple streams produce the same one.\n",
    "\n",
    "The times array, includes the start and end times of the entire data record for each stream.  There may still be gaps, but this is useful for knowing how up to date a data stream is (i.e. is it close to real time, or how recent was the last recovered data available?)\n",
    "\n",
    "Let's put all of the parameters into a single table, and then filter the results to just the telemetered stream we were interested in above."
   ]
  },
  {
   "cell_type": "code",
   "execution_count": null,
   "metadata": {},
   "outputs": [],
   "source": [
    "import pandas as pd\n",
    "\n",
    "# Convert the parameters array into a DataFrame\n",
    "parameters = pd.DataFrame(data['parameters'],\n",
    "                          columns=['particleKey','pdId','units','stream'])\n",
    "\n",
    "# Filter out the parameters for a single stream\n",
    "parameters = parameters[parameters['stream']=='ctdmo_ghqr_sio_mule_instrument']\n",
    "\n",
    "# Print out selected columns\n",
    "print( parameters[['particleKey','pdId','units']] )\n"
   ]
  },
  {
   "cell_type": "markdown",
   "metadata": {},
   "source": [
    "# Parameter & Stream Information"
   ]
  },
  {
   "cell_type": "markdown",
   "metadata": {},
   "source": [
    "We could have gotten a similar list by using a different API endpoint, to retrieve information on a specific stream."
   ]
  },
  {
   "cell_type": "code",
   "execution_count": null,
   "metadata": {},
   "outputs": [],
   "source": [
    "# Retrieve information for a Preload Stream given its name. \n",
    "url = 'https://ooinet.oceanobservatories.org/api/m2m/12575/stream/byname/ctdmo_ghqr_sio_mule_instrument'\n",
    "r = requests.get(url, auth=(USERNAME, TOKEN))\n",
    "data = r.json()\n",
    "\n",
    "# Convert to Data Frame\n",
    "parameters = pd.DataFrame(data['parameters'])\n",
    "parameters[['id','name','data_product_type','display_name','unit']]\n"
   ]
  },
  {
   "cell_type": "markdown",
   "metadata": {},
   "source": [
    "And to get information on a specific parameter..."
   ]
  },
  {
   "cell_type": "code",
   "execution_count": null,
   "metadata": {},
   "outputs": [],
   "source": [
    "# Retrieve information for a Preload Parameter given its identifier.\n",
    "url = 'https://ooinet.oceanobservatories.org/api/m2m/12575/parameter/13'\n",
    "r = requests.get(url, auth=(USERNAME, TOKEN))\n",
    "data = r.json()\n",
    "\n",
    "print( json.dumps(data, indent=4) )"
   ]
  },
  {
   "cell_type": "markdown",
   "metadata": {},
   "source": [
    "# Deployments"
   ]
  },
  {
   "cell_type": "markdown",
   "metadata": {},
   "source": [
    "To find out how many times an instrument has been deployed (and for which there is data in the system), we can use the Deployments API endpoint."
   ]
  },
  {
   "cell_type": "code",
   "execution_count": null,
   "metadata": {},
   "outputs": [],
   "source": [
    "# Retrieve vocabulary information for a given instrument\n",
    "DEPLOYMENT_BASE_URL = 'https://ooinet.oceanobservatories.org/api/m2m/12587/events/deployment/inv'\n",
    "request_url = DEPLOYMENT_BASE_URL+'/GP03FLMB/RIM01/02-CTDMOG060'\n",
    "r = requests.get(request_url, auth=(USERNAME, TOKEN))\n",
    "data = r.json()\n",
    "\n",
    "data"
   ]
  },
  {
   "cell_type": "markdown",
   "metadata": {},
   "source": [
    "We can then add a specific deployment number, to retrieve detailed information on that deployment.  Alternatively, you can specify \"-1\" to get information about all deployments."
   ]
  },
  {
   "cell_type": "code",
   "execution_count": null,
   "metadata": {},
   "outputs": [],
   "source": [
    "# Retrieve vocabulary information for a given instrument\n",
    "request_url = DEPLOYMENT_BASE_URL+'/GP03FLMB/RIM01/02-CTDMOG060/5'\n",
    "r = requests.get(request_url, auth=(USERNAME, TOKEN))\n",
    "data = r.json()\n",
    "# print( json.dumps(data, indent=4) )"
   ]
  },
  {
   "cell_type": "markdown",
   "metadata": {},
   "source": [
    "Note that due to a quirk in the API, it typically returns all calibration values for an instrument, not all of which are relevant for the specific deployment you may be interested in.\n",
    "\n",
    "Let's pull out the unique sensor IDs for this deployment."
   ]
  },
  {
   "cell_type": "code",
   "execution_count": null,
   "metadata": {},
   "outputs": [],
   "source": [
    "print( data[0]['sensor']['uid'] )\n",
    "print( data[0]['sensor']['assetId'] )"
   ]
  },
  {
   "cell_type": "markdown",
   "metadata": {},
   "source": [
    "# Asset Information"
   ]
  },
  {
   "cell_type": "markdown",
   "metadata": {},
   "source": [
    "OOI Reference Designators denote a specific measurement location in the OOI, for example the 30m CTD at the Papa Flanking Mooring B location.  But over time, measurements made at this \"instrument location\" are actually made by multiple instruments.  Each of those would have a specific Make, Model, and unique Serial Number.  We call these \"assets\" in the OOI system.\n",
    "\n",
    "You can use the Asset API endpoint to query information about a specific asset, once you kow either it's ID or UID.  In the above example, we extracted both to find out the unique sensor used during a specific deployment."
   ]
  },
  {
   "cell_type": "code",
   "execution_count": null,
   "metadata": {},
   "outputs": [],
   "source": [
    "# Request Asset Information by UID\n",
    "ASSET_BASE_URL = 'https://ooinet.oceanobservatories.org/api/m2m/12587/asset'\n",
    "request_url = ASSET_BASE_URL+'?uid=CGINS-CTDMOG-13422'\n",
    "r = requests.get(request_url, auth=(USERNAME, TOKEN))\n",
    "data = r.json()\n",
    "# print( json.dumps(data, indent=4) )\n"
   ]
  },
  {
   "cell_type": "markdown",
   "metadata": {},
   "source": [
    "This returns essentially the same information that was embedded in the deployment information request above, including sensor calibration information.\n",
    "\n",
    "We can also find out where this particular asset was deployed over time."
   ]
  },
  {
   "cell_type": "code",
   "execution_count": null,
   "metadata": {},
   "outputs": [],
   "source": [
    "# Get deployment digests by the unique asset identifier (UID).\n",
    "ASSET_BASE_URL = 'https://ooinet.oceanobservatories.org/api/m2m/12587/asset'\n",
    "request_url = ASSET_BASE_URL+'/deployments/CGINS-CTDMOG-13422'\n",
    "r = requests.get(request_url, auth=(USERNAME, TOKEN))\n",
    "data = r.json()\n",
    "\n",
    "# print( json.dumps(data, indent=4) )\n",
    "pd.DataFrame(data)"
   ]
  },
  {
   "cell_type": "markdown",
   "metadata": {},
   "source": [
    "In this case, we see that this particular instrument has been deployed twice.  Once at Global Irminger (deployment 2 of that site) and a second time at Global Papa (deployment 5)."
   ]
  },
  {
   "cell_type": "markdown",
   "metadata": {},
   "source": [
    "# Calibration Information\n",
    "\n",
    "As we've seen above, a number of API endpoints provide calibration information, including the Sensor, Deployments and Asset ones.  We could also use the following Asset endpoint to search for sensor calibrations for a particular reference designator."
   ]
  },
  {
   "cell_type": "code",
   "execution_count": null,
   "metadata": {},
   "outputs": [],
   "source": [
    "# Simple time conversion function\n",
    "def convert_time(ms):\n",
    "  if ms != None:\n",
    "    return datetime.datetime.utcfromtimestamp(ms/1000)\n",
    "  else:\n",
    "    return None"
   ]
  },
  {
   "cell_type": "code",
   "execution_count": null,
   "metadata": {},
   "outputs": [],
   "source": [
    "# Get deployment digests by the unique asset identifier (UID).\n",
    "ASSET_BASE_URL = 'https://ooinet.oceanobservatories.org/api/m2m/12587/asset'\n",
    "request_url = ASSET_BASE_URL+'/cal?refdes=GP03FLMB-RIM01-02-CTDMOG060'\n",
    "\n",
    "r = requests.get(request_url, auth=(USERNAME, TOKEN))\n",
    "data = r.json()\n",
    "\n",
    "# print( json.dumps(data, indent=4) )\n",
    "# data[4]\n",
    "pd.DataFrame(data)"
   ]
  },
  {
   "cell_type": "code",
   "execution_count": null,
   "metadata": {},
   "outputs": [],
   "source": [
    "# Reformat the data into a pretty table\n",
    "df = pd.DataFrame() # Setup empty array\n",
    "for d in data:\n",
    "  for dd in d['sensor']['calibration']:\n",
    "    for ddd in dd['calData']:\n",
    "      df = df.append({\n",
    "        'value': ddd['value'],\n",
    "        'start': convert_time(ddd['eventStartTime']),\n",
    "        'stop': convert_time(ddd['eventStopTime']),\n",
    "        'name': ddd['eventName'],\n",
    "        'assetUid': ddd['assetUid'],\n",
    "        }, ignore_index=True)\n",
    "    \n",
    "df = df.sort_values(by=['name'])\n",
    "df\n"
   ]
  },
  {
   "cell_type": "markdown",
   "metadata": {},
   "source": [
    "Unfortunately, it turns out that most of these endpoints are not ideal, because they return all of the available calibrations for an asset, and not just those used for the deployment we're interested in.  In the example above, there are only 5 deployments, but we found over a dozen calibration sets.\n",
    "\n",
    "The system uses the calibration values that are closest in time but before the deployment start date.  So really, for any given deployment, all we need to do is find the calibrations for that asset that occurred just prior to the deployment (though, this could be 6 months or more earlier).\n",
    "\n",
    "Note also, that calibrations do not have an end date.  It is assumed they are valid until the next calibration for the specific asset. \n",
    "\n",
    "As an alternative, we can use the following request to retrieve the calibration values that were used by the system to process data on any given day (which should theoretically be the same across a given deployment).  If you keep the date range within one deployment, you should only get one set of calibration values."
   ]
  },
  {
   "cell_type": "code",
   "execution_count": null,
   "metadata": {},
   "outputs": [],
   "source": [
    "# Setup the API request url\n",
    "request_url = 'https://ooinet.oceanobservatories.org/api/m2m/12587/asset/cal'\n",
    "\n",
    "params = {\n",
    "  'beginDT':'2016-10-01T00:00:00.000Z',\n",
    "  'endDT':'2016-11-01T00:00:00.000Z',\n",
    "  'refdes':'GP03FLMB-RIM01-02-CTDMOG060'\n",
    "}\n",
    "\n",
    "# Grab the information from the server\n",
    "r = requests.get(request_url, params=params, auth=(USERNAME, TOKEN))\n",
    "data = r.json()\n",
    "\n",
    "# Reformat the data into a pretty table\n",
    "df = pd.DataFrame() # Setup empty array\n",
    "for d in data[0]['sensor']['calibration']:\n",
    "  for dd in d['calData']:\n",
    "    df = df.append({\n",
    "      'value': dd['value'],\n",
    "      'start': convert_time(dd['eventStartTime']),\n",
    "      'stop': convert_time(dd['eventStopTime']),\n",
    "      'name': dd['eventName'],\n",
    "      'assetUid': dd['assetUid'],\n",
    "      }, ignore_index=True)\n",
    "    \n",
    "df = df.sort_values(by=['start','name'])\n",
    "df"
   ]
  },
  {
   "cell_type": "markdown",
   "metadata": {},
   "source": [
    "# Instrument Vocabulary\n",
    "We can use the Vocabulary API endpoint to convert a given reference designator for an instrument into its descriptive names."
   ]
  },
  {
   "cell_type": "code",
   "execution_count": null,
   "metadata": {},
   "outputs": [],
   "source": [
    "# Retrieve vocabulary information for a given instrument\n",
    "VOCAB_BASE_URL = 'https://ooinet.oceanobservatories.org/api/m2m/12586/vocab/inv'\n",
    "request_url = VOCAB_BASE_URL+'/GP03FLMB/RIM01/02-CTDMOG060'\n",
    "r = requests.get(request_url, auth=(USERNAME, TOKEN))\n",
    "data = r.json()\n",
    "\n",
    "data"
   ]
  },
  {
   "cell_type": "markdown",
   "metadata": {},
   "source": [
    "# Annotations\n",
    "Finally, let's grab all of the annotations for this instrument.  The annotations endpoint requires all of the options to be specified in the params array."
   ]
  },
  {
   "cell_type": "code",
   "execution_count": null,
   "metadata": {},
   "outputs": [],
   "source": [
    "ANNO_API = 'https://ooinet.oceanobservatories.org/api/m2m/12580/anno/find'\n",
    "params = {\n",
    "  'beginDT': int(datetime.date(2010,1,1).strftime('%s'))*1000,\n",
    "  'endDT': int(datetime.date(2018,1,1).strftime('%s'))*1000,\n",
    "  'refdes': 'GP03FLMB-RIM01-02-CTDMOG060',\n",
    "#   'method': 'telemetered',\n",
    "#   'stream': 'ctdmo_ghqr_sio_mule_instrument',\n",
    "}\n",
    "\n",
    "r = requests.get(ANNO_API, params=params, auth=(USERNAME, TOKEN))\n",
    "data = r.json()\n",
    "\n",
    "df = pd.DataFrame() # Setup empty array\n",
    "for d in data:\n",
    "  df = df.append({\n",
    "    'annotation': d['annotation'],\n",
    "    'start': convert_time(d['beginDT']),\n",
    "    'stop': convert_time(d['endDT']),\n",
    "    'site': d['subsite'],\n",
    "    'node': d['node'],\n",
    "    'sensor': d['sensor'],\n",
    "    'id': d['id']\n",
    "  }, ignore_index=True)\n",
    "\n",
    "pd.set_option('display.max_colwidth', -1) # Show the full annotation text\n",
    "df = df.sort_values(by=['start'])\n",
    "df"
   ]
  },
  {
   "cell_type": "code",
   "execution_count": null,
   "metadata": {},
   "outputs": [],
   "source": [
    "pd.set_option('display.max_colwidth', 30) # Show the full annotation text\n"
   ]
  },
  {
   "cell_type": "markdown",
   "metadata": {},
   "source": [
    "# Resources\n",
    "For more information on using the API, you can check out:\n",
    "\n",
    "* [OOI Machine 2 Machine Introduction](http://oceanobservatories.org/ooi-m2m-interface/)\n",
    "* [OOI Machine to Machine (M2M) Basics](https://github.com/ooi-data-review/m2m_demo/blob/master/notebooks/basic_examples.ipynb)\n",
    "* [Accessing data as JSON via OOI RESTful API](https://github.com/ooi-data-review/m2m_demo/blob/master/notebooks/json_data_request.ipynb)\n",
    "* [Accessing data as NetCDF via OOI RESTful API](https://github.com/ooi-data-review/m2m_demo/blob/master/notebooks/netcdf_data_request.ipynb)\n",
    "* [OOI Machine to Machine (M2M) Realtime Requests](https://github.com/ooi-data-review/m2m_demo/blob/master/notebooks/realtime_requests.ipynb)\n"
   ]
  }
 ],
 "metadata": {
  "celltoolbar": "Slideshow",
  "colab": {
   "default_view": {},
   "name": "Example 2 - M2M Intro",
   "provenance": [],
   "toc_visible": true,
   "version": "0.3.2",
   "views": {}
  },
  "kernelspec": {
   "display_name": "OOI",
   "language": "python",
   "name": "ooi"
  },
  "language_info": {
   "codemirror_mode": {
    "name": "ipython",
    "version": 3
   },
   "file_extension": ".py",
   "mimetype": "text/x-python",
   "name": "python",
   "nbconvert_exporter": "python",
   "pygments_lexer": "ipython3",
   "version": "3.6.5"
  }
 },
 "nbformat": 4,
 "nbformat_minor": 1
}
