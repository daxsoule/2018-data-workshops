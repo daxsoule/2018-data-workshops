{
 "cells": [
  {
   "cell_type": "markdown",
   "metadata": {},
   "source": [
    "## Plotting cabled FLORT data from a pickle file\n",
    "*Written by Friedrich Knuth, Rutgers University*\n",
    "\n",
    "*Revised by Lori Garzio, Rutgers University, July 12, 2018*\n",
    "\n",
    "This example demonstrates how to load the downsampled data from the pickle file (created in 01_downsample_FLORT.ipynb) and visualize the data."
   ]
  },
  {
   "cell_type": "code",
   "execution_count": null,
   "metadata": {},
   "outputs": [],
   "source": [
    "import warnings\n",
    "warnings.filterwarnings(\"ignore\")\n",
    "\n",
    "import cmocean\n",
    "import matplotlib.pyplot as plt\n",
    "import pickle as pk\n",
    "import datetime"
   ]
  },
  {
   "cell_type": "code",
   "execution_count": null,
   "metadata": {},
   "outputs": [],
   "source": [
    "# Open the pickle file and read the data\n",
    "with open('chlor_a_and_temp.pd', 'rb') as f:\n",
    "    chlor_a_and_temp_data = pk.load(f)\n",
    "\n",
    "time_stamp = list(chlor_a_and_temp_data.index.values)\n",
    "depth = list(chlor_a_and_temp_data['int_ctd_pressure'].values)\n",
    "flor = list(chlor_a_and_temp_data['fluorometric_chlorophyll_a'].values)\n",
    "temp = list(chlor_a_and_temp_data['seawater_temperature'].values)"
   ]
  },
  {
   "cell_type": "code",
   "execution_count": null,
   "metadata": {},
   "outputs": [],
   "source": [
    "# Plot all of the data from the pickle file\n",
    "fig, (ax1, ax2) = plt.subplots(2, sharex=True, sharey=True)\n",
    "fig.set_size_inches(15, 7)\n",
    "\n",
    "t = ax1.scatter(time_stamp, depth, c=temp, cmap='RdYlBu_r', vmin=2, vmax=20, marker=\".\")\n",
    "o = ax2.scatter(time_stamp, depth, c=flor, cmap='RdYlBu_r', vmin=0, vmax=2, marker=\".\")\n",
    "\n",
    "cb1 = plt.colorbar(t,ax=ax1)\n",
    "cb2 = plt.colorbar(o,ax=ax2)\n",
    "\n",
    "cb1.set_label('degrees C')\n",
    "cb2.set_label('ug L-1')\n",
    "\n",
    "ax1.set_ylabel('dbar')\n",
    "ax2.set_ylabel('dbar')\n",
    "ax2.set_xlabel('time')\n",
    "\n",
    "ax1.grid()\n",
    "ax2.grid()\n",
    "\n",
    "ax1.set_title(\"Temperature\")\n",
    "ax2.set_title(\"Chlorophyll A\")\n",
    "\n",
    "ax1.invert_yaxis()\n",
    "ax1.set_xlim(min(time_stamp),max(time_stamp))"
   ]
  },
  {
   "cell_type": "code",
   "execution_count": null,
   "metadata": {},
   "outputs": [],
   "source": [
    "# Zoom in on a shorter time range\n",
    "fig, (ax1, ax2) = plt.subplots(2, sharex=True, sharey=True)\n",
    "fig.set_size_inches(15, 7)\n",
    "\n",
    "t = ax1.scatter(time_stamp, depth, c=temp, cmap='RdYlBu_r', vmin=2, vmax=20,marker=\".\")\n",
    "o = ax2.scatter(time_stamp, depth, c=flor, cmap='RdYlBu_r', vmin=0, vmax=2,marker=\".\")\n",
    "\n",
    "cb1 = plt.colorbar(t,ax=ax1)\n",
    "cb2 = plt.colorbar(o,ax=ax2)\n",
    "\n",
    "cb1.set_label('degrees C')\n",
    "cb2.set_label('ug L-1')\n",
    "\n",
    "ax1.set_ylabel('dbar')\n",
    "ax2.set_ylabel('dbar')\n",
    "ax2.set_xlabel('time')\n",
    "\n",
    "ax1.grid()\n",
    "ax2.grid()\n",
    "\n",
    "ax1.set_title(\"Temperature\")\n",
    "ax2.set_title(\"Chlorophyll A\")\n",
    "\n",
    "ax1.invert_yaxis()\n",
    "ax1.set_xlim(min(time_stamp),max(time_stamp))\n",
    "\n",
    "xlim_min = datetime.datetime(2015, 12, 1, 0, 0)\n",
    "xlim_max = datetime.datetime(2016, 12, 1, 0, 0)\n",
    "ax1.set_xlim(xlim_min,xlim_max)\n",
    "ax2.set_xlim(xlim_min,xlim_max)\n",
    "\n",
    "# plt.savefig(\"test.png\")"
   ]
  }
 ],
 "metadata": {
  "kernelspec": {
   "display_name": "Python 3",
   "language": "python",
   "name": "python3"
  },
  "language_info": {
   "codemirror_mode": {
    "name": "ipython",
    "version": 3
   },
   "file_extension": ".py",
   "mimetype": "text/x-python",
   "name": "python",
   "nbconvert_exporter": "python",
   "pygments_lexer": "ipython3",
   "version": "3.6.5"
  }
 },
 "nbformat": 4,
 "nbformat_minor": 2
}
