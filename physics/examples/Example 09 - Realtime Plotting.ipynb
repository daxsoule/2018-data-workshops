{
 "cells": [
  {
   "cell_type": "markdown",
   "metadata": {},
   "source": [
    "## Plotting Profiler Data in Real-Time \n",
    "\n",
    "In this example we will learn how to plot data from Shallow Profilers in real-time. We will use data from the CTD on the Shallow Profiler at Axial Base. You wil learn:\n",
    "\n",
    "* how to find the data you are looking for\n",
    "* how to use the machine to machine API to continuously request JSON data\n",
    "* how to extract the relevant data on the fly and plot profiles in real-time\n",
    "\n",
    "Login in at https://ooinet.oceanobservatories.org/ and obtain your username and token under your profile (top right corner)."
   ]
  },
  {
   "cell_type": "code",
   "execution_count": null,
   "metadata": {},
   "outputs": [],
   "source": [
    "username = ''\n",
    "token = ''"
   ]
  },
  {
   "cell_type": "code",
   "execution_count": null,
   "metadata": {},
   "outputs": [],
   "source": [
    "import datetime\n",
    "import requests\n",
    "import matplotlib.pyplot as plt\n",
    "import matplotlib.gridspec as gridspec\n",
    "!pip install netcdf\n",
    "import netCDF4 as nc\n",
    "from IPython import display"
   ]
  },
  {
   "cell_type": "markdown",
   "metadata": {},
   "source": [
    "In this example we will build real-time requests for data from the Cabled Axial Base (RS03AXPS) - Shallow Profiler (SF03A) - CTD (2A-CTDPFA302) sensor. The ingredients being used to build the data_request_url can be found here: http://ooi.visualocean.net/instruments/view/RS03AXPS-SF03A-2A-CTDPFA302. To build an M2M request, you need the Reference Designator, Delivery Method and Data Stream Name. Note that streams containing science data products for a given instrument are designated as Science in the Type column.\n",
    "\n",
    "![RS03AXPS-SF03A-2A-CTDPFA302](https://github.com/ooi-data-review/ooi_datateam_notebooks/raw/master/images/RS03AXPS-SF03A-2A-CTDPFA302.png)"
   ]
  },
  {
   "cell_type": "code",
   "execution_count": null,
   "metadata": {},
   "outputs": [],
   "source": [
    "subsite = 'RS03AXPS'\n",
    "node = 'SF03A'\n",
    "sensor = '2A-CTDPFA302'\n",
    "method = 'streamed'\n",
    "stream = 'ctdpf_sbe43_sample'"
   ]
  },
  {
   "cell_type": "markdown",
   "metadata": {},
   "source": [
    "The code will start by requesting the last 10 seconds of data and then make a new request every second by replacing the request url start time with the time stamp of the last data point received. No end time is specified, so everything available up until present will be returned, and the limit is set to 1000 data points for any given request. No sensor is sampling at > 100 Hz, so you are guaranteed to receive all available data in the response.\n",
    "\n",
    "![RS03AXPS-SF03A-2A-CTDPFA302](https://github.com/ooi-data-review/ooi_datateam_notebooks/raw/master/images/realtime_pseudo_code.png)"
   ]
  },
  {
   "cell_type": "code",
   "execution_count": null,
   "metadata": {},
   "outputs": [],
   "source": [
    "base_url = 'https://ooinet.oceanobservatories.org/api/m2m/12576/sensor/inv/'\n",
    "\n",
    "# get the time stamp of the last 10 seconds of data\n",
    "beginDT = (datetime.datetime.utcnow() - datetime.timedelta(seconds=10)).strftime(\"%Y-%m-%dT%H:%M:%S.000Z\")\n",
    "\n",
    "# build the url and request parameters\n",
    "data_request_url ='/'.join((base_url,subsite,node,sensor,method,stream))\n",
    "params = {\n",
    "    'beginDT':beginDT,\n",
    "    'limit':100,   \n",
    "}"
   ]
  },
  {
   "cell_type": "code",
   "execution_count": null,
   "metadata": {},
   "outputs": [],
   "source": [
    "# set up your variable lists to extract from the json response\n",
    "time_stamp = []\n",
    "pressure = []\n",
    "temperature = []\n",
    "salinity = []\n",
    "oxygen = []\n",
    "conductivity = []\n",
    "\n",
    "# set up the plot\n",
    "fig = plt.figure(figsize=(10, 10))\n",
    "spec = gridspec.GridSpec(ncols=2, nrows=2)\n",
    "ax1 = fig.add_subplot(spec[0, 0])\n",
    "ax2 = fig.add_subplot(spec[0, 1], sharey=ax1)\n",
    "ax3 = fig.add_subplot(spec[1, 0])\n",
    "ax4 = fig.add_subplot(spec[1, 1], sharey=ax3)\n",
    "ax1.grid()\n",
    "ax2.grid()\n",
    "ax3.grid()\n",
    "ax4.grid()\n",
    "\n",
    "# invert the pressure axis so shallower is upwards \n",
    "# could also multiply all pressure values by -1 and treat dbar = depth\n",
    "ax1.invert_yaxis()\n",
    "ax3.invert_yaxis()\n",
    "\n",
    "# establish a session\n",
    "session = requests.session()\n",
    "\n",
    "# enter request and plotting loop\n",
    "# while True: # use for endless loop\n",
    "for i in range(1000):\n",
    "    \n",
    "    # send request for data\n",
    "    response = session.get(data_request_url, params=params, auth=(username, token))\n",
    "    data = response.json()\n",
    "    \n",
    "    # get last time stamp in response\n",
    "    last_time = nc.num2date(data[-1]['time'],'seconds since 1900-01-01').strftime(\"%Y-%m-%dT%H:%M:%S.000Z\")\n",
    "    \n",
    "    # check if new data has been received\n",
    "    if params['beginDT'] == last_time:\n",
    "        continue\n",
    "        \n",
    "    # if new data is reveived, extract and append values to list, then plot\n",
    "    else:\n",
    "        # extract variables\n",
    "        for i in range(len(data)):\n",
    "            time_stamp.append(nc.num2date(data[i]['time'],'seconds since 1900-01-01').replace(microsecond=0))\n",
    "            pressure.append(data[i]['seawater_pressure'])\n",
    "            temperature.append(data[i]['seawater_temperature'])\n",
    "            oxygen.append(data[i]['corrected_dissolved_oxygen'])\n",
    "            salinity.append(data[i]['practical_salinity'])\n",
    "            conductivity.append(data[i]['seawater_conductivity'])\n",
    "\n",
    "        # remove colorbars for continuous replotting (there might be a better way to do this)\n",
    "        try:\n",
    "            cb1.remove()\n",
    "            cb2.remove()\n",
    "            cb3.remove()\n",
    "            cb4.remove()\n",
    "        except:\n",
    "            pass\n",
    "\n",
    "        # set x axis limit to extent of data\n",
    "        ax1.set_xlim(time_stamp[0],time_stamp[-1])\n",
    "        ax2.set_xlim(time_stamp[0],time_stamp[-1])\n",
    "        ax3.set_xlim(time_stamp[0],time_stamp[-1])\n",
    "        ax4.set_xlim(time_stamp[0],time_stamp[-1])\n",
    "\n",
    "        # choose the colormaps. more colormaps at https://matplotlib.org/examples/color/colormaps_reference.html\n",
    "        cmap1 = plt.get_cmap(\"Reds\")\n",
    "        cmap2 = plt.get_cmap(\"winter_r\")\n",
    "        # cmap3 = plt.get_cmap(\"copper\")\n",
    "        # cmap4 = plt.get_cmap(\"copper\")\n",
    "\n",
    "        # plot the data\n",
    "        t = ax1.scatter(time_stamp, pressure, c=temperature, cmap=cmap1)\n",
    "        o = ax2.scatter(time_stamp, pressure, c=oxygen, cmap=cmap2)\n",
    "        s = ax3.scatter(time_stamp, pressure, c=salinity)\n",
    "        c = ax4.scatter(time_stamp, pressure, c=conductivity)\n",
    "\n",
    "        # assign a colorbar \n",
    "        cb1 = plt.colorbar(t,ax=ax1)\n",
    "        cb2 = plt.colorbar(o,ax=ax2)\n",
    "        cb3 = plt.colorbar(s,ax=ax3)\n",
    "        cb4 = plt.colorbar(c,ax=ax4)\n",
    "\n",
    "        # label colorbars\n",
    "        cb1.set_label('$^\\circ$C')\n",
    "        cb2.set_label('umol/Kg')\n",
    "        cb3.set_label('1')\n",
    "        cb4.set_label('S/m')\n",
    "\n",
    "        # label subplots\n",
    "        ax1.set_title(\"Temperature\")\n",
    "        ax2.set_title(\"Oxygen\")\n",
    "        ax3.set_title(\"Salinity\")\n",
    "        ax4.set_title(\"Conductivity\")\n",
    "\n",
    "        ax1.set_ylabel('dbar')\n",
    "        ax3.set_ylabel('dbar')\n",
    "\n",
    "        ax3.set_xlabel('time')\n",
    "        ax4.set_xlabel('time')\n",
    "\n",
    "        # tighten layout and display plot\n",
    "        spec.tight_layout(fig)\n",
    "\n",
    "        display.clear_output(wait=True)\n",
    "        display.display(plt.gcf())\n",
    "    \n",
    "    \n",
    "    # reset beginDT for next request    \n",
    "    params['beginDT'] = last_time\n",
    "    \n",
    "plt.close()"
   ]
  },
  {
   "cell_type": "markdown",
   "metadata": {},
   "source": [
    "This example was developed by Friedrich Knuth."
   ]
  }
 ],
 "metadata": {
  "colab": {
   "default_view": {},
   "name": "Example 9 - Realtime Plotting",
   "provenance": [],
   "version": "0.3.2",
   "views": {}
  },
  "kernelspec": {
   "display_name": "OOI",
   "language": "python",
   "name": "ooi"
  },
  "language_info": {
   "codemirror_mode": {
    "name": "ipython",
    "version": 3
   },
   "file_extension": ".py",
   "mimetype": "text/x-python",
   "name": "python",
   "nbconvert_exporter": "python",
   "pygments_lexer": "ipython3",
   "version": "3.6.5"
  }
 },
 "nbformat": 4,
 "nbformat_minor": 1
}
