{
 "cells": [
  {
   "cell_type": "markdown",
   "metadata": {},
   "source": [
    "# Example 5 - Multi-instrument Quick Plots\n",
    "In this eample, we will demonstrate how to create a multi-instrument stacked timeseries plot. This is a good way to quickly get a sence of what data is available in the system, and how different instruments roughly compare with each other over time\n"
   ]
  },
  {
   "cell_type": "markdown",
   "metadata": {},
   "source": [
    "# Setup\n",
    "First we will add the libraries, specify the API information, and create some handy functions we will use."
   ]
  },
  {
   "cell_type": "code",
   "execution_count": null,
   "metadata": {},
   "outputs": [],
   "source": [
    "# Load necessary libraries\n",
    "import requests\n",
    "import datetime\n",
    "import matplotlib.pyplot as plt"
   ]
  },
  {
   "cell_type": "code",
   "execution_count": null,
   "metadata": {},
   "outputs": [],
   "source": [
    "# API Information\n",
    "USERNAME =''\n",
    "TOKEN= ''\n",
    "DATA_API_BASE_URL = 'https://ooinet.oceanobservatories.org/api/m2m/12576/sensor/inv/'"
   ]
  },
  {
   "cell_type": "code",
   "execution_count": null,
   "metadata": {},
   "outputs": [],
   "source": [
    "# Time Processing Routines \n",
    "ntp_epoch = datetime.datetime(1900, 1, 1)\n",
    "unix_epoch = datetime.datetime(1970, 1, 1)\n",
    "ntp_delta = (unix_epoch - ntp_epoch).total_seconds()\n",
    "\n",
    "def ntp_seconds_to_datetime(ntp_seconds):\n",
    "    return datetime.datetime.utcfromtimestamp(ntp_seconds - ntp_delta).replace(microsecond=0)\n"
   ]
  },
  {
   "cell_type": "markdown",
   "metadata": {},
   "source": [
    "# Fluorometers \n",
    "Next, let's create some quicklook plots for all fixed Fluorometers in the system.  We will create one plot for the Coastal fluorometers, which are all at the same depth, and a second one for the Global ones, which are at different depths.\n"
   ]
  },
  {
   "cell_type": "code",
   "execution_count": null,
   "metadata": {},
   "outputs": [],
   "source": [
    "# Some FLORTS to plot\n",
    "# The last column is the depth of the instrument (used in the plots)\n",
    "coastal_florts = [\n",
    "  ['CE01ISSM','RID16','02-FLORTD000',7],\n",
    "  ['CE02SHSM','RID27','02-FLORTD000',7],\n",
    "  ['CE04OSSM','RID27','02-FLORTD000',7],\n",
    "  ['CE06ISSM','RID16','02-FLORTD000',7],\n",
    "  ['CE07SHSM','RID27','02-FLORTD000',7],\n",
    "  ['CE09OSSM','RID27','02-FLORTD000',7],\n",
    "  ['CP01CNSM','RID27','02-FLORTD000',7],\n",
    "  ['CP03ISSM','RID27','02-FLORTD000',7],\n",
    "  ['CP04OSSM','RID27','02-FLORTD000',7]\n",
    "]\n",
    "\n",
    "global_florts = [\n",
    "  ['GA01SUMO','RID16','02-FLORTD000',12],\n",
    "  ['GA01SUMO','SBD12','02-FLORTD000',1],\n",
    "  ['GA03FLMA','RIS01','05-FLORTD000',30],\n",
    "  ['GA03FLMB','RIS01','05-FLORTD000',30],\n",
    "  ['GI01SUMO','RID16','02-FLORTD000',12],\n",
    "  ['GI01SUMO','SBD12','02-FLORTD000',1],\n",
    "  ['GI03FLMA','RIS01','05-FLORTD000',30],\n",
    "  ['GI03FLMB','RIS01','05-FLORTD000',30],\n",
    "  ['GP03FLMA','RIS01','05-FLORTD000',30],\n",
    "  ['GP03FLMB','RIS01','05-FLORTD000',30],\n",
    "  ['GS01SUMO','RID16','02-FLORTD000',12],\n",
    "  ['GS01SUMO','SBD12','02-FLORTD000',1],\n",
    "  ['GS03FLMA','RIS01','05-FLORTD000',30],\n",
    "  ['GS03FLMB','RIS01','05-FLORTD000',30],\n",
    "]\n"
   ]
  },
  {
   "cell_type": "code",
   "execution_count": null,
   "metadata": {},
   "outputs": [],
   "source": [
    "# API URL template for Florometer data\n",
    "url_template = DATA_API_BASE_URL+\\\n",
    "  '%s/'+\\\n",
    "  '%s/'+\\\n",
    "  '%s/'+\\\n",
    "  'recovered_host/'+\\\n",
    "  'flort_sample'+'?'+\\\n",
    "  'limit=5000'+\\\n",
    "  '&parameters=7,22' # Only get time and fluorometric_chlorophyll_a         "
   ]
  },
  {
   "cell_type": "code",
   "execution_count": null,
   "metadata": {},
   "outputs": [],
   "source": [
    "# Crude function to retrieve and reformat synchronous data from the OOI API\n",
    "def get_data(instruments,parameter):\n",
    "  out = []\n",
    "  for jj in range(len(instruments)):\n",
    "    data_request_url = url_template % (instruments[jj][0],instruments[jj][1],instruments[jj][2])\n",
    "    r = requests.get(data_request_url, auth=(USERNAME, TOKEN))\n",
    "    data = r.json()\n",
    "    print instruments[jj] \n",
    "    print len(data)\n",
    "    time = []\n",
    "    values = []\n",
    "    for i in range(len(data)):\n",
    "      time.append(ntp_seconds_to_datetime(data[i]['time']))\n",
    "      values.append(data[i][parameter])\n",
    "    out.append({'time':time,'value':values});\n",
    "  return out\n"
   ]
  },
  {
   "cell_type": "code",
   "execution_count": null,
   "metadata": {},
   "outputs": [],
   "source": [
    "# Grab the Coastal Fluoromter Data\n",
    "chl_data = get_data(coastal_florts,'fluorometric_chlorophyll_a')"
   ]
  },
  {
   "cell_type": "code",
   "execution_count": null,
   "metadata": {},
   "outputs": [],
   "source": [
    "# Plot the Coastal FLORTS\n",
    "fig, axarr = plt.subplots(len(chl_data), sharex=True, sharey=True, figsize=(8,18))\n",
    "\n",
    "for jj in range(len(chl_data)):\n",
    "  axarr[jj].scatter(chl_data[jj]['time'], chl_data[jj]['value'], marker='.')\n",
    "  axarr[jj].set(ylabel=coastal_florts[jj][0])\n",
    "  axarr[jj].text(.05, .9, ('%sm' % coastal_florts[jj][3]), horizontalalignment='left', verticalalignment='top', transform=axarr[jj].transAxes)\n",
    "  \n",
    "plt.xlim(datetime.date(2013,1,1),datetime.date(2018,1,1))\n",
    "plt.ylim(0,40)\n",
    "plt.xticks(rotation=30)\n",
    "fig.suptitle('OOI Coastal Fluorometers - Chlorophyll A')\n",
    "fig.subplots_adjust(top=0.95)\n"
   ]
  },
  {
   "cell_type": "code",
   "execution_count": null,
   "metadata": {},
   "outputs": [],
   "source": [
    "# Grab the Global Fluoromter Data\n",
    "chl_data = get_data(global_florts,'fluorometric_chlorophyll_a')"
   ]
  },
  {
   "cell_type": "code",
   "execution_count": null,
   "metadata": {},
   "outputs": [],
   "source": [
    "# Plot the Global FLORTS\n",
    "fig, axarr = plt.subplots(len(chl_data), sharex=True, sharey=True, figsize=(8,18))\n",
    "\n",
    "for jj in range(len(chl_data)):\n",
    "  axarr[jj].scatter(chl_data[jj]['time'], chl_data[jj]['value'], marker='.')\n",
    "  axarr[jj].set(ylabel=global_florts[jj][0])\n",
    "  axarr[jj].text(.05, .9, ('%sm' % global_florts[jj][3]), horizontalalignment='left', verticalalignment='top', transform=axarr[jj].transAxes)\n",
    "  \n",
    "plt.xlim(datetime.date(2013,1,1),datetime.date(2018,1,1))\n",
    "plt.ylim(0,20)\n",
    "plt.xticks(rotation=30)\n",
    "fig.suptitle('OOI Global Fluorometers - Chlorophyll A')\n",
    "fig.subplots_adjust(top=0.95);\n"
   ]
  },
  {
   "cell_type": "markdown",
   "metadata": {},
   "source": [
    "# Nitrate\n",
    "Another example with Nitrate"
   ]
  },
  {
   "cell_type": "code",
   "execution_count": null,
   "metadata": {},
   "outputs": [],
   "source": [
    "# All fixed point Nitrate sensors\n",
    "nitrate = [\n",
    "  ['CE01ISSM','RID16','07-NUTNRB000',7],\n",
    "  ['CE02SHSM','RID26','07-NUTNRB000',7],\n",
    "  ['CE04OSSM','RID26','07-NUTNRB000',7],\n",
    "  ['CE06ISSM','RID16','07-NUTNRB000',7],\n",
    "  ['CE07SHSM','RID26','07-NUTNRB000',7],\n",
    "  ['CE09OSSM','RID26','07-NUTNRB000',7],\n",
    "  ['CP01CNSM','RID26','07-NUTNRB000',7],\n",
    "  ['CP03ISSM','RID26','07-NUTNRB000',7],\n",
    "  ['CP04OSSM','RID26','07-NUTNRB000',7],\n",
    "  ['GA01SUMO','RID16','07-NUTNRB000',12],\n",
    "  ['GA01SUMO','SBD11','08-NUTNRB000',7],\n",
    "  ['GI01SUMO','RID16','07-NUTNRB000',12],\n",
    "  ['GI01SUMO','SBD11','08-NUTNRB000',7],\n",
    "  ['GS01SUMO','RID16','07-NUTNRB000',12],\n",
    "  ['GS01SUMO','SBD11','08-NUTNRB000',7],\n",
    "]\n"
   ]
  },
  {
   "cell_type": "code",
   "execution_count": null,
   "metadata": {},
   "outputs": [],
   "source": [
    "# API URL template for Nitrate data\n",
    "url_template = DATA_API_BASE_URL+\\\n",
    "  '%s/'+\\\n",
    "  '%s/'+\\\n",
    "  '%s/'+\\\n",
    "  'recovered_inst/'+\\\n",
    "  'nutnr_b_instrument_recovered'+'?'+\\\n",
    "  'limit=1000'+\\\n",
    "  '&parameters=7,315,18' # Only get time, nitrate_concentration, salinity_corrected_nitrate         "
   ]
  },
  {
   "cell_type": "code",
   "execution_count": null,
   "metadata": {},
   "outputs": [],
   "source": [
    "# Grab the Nitrate data\n",
    "nitrate_data = get_data(nitrate,'salinity_corrected_nitrate')"
   ]
  },
  {
   "cell_type": "code",
   "execution_count": null,
   "metadata": {},
   "outputs": [],
   "source": [
    "# Plot the Nitrate data\n",
    "fig, axarr = plt.subplots(len(nitrate_data), sharex=True, sharey=True, figsize=(8,18))\n",
    "\n",
    "for jj in range(len(nitrate_data)):\n",
    "  axarr[jj].scatter(nitrate_data[jj]['time'], nitrate_data[jj]['value'], marker='.')\n",
    "  axarr[jj].set(ylabel=nitrate[jj][0])\n",
    "  axarr[jj].text(.05, .9, ('%sm' % nitrate[jj][3]), horizontalalignment='left', verticalalignment='top', transform=axarr[jj].transAxes)\n",
    "  \n",
    "plt.xlim(datetime.date(2013,1,1),datetime.date(2018,1,1))\n",
    "plt.ylim(0,40)\n",
    "plt.xticks(rotation=30)\n",
    "fig.suptitle('OOI Nitrate (salinity corrected)')\n",
    "# fig.tight_layout()\n",
    "fig.subplots_adjust(top=0.95)\n"
   ]
  },
  {
   "cell_type": "markdown",
   "metadata": {},
   "source": [
    "# Comparing Chlorophyll and Nitrate\n",
    "The following script generates a quick plot of Chlorophyll and Nitrate data at 2 locations, one coastal (CE07), one global (GI01)."
   ]
  },
  {
   "cell_type": "code",
   "execution_count": null,
   "metadata": {},
   "outputs": [],
   "source": [
    "# Selected Instruments to Plot\n",
    "instruments = [\n",
    "  ['CE07SHSM','RID27','02-FLORTD000','recovered_host','flort_sample','fluorometric_chlorophyll_a',7],\n",
    "  ['CE07SHSM','RID26','07-NUTNRB000','recovered_inst','nutnr_b_instrument_recovered','salinity_corrected_nitrate',7],\n",
    "  ['GI01SUMO','RID16','02-FLORTD000','recovered_host','flort_sample','fluorometric_chlorophyll_a',12],\n",
    "  ['GI01SUMO','RID16','07-NUTNRB000','recovered_inst','nutnr_b_instrument_recovered','salinity_corrected_nitrate',12],\n",
    "]"
   ]
  },
  {
   "cell_type": "code",
   "execution_count": null,
   "metadata": {},
   "outputs": [],
   "source": [
    "# Specify additional parameters for the API request \n",
    "params = {\n",
    "  'beginDT':'2015-01-01T00:00:00.000Z',\n",
    "  'endDT':'2018-01-01T00:00:00.000Z',\n",
    "  'limit':10000,   \n",
    "}\n"
   ]
  },
  {
   "cell_type": "code",
   "execution_count": null,
   "metadata": {},
   "outputs": [],
   "source": [
    "# Grab the data for each instrument\n",
    "out = []\n",
    "for jj in range(len(instruments)):\n",
    "  data_request_url ='/'.join((DATA_API_BASE_URL,instruments[jj][0],instruments[jj][1],instruments[jj][2],instruments[jj][3],instruments[jj][4]))\n",
    "  r = requests.get(data_request_url, params=params, auth=(USERNAME, TOKEN))\n",
    "  data = r.json()\n",
    "  print instruments[jj] \n",
    "  print len(data)\n",
    "  time = []\n",
    "  values = []\n",
    "  for i in range(len(data)):\n",
    "    time.append(ntp_seconds_to_datetime(data[i]['time']))\n",
    "    values.append(data[i][instruments[jj][5]])\n",
    "  out.append({'time':time,'value':values});"
   ]
  },
  {
   "cell_type": "code",
   "execution_count": null,
   "metadata": {},
   "outputs": [],
   "source": [
    "# Plot the data\n",
    "fig,axs = plt.subplots(len(out), sharex=True, sharey=False, figsize=(8,10))\n",
    "\n",
    "for jj in range(len(out)):\n",
    "  axs[jj].scatter(out[jj]['time'], out[jj]['value'], marker='.')\n",
    "  #axs[jj].set(ylabel=instruments[jj][5])\n",
    "  #axs[jj].set_title('-'.join(instruments[jj][0:3]))\n",
    "  axs[jj].text(.92, .9, ('%sm' % instruments[jj][-1]), horizontalalignment='left', verticalalignment='top', transform=axs[jj].transAxes)\n",
    "  \n",
    "plt.xlim(datetime.date(2015,1,1),datetime.date(2018,1,1))\n",
    "plt.xticks(rotation=30)\n",
    "\n",
    "axs[0].set_ylim(0,30)\n",
    "axs[1].set_ylim(0,20)\n",
    "axs[2].set_ylim(0,30)\n",
    "axs[3].set_ylim(0,20)\n",
    "\n",
    "axs[0].set_ylabel('Chlorophyll A')\n",
    "axs[1].set_ylabel('Nitrate Concentration')\n",
    "axs[2].set_ylabel('Chlorophyll A')\n",
    "axs[3].set_ylabel('Nitrate Concentration')\n",
    "\n",
    "axs[0].set_title('Washington Shelf (CE07SHSM)')\n",
    "axs[2].set_title('Irminger Sea (GI01SUMO)')\n",
    "\n",
    "fig.suptitle('Comparing Chlorophyll and Nitrate')\n",
    "fig.subplots_adjust(top=0.9)"
   ]
  }
 ],
 "metadata": {
  "colab": {
   "default_view": {},
   "name": "Example 5 - Multi-instrument quick plots",
   "provenance": [],
   "toc_visible": true,
   "version": "0.3.2",
   "views": {}
  },
  "kernelspec": {
   "display_name": "Python 3",
   "language": "python",
   "name": "python3"
  },
  "language_info": {
   "codemirror_mode": {
    "name": "ipython",
    "version": 3
   },
   "file_extension": ".py",
   "mimetype": "text/x-python",
   "name": "python",
   "nbconvert_exporter": "python",
   "pygments_lexer": "ipython3",
   "version": "3.6.5"
  }
 },
 "nbformat": 4,
 "nbformat_minor": 1
}
