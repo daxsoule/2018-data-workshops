{
 "cells": [
  {
   "cell_type": "markdown",
   "metadata": {},
   "source": [
    "## Accessing Reference Designator Annotations via the API\n",
    "\n",
    "*Compiled by Lori Garzio, Rutgers University, July 13, 2018*\n",
    "\n",
    "*Modified from Section 3d in OOI_Example_Data_Quality_Report.ipynb written by Sage Lichtenwalner*\n",
    "\n",
    "This provides a quick example of accessing annotations for a specific instrument (reference designator). The API will return all associated annotations for the instrument specified, including annotations entered at the subsite, node, and data stream level."
   ]
  },
  {
   "cell_type": "code",
   "execution_count": null,
   "metadata": {},
   "outputs": [],
   "source": [
    "import datetime\n",
    "import requests\n",
    "import pandas as pd"
   ]
  },
  {
   "cell_type": "code",
   "execution_count": null,
   "metadata": {},
   "outputs": [],
   "source": [
    "USERNAME = ''\n",
    "TOKEN = ''\n",
    "\n",
    "# Specify a reference designator\n",
    "refdes = 'GI01SUMO-SBD12-08-FDCHPA000'\n",
    "\n",
    "# Specify a time range of interest\n",
    "# begin = int(datetime.date(2017,1,1).strftime('%s'))*1000\n",
    "# end = int(datetime.date(2018,1,1).strftime('%s'))*1000\n",
    "\n",
    "# Alternatively, if you want all annotations, use these dates\n",
    "begin = int(datetime.date(2013,1,1).strftime('%s'))*1000\n",
    "end = int(datetime.datetime.now().strftime(\"%s\")) * 1000 # current date"
   ]
  },
  {
   "cell_type": "code",
   "execution_count": null,
   "metadata": {},
   "outputs": [],
   "source": [
    "ANNO_API = 'https://ooinet.oceanobservatories.org/api/m2m/12580/anno/find'\n",
    "params = {\n",
    "  'beginDT': begin,\n",
    "  'endDT': end,\n",
    "  'refdes': refdes,\n",
    "}\n",
    "\n",
    "# Send the request\n",
    "r = requests.get(ANNO_API, params=params, auth=(USERNAME, TOKEN))\n",
    "data = r.json()"
   ]
  },
  {
   "cell_type": "code",
   "execution_count": null,
   "metadata": {},
   "outputs": [],
   "source": [
    "# convert timestamps\n",
    "def convert_time(ms):\n",
    "    if ms != None:\n",
    "        return datetime.datetime.utcfromtimestamp(ms/1000)\n",
    "    else:\n",
    "        return None"
   ]
  },
  {
   "cell_type": "code",
   "execution_count": null,
   "metadata": {},
   "outputs": [],
   "source": [
    "# Convert info the json response to a dataframe for easier visualization\n",
    "df = pd.DataFrame() # Setup empty array\n",
    "for d in data:\n",
    "    df = df.append({\n",
    "        'annotation_id': d['id'],\n",
    "        'subsite': d['subsite'],\n",
    "        'node': d['node'],\n",
    "        'sensor': d['sensor'],\n",
    "        'stream': d['stream'],\n",
    "        'method': d['method'],\n",
    "        'start': convert_time(d['beginDT']),\n",
    "        'stop': convert_time(d['endDT']),\n",
    "        'qcFlag': d['qcFlag'],\n",
    "        'annotation': d['annotation']\n",
    "    }, ignore_index=True)\n",
    "pd.set_option('display.max_colwidth', -1) # Show the full annotation text\n",
    "df"
   ]
  },
  {
   "cell_type": "code",
   "execution_count": null,
   "metadata": {},
   "outputs": [],
   "source": [
    "# Write annotations to a csv file in working directory\n",
    "df.to_csv('{}_annotations.csv'.format(refdes), index=False)"
   ]
  }
 ],
 "metadata": {
  "kernelspec": {
   "display_name": "Python 3",
   "language": "python",
   "name": "python3"
  },
  "language_info": {
   "codemirror_mode": {
    "name": "ipython",
    "version": 3
   },
   "file_extension": ".py",
   "mimetype": "text/x-python",
   "name": "python",
   "nbconvert_exporter": "python",
   "pygments_lexer": "ipython3",
   "version": "3.6.5"
  }
 },
 "nbformat": 4,
 "nbformat_minor": 2
}
