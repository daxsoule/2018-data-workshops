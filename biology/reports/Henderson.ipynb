{
 "nbformat": 4,
 "nbformat_minor": 0,
 "metadata": {
  "colab": {
   "name": "Henderson_OOI_Data_Report.ipynb",
   "version": "0.3.2",
   "views": {},
   "default_view": {},
   "provenance": [],
   "collapsed_sections": [],
   "toc_visible": true
  },
  "kernelspec": {
   "name": "python3",
   "display_name": "Python 3"
  }
 },
 "cells": [
  {
   "metadata": {},
   "cell_type": "markdown",
   "source": [
    "# OOI Data Validation Report\n",
    "*Lis Henderson (meghan.henderson@stonybrook.edu) June 20, 2018*\n",
    "\n",
    "Borrows from:\n",
    "\n",
    "[OOI - Example 1](https://github.com/ooi-data-review/2018-data-workshops/blob/master/bio-examples/Example_1_Requesting_OOI_Data.ipynb)\n",
    "\n",
    "[OOI - Multi-Instrument and Quickplots](https://github.com/ooi-data-review/2018-data-workshops/blob/master/bio-examples/extras/Multi_instrument_Quick_Plots.ipynb)\n",
    "\n",
    "[OOI - Synchronous Requests and Basic Plotting](https://github.com/ooi-data-review/2018-data-workshops/blob/master/bio-examples/extras/Synchronous_Requests_and_Basic_Plotting.ipynb)\n",
    "\n",
    "### Array: Coastal Pioneer \n",
    "![alt text](http://oceanobservatories.org/wp-content/uploads/2015/09/CEV-OOI-Coastal-Pioneer-Array-300x169.jpg)\n",
    "\n",
    "### Platforms:\n",
    "[array information](http://oceanobservatories.org/array/coastal-pioneer/)\n",
    "\n",
    "1 - Central Upstream Offshore Profiler, 95m (CP02PMUI)\n",
    "\n",
    "3 - Upstream Offshore Profiler, 452m (CP02PMUO)\n",
    "\n",
    "5 - Central Inshore Profiler, 127m (CP0PMCI)\n",
    "\n",
    "6 - Central Offshore Profiler, 148m (CP02PMCO)\n",
    "\n",
    "7 - Offshore Profiler, 453m (CP04OSPM)\n",
    " \n",
    "\n",
    "### Goal: \n",
    "\n",
    "To explore the seasonal along-shelf and cross-shelf relationships between temperature and productivity. And in the process, look for possible sensor issues.\n",
    "\n",
    "This is motivated by personal interest in seasonal cycles of temperature and productivity along the Northeast US continental shelf. \n",
    "\n",
    "### Summary of findings:\n",
    "\n",
    "The Coastal Pioneer array does not currently have long (>3 month) overlapping time series for all of the profilers. It is difficult to get a clear look at a full annual cycle. But there are short time periods that are comparable across a few sensors. Even with the annotations and timelines available in the data portal it's a bit of a guess and check process. Could be worth organizing the information into a spreadsheet?"
   ]
  },
  {
   "metadata": {},
   "cell_type": "markdown",
   "source": [
    "## Setting up shop. "
   ]
  },
  {
   "metadata": {},
   "cell_type": "code",
   "source": [
    "USERNAME = 'OOIAPI-11HPSKD16NMPXG'\n",
    "TOKEN =  'U47252GFVPQ4PE'\n",
    "\n",
    "DATA_API_BASE_URL = 'https://ooinet.oceanobservatories.org/api/m2m/12576/sensor/inv/'"
   ],
   "execution_count": null,
   "outputs": []
  },
  {
   "metadata": {},
   "cell_type": "code",
   "source": [
    "# Import libraries\n",
    "import requests\n",
    "import datetime\n",
    "import matplotlib.pyplot as plt # when pyplot is called later, we can just use 'plt'\n",
    "# !pip install cmocean\n",
    "# import cmocean"
   ],
   "execution_count": null,
   "outputs": []
  },
  {
   "metadata": {},
   "cell_type": "code",
   "source": [
    "# Time Processing Routines \n",
    "ntp_epoch = datetime.datetime(1900, 1, 1)\n",
    "unix_epoch = datetime.datetime(1970, 1, 1)\n",
    "ntp_delta = (unix_epoch - ntp_epoch).total_seconds()\n",
    "\n",
    "def ntp_seconds_to_datetime(ntp_seconds):\n",
    "    return datetime.datetime.utcfromtimestamp(ntp_seconds - ntp_delta).replace(microsecond=0)"
   ],
   "execution_count": null,
   "outputs": []
  },
  {
   "metadata": {},
   "cell_type": "markdown",
   "source": [
    "## Looking to see if the fluorometer data includes CTD. Spoiler: It does!\n",
    "\n",
    "This makes things easier as I only need to pull data from one sensor now. "
   ]
  },
  {
   "metadata": {},
   "cell_type": "code",
   "source": [
    "# # Instrument Information\n",
    "# site = 'CP02PMCI'\n",
    "# node = 'WFP01'\n",
    "# instrument = '04-FLORTK000'\n",
    "# method = 'recovered_wfp'\n",
    "# stream = 'flort_sample'\n",
    "\n",
    "# data_request_url ='/'.join((API_BASE_URL,site,node,instrument,method,stream))\n",
    "\n",
    "# params = {\n",
    "#   'beginDT':'2015-01-01T00:00:00.000Z',\n",
    "#   'endDT':'2015-02-01T00:00:00.000Z',\n",
    "#   'limit':1000   \n",
    "# }"
   ],
   "execution_count": null,
   "outputs": []
  },
  {
   "metadata": {},
   "cell_type": "code",
   "source": [
    "# # Grab the data\n",
    "# r = requests.get(data_request_url, params=params, auth=(USERNAME, TOKEN))\n",
    "# data = r.json()"
   ],
   "execution_count": null,
   "outputs": []
  },
  {
   "metadata": {},
   "cell_type": "markdown",
   "source": [
    "Call the first data value to see what the data contains.\n",
    "\n",
    "And we see that it does contain temperature.\n",
    "\n",
    "Remember this is in .json format so it contains no metadata."
   ]
  },
  {
   "metadata": {},
   "cell_type": "code",
   "source": [
    "# data[0]"
   ],
   "execution_count": null,
   "outputs": []
  },
  {
   "metadata": {},
   "cell_type": "markdown",
   "source": [
    "# Cross-front sensors. "
   ]
  },
  {
   "metadata": {},
   "cell_type": "markdown",
   "source": [
    "## Central Inshore, Central Offshore, and Offshore Profilers. May 2015 - May 2016.\n",
    "\n",
    "#### Instrument and sensor information \n",
    "(was going to use inshore profiler but it covers a more truncated time period and contains only telemetered data)\n",
    "\n",
    "Central Inshore Profiler --  CP02PMCI-WFP01-04-FLORTK000\n",
    "\n",
    "Central Offshore Profiler -- CP02PMCO-WFP01-04-FLORTK000\n",
    "\n",
    "Offshore Profiler -- CP04OSPM-WFP01-04-FLORTK000\n"
   ]
  },
  {
   "metadata": {},
   "cell_type": "code",
   "source": [
    "# Selected Instruments to Plot\n",
    "instruments = [\n",
    "  ['CP02PMCI','WFP01','04-FLORTK000','recovered_wfp','flort_sample', 'ctdpf_ckl_wfp_instrument_recovered-ctdpf_ckl_seawater_temperature','fluorometric_chlorophyll_a','int_ctd_pressure'],\n",
    "  ['CP02PMCO','WFP01','04-FLORTK000','recovered_wfp','flort_sample', 'ctdpf_ckl_wfp_instrument_recovered-ctdpf_ckl_seawater_temperature','fluorometric_chlorophyll_a','int_ctd_pressure'],\n",
    "  ['CP04OSPM','WFP01','04-FLORTK000','recovered_wfp','flort_sample', 'ctdpf_ckl_wfp_instrument_recovered-ctdpf_ckl_seawater_temperature','fluorometric_chlorophyll_a','int_ctd_pressure'],\n",
    "]"
   ],
   "execution_count": null,
   "outputs": []
  },
  {
   "metadata": {},
   "cell_type": "code",
   "source": [
    "# Specify additional parameters for the API request \n",
    "params = {\n",
    "  'beginDT':'2015-05-01T00:00:00.000Z',\n",
    "  'endDT':'2016-05-01T00:00:00.000Z',\n",
    "  'limit':20000,   \n",
    "}"
   ],
   "execution_count": null,
   "outputs": []
  },
  {
   "metadata": {},
   "cell_type": "markdown",
   "source": [
    "Importing the data synchronously as a json file. This means that the data is decimated. Not concerned because I am looking for seasonal patterns, not finer scale.\n",
    "\n",
    "Though it could be interesting/useful to download netcdf (asynchronous) later to look at certain features on finer scale. "
   ]
  },
  {
   "metadata": {},
   "cell_type": "code",
   "source": [
    "# Grab the data for each instrument\n",
    "out1 = []\n",
    "for jj in range(len(instruments)):\n",
    "  data_request_url ='/'.join((DATA_API_BASE_URL,instruments[jj][0],instruments[jj][1],instruments[jj][2],instruments[jj][3],instruments[jj][4]))\n",
    "  r = requests.get(data_request_url, params=params, auth=(USERNAME, TOKEN))\n",
    "  print(r)\n",
    "  data = r.json()\n",
    "  print(instruments[jj]) \n",
    "  print(len(data))\n",
    "  time = []\n",
    "  temp = []\n",
    "  flort = []\n",
    "  pressure = []\n",
    "  for i in range(len(data)):\n",
    "    time.append(ntp_seconds_to_datetime(data[i]['time']))\n",
    "    temp.append(data[i][instruments[jj][5]])\n",
    "    flort.append(data[i][instruments[jj][6]])\n",
    "    pressure.append(data[i][instruments[jj][7]])\n",
    "  out1.append({'time':time,'temp':temp,'flort':flort,'pressure':pressure});"
   ],
   "execution_count": null,
   "outputs": []
  },
  {
   "metadata": {},
   "cell_type": "code",
   "source": [
    "data[0] # look at the first value"
   ],
   "execution_count": null,
   "outputs": []
  },
  {
   "metadata": {},
   "cell_type": "markdown",
   "source": [
    "Plot temperature data across the shelf-break.\n"
   ]
  },
  {
   "metadata": {},
   "cell_type": "code",
   "source": [
    "# set up uniform colorbar for all 3 profilers. \n",
    "min_t = min(out1[0]['temp'] + out1[1]['temp'] + out1[2]['temp'])\n",
    "max_t = max(out1[0]['temp'] + out1[1]['temp'] + out1[2]['temp'])\n",
    "print(min_t, max_t)\n"
   ],
   "execution_count": null,
   "outputs": []
  },
  {
   "metadata": {},
   "cell_type": "code",
   "source": [
    "fig,axs = plt.subplots(3, sharex=True, sharey=False, figsize=(8,10))\n",
    "\n",
    "t0 = axs[0].scatter(out1[0]['time'], out1[0]['pressure'],c=out1[0]['temp'], cmap='RdYlBu_r', s=10, vmin=min_t, vmax=max_t)\n",
    "t1 = axs[1].scatter(out1[1]['time'], out1[1]['pressure'],c=out1[1]['temp'], cmap='RdYlBu_r', s=10, vmin=min_t, vmax=max_t)\n",
    "t2 = axs[2].scatter(out1[2]['time'], out1[2]['pressure'],c=out1[2]['temp'], cmap='RdYlBu_r', s=10, vmin=min_t, vmax=max_t)\n",
    "# vmax and vmin set the colorbar range\n",
    "  \n",
    "plt.xlim(datetime.date(2015,5,1),datetime.date(2016,5,1))\n",
    "plt.xticks(rotation=30)\n",
    "\n",
    "axs[0].invert_yaxis()\n",
    "axs[1].invert_yaxis()\n",
    "axs[2].invert_yaxis()\n",
    "\n",
    "cbar = fig.colorbar(t0, ax=axs[0], orientation='vertical')\n",
    "cbar.ax.set_ylabel('Temperature')\n",
    "cbar = fig.colorbar(t1, ax=axs[1], orientation='vertical')\n",
    "cbar.ax.set_ylabel('Temperature')\n",
    "cbar = fig.colorbar(t2, ax=axs[2], orientation='vertical')\n",
    "cbar.ax.set_ylabel('Temperature')\n",
    "\n",
    "axs[0].set_ylabel('Pressure (dbar)')\n",
    "axs[1].set_ylabel('Pressure (dbar)')\n",
    "axs[2].set_ylabel('Pressure (dbar)')\n",
    "\n",
    "axs[0].set_title('Central Inshore Profiler (CP0PMCI)')\n",
    "axs[1].set_title('Central Offshore Profiler (CP02PMCO)')\n",
    "axs[2].set_title('Offshore Profiler (CP04OSPM)')\n",
    "\n",
    "fig.subplots_adjust(top=0.9)"
   ],
   "execution_count": null,
   "outputs": []
  },
  {
   "metadata": {},
   "cell_type": "markdown",
   "source": [
    "We can see that the offshore profiler was stuck at the bottom for a period. This is noted in the annotations. \n",
    "\n",
    "The offshore profiler is in water that is not as well mixed surface to bottom as the shallower, more inshore profilers. So it makes sense that there is a stronger gradient in temperature with depth. "
   ]
  },
  {
   "metadata": {},
   "cell_type": "markdown",
   "source": [
    "Now let's look at the chlorophyll-a data across the shelf-break.\n"
   ]
  },
  {
   "metadata": {},
   "cell_type": "code",
   "source": [
    "# set uniform colorbars.\n",
    "min_f = min(out1[0]['flort'] + out1[1]['flort'] + out1[2]['flort'])\n",
    "max_f = max(out1[0]['flort'] + out1[1]['flort'] + out1[2]['flort'])\n",
    "print(min_f, max_f)\n"
   ],
   "execution_count": null,
   "outputs": []
  },
  {
   "metadata": {},
   "cell_type": "code",
   "source": [
    "fig,axs = plt.subplots(3, sharex=True, sharey=False, figsize=(8,10))\n",
    "\n",
    "f0 = axs[0].scatter(out1[0]['time'], out1[0]['pressure'],c=out1[0]['flort'], cmap='GnBu', s=10, vmin=min_f, vmax=max_f)\n",
    "f1 = axs[1].scatter(out1[1]['time'], out1[1]['pressure'],c=out1[1]['flort'], cmap='GnBu', s=10, vmin=min_f, vmax=max_f)\n",
    "f2 = axs[2].scatter(out1[2]['time'], out1[2]['pressure'],c=out1[2]['flort'], cmap='GnBu', s=10, vmin=min_f, vmax=max_f)\n",
    "# vmax and vmin set the colorbar range\n",
    "  \n",
    "plt.xlim(datetime.date(2015,5,1),datetime.date(2016,5,1))\n",
    "plt.xticks(rotation=30)\n",
    "\n",
    "axs[0].invert_yaxis()\n",
    "axs[1].invert_yaxis()\n",
    "axs[2].invert_yaxis()\n",
    "\n",
    "cbar = fig.colorbar(f0, ax=axs[0], orientation='vertical')\n",
    "cbar.ax.set_ylabel('Chlorophyll-a')\n",
    "cbar = fig.colorbar(f1, ax=axs[1], orientation='vertical')\n",
    "cbar.ax.set_ylabel('Chlorophyll-a')\n",
    "cbar = fig.colorbar(f2, ax=axs[2], orientation='vertical')\n",
    "cbar.ax.set_ylabel('Chlorophyll-a')\n",
    "\n",
    "axs[0].set_ylabel('Pressure (dbar)')\n",
    "axs[1].set_ylabel('Pressure (dbar)')\n",
    "axs[2].set_ylabel('Pressure (dbar)')\n",
    "\n",
    "axs[0].set_title('Central Inshore Profiler (CP0PMCI)')\n",
    "axs[1].set_title('Central Offshore Profiler (CP02PMCO)')\n",
    "axs[2].set_title('Offshore Profiler (CP04OSPM)')\n",
    "\n",
    "fig.subplots_adjust(top=0.9)"
   ],
   "execution_count": null,
   "outputs": []
  },
  {
   "metadata": {},
   "cell_type": "markdown",
   "source": [
    "The chlorophyll data is neat because we can see blooms in the fall and winter. The fall bloom appears to start at the more inshore profiler and propagate offshore? Unfortunate that the Offshore profiler was sitting at the bottom so we cannot look for the bloom moving offshore. \n",
    "\n",
    "The winter bloom shows up strongly at the offshore sensor. Maybe we could see it inshore if looked later in 2016?"
   ]
  },
  {
   "metadata": {},
   "cell_type": "markdown",
   "source": [
    "## Central Offshore and Offshore Profilers. January 2016 to October 2016\n",
    "\n",
    "It is unforuntate that all 3 moorings do not equally sample during the winter and spring blooms. In this next part, I will focus first on the spring bloom. See what I can dig up.\n",
    "\n",
    "Also drop the Central Inshore Profiler. It does not sample the new time period well."
   ]
  },
  {
   "metadata": {},
   "cell_type": "code",
   "source": [
    "# Selected Instruments to Plot\n",
    "instruments = [\n",
    "#   ['CP02PMCI','WFP01','04-FLORTK000','recovered_wfp','flort_sample', 'ctdpf_ckl_wfp_instrument_recovered-ctdpf_ckl_seawater_temperature','fluorometric_chlorophyll_a','int_ctd_pressure'], # Central Inshore\n",
    "  ['CP02PMCO','WFP01','04-FLORTK000','recovered_wfp','flort_sample', 'ctdpf_ckl_wfp_instrument_recovered-ctdpf_ckl_seawater_temperature','fluorometric_chlorophyll_a','int_ctd_pressure'], # Central Offshore\n",
    "  ['CP04OSPM','WFP01','04-FLORTK000','recovered_wfp','flort_sample', 'ctdpf_ckl_wfp_instrument_recovered-ctdpf_ckl_seawater_temperature','fluorometric_chlorophyll_a','int_ctd_pressure'], # Offshore\n",
    "]"
   ],
   "execution_count": null,
   "outputs": []
  },
  {
   "metadata": {},
   "cell_type": "code",
   "source": [
    "# New time period. Smaller time period.\n",
    "params = {\n",
    "  'beginDT':'2016-01-01T00:00:00.000Z',\n",
    "  'endDT':'2016-10-01T00:00:00.000Z',\n",
    "  'limit':20000,   \n",
    "}"
   ],
   "execution_count": null,
   "outputs": []
  },
  {
   "metadata": {},
   "cell_type": "code",
   "source": [
    "# Grab the data for each instrument\n",
    "out = []\n",
    "for jj in range(len(instruments)):\n",
    "  data_request_url ='/'.join((DATA_API_BASE_URL,instruments[jj][0],instruments[jj][1],instruments[jj][2],instruments[jj][3],instruments[jj][4]))\n",
    "  r = requests.get(data_request_url, params=params, auth=(USERNAME, TOKEN))\n",
    "  print(r)\n",
    "  data = r.json()\n",
    "  print(instruments[jj]) \n",
    "  print(len(data))\n",
    "  time = []\n",
    "  temp = []\n",
    "  flort = []\n",
    "  pressure = []\n",
    "  for i in range(len(data)):\n",
    "    time.append(ntp_seconds_to_datetime(data[i]['time']))\n",
    "    temp.append(data[i][instruments[jj][5]])\n",
    "    flort.append(data[i][instruments[jj][6]])\n",
    "    pressure.append(data[i][instruments[jj][7]])\n",
    "  out.append({'time':time,'temp':temp,'flort':flort,'pressure':pressure});"
   ],
   "execution_count": null,
   "outputs": []
  },
  {
   "metadata": {},
   "cell_type": "code",
   "source": [
    "type(out[1]['temp']) # what type of object is temperature? list"
   ],
   "execution_count": null,
   "outputs": []
  },
  {
   "metadata": {},
   "cell_type": "code",
   "source": [
    "# set uniform cbar ranges for chla and temperature\n",
    "# \n",
    "min_f = min(out[0]['flort'] + out[1]['flort'])\n",
    "max_f = max(out[0]['flort'] + out[1]['flort'])\n",
    "print(min_f, max_f)\n",
    "\n",
    "min_t = min(out[0]['temp'] + out[1]['temp'])\n",
    "max_t = max(out[0]['temp'] + out[1]['temp'])\n",
    "print(min_t, max_t)"
   ],
   "execution_count": null,
   "outputs": []
  },
  {
   "metadata": {},
   "cell_type": "code",
   "source": [
    "fig,axs = plt.subplots(4, sharex=True, sharey=False, figsize=(8,10))\n",
    "\n",
    "f1 = axs[0].scatter(out[0]['time'], out[0]['pressure'],c=out[0]['flort'], cmap='GnBu', s=10, vmin=min_f, vmax=max_f) \n",
    "t1 = axs[1].scatter(out[0]['time'], out[0]['pressure'],c=out[0]['temp'], cmap='RdYlBu_r', s=10, vmin=min_t, vmax=max_t)\n",
    "f2 = axs[2].scatter(out[1]['time'], out[1]['pressure'],c=out[1]['flort'], cmap='GnBu', s=10, vmin=min_f, vmax=max_f)\n",
    "t2 = axs[3].scatter(out[1]['time'], out[1]['pressure'],c=out[1]['temp'], cmap='RdYlBu_r', s=10, vmin=min_t, vmax=max_t)\n",
    "# vmax and vmin set the colorbar range\n",
    "  \n",
    "plt.xlim(datetime.date(2016,2,1),datetime.date(2016,10,1))\n",
    "plt.xticks(rotation=30)\n",
    "\n",
    "axs[0].invert_yaxis()\n",
    "axs[1].invert_yaxis()\n",
    "axs[2].invert_yaxis()\n",
    "axs[3].invert_yaxis()\n",
    "\n",
    "cbar = fig.colorbar(f1, ax=axs[0], orientation='vertical')\n",
    "cbar.ax.set_ylabel('Chlorphyll-a')\n",
    "cbar = fig.colorbar(f2, ax=axs[2], orientation='vertical')\n",
    "cbar.ax.set_ylabel('Chlorphyll-a')\n",
    "cbar = fig.colorbar(t1, ax=axs[1], orientation='vertical')\n",
    "cbar.ax.set_ylabel('Temperature')\n",
    "cbar = fig.colorbar(t2, ax=axs[3], orientation='vertical')\n",
    "cbar.ax.set_ylabel('Temperature')\n",
    "\n",
    "axs[0].set_ylabel('Pressure (dbar)')\n",
    "axs[1].set_ylabel('Pressure (dbar)')\n",
    "axs[2].set_ylabel('Pressure (dbar)')\n",
    "axs[3].set_ylabel('Pressure (dbar)')\n",
    "\n",
    "axs[0].set_title('Central Offshore Profiler (CP02PMCO)')\n",
    "# axs[1].set_title('Central Offshore Profiler (CP02PMCO)')\n",
    "axs[2].set_title('Offshore Profiler (CP04OSPM)')\n",
    "\n",
    "# fig.suptitle('chlorophyll-a across MAB shelf-break')\n",
    "fig.subplots_adjust(top=0.9)"
   ],
   "execution_count": null,
   "outputs": []
  },
  {
   "metadata": {},
   "cell_type": "markdown",
   "source": [
    "The Offshore profiler was stuck at the surface for a while. This is noted in the annotations. But we can see later in the year at the Central Offshore Profiler. It looks like the winter bloom occured at both profilers at about the same time but the bloom was more pronounced at the Offshore profiler. \n",
    "\n",
    "Similar to in 2015, we see a strong fall bloom at the Central Offshore Profiler."
   ]
  },
  {
   "metadata": {},
   "cell_type": "markdown",
   "source": [
    "## Central Inshore and Central Offshore Profilers. October 2016 - October 2017\n",
    "\n",
    "Now looking at Central Inshore and Central Offshore profilers for a later time period because both profilers seemed fairly consistent here. \n",
    "\n",
    "Note that these two profilers are closer together than the Offshore Profiler.  \n",
    "\n"
   ]
  },
  {
   "metadata": {},
   "cell_type": "code",
   "source": [
    "# Selected Instruments to Plot\n",
    "instruments = [\n",
    "  ['CP02PMCI','WFP01','04-FLORTK000','recovered_wfp','flort_sample', 'ctdpf_ckl_wfp_instrument_recovered-ctdpf_ckl_seawater_temperature','fluorometric_chlorophyll_a','int_ctd_pressure'], # Central Inshore\n",
    "  ['CP02PMCO','WFP01','04-FLORTK000','recovered_wfp','flort_sample', 'ctdpf_ckl_wfp_instrument_recovered-ctdpf_ckl_seawater_temperature','fluorometric_chlorophyll_a','int_ctd_pressure'], # Central Offshore\n",
    "#   ['CP04OSPM','WFP01','04-FLORTK000','recovered_wfp','flort_sample', 'ctdpf_ckl_wfp_instrument_recovered-ctdpf_ckl_seawater_temperature','fluorometric_chlorophyll_a','int_ctd_pressure'], # Offshore\n",
    "]"
   ],
   "execution_count": null,
   "outputs": []
  },
  {
   "metadata": {},
   "cell_type": "code",
   "source": [
    "params = {\n",
    "  'beginDT':'2016-10-01T00:00:00.000Z',\n",
    "  'endDT':'2017-10-01T00:00:00.000Z',\n",
    "  'limit':20000,   \n",
    "}"
   ],
   "execution_count": null,
   "outputs": []
  },
  {
   "metadata": {},
   "cell_type": "code",
   "source": [
    "# Grab the data for each instrument\n",
    "out = []\n",
    "for jj in range(len(instruments)):\n",
    "  data_request_url ='/'.join((DATA_API_BASE_URL,instruments[jj][0],instruments[jj][1],instruments[jj][2],instruments[jj][3],instruments[jj][4]))\n",
    "  r = requests.get(data_request_url, params=params, auth=(USERNAME, TOKEN))\n",
    "  print(r)\n",
    "  data = r.json()\n",
    "  print(instruments[jj]) \n",
    "  print(len(data))\n",
    "  time = []\n",
    "  temp = []\n",
    "  flort = []\n",
    "  pressure = []\n",
    "  for i in range(len(data)):\n",
    "    time.append(ntp_seconds_to_datetime(data[i]['time']))\n",
    "    temp.append(data[i][instruments[jj][5]])\n",
    "    flort.append(data[i][instruments[jj][6]])\n",
    "    pressure.append(data[i][instruments[jj][7]])\n",
    "  out.append({'time':time,'temp':temp,'flort':flort,'pressure':pressure});"
   ],
   "execution_count": null,
   "outputs": []
  },
  {
   "metadata": {},
   "cell_type": "code",
   "source": [
    "len(out[0]['temp'] + out[1]['temp']) # checking how much the json pulled"
   ],
   "execution_count": null,
   "outputs": []
  },
  {
   "metadata": {},
   "cell_type": "code",
   "source": [
    "# set uniform cbar ranges for chla and temperature\n",
    "min_f = min(out[0]['flort'] + out[1]['flort'])\n",
    "max_f = max(out[0]['flort'] + out[1]['flort'])\n",
    "print(min_f, max_f)\n",
    "\n",
    "min_t = min(out[0]['temp'] + out[1]['temp'])\n",
    "max_t = max(out[0]['temp'] + out[1]['temp'])\n",
    "print(min_t, max_t)"
   ],
   "execution_count": null,
   "outputs": []
  },
  {
   "metadata": {},
   "cell_type": "code",
   "source": [
    "fig,axs = plt.subplots(4, sharex=True, sharey=False, figsize=(8,10))\n",
    "\n",
    "f1 = axs[0].scatter(out[0]['time'], out[0]['pressure'],c=out[0]['flort'], cmap='GnBu', s=10, vmin=min_f, vmax=max_f) \n",
    "t1 = axs[1].scatter(out[0]['time'], out[0]['pressure'],c=out[0]['temp'], cmap='RdYlBu_r', s=10, vmin=min_t, vmax=max_t)\n",
    "f2 = axs[2].scatter(out[1]['time'], out[1]['pressure'],c=out[1]['flort'], cmap='GnBu', s=10, vmin=min_f, vmax=max_f)\n",
    "t2 = axs[3].scatter(out[1]['time'], out[1]['pressure'],c=out[1]['temp'], cmap='RdYlBu_r', s=10, vmin=min_t, vmax=max_t)\n",
    "# vmax and vmin set the colorbar range\n",
    "  \n",
    "plt.xlim(datetime.date(2016,10,1),datetime.date(2017,10,1))\n",
    "plt.xticks(rotation=30)\n",
    "\n",
    "axs[0].invert_yaxis()\n",
    "axs[1].invert_yaxis()\n",
    "axs[2].invert_yaxis()\n",
    "axs[3].invert_yaxis()\n",
    "\n",
    "cbar = fig.colorbar(f1, ax=axs[0], orientation='vertical')\n",
    "cbar.ax.set_ylabel('Chlorphyll-a')\n",
    "cbar = fig.colorbar(f2, ax=axs[2], orientation='vertical')\n",
    "cbar.ax.set_ylabel('Chlorphyll-a')\n",
    "cbar = fig.colorbar(t1, ax=axs[1], orientation='vertical')\n",
    "cbar.ax.set_ylabel('Temperature')\n",
    "cbar = fig.colorbar(t2, ax=axs[3], orientation='vertical')\n",
    "cbar.ax.set_ylabel('Temperature')\n",
    "\n",
    "axs[0].set_ylabel('Pressure (dbar)')\n",
    "axs[1].set_ylabel('Pressure (dbar)')\n",
    "axs[2].set_ylabel('Pressure (dbar)')\n",
    "axs[3].set_ylabel('Pressure (dbar)')\n",
    "\n",
    "axs[0].set_title('Central Inshore Profiler (CP0PMCI)')\n",
    "axs[2].set_title('Central Offshore Profiler (CP02PMCO)')\n",
    "\n",
    "# fig.suptitle('chlorophyll-a across MAB shelf-break')\n",
    "fig.subplots_adjust(top=0.9)"
   ],
   "execution_count": null,
   "outputs": []
  },
  {
   "metadata": {},
   "cell_type": "markdown",
   "source": [
    "The Central Inshore profiler was stuck at the bottom for the latter part of 2017. This is noted in the annotations. \n",
    "\n",
    "The 2 profilers show similar temperature and chlorophyll-a trends. Not surprising since they are close together. \n",
    "\n",
    "A small winter phytoplankton bloom is detected first at the Central Inshore Profiler and then at the Central Offshore profiler. So the bloom is propagating off the shelf.\n",
    "\n",
    "The water also looks well-mixed. Makes sense. \n",
    "\n",
    "Weird that we see such warm temperatures extending into October at the Central Offshore profiler? But it does also correspond with the beginnings of a phytoplankton bloom. And Fall 2017 was unusually warm..."
   ]
  },
  {
   "metadata": {},
   "cell_type": "markdown",
   "source": [
    "### Zooming in. November 2016 to March 2017.\n",
    "\n",
    "Hoping to see more interesting things when looking at a shorter time period. "
   ]
  },
  {
   "metadata": {},
   "cell_type": "code",
   "source": [
    "# did not change the instruments I am using so don't need to reset that part. \n",
    "#\n",
    "# Trying to pull more fine resoltuion data synchronously. \n",
    "params = {\n",
    "  'beginDT':'2016-11-01T00:00:00.000Z',\n",
    "  'endDT':'2017-03-01T00:00:00.000Z',\n",
    "  'limit':20000,   \n",
    "}"
   ],
   "execution_count": null,
   "outputs": []
  },
  {
   "metadata": {},
   "cell_type": "code",
   "source": [
    "# Grab the data for each instrument\n",
    "out = []\n",
    "for jj in range(len(instruments)):\n",
    "  data_request_url ='/'.join((DATA_API_BASE_URL,instruments[jj][0],instruments[jj][1],instruments[jj][2],instruments[jj][3],instruments[jj][4]))\n",
    "  r = requests.get(data_request_url, params=params, auth=(USERNAME, TOKEN))\n",
    "  print(r)\n",
    "  data = r.json()\n",
    "  print(instruments[jj]) \n",
    "  print(len(data))\n",
    "  time = []\n",
    "  temp = []\n",
    "  flort = []\n",
    "  pressure = []\n",
    "  for i in range(len(data)):\n",
    "    time.append(ntp_seconds_to_datetime(data[i]['time']))\n",
    "    temp.append(data[i][instruments[jj][5]])\n",
    "    flort.append(data[i][instruments[jj][6]])\n",
    "    pressure.append(data[i][instruments[jj][7]])\n",
    "  out.append({'time':time,'temp':temp,'flort':flort,'pressure':pressure});"
   ],
   "execution_count": null,
   "outputs": []
  },
  {
   "metadata": {},
   "cell_type": "code",
   "source": [
    "len(out[0]['temp'] + out[1]['temp'])"
   ],
   "execution_count": null,
   "outputs": []
  },
  {
   "metadata": {},
   "cell_type": "markdown",
   "source": [
    "pulled less data this time. But the sampling resolution for the wire-following flourometer is every 4 seconds. So we should be able to get more? Maybe better to use asynchronous data pull in the future but for this excercise I want to get a cursory look at shelf-break dynamics. "
   ]
  },
  {
   "metadata": {},
   "cell_type": "code",
   "source": [
    "# set uniform cbar ranges for chla and temperature\n",
    "min_f = min(out[0]['flort'] + out[1]['flort'])\n",
    "max_f = max(out[0]['flort'] + out[1]['flort'])\n",
    "print(min_f, max_f)\n",
    "\n",
    "min_t = min(out[0]['temp'] + out[1]['temp'])\n",
    "max_t = max(out[0]['temp'] + out[1]['temp'])\n",
    "print(min_t, max_t)"
   ],
   "execution_count": null,
   "outputs": []
  },
  {
   "metadata": {},
   "cell_type": "code",
   "source": [
    "fig,axs = plt.subplots(4, sharex=True, sharey=False, figsize=(8,10))\n",
    "\n",
    "f1 = axs[0].scatter(out[0]['time'], out[0]['pressure'],c=out[0]['flort'], cmap='GnBu', s=10, vmin=min_f, vmax=max_f) \n",
    "t1 = axs[1].scatter(out[0]['time'], out[0]['pressure'],c=out[0]['temp'], cmap='RdYlBu_r', s=10, vmin=min_t, vmax=max_t)\n",
    "f2 = axs[2].scatter(out[1]['time'], out[1]['pressure'],c=out[1]['flort'], cmap='GnBu', s=10, vmin=min_f, vmax=max_f)\n",
    "t2 = axs[3].scatter(out[1]['time'], out[1]['pressure'],c=out[1]['temp'], cmap='RdYlBu_r', s=10, vmin=min_t, vmax=max_t)\n",
    "# vmax and vmin set the colorbar range\n",
    "  \n",
    "plt.xlim(datetime.date(2016,11,1),datetime.date(2017,3,1))\n",
    "plt.xticks(rotation=30)\n",
    "\n",
    "axs[0].invert_yaxis()\n",
    "axs[1].invert_yaxis()\n",
    "axs[2].invert_yaxis()\n",
    "axs[3].invert_yaxis()\n",
    "\n",
    "cbar = fig.colorbar(f1, ax=axs[0], orientation='vertical')\n",
    "cbar.ax.set_ylabel('Chlorphyll-a')\n",
    "cbar = fig.colorbar(f2, ax=axs[2], orientation='vertical')\n",
    "cbar.ax.set_ylabel('Chlorphyll-a')\n",
    "cbar = fig.colorbar(t1, ax=axs[1], orientation='vertical')\n",
    "cbar.ax.set_ylabel('Temperature')\n",
    "cbar = fig.colorbar(t2, ax=axs[3], orientation='vertical')\n",
    "cbar.ax.set_ylabel('Temperature')\n",
    "\n",
    "axs[0].set_ylabel('Pressure (dbar)')\n",
    "axs[1].set_ylabel('Pressure (dbar)')\n",
    "axs[2].set_ylabel('Pressure (dbar)')\n",
    "axs[3].set_ylabel('Pressure (dbar)')\n",
    "\n",
    "axs[0].set_title('Central Inshore Profiler (CP0PMCI)')\n",
    "axs[2].set_title('Central Offshore Profiler (CP02PMCO)')\n",
    "\n",
    "# fig.suptitle('chlorophyll-a across MAB shelf-break')\n",
    "fig.subplots_adjust(top=0.9)"
   ],
   "execution_count": null,
   "outputs": []
  },
  {
   "metadata": {},
   "cell_type": "markdown",
   "source": [
    "This looks much better. There are no major gaps during this time period.\n",
    "\n",
    "The lag between Central Inshore and Central Offshore is much more obvious now. \n",
    "\n",
    "At the end of December 2016, there is a spike in phytoplankton that also corresponds with a small spike in temperature. Maybe worth looking into what other factors were at play during that time? "
   ]
  },
  {
   "metadata": {},
   "cell_type": "markdown",
   "source": [
    "# Along-front sensors.\n"
   ]
  },
  {
   "metadata": {},
   "cell_type": "markdown",
   "source": [
    "## Offshore Profiler and Upstream Offshore Profiler. October 2016 - November 2016.\n",
    "\n",
    "The Pioneer array is also set up with platforms to detect along-shelf processes. There is a frontal jet that flows equatorward along the shelf-break. I wanted to look at the 2 upstream profilers (Upstream Inshore and Upstream Offshore) relative to their downstream equivilents (Inshore and Offshore Profilers). But the Inshore profiler is already known to not have the data I want so I stuck with just the Offshore and Upstream Offshore Profilers. Even then, the profilers did not align well. Lots of periods where the profiler was stuck at the surface. \n",
    "\n",
    "Offshore Profiler --> Upstream Offshore Profiler"
   ]
  },
  {
   "metadata": {},
   "cell_type": "code",
   "source": [
    "# Selected Instruments to Plot\n",
    "instruments = [\n",
    "#   ['CP03ISSM','RID27','02-FLORTD000','telemetered','flort_sample', 'ctdpf_ckl_wfp_instrument_recovered-ctdpf_ckl_seawater_temperature','fluorometric_chlorophyll_a','int_ctd_pressure'], # Inshore\n",
    "#   ['CP02PMUI','WFP01','04-FLORTK000','recovered_wfp','flort_sample', 'ctdpf_ckl_wfp_instrument_recovered-ctdpf_ckl_seawater_temperature','fluorometric_chlorophyll_a','int_ctd_pressure'], # Upstream Inshore\n",
    "  ['CP04OSPM','WFP01','04-FLORTK000','recovered_wfp','flort_sample', 'ctdpf_ckl_wfp_instrument_recovered-ctdpf_ckl_seawater_temperature','fluorometric_chlorophyll_a','int_ctd_pressure'], # Offshore\n",
    "  ['CP02PMUO','WFP01','04-FLORTK000','recovered_wfp','flort_sample', 'ctdpf_ckl_wfp_instrument_recovered-ctdpf_ckl_seawater_temperature','fluorometric_chlorophyll_a','int_ctd_pressure'], # Upstream Offshore\n",
    "]"
   ],
   "execution_count": null,
   "outputs": []
  },
  {
   "metadata": {},
   "cell_type": "code",
   "source": [
    "# Additional API parameters. \n",
    "params = {\n",
    "  'beginDT':'2016-10-01T00:00:00.000Z',\n",
    "  'endDT':'2016-11-01T00:00:00.000Z',\n",
    "  'limit':10000,   # for some reason this wouldn't work when I set the sampling to 20,000\n",
    "}"
   ],
   "execution_count": null,
   "outputs": []
  },
  {
   "metadata": {},
   "cell_type": "code",
   "source": [
    "# Grab the data for each instrument\n",
    "out_jet = []\n",
    "for jj in range(len(instruments)):\n",
    "  data_request_url ='/'.join((DATA_API_BASE_URL,instruments[jj][0],instruments[jj][1],instruments[jj][2],instruments[jj][3],instruments[jj][4]))\n",
    "  r = requests.get(data_request_url, params=params, auth=(USERNAME, TOKEN))\n",
    "  print(r)\n",
    "  data = r.json()\n",
    "  print(instruments[jj]) \n",
    "  print(len(data))\n",
    "  time = []\n",
    "  temp = []\n",
    "  flort = []\n",
    "  pressure = []\n",
    "  for i in range(len(data)):\n",
    "    time.append(ntp_seconds_to_datetime(data[i]['time']))\n",
    "    temp.append(data[i][instruments[jj][5]])\n",
    "    flort.append(data[i][instruments[jj][6]])\n",
    "    pressure.append(data[i][instruments[jj][7]])\n",
    "  out_jet.append({'time':time,'temp':temp,'flort':flort,'pressure':pressure});"
   ],
   "execution_count": null,
   "outputs": []
  },
  {
   "metadata": {},
   "cell_type": "code",
   "source": [
    "# set uniform cbar ranges for chla and temperature\n",
    "# \n",
    "min_f = min(out_jet[0]['flort'] + out_jet[1]['flort'])\n",
    "max_f = max(out_jet[0]['flort'] + out_jet[1]['flort'])\n",
    "print(min_f, max_f)\n",
    "\n",
    "min_t = min(out_jet[0]['temp'] + out_jet[1]['temp'])\n",
    "max_t = max(out_jet[0]['temp'] + out_jet[1]['temp'])\n",
    "print(min_t, max_t)"
   ],
   "execution_count": null,
   "outputs": []
  },
  {
   "metadata": {},
   "cell_type": "code",
   "source": [
    "fig,axs = plt.subplots(4, sharex=True, sharey=False, figsize=(8,10))\n",
    "\n",
    "f1 = axs[0].scatter(out_jet[0]['time'], out_jet[0]['pressure'],c=out_jet[0]['flort'], cmap='GnBu', s=10, vmin=min_f, vmax=max_f) \n",
    "t1 = axs[1].scatter(out_jet[0]['time'], out_jet[0]['pressure'],c=out_jet[0]['temp'], cmap='RdYlBu_r', s=10, vmin=min_t, vmax=max_t)\n",
    "f2 = axs[2].scatter(out_jet[1]['time'], out_jet[1]['pressure'],c=out_jet[1]['flort'], cmap='GnBu', s=10, vmin=min_f, vmax=max_f)\n",
    "t2 = axs[3].scatter(out_jet[1]['time'], out_jet[1]['pressure'],c=out_jet[1]['temp'], cmap='RdYlBu_r', s=10, vmin=min_t, vmax=max_t)\n",
    "# vmax and vmin set the colorbar range\n",
    "  \n",
    "plt.xlim(datetime.date(2016,10,1),datetime.date(2016,11,1))\n",
    "plt.xticks(rotation=30)\n",
    "\n",
    "axs[0].invert_yaxis()\n",
    "axs[1].invert_yaxis()\n",
    "axs[2].invert_yaxis()\n",
    "axs[3].invert_yaxis()\n",
    "\n",
    "cbar = fig.colorbar(f1, ax=axs[0], orientation='vertical')\n",
    "cbar.ax.set_ylabel('Chlorphyll-a')\n",
    "cbar = fig.colorbar(f2, ax=axs[2], orientation='vertical')\n",
    "cbar.ax.set_ylabel('Chlorphyll-a')\n",
    "cbar = fig.colorbar(t1, ax=axs[1], orientation='vertical')\n",
    "cbar.ax.set_ylabel('Temperature')\n",
    "cbar = fig.colorbar(t2, ax=axs[3], orientation='vertical')\n",
    "cbar.ax.set_ylabel('Temperature')\n",
    "\n",
    "axs[0].set_ylabel('Pressure (dbar)')\n",
    "axs[1].set_ylabel('Pressure (dbar)')\n",
    "axs[2].set_ylabel('Pressure (dbar)')\n",
    "axs[3].set_ylabel('Pressure (dbar)')\n",
    "\n",
    "axs[0].set_title('Offshore Profiler (CP04OSPM)')\n",
    "axs[2].set_title('Upstream Offshore Profiler (CP02PMUO)')\n",
    "\n",
    "# fig.suptitle('chlorophyll-a across MAB shelf-break')\n",
    "fig.subplots_adjust(top=0.9)"
   ],
   "execution_count": null,
   "outputs": []
  },
  {
   "metadata": {},
   "cell_type": "markdown",
   "source": [
    "It looks like these profilers had different sampling settings?  Not clear from the Observation and Sampling approach PDF and not noted in the Data Portal annotations. Should pull complete data asynchronously to check.\n",
    "\n",
    "Will take some more digging to find decent overlapping periods between the along-front sensors. \n",
    "\n",
    "\n",
    "Likely next steps:\n",
    "- Look at shorter time periods. 3-4 months max.\n",
    "- Pull data asynchronously to try and get more data points. Not totally clear on why json works better for some requests than others. \n",
    "- pay attention to annotations about the profiler being stuck at the surface/bottom when selecting time periods"
   ]
  }
 ]
}
