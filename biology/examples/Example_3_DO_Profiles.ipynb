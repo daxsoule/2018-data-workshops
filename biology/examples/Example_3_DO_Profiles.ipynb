{
 "nbformat": 4,
 "nbformat_minor": 0,
 "metadata": {
  "colab": {
   "name": "Example 3 - DO Profiles.ipynb",
   "version": "0.3.2",
   "views": {},
   "default_view": {},
   "provenance": [],
   "toc_visible": true
  },
  "kernelspec": {
   "display_name": "ooi",
   "language": "python",
   "name": "ooi"
  }
 },
 "cells": [
  {
   "metadata": {},
   "cell_type": "markdown",
   "source": [
    "# Example 3 - Plotting DO Profiles (and more) from NetCDF data files\n",
    "*Written by Sage Lichtenwalner, Rutgers University, June 7, 2018, with help from Friedrich Knuth*\n",
    "\n",
    "In this example we show how to programmatically download and plot colored depth profilers using OOI NetCDF data. We will use data from the Cabled Array [Oregon Slope Base Shallow Profiler Mooring](http://oceanobservatories.org/site/RS01SBPS/) Shallow Profiler CTD. \n",
    "\n",
    "For the instrument in this example, we will need the Reference Designator, data delivery method and stream name to make the request to the M2M API, which we can grab from the following page...\n",
    "http://ooi.visualocean.net/instruments/view/RS01SBPS-SF01A-2A-CTDPFA102\n",
    "\n",
    "*Keep in mind, in this example we are using a cabled CTD, which is a high resolution instrument.  Therefore, we probably don't want to grab too much data at once while using Google Colab.  It can take a while to load or process plots for even a month of data.*"
   ]
  },
  {
   "metadata": {},
   "cell_type": "markdown",
   "source": [
    "## Requesting and loading data\n",
    "\n",
    "As in the previous examples, first we need to make a request tp generate the files from the OOI Data Portal using the API."
   ]
  },
  {
   "metadata": {},
   "cell_type": "code",
   "source": [
    "USERNAME = 'YOUR API USERNAME'\n",
    "TOKEN =  'YOUR API TOKEN'"
   ],
   "execution_count": null,
   "outputs": []
  },
  {
   "metadata": {},
   "cell_type": "code",
   "source": [
    "# First, we need to add some more Python libraries\n",
    "import requests"
   ],
   "execution_count": null,
   "outputs": []
  },
  {
   "metadata": {},
   "cell_type": "code",
   "source": [
    "# Instrument Information\n",
    "site = 'RS01SBPS'\n",
    "node = 'SF01A'\n",
    "instrument = '2A-CTDPFA102'\n",
    "method = 'streamed'\n",
    "stream = 'ctdpf_sbe43_sample'\n",
    "\n",
    "# API base url\n",
    "SENSOR_BASE_URL = 'https://ooinet.oceanobservatories.org/api/m2m/12576/sensor/inv/'\n",
    "\n",
    "# Create the full request URL\n",
    "data_request_url ='/'.join((SENSOR_BASE_URL,site,node,instrument,method,stream))\n",
    "\n",
    "# All of the following are optional\n",
    "params = {\n",
    "  'beginDT':'2016-10-25T00:00:00.000Z',\n",
    "  'endDT':'2016-11-01T01:00:00.000Z',\n",
    "  'format':'application/netcdf',\n",
    "  'include_provenance':'true',\n",
    "  'include_annotations':'true'\n",
    "}"
   ],
   "execution_count": null,
   "outputs": []
  },
  {
   "metadata": {},
   "cell_type": "markdown",
   "source": [
    "Now let's send the request.  (Note, these lines are commented out, to prevent accidental resubmission when running through the entire notebook quickly.)"
   ]
  },
  {
   "metadata": {},
   "cell_type": "code",
   "source": [
    "# r = requests.get(data_request_url, params=params, auth=(USERNAME, TOKEN))\n",
    "# data = r.json()\n",
    "# print(data['allURLs'][0])"
   ],
   "execution_count": null,
   "outputs": []
  },
  {
   "metadata": {},
   "cell_type": "markdown",
   "source": [
    "Now that we have generated the request, let's save the THREDDS url so we can run this notebook again later without having to make a new request.  (If you forget to do this, you can always get the url from the email sent by the system.)"
   ]
  },
  {
   "metadata": {},
   "cell_type": "code",
   "source": [
    "# 2016-10-25\n",
    "url ='https://opendap.oceanobservatories.org/thredds/catalog/ooi/ooidatateam@gmail.com/20180608T174056-RS01SBPS-SF01A-2A-CTDPFA102-streamed-ctdpf_sbe43_sample/catalog.html'\n"
   ],
   "execution_count": null,
   "outputs": []
  },
  {
   "metadata": {},
   "cell_type": "markdown",
   "source": [
    "Remember, we can't proceed with the rest of this notebook until the data files have been generated successfully.  We can use the following code to make sure the data is ready."
   ]
  },
  {
   "metadata": {},
   "cell_type": "code",
   "source": [
    "# import time\n",
    "# %time\n",
    "# check_complete = data['allURLs'][1] + '/status.txt'\n",
    "# for i in range(1800): \n",
    "#     r = requests.get(check_complete)\n",
    "#     if r.status_code == requests.codes.ok:\n",
    "#         print('request completed')\n",
    "#         break\n",
    "#     else:\n",
    "#         time.sleep(1)"
   ],
   "execution_count": null,
   "outputs": []
  },
  {
   "metadata": {},
   "cell_type": "markdown",
   "source": [
    "## Profile Timeseries Plot"
   ]
  },
  {
   "metadata": {},
   "cell_type": "markdown",
   "source": [
    "First we need to find the available data files in the web directory created as part of our request."
   ]
  },
  {
   "metadata": {},
   "cell_type": "code",
   "source": [
    "import re\n",
    "import os"
   ],
   "execution_count": null,
   "outputs": []
  },
  {
   "metadata": {},
   "cell_type": "markdown",
   "source": [
    "To do this, we will parse the THREDDS server to get a list of all of the available NetCDF files. \n",
    "\n",
    "Remember, each deployment is separated into a separate file, but if you request a small time period, there may only be one file.  By finding all files available, we can concatenate them all together if desired."
   ]
  },
  {
   "metadata": {},
   "cell_type": "code",
   "source": [
    "tds_url = 'https://opendap.oceanobservatories.org/thredds/dodsC'\n",
    "datasets = requests.get(url).text\n",
    "urls = re.findall(r'href=[\\'\"]?([^\\'\" >]+)', datasets)\n",
    "x = re.findall(r'(ooi/.*?.nc)', datasets)\n",
    "for i in x:\n",
    "    if i.endswith('.nc') == False:\n",
    "        x.remove(i)\n",
    "for i in x:\n",
    "    try:\n",
    "        float(i[-4])\n",
    "    except:\n",
    "        x.remove(i)\n",
    "datasets = [os.path.join(tds_url, i) for i in x]\n",
    "datasets"
   ],
   "execution_count": null,
   "outputs": []
  },
  {
   "metadata": {},
   "cell_type": "markdown",
   "source": [
    "Next we can load all files into a single [dataset](http://xarray.pydata.org/en/stable/data-structures.html#dataset) using xarray."
   ]
  },
  {
   "metadata": {},
   "cell_type": "code",
   "source": [
    "!pip install netcdf4\n",
    "!pip install dask\n",
    "!pip install xarray\n",
    "import xarray as xr\n"
   ],
   "execution_count": null,
   "outputs": []
  },
  {
   "metadata": {},
   "cell_type": "code",
   "source": [
    "# Load the data files\n",
    "ds = xr.open_mfdataset(datasets)"
   ],
   "execution_count": null,
   "outputs": []
  },
  {
   "metadata": {},
   "cell_type": "code",
   "source": [
    "# By default, OOI datasets use the 'obs' variable as the index, but time is more convenient\n",
    "ds = ds.swap_dims({'obs': 'time'}) \n",
    "\n",
    "# Sort the data\n",
    "ds = ds.sortby('time'); \n",
    "\n",
    "# Optional, this is used to optimize data processing\n",
    "ds = ds.chunk({'time': 100}) \n",
    "\n",
    "ds"
   ],
   "execution_count": null,
   "outputs": []
  },
  {
   "metadata": {},
   "cell_type": "markdown",
   "source": [
    "And now we can plot the results.  Let's start by creating a scatterplot of Temperature."
   ]
  },
  {
   "metadata": {},
   "cell_type": "code",
   "source": [
    "import matplotlib.pyplot as plt"
   ],
   "execution_count": null,
   "outputs": []
  },
  {
   "metadata": {},
   "cell_type": "code",
   "source": [
    "# Extract the values\n",
    "dtime = ds['time'].values\n",
    "pressure = ds['seawater_pressure'].values\n",
    "temperature = ds['seawater_temperature'].values\n",
    "salinity = ds['practical_salinity'].values\n",
    "oxygen = ds['corrected_dissolved_oxygen'].values"
   ],
   "execution_count": null,
   "outputs": []
  },
  {
   "metadata": {},
   "cell_type": "code",
   "source": [
    "# Scatterplot of Temperature\n",
    "fig,ax1 = plt.subplots(1,1,figsize=(16,4))\n",
    "sc1 = ax1.scatter(dtime, pressure, c=temperature, cmap='RdYlBu_r') # Add s=2 to set the markersize\n",
    "ax1.invert_yaxis() # Invert y axis\n",
    "ax1.set_xlim(dtime[0],dtime[-1]) # Set the time limits to match the dataset\n",
    "cbar = fig.colorbar(sc1, ax=ax1, orientation='vertical')\n",
    "cbar.ax.set_ylabel('Temperature ($^\\circ$C)')\n",
    "ax1.set_ylabel('Pressure (dbar)')\n",
    "ax1.set_title('RS01SBPS-SF01A-2A-CTDPFA102');"
   ],
   "execution_count": null,
   "outputs": []
  },
  {
   "metadata": {},
   "cell_type": "markdown",
   "source": [
    "Now, let's plot Salinity and Oxygen as well."
   ]
  },
  {
   "metadata": {},
   "cell_type": "code",
   "source": [
    "# Scatterplots of Salinity and Oxygen\n",
    "fig, (ax1,ax2) = plt.subplots(2,1, sharex=True, sharey=True, figsize=(16,8))\n",
    "sc1 = ax1.scatter(dtime, pressure, c=salinity, cmap='GnBu') \n",
    "sc2 = ax2.scatter(dtime, pressure, c=oxygen, cmap='Blues')\n",
    "\n",
    "# Because the X and Y axes are shared, we only have to set limits once\n",
    "ax1.invert_yaxis() # Invert y axis\n",
    "ax1.set_xlim(dtime[0],dtime[-1]) # Set the time limits to match the dataset\n",
    "\n",
    "cbar = fig.colorbar(sc1, ax=ax1, orientation='vertical')\n",
    "cbar.ax.set_ylabel('Salinity')\n",
    "\n",
    "cbar = fig.colorbar(sc2, ax=ax2, orientation='vertical')\n",
    "cbar.ax.set_ylabel('Oxygen (%s)' % ds['corrected_dissolved_oxygen'].units) # Let's grab the units attribute\n",
    "\n",
    "ax1.set_ylabel('Pressure (dbar)')\n",
    "ax2.set_ylabel('Pressure (dbar)')\n",
    "\n",
    "fig.suptitle('RS01SBPS-SF01A-2A-CTDPFA102')\n",
    "fig.subplots_adjust(top=0.95);\n"
   ],
   "execution_count": null,
   "outputs": []
  },
  {
   "metadata": {},
   "cell_type": "markdown",
   "source": [
    "## Changing Colormaps\n",
    "\n",
    "While there are a lot of [Matplotlib colormaps](https://matplotlib.org/users/colormaps.html) to choose, if you want to try something different - and potentially more relevant - check out [cmocean](https://matplotlib.org/cmocean/), which provides a bunch of colormaps specifically designed for oceanographic variables.\n",
    "\n",
    "Let's remake the above plots with the cmocean suggested colormaps."
   ]
  },
  {
   "metadata": {},
   "cell_type": "code",
   "source": [
    "!pip install cmocean\n",
    "import cmocean"
   ],
   "execution_count": null,
   "outputs": []
  },
  {
   "metadata": {},
   "cell_type": "code",
   "source": [
    "#Temperature, Salinity & Oxygen\n",
    "fig, (ax1,ax2,ax3) = plt.subplots(3,1, sharex=True, sharey=True, figsize=(16,12))\n",
    "sc1 = ax1.scatter(dtime, pressure, c=temperature, cmap=cmocean.cm.thermal) \n",
    "sc2 = ax2.scatter(dtime, pressure, c=salinity, cmap=cmocean.cm.haline) \n",
    "sc3 = ax3.scatter(dtime, pressure, c=oxygen, cmap=cmocean.cm.oxy)\n",
    "\n",
    "# Because the X and Y axes are shared, we only have to set limits once\n",
    "ax1.invert_yaxis() # Invert y axis\n",
    "ax1.set_xlim(dtime[0],dtime[-1]) # Set the time limits to match the dataset\n",
    "\n",
    "# Add the colorbars\n",
    "cbar = fig.colorbar(sc1, ax=ax1, orientation='vertical')\n",
    "cbar.ax.set_ylabel('Temperature ($^\\circ$C)')\n",
    "cbar = fig.colorbar(sc2, ax=ax2, orientation='vertical')\n",
    "cbar.ax.set_ylabel('Salinity')\n",
    "cbar = fig.colorbar(sc3, ax=ax3, orientation='vertical')\n",
    "cbar.ax.set_ylabel('Oxygen (%s)' % ds['corrected_dissolved_oxygen'].units)\n",
    "cbar.update_ticks()\n",
    "cbar.formatter.set_useOffset(False)\n",
    "\n",
    "# Add labels & titles\n",
    "ax1.set_ylabel('Pressure (dbar)')\n",
    "ax2.set_ylabel('Pressure (dbar)')\n",
    "ax3.set_ylabel('Pressure (dbar)')\n",
    "\n",
    "fig.suptitle('Cabled Array Oregon Slope Base Shallow Profiler Mooring Shallow Profiler CTD')\n",
    "fig.subplots_adjust(top=0.95);\n"
   ],
   "execution_count": null,
   "outputs": []
  },
  {
   "metadata": {},
   "cell_type": "markdown",
   "source": [
    "Note, you can add vmin/vmax to the `plt.scatter()` command to set the colorbar range.  When using the cmocean DO colorscale, a good limit might be 0 to 300, which would make 20% of the color map that is red cover the range between 0-60, roughly the range for hypoxic conditions.\n",
    "\n",
    "If you change the color axis limits, you should also add `extend='both'` to make it clear that data values in the dataset go beyond the range shown in the color scale."
   ]
  },
  {
   "metadata": {},
   "cell_type": "markdown",
   "source": [
    "## Subsetting the dataset\n",
    "\n",
    "xarray provides a number of ways to [subset a dataset](http://xarray.pydata.org/en/stable/indexing.html).\n",
    "\n",
    "Because our dataset has time as a dimension, we can use the `sel()` method to extract a specific time range."
   ]
  },
  {
   "metadata": {},
   "cell_type": "code",
   "source": [
    "a = ds.sel(time=slice('2016-10-26', '2016-10-27'))\n",
    "a"
   ],
   "execution_count": null,
   "outputs": []
  },
  {
   "metadata": {},
   "cell_type": "code",
   "source": [
    "print(ds.time.size)\n",
    "print(a.time.size)"
   ],
   "execution_count": null,
   "outputs": []
  },
  {
   "metadata": {},
   "cell_type": "code",
   "source": [
    "# A quickplot\n",
    "a['seawater_pressure'].plot();"
   ],
   "execution_count": null,
   "outputs": []
  },
  {
   "metadata": {},
   "cell_type": "markdown",
   "source": [
    "Note how this extracted data for both October 26th and 27th.  It basically included any times within the specified date range, inclusive.  If we want to be more restrictive, we can specify a full date/time string.\n",
    "\n",
    "We can also subset the dataset along other parameter ranges using the `where()` method."
   ]
  },
  {
   "metadata": {},
   "cell_type": "code",
   "source": [
    "# Extract time range from ds\n",
    "ds1 = ds.sel(time=slice('2016-10-26 04:45:00', '2016-10-26 06:45:00'))\n",
    "# Also extract depth range from new a dataset\n",
    "ds1 = ds.where((ds1.seawater_pressure>=100) & (ds1.seawater_pressure<=180), drop=True)\n",
    "\n",
    "p = ds1['seawater_pressure'].plot(marker='.', linestyle='None')\n",
    "# plt.xlim(ds1['time'][0].values,ds1['time'][-1].values);\n",
    "plt.xlim('2016-10-26 04:45:00','2016-10-26 06:45:00');"
   ],
   "execution_count": null,
   "outputs": []
  },
  {
   "metadata": {},
   "cell_type": "markdown",
   "source": [
    "## Vertical Profile Plots\n",
    "\n",
    "Now that we know how to extract a profile (or more) from the dataset, let's create some vertical profile plots."
   ]
  },
  {
   "metadata": {},
   "cell_type": "code",
   "source": [
    "# Extract a full up/down cast\n",
    "ds2 = ds.sel(time=slice('2016-10-26 04:45:00', '2016-10-26 06:45:00'))\n",
    "\n",
    "# Check the result\n",
    "p = ds2['seawater_pressure'].plot(marker='.', linestyle='None')\n",
    "plt.xlim(ds2['time'][0].values,ds2['time'][-1].values);"
   ],
   "execution_count": null,
   "outputs": []
  },
  {
   "metadata": {},
   "cell_type": "code",
   "source": [
    "# Now let's create some profile plots\n",
    "fig, (ax1,ax2,ax3) = plt.subplots(1, 3, sharey=True)\n",
    "\n",
    "ax1.plot(ds2.seawater_temperature, ds2.seawater_pressure, 'b.', markersize=3)\n",
    "ax2.plot(ds2.practical_salinity, ds2.seawater_pressure, 'b.', markersize=3)\n",
    "ax3.plot(ds2.corrected_dissolved_oxygen, ds2.seawater_pressure, 'b.', markersize=3)\n",
    "\n",
    "ax1.set_xlabel('Temperature ($^\\circ$C)')\n",
    "ax2.set_xlabel('Salinity')\n",
    "ax3.set_xlabel('Oxygen (%s)' % ds['corrected_dissolved_oxygen'].units)\n",
    "ax1.set_ylabel('Pressure (dbar)')\n",
    "\n",
    "ax1.invert_yaxis()\n",
    "# ax1.set_ylim(475,0)\n",
    "\n",
    "fig.suptitle('Oregon Slope Base Shallow Profiler CTD')\n",
    "fig.subplots_adjust(top=0.92);"
   ],
   "execution_count": null,
   "outputs": []
  },
  {
   "metadata": {},
   "cell_type": "markdown",
   "source": [
    "And with that, we've reach the depths of this introduction... but we've really just scratched the surface of how to use xarray and matplotlib in Python.\n",
    "\n",
    "Happy coding!"
   ]
  }
 ]
}
