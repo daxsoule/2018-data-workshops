{
 "cells": [
  {
   "cell_type": "markdown",
   "metadata": {},
   "source": [
    "# Video Frame Access\n",
    "\n",
    "Original Author: Tim Crone  \n",
    "Adapted from https://github.com/tjcrone/rte-camhd/blob/master/tim/image_sliders.ipynb  \n",
    "    \n",
    "Example of using widgets to interact with frame grabs from the OOI HD video camera at ASHES Hydrothermal Vent. There are over 100 TB of video data captured on the raw archive to date. This notebook provides access to frames within each video file, directly over the web and without the need to download a local copy. This technique opens the door to [rapid image analysis](https://github.com/tjcrone/rte-camhd/blob/master/tim/floc.ipynb) and scientific discovery. "
   ]
  },
  {
   "cell_type": "markdown",
   "metadata": {},
   "source": [
    "#### Import your libraries and set up the environment"
   ]
  },
  {
   "cell_type": "code",
   "execution_count": null,
   "metadata": {},
   "outputs": [],
   "source": [
    "%matplotlib inline\n",
    "%config InlineBackend.figure_format = 'svg'\n",
    "import pycamhd as camhd\n",
    "import numpy as np\n",
    "import pandas as pd\n",
    "import matplotlib.pyplot as plt"
   ]
  },
  {
   "cell_type": "markdown",
   "metadata": {},
   "source": [
    "#### Get a list of remote CamHD files to process"
   ]
  },
  {
   "cell_type": "code",
   "execution_count": null,
   "metadata": {},
   "outputs": [],
   "source": [
    "db_url = 'https://raw.githubusercontent.com/tjcrone/rte-camhd/master/tim/dbcamhd.json'\n",
    "dbcamhd = pd.read_json(db_url, orient=\"records\", lines=True)\n",
    "dbcamhd.tail()"
   ]
  },
  {
   "cell_type": "code",
   "execution_count": null,
   "metadata": {},
   "outputs": [],
   "source": [
    "print(\"Total files: %i\" % len(dbcamhd))\n",
    "print(\"Total frames: %i\" % dbcamhd.frame_count.sum())"
   ]
  },
  {
   "cell_type": "code",
   "execution_count": null,
   "metadata": {},
   "outputs": [],
   "source": [
    "filenames = list(dbcamhd.filename[(dbcamhd.deployment == 2) & (dbcamhd.frame_count > 5000) & (dbcamhd.frame_count < 30000)])\n",
    "filenames.sort()\n",
    "filenames[0]"
   ]
  },
  {
   "cell_type": "markdown",
   "metadata": {},
   "source": [
    "#### Set up plotting function"
   ]
  },
  {
   "cell_type": "code",
   "execution_count": null,
   "metadata": {},
   "outputs": [],
   "source": [
    "def show_image(file_number, frame_number):\n",
    "    filename = filenames[file_number]\n",
    "    plt.rc('figure', figsize=(10, 5))\n",
    "    plt.rcParams.update({'font.size': 8})\n",
    "    frame = camhd.get_frame(filename, frame_number, 'rgb24')\n",
    "    fig, ax = plt.subplots();\n",
    "    im1 = ax.imshow(frame);\n",
    "    plt.yticks(np.arange(0,1081,270))\n",
    "    plt.xticks(np.arange(0,1921,480))\n",
    "    plt.title('%s %s' % (filename[84:], frame_number));"
   ]
  },
  {
   "cell_type": "markdown",
   "metadata": {},
   "source": [
    "#### Interact using ipywidgets"
   ]
  },
  {
   "cell_type": "code",
   "execution_count": null,
   "metadata": {},
   "outputs": [],
   "source": [
    "from ipywidgets import interact\n",
    "from ipywidgets import IntSlider\n",
    "file_slider = IntSlider(min=0, max=len(filenames)-1, step=1, value=0, continuous_update=False)\n",
    "frame_slider = IntSlider(min=0, max=camhd.get_frame_count(filenames[0]), step=1, value=0, continuous_update=False)\n",
    "\n",
    "def update_range(*args):\n",
    "    frame_slider.max = camhd.get_frame_count(filenames[file_slider.value])-1\n",
    "    if frame_slider.value > frame_slider.max:\n",
    "        frame_slider.value = frame_slider.max\n",
    "file_slider.observe(update_range, 'value')\n",
    "\n",
    "interact(show_image, file_number=file_slider, frame_number=frame_slider);"
   ]
  },
  {
   "cell_type": "markdown",
   "metadata": {},
   "source": [
    "### References  \n",
    "- [PyCamHD](https://github.com/tjcrone/pycamhd)  \n",
    "- [CamHD Raw Data Archive](https://rawdata.oceanobservatories.org/files/RS03ASHS/PN03B/06-CAMHDA301)  \n",
    "- [ipywidgets](https://ipywidgets.readthedocs.io/en/latest/)  "
   ]
  },
  {
   "cell_type": "code",
   "execution_count": null,
   "metadata": {},
   "outputs": [],
   "source": []
  }
 ],
 "metadata": {
  "kernelspec": {
   "display_name": "Python 3",
   "language": "python",
   "name": "python3"
  },
  "language_info": {
   "codemirror_mode": {
    "name": "ipython",
    "version": 3
   },
   "file_extension": ".py",
   "mimetype": "text/x-python",
   "name": "python",
   "nbconvert_exporter": "python",
   "pygments_lexer": "ipython3",
   "version": "3.6.5"
  }
 },
 "nbformat": 4,
 "nbformat_minor": 2
}
