{
 "cells": [
  {
   "cell_type": "markdown",
   "metadata": {},
   "source": [
    "# OOI Cruise Data Comparison\n",
    "*Revised by Sage Lichtenwalner, Rutgers University, June 6, 2018*\n",
    "\n",
    "*Revised by Lori Garzio (to work with Pangeo), Rutgers University, July 5, 2018*\n",
    "\n",
    "In this example, we will compare the CTD data from the Pioneer Upstream Offshore Profiler Mooring and that taken from a shipboard cast durig a cruise.\n",
    "\n",
    "In general, most OOI deployment and recovery cruises include CTD casts and water samples as part of their operational procedures (as well as some [other measurements](http://oceanobservatories.org/operations-plan/cruise-data-types/)).  Ideally, a CTD cast is taken before a mooring is removed and when the replacement mooring is deployed.  \n",
    "\n",
    "CTD casts typically include the following variables:\n",
    "* Temperature\n",
    "* Salinity (conductivity)\n",
    "* Pressure (depth)\n",
    "* Oxygen\n",
    "* Fluorescence\n",
    "* Turbidity\n",
    "* PAR/irradiance\n",
    "\n",
    "Additionally, water samples are often taken at a few depths during many casts.  These are sent to various labs for processing, and include measurements on:\n",
    "* Carbon: DIC, total alkalinity, pH\n",
    "* Chlorophyll-a Fluorescence\n",
    "* Nutrients: PO4, NO3, NO2, SIOH4, NH4\n",
    "* Salinity \n",
    "* Dissolved Oxygen\n",
    "\n",
    "All data collected during cruises is posted in the [OOI Cruise Data Archive](http://oceanobservatories.org/cruise-data/).  The archive isn't necessarily easy to navigate, but each cruise data directory includes a start date which can be used when searching for data from a specific deployment time range.  The Quick Look reports for each cruise describe when and where each CTD cast was taken, and whether water samples were also taken.  If you're looking for a cast near a specific mooring, this is a good place to check.  These reports also detail when moorings and gliders were recovered and deployed, along with any other notable events that occurred.  It may also be helpful to check out the lookup sheet created by the OOI Data Team that cross references each mooring deployment with a relevant cruise CTD cast.  (This is not yet publicly available.)\n",
    "\n",
    "For this example, we will focus on CP02PMUO.  Because this is an offshore profiler, it has a larger depth range than some of the other coastal sites.  Plus, because it is in the Mid-Atlantic, we should see a clear 2-layer system, especially in the summer.\n",
    "\n",
    "As it turns out, looking through the cruise reports for the Pioneer 9 cruise, we discovered that early in Leg 1 ([see report](https://alfresco.oceanobservatories.org/alfresco/d/d/workspace/SpacesStore/90e26d09-ca90-4998-b24c-ad724bc714ff/3204-00902_Quick_Look_Cruise_Report_Coastal_Pioneer_9_Leg_1_2017-10-25_Ver_1-00.pdf)), a CTD cast was taken near this mooring on 2017-10-24 2027 UTC.  We will use this cast for our comparison."
   ]
  },
  {
   "cell_type": "markdown",
   "metadata": {},
   "source": [
    "# Cruise CTD"
   ]
  },
  {
   "cell_type": "markdown",
   "metadata": {},
   "source": [
    "I found the relevant CTD data file by navigating to the following directory in the Cruise Data archive.\n",
    "\n",
    "OOI > Coastal Pioneer Array > Cruise Data > Pioneer-09_AR-24_2017-10-22 > Ship Data > Leg 1 (AR24a) > ctd > process\n",
    "\n",
    "This directory includes all of the processed data files from the CTD.  The files are named according to the cruise (ar24) and cast number (011). \n",
    "\n",
    "Here are the available files for this cast:\n",
    "* ar24011.asc - The ascii data file\n",
    "* ar24011.btl - Information on the depths bottle sample were taken (if any)\n",
    "* ar24011.cnv - The full dataset, basically the header combined with the ascii data file\n",
    "* ar24011.hdr - The header file that describes each column in detail as well as other configuration information\n",
    "* ar24011.jpg - A quickplot image\n",
    "* ar24011.ros \n",
    "* AR24011.XMLCON \n",
    "\n",
    "These actually contain the data from both the downcast and the upcast.  For just the downcast, we could use the files beginning with \"dar24\", and likewise for the upcast, the files beginning with \"uar24'.\n"
   ]
  },
  {
   "cell_type": "code",
   "execution_count": null,
   "metadata": {},
   "outputs": [],
   "source": [
    "# Downcast Only\n",
    "# data_file = 'https://alfresco.oceanobservatories.org/alfresco/d/d/workspace/SpacesStore/ef3f532b-7570-43d9-b016-6b58c4429b15/dar24011.asc'\n",
    "\n",
    "# Down and Up Casts\n",
    "data_file = 'https://alfresco.oceanobservatories.org/alfresco/d/d/workspace/SpacesStore/0ddd2680-e35d-46bc-ac1a-d350da4f409d/ar24011.asc'"
   ]
  },
  {
   "cell_type": "markdown",
   "metadata": {},
   "source": [
    "First, let's load in the CTD .asc data file directly from the Cruise Data portal (aka Alfresco).  \n",
    "\n",
    "As it turns out, two of the header names run together so we can't automatically load the file without issues. \n",
    "\n",
    "For now we'll skip the header by specifying header=None and skip-rows=1, and then we'll manually specify the names for the columns we need.  \n",
    "\n",
    "You can check the .hdr file to see which column is which.  The variables, particularly Salinity, are not always in the same column throughout the Cruise Data archive.\n"
   ]
  },
  {
   "cell_type": "code",
   "execution_count": null,
   "metadata": {},
   "outputs": [],
   "source": [
    "# Load needed Python libraries\n",
    "import pandas as pd\n",
    "import matplotlib.pyplot as plt \n",
    "import seaborn as sns # package for nice plotting defaults\n",
    "sns.set()"
   ]
  },
  {
   "cell_type": "code",
   "execution_count": null,
   "metadata": {},
   "outputs": [],
   "source": [
    "# Load in the cruise data file, without the header names\n",
    "cruise_data = pd.read_table(data_file, delim_whitespace=True, header=None, skiprows=1)\n",
    "\n",
    "# Instead let's specify the column names for just the ones we need.  \n",
    "cruise_data = cruise_data.rename( columns={ 0:'Pressure', 1:'Temperature', 13:'Salinity' } )\n",
    "\n",
    "# Let's show a snippet of what we have.\n",
    "cruise_data[0:5]"
   ]
  },
  {
   "cell_type": "code",
   "execution_count": null,
   "metadata": {},
   "outputs": [],
   "source": [
    "# Time to make some plots\n",
    "fig, (ax1, ax2) = plt.subplots(1, 2, sharey=True, figsize=(10, 7))\n",
    "\n",
    "ax1.plot(cruise_data.Temperature,cruise_data.Pressure,'-')\n",
    "\n",
    "ax1.invert_yaxis() # Flip the y-axis so deeper waters are on the bottom\n",
    "ax1.set_xlabel('Temperature (C)')\n",
    "ax1.set_ylabel('Pressure (db)')\n",
    "\n",
    "ax2.plot(cruise_data.Salinity,cruise_data.Pressure,'-')\n",
    "ax2.set_xlabel('Salinity (psu)')\n",
    "\n",
    "fig.suptitle('Pioneer 9, Leg 1, Cast 11, 2017-10-24')\n",
    "fig.subplots_adjust(top=0.95);"
   ]
  },
  {
   "cell_type": "markdown",
   "metadata": {},
   "source": [
    "And here is the quickplot of the same data from the cruise.  The temperature (in green) and salinity (in blue) appear to match what we have above. Yipee!\n",
    "\n",
    "![Cruise Image](https://alfresco.oceanobservatories.org/alfresco/d/d/workspace/SpacesStore/77219b33-3e84-441c-8c44-9a702773874b/dar24011.jpg =650x)"
   ]
  },
  {
   "cell_type": "markdown",
   "metadata": {},
   "source": [
    "# Pioneer Upstream Offshore Profiler\n",
    "Now, let's grab some data from the profiler from the same day as the CTD cast, October 24, 2017."
   ]
  },
  {
   "cell_type": "code",
   "execution_count": null,
   "metadata": {},
   "outputs": [],
   "source": [
    "# First, we need to add some more Python libraries\n",
    "import requests\n",
    "import datetime"
   ]
  },
  {
   "cell_type": "markdown",
   "metadata": {},
   "source": [
    "Next, let's specify some variables we need to request the data via the API"
   ]
  },
  {
   "cell_type": "code",
   "execution_count": null,
   "metadata": {},
   "outputs": [],
   "source": [
    "# API Information\n",
    "USERNAME = ''\n",
    "TOKEN = ''\n",
    "API_BASE_URL = 'https://ooinet.oceanobservatories.org/api/m2m/12576/sensor/inv/'"
   ]
  },
  {
   "cell_type": "code",
   "execution_count": null,
   "metadata": {},
   "outputs": [],
   "source": [
    "# Instrument Information\n",
    "site = 'CP02PMUO'\n",
    "node = 'WFP01'\n",
    "instrument = '03-CTDPFK000'\n",
    "method = 'telemetered'\n",
    "stream = 'ctdpf_ckl_wfp_instrument'\n",
    "\n",
    "data_request_url ='/'.join((API_BASE_URL,site,node,instrument,method,stream))\n",
    "\n",
    "params = {\n",
    "  'beginDT':'2017-10-24T00:00:00.000Z',\n",
    "  'endDT':'2017-10-25T00:00:00.000Z',\n",
    "  'limit':1000,   \n",
    "}"
   ]
  },
  {
   "cell_type": "markdown",
   "metadata": {},
   "source": [
    "Note, that we used beginDT and endDT in the params array to limit the request to just one day.  \n",
    "\n",
    "We also specified \"limit\" to restrict the returned dataset to approximately 1,000 data points.  We could set this as high as 20,000, but for anything beyond that, we would need to request data asynchronously (i.e. we would need to download a netcdf file).\n",
    "\n",
    "Now, let's grab the data and process the result (which is returned as a JSON array) into something we can use."
   ]
  },
  {
   "cell_type": "code",
   "execution_count": null,
   "metadata": {},
   "outputs": [],
   "source": [
    "# Grab the data\n",
    "r = requests.get(data_request_url, params=params, auth=(USERNAME, TOKEN))\n",
    "data = r.json()"
   ]
  },
  {
   "cell_type": "code",
   "execution_count": null,
   "metadata": {},
   "outputs": [],
   "source": [
    "# Time Processing Routines \n",
    "ntp_epoch = datetime.datetime(1900, 1, 1)\n",
    "unix_epoch = datetime.datetime(1970, 1, 1)\n",
    "ntp_delta = (unix_epoch - ntp_epoch).total_seconds()\n",
    "\n",
    "def ntp_seconds_to_datetime(ntp_seconds):\n",
    "    return datetime.datetime.utcfromtimestamp(ntp_seconds - ntp_delta).replace(microsecond=0)"
   ]
  },
  {
   "cell_type": "code",
   "execution_count": null,
   "metadata": {},
   "outputs": [],
   "source": [
    "# Process the data\n",
    "p_time = []\n",
    "p_temp = []\n",
    "p_sal = []\n",
    "p_pr = []\n",
    "for i in range(len(data)):\n",
    "  p_time.append(ntp_seconds_to_datetime(data[i]['time']))\n",
    "  p_temp.append(data[i]['ctdpf_ckl_seawater_temperature'])\n",
    "  p_sal.append(data[i]['practical_salinity'])\n",
    "  p_pr.append(data[i]['ctdpf_ckl_seawater_pressure'])"
   ]
  },
  {
   "cell_type": "markdown",
   "metadata": {},
   "source": [
    "### Time for some more plots!"
   ]
  },
  {
   "cell_type": "code",
   "execution_count": null,
   "metadata": {},
   "outputs": [],
   "source": [
    "# First, let's make a timeseries of pressure\n",
    "fig, ax = plt.subplots(figsize=(10, 7))\n",
    "plt.plot_date(p_time,p_pr,'r.')\n",
    "plt.gca().invert_yaxis()\n",
    "plt.xlabel('Time')\n",
    "plt.ylabel('Pressure (db)')\n",
    "plt.title('Pressure data from CP02PMUO');"
   ]
  },
  {
   "cell_type": "code",
   "execution_count": null,
   "metadata": {},
   "outputs": [],
   "source": [
    "# Next, let's create some profile plots of Temperature and Salinity# Next,  \n",
    "fig, (ax1, ax2) = plt.subplots(1, 2, sharey=True, figsize=(10, 7))\n",
    "\n",
    "ax1.plot(p_temp,p_pr,'r.')\n",
    "ax1.invert_yaxis()\n",
    "ax1.set_xlabel('Temperature (C)')\n",
    "ax1.set_ylabel('Pressure (dm)')\n",
    "\n",
    "ax2.plot(p_sal,p_pr,'r.')\n",
    "ax2.set_xlabel('Salinity (psu)')\n",
    "\n",
    "fig.suptitle('CTD data from CP02PMUO')\n",
    "fig.subplots_adjust(top=0.95);"
   ]
  },
  {
   "cell_type": "markdown",
   "metadata": {},
   "source": [
    "# Comparing the Two\n",
    "\n",
    "Now let's plot the Cruise CTD Cast and the Profiler CTD data together."
   ]
  },
  {
   "cell_type": "code",
   "execution_count": null,
   "metadata": {},
   "outputs": [],
   "source": [
    "# One plot to rule them all\n",
    "fig, (ax1, ax2) = plt.subplots(1, 2, sharey=True, figsize=(10, 7))\n",
    "\n",
    "ax1.plot(cruise_data.Temperature,cruise_data.Pressure,'b')\n",
    "ax1.plot(p_temp,p_pr,'r.')\n",
    "ax1.set_xlabel('Temperature (C)')\n",
    "ax1.set_ylabel('Pressure (dm)')\n",
    "# ax1.invert_yaxis()\n",
    "ax1.set_ylim(475,0)\n",
    "\n",
    "ax2.plot(cruise_data.Salinity,cruise_data.Pressure,'b',label='Cruise CTD')\n",
    "ax2.plot(p_sal,p_pr,'r.',label='Pioneer Profiler')\n",
    "ax2.set_xlabel('Salinity (psu)')\n",
    "\n",
    "fig.suptitle('CP02PMUO Compared with Shipboard CTD')\n",
    "fig.subplots_adjust(top=0.95)\n",
    "\n",
    "legend = ax2.legend(loc='lower right', shadow=True, fontsize='small')"
   ]
  },
  {
   "cell_type": "markdown",
   "metadata": {},
   "source": [
    "In general, the two match rather well.  Surprisingly, the down and up casts from the Cruise CTD cast match really well (often this isn't the case).  The profiler has quite a bit more variability around the cast, but the aligns pretty well with the shipboard cast.  \n",
    "\n",
    "Of course, the profiler currently includes data from the entire day.  To see if some of the variability might be accounted for by this, we could plot just the profile taken closest to the ship cast time.\n",
    "\n",
    "-By Sage Lichtenwalner, 4/24/18"
   ]
  }
 ],
 "metadata": {
  "colab": {
   "collapsed_sections": [],
   "default_view": {},
   "name": "Cruise Data Comparison.ipynb",
   "provenance": [
    {
     "file_id": "1783o_5T7i9x9viaSGD-5hhSMmhimdOyG",
     "timestamp": 1524594012020
    }
   ],
   "version": "0.3.2",
   "views": {}
  },
  "kernelspec": {
   "display_name": "Python 3",
   "language": "python",
   "name": "python3"
  },
  "language_info": {
   "codemirror_mode": {
    "name": "ipython",
    "version": 3
   },
   "file_extension": ".py",
   "mimetype": "text/x-python",
   "name": "python",
   "nbconvert_exporter": "python",
   "pygments_lexer": "ipython3",
   "version": "3.6.5"
  }
 },
 "nbformat": 4,
 "nbformat_minor": 2
}
