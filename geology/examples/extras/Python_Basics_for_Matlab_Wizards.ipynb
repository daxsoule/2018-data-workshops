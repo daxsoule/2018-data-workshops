{
 "cells": [
  {
   "cell_type": "markdown",
   "metadata": {},
   "source": [
    "# Python Basics for Matlab Wizards\n",
    "*Compiled by Sage Lichtenwalner, Rutgers University, June 5, 2018*\n",
    "\n",
    "*Revised by Lori Garzio (to work with Pangeo), Rutgers University, July 10, 2018*\n",
    "\n",
    "Welcome to Python.  \n",
    "\n",
    "In this example, we will highlight some of the basics of programming in Python, along with some tips and tricks for those more familiar with Matlab.  There are a number of additional resources at the bottom I encourage you to check out.\n",
    "\n",
    "This example was written in Google's Colaboratory environment and was modified to work in a [Pangeo environment](http://pangeo-data.org/), but it could be run in any [Jupyter Notebook](http://jupyter.org) environment.  You can also try these commands directly on the Python command line, though your results may vary.  For more information about Google Colab, check out their [Hello, Colaboratory](https://colab.research.google.com/notebooks/welcome.ipynb) introduction and the [Overview](https://colab.research.google.com/notebooks/basic_features_overview.ipynb)."
   ]
  },
  {
   "cell_type": "markdown",
   "metadata": {},
   "source": [
    "## Some Basics\n",
    "\n",
    "To execute the code in a cell click the **Play** icon on the left, type **Cmd/Ctrl+Enter** to run the cell in place or type **Shift+Enter** to run the cell and move focus to the next cell."
   ]
  },
  {
   "cell_type": "code",
   "execution_count": null,
   "metadata": {},
   "outputs": [],
   "source": [
    "2+2"
   ]
  },
  {
   "cell_type": "code",
   "execution_count": null,
   "metadata": {},
   "outputs": [],
   "source": [
    "# Variable assignment\n",
    "x = 4\n",
    "\n",
    "# What kind of object is this?\n",
    "type(x)"
   ]
  },
  {
   "cell_type": "code",
   "execution_count": null,
   "metadata": {},
   "outputs": [],
   "source": [
    "# Float \n",
    "y = 1.25\n",
    "type(y)"
   ]
  },
  {
   "cell_type": "code",
   "execution_count": null,
   "metadata": {},
   "outputs": [],
   "source": [
    "# String\n",
    "z = 'Python is great'\n",
    "type(z)"
   ]
  },
  {
   "cell_type": "code",
   "execution_count": null,
   "metadata": {},
   "outputs": [],
   "source": [
    "# We can do some basic math\n",
    "print( x + y )\n",
    "print( x/y )"
   ]
  },
  {
   "cell_type": "markdown",
   "metadata": {},
   "source": [
    "**By default the Colab/Jupyter environment will print out the output from the last line** without having to specify the `print` command.  \n",
    "\n",
    "However, if we want to output the result from additional lines (as we did above), we need to use `print` on each line.  Note, Python 3 requires parentheses around the print command, but it is optional in Python 2.\n",
    "\n",
    "Sometimes, we will want to suppress the output from the last line.  To do this, simply add a semi-colon \"`;`\" at the end."
   ]
  },
  {
   "cell_type": "markdown",
   "metadata": {},
   "source": [
    "## Beware of type conflicts\n",
    "\n",
    "Sometimes the result you expect is not what you get.  That's especially the case when mixing object types, like integers and floats, or numbers and strings.  Sometimes there are differences between the Python version you are running.   You can switch Python versions by going to *Runtime -> Change runtime type* in the menu. "
   ]
  },
  {
   "cell_type": "code",
   "execution_count": null,
   "metadata": {},
   "outputs": [],
   "source": [
    "# Dividing two ints results in an int\n",
    "print( 21/3 ) # Two integers\n",
    "print( 23/3 ) # In Python 2 the (incorrect) result is an integer. In Python 3 this works as expected.\n",
    "print( 23.0/3.0 ) # Two floats results in a float"
   ]
  },
  {
   "cell_type": "code",
   "execution_count": null,
   "metadata": {},
   "outputs": [],
   "source": [
    "# You can't concatenate strings and ints\n",
    "print( z + x )"
   ]
  },
  {
   "cell_type": "code",
   "execution_count": null,
   "metadata": {},
   "outputs": [],
   "source": [
    "# But you can multiply them\n",
    "print( z * x )"
   ]
  },
  {
   "cell_type": "code",
   "execution_count": null,
   "metadata": {},
   "outputs": [],
   "source": [
    "# Convert an int into a string\n",
    "print( z + ' ' + str(x) + ' you' )"
   ]
  },
  {
   "cell_type": "code",
   "execution_count": null,
   "metadata": {},
   "outputs": [],
   "source": [
    "# A better way\n",
    "print( 'Python is great %s you' % x )"
   ]
  },
  {
   "cell_type": "markdown",
   "metadata": {},
   "source": [
    "## Fun with Lists"
   ]
  },
  {
   "cell_type": "code",
   "execution_count": null,
   "metadata": {},
   "outputs": [],
   "source": [
    "my_list = [3, 4, 5, 9, 12]"
   ]
  },
  {
   "cell_type": "markdown",
   "metadata": {},
   "source": [
    "Remember, Python uses 0-based indexing, so to grab the first element you use \"0\" and the last element would n-1.  (In Matlab you would use 1 to n.)"
   ]
  },
  {
   "cell_type": "code",
   "execution_count": null,
   "metadata": {},
   "outputs": [],
   "source": [
    "# The fist item\n",
    "my_list[0]"
   ]
  },
  {
   "cell_type": "code",
   "execution_count": null,
   "metadata": {},
   "outputs": [],
   "source": [
    "# The last item\n",
    "my_list[-1]"
   ]
  },
  {
   "cell_type": "code",
   "execution_count": null,
   "metadata": {},
   "outputs": [],
   "source": [
    "# Extract a subset\n",
    "my_list[2:4]"
   ]
  },
  {
   "cell_type": "code",
   "execution_count": null,
   "metadata": {},
   "outputs": [],
   "source": [
    "# Update a value\n",
    "my_list[3] = 99\n",
    "my_list"
   ]
  },
  {
   "cell_type": "code",
   "execution_count": null,
   "metadata": {},
   "outputs": [],
   "source": [
    "# Warning, Python variables are object references and not copies by default\n",
    "my_second_list = my_list\n",
    "print( my_second_list )\n",
    "\n",
    "my_second_list[0] = 66\n",
    "print( my_second_list )\n",
    "print( my_list ) # The first list has been overwritten"
   ]
  },
  {
   "cell_type": "code",
   "execution_count": null,
   "metadata": {},
   "outputs": [],
   "source": [
    "# To avoid this, create a copy of the list, which keeps the original intact\n",
    "my_list = [3, 4, 5, 9, 12]\n",
    "my_second_list = list(my_list) # You can also use copy.copy() or my_list[:]\n",
    "\n",
    "my_second_list[0] = 66\n",
    "print( my_second_list )\n",
    "print( my_list )"
   ]
  },
  {
   "cell_type": "markdown",
   "metadata": {},
   "source": [
    "## Dictionaries"
   ]
  },
  {
   "cell_type": "code",
   "execution_count": null,
   "metadata": {},
   "outputs": [],
   "source": [
    "my_dict = {'temperature': 21, 'salinity':35, 'sensor':'CTD 23'}\n",
    "my_dict"
   ]
  },
  {
   "cell_type": "code",
   "execution_count": null,
   "metadata": {},
   "outputs": [],
   "source": [
    "# Accessing a key/value pair\n",
    "my_dict['sensor']"
   ]
  },
  {
   "cell_type": "code",
   "execution_count": null,
   "metadata": {},
   "outputs": [],
   "source": [
    "# Grab a list of dictionary keys\n",
    "my_dict.keys()"
   ]
  },
  {
   "cell_type": "markdown",
   "metadata": {},
   "source": [
    "## Functions, Conditions and Loops\n",
    "If you're familiar with how to do these in Matlab or R, it's all very similar, just with a different syntax.  Remember, Python uses spaces to group together sub-elements, rather than parentheses, curly braces, or end statements.  Traditionally, you can use 2 or 4 spaces to indent lines."
   ]
  },
  {
   "cell_type": "code",
   "execution_count": null,
   "metadata": {},
   "outputs": [],
   "source": [
    "def my_func(number):\n",
    "  print('Running my_func')\n",
    "  if type(number)==int:\n",
    "    for i in range(number):\n",
    "      print(i)\n",
    "  else:\n",
    "    print(\"Not a number\")\n",
    "\n",
    "my_func(4)\n",
    "my_func('hi')"
   ]
  },
  {
   "cell_type": "markdown",
   "metadata": {},
   "source": [
    "## NumPy\n",
    "NumPy is an essential library for working with scientific data.  It provides an array object that is very similar to Matlab's array functionality, allowing you to perform mathematical calculations or run linear algebra routines."
   ]
  },
  {
   "cell_type": "code",
   "execution_count": null,
   "metadata": {},
   "outputs": [],
   "source": [
    "import numpy as np"
   ]
  },
  {
   "cell_type": "code",
   "execution_count": null,
   "metadata": {},
   "outputs": [],
   "source": [
    "# NumPy has its own data types\n",
    "xi = np.array([1, 2, 3], dtype=np.int) # We could also specify np.float\n",
    "print(xi)\n",
    "print(type(xi))\n",
    "print(xi.dtype)"
   ]
  },
  {
   "cell_type": "code",
   "execution_count": null,
   "metadata": {},
   "outputs": [],
   "source": [
    "# Let's add the arrays\n",
    "xi+xi"
   ]
  },
  {
   "cell_type": "code",
   "execution_count": null,
   "metadata": {},
   "outputs": [],
   "source": [
    "# Multiplication is easy too.  \n",
    "# Note this is equivalent to xi.*xi in Matlab\n",
    "xi*xi"
   ]
  },
  {
   "cell_type": "code",
   "execution_count": null,
   "metadata": {},
   "outputs": [],
   "source": [
    "# Inner product\n",
    "# Matlab equivalent: x*x'\n",
    "np.inner(xi,xi)"
   ]
  },
  {
   "cell_type": "code",
   "execution_count": null,
   "metadata": {},
   "outputs": [],
   "source": [
    "# Outer product\n",
    "# Matlab equivalent: x'*x\n",
    "np.outer(xi,xi)"
   ]
  },
  {
   "cell_type": "code",
   "execution_count": null,
   "metadata": {},
   "outputs": [],
   "source": [
    "# Cross product\n",
    "np.cross(xi,xi)"
   ]
  },
  {
   "cell_type": "code",
   "execution_count": null,
   "metadata": {},
   "outputs": [],
   "source": [
    "# Initialize an array of zeros\n",
    "x = np.zeros(shape=(4,5))\n",
    "x"
   ]
  },
  {
   "cell_type": "code",
   "execution_count": null,
   "metadata": {},
   "outputs": [],
   "source": [
    "y = x+2\n",
    "y"
   ]
  },
  {
   "cell_type": "code",
   "execution_count": null,
   "metadata": {},
   "outputs": [],
   "source": [
    "# Array dimensions\n",
    "print( xi.shape )\n",
    "print( xi.size )\n",
    "print( y.shape )\n",
    "print( y.size )"
   ]
  },
  {
   "cell_type": "code",
   "execution_count": null,
   "metadata": {},
   "outputs": [],
   "source": [
    "# Random numbers\n",
    "z = np.round(np.random.random(x.shape)*5)\n",
    "z"
   ]
  },
  {
   "cell_type": "code",
   "execution_count": null,
   "metadata": {},
   "outputs": [],
   "source": [
    "# Slicing\n",
    "z[2:4, ::2] # Extract 2-4 on the first axis (columns), stride of 2 on the second axis(rows)"
   ]
  },
  {
   "cell_type": "code",
   "execution_count": null,
   "metadata": {},
   "outputs": [],
   "source": [
    "# Sum the rows\n",
    "z_sum = z.sum(axis=1)\n",
    "z_sum"
   ]
  },
  {
   "cell_type": "code",
   "execution_count": null,
   "metadata": {},
   "outputs": [],
   "source": [
    "# Matrix multiplication\n",
    "y.transpose() * z_sum"
   ]
  },
  {
   "cell_type": "code",
   "execution_count": null,
   "metadata": {},
   "outputs": [],
   "source": [
    "# Several universal functions are included (e.g. sin, cos, exp)\n",
    "np.sin(z_sum)"
   ]
  },
  {
   "cell_type": "markdown",
   "metadata": {},
   "source": [
    "## SciPy\n",
    "The SciPy library includes a huge collection of mathematical algorithms, functions and constants to enable scientific computing.  \n",
    "\n",
    "It is build upon NumPy, so data is typically expected to be in a NumPy array format.  Some useful features include:\n",
    "* **constants** - Physical and mathematical constants\n",
    "* **fftpack** - Fast Fourier Transorms\n",
    "* **integrate** - Integration and ODE solvers\n",
    "* **interpolate** - Interpolation and smoothing\n",
    "* **io** - File Input and Output\n",
    "* **linalg** - Linear algebra\n",
    "* **signal** - Signal processing\n",
    "* **stats** - Statistics\n",
    "\n",
    "For more information, check out the [SciPy Tutorial](https://docs.scipy.org/doc/scipy/reference/tutorial/index.html)\n"
   ]
  },
  {
   "cell_type": "markdown",
   "metadata": {},
   "source": [
    "## Pandas\n",
    "[Pandas](https://pandas.pydata.org) is great for working with spreadsheet like tables, like Excel or CSV files.  \n",
    "\n",
    "However, it is not great for multidimensional arrays (e.g. x,y,z).  For that you should use [Xarray](http://xarray.pydata.org).\n",
    "\n",
    "For this example, we will demonstrate the power of pandas to quickly load a datafile and play with ut using some archived meteorological data from [NDBC 44025](http://www.ndbc.noaa.gov/station_history.php?station=44025)."
   ]
  },
  {
   "cell_type": "code",
   "execution_count": null,
   "metadata": {},
   "outputs": [],
   "source": [
    "import pandas as pd"
   ]
  },
  {
   "cell_type": "code",
   "execution_count": null,
   "metadata": {},
   "outputs": [],
   "source": [
    "url = 'http://www.ndbc.noaa.gov/view_text_file.php?filename=44025h2017.txt.gz&dir=data/historical/stdmet/'\n",
    "ndbc = pd.read_csv(url,sep='\\s+',skiprows=[1])"
   ]
  },
  {
   "cell_type": "code",
   "execution_count": null,
   "metadata": {},
   "outputs": [],
   "source": [
    "ndbc.head()"
   ]
  },
  {
   "cell_type": "code",
   "execution_count": null,
   "metadata": {},
   "outputs": [],
   "source": [
    "ndbc['WDIR'].head(3) # Just the first 3 elements of one variable"
   ]
  },
  {
   "cell_type": "code",
   "execution_count": null,
   "metadata": {},
   "outputs": [],
   "source": [
    "# Take the mean of each column\n",
    "ndbc.mean(axis=0)"
   ]
  },
  {
   "cell_type": "code",
   "execution_count": null,
   "metadata": {},
   "outputs": [],
   "source": [
    "# Monthly means\n",
    "ndbc['WSPD'].groupby(ndbc['MM']).mean()"
   ]
  },
  {
   "cell_type": "code",
   "execution_count": null,
   "metadata": {},
   "outputs": [],
   "source": [
    "# Import the Seaborn package for nice plotting defaults\n",
    "import seaborn as sns\n",
    "sns.set()"
   ]
  },
  {
   "cell_type": "code",
   "execution_count": null,
   "metadata": {},
   "outputs": [],
   "source": [
    "# Basic plotting is bulit into Pandas\n",
    "ndbc['WSPD'].groupby(ndbc['MM']).mean().plot();"
   ]
  },
  {
   "cell_type": "code",
   "execution_count": null,
   "metadata": {},
   "outputs": [],
   "source": [
    "# Create a datetime vector\n",
    "from datetime import datetime\n",
    "df = pd.DataFrame({'year': ndbc['#YY'], 'month': ndbc['MM'], 'day': ndbc['DD'], 'hour': ndbc['hh'], 'minute': ndbc['mm']})\n",
    "ndbc['datetime'] = pd.to_datetime(df)\n",
    "\n",
    "# Change the array index to use the datetime column\n",
    "ndbc = ndbc.set_index('datetime')\n",
    "\n",
    "# Now we can easily plot the Air Temperature vs. datetime!\n",
    "ndbc['ATMP'].plot();"
   ]
  },
  {
   "cell_type": "code",
   "execution_count": null,
   "metadata": {},
   "outputs": [],
   "source": [
    "# Pandas even lest you do a whole bunch of quick analysis in one line\n",
    "ndbc.describe()"
   ]
  },
  {
   "cell_type": "markdown",
   "metadata": {},
   "source": [
    "## Matplotlib\n",
    "\n",
    "[Matplotlib](https://matplotlib.org) is the Matlab-like equivalent to plotting in Python.\n",
    "\n",
    "Remember, you can add a semi-colon to the last line to supress unwanted output, which often happens when using matplotlib."
   ]
  },
  {
   "cell_type": "code",
   "execution_count": null,
   "metadata": {},
   "outputs": [],
   "source": [
    "import matplotlib.pyplot as plt"
   ]
  },
  {
   "cell_type": "code",
   "execution_count": null,
   "metadata": {},
   "outputs": [],
   "source": [
    "# Let's make a simple plot\n",
    "t = np.linspace(0,10,100)\n",
    "y = np.cos(t)*np.sin(t)\n",
    "\n",
    "plt.plot(t, y, '-rs'); # Line with red squares"
   ]
  },
  {
   "cell_type": "code",
   "execution_count": null,
   "metadata": {},
   "outputs": [],
   "source": [
    "# A slightly more advanced example\n",
    "mu, sigma = 100, 15\n",
    "x = mu + sigma * np.random.randn(100)\n",
    "\n",
    "plt.plot(x,'r.') #Red dots\n",
    "plt.xlabel('Smarts')\n",
    "plt.ylabel('Probability')\n",
    "plt.title('Histogram of IQ')\n",
    "plt.text(10, 135, r'$\\mu=100, \\ \\sigma=15$'); #Annotations can support LaTex"
   ]
  },
  {
   "cell_type": "markdown",
   "metadata": {},
   "source": [
    "For more, check out the great list of [Matplotlib Examples](https://matplotlib.org/gallery/index.html), and also check out the [Seaborn](https://seaborn.pydata.org) library, which provides a great set of defaults to make your plots look better.  (Google Colab includes this by default.)"
   ]
  },
  {
   "cell_type": "markdown",
   "metadata": {},
   "source": [
    "## Additional Resources\n",
    "\n",
    "* [NumPy for Matlab users](https://docs.scipy.org/doc/numpy/user/numpy-for-matlab-users.html) - A quick introduction from SciPy\n",
    "* [NumPy for Matlab users Cheatsheet](http://mathesaurus.sourceforge.net/matlab-numpy.html)\n",
    "* [MATLAB vs. Python: Top Reasons to Choose MATLAB](https://www.mathworks.com/products/matlab/matlab-vs-python.html) - For another perspective\n",
    "* [Pangeo Python Basics Tutorial](https://github.com/pangeo-data/pangeo-tutorial-sea-2018/blob/master/notebooks/1.0.scientific_python_ecosystem.ipynb)  - Many of the above examples come from this.\n",
    "* [Python for Matlab Users](http://researchcomputing.github.io/meetup_fall_2014/pdfs/fall2014_meetup13_python_matlab.pdf) - A meetup presentation from CSU.  This is a good overview.  Some of the above examples also come from this.\n",
    "* [Pyzo Python vs. Matlab](http://www.pyzo.org/python_vs_matlab.html)\n",
    "* [Webinar: Python for MATLAB Users, What You Need to Know](https://www.youtube.com/watch?v=YkCegjtoHFQ)\n",
    "* [Python Graph Gallery](https://python-graph-gallery.com) - For when you need more inspiration"
   ]
  }
 ],
 "metadata": {
  "colab": {
   "default_view": {},
   "name": "Python Basics for Matlab Wizards.ipynb",
   "provenance": [],
   "toc_visible": true,
   "version": "0.3.2",
   "views": {}
  },
  "kernelspec": {
   "display_name": "Python 3",
   "language": "python",
   "name": "python3"
  },
  "language_info": {
   "codemirror_mode": {
    "name": "ipython",
    "version": 3
   },
   "file_extension": ".py",
   "mimetype": "text/x-python",
   "name": "python",
   "nbconvert_exporter": "python",
   "pygments_lexer": "ipython3",
   "version": "3.6.5"
  }
 },
 "nbformat": 4,
 "nbformat_minor": 2
}
